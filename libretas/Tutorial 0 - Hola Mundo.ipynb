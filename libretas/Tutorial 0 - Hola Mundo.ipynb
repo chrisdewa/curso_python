{
 "cells": [
  {
   "cell_type": "markdown",
   "metadata": {
    "id": "D6i_dc72aU4D"
   },
   "source": [
    "# Tutorial 0: Hola mundo\n",
    "\n",
    "En este tutorial practicarás los fundamentos de python, no olvides revisar la primera lectura."
   ]
  },
  {
   "cell_type": "markdown",
   "metadata": {
    "id": "dPnPV7Yq5c3U"
   },
   "source": [
    "## Ejercicio 1: Tu primer programa\n",
    "\n",
    "\n",
    "El ejercicio consiste en definir una variable llamada `texto` que diga \"Hola Mundo!\" y mandarla mandarla como output del programa con la función `print`.\n",
    "\n",
    "Ejemplo de cómo se declara una variable:\n",
    "```python\n",
    "mi_variable = \"Texo de la variable\"\n",
    "```\n",
    "Nota que la variable es de tipo `str` es decir, cadena de texto. Para poder definir una cadena de texto es imprecindible encapular el texto en comillas, que pueden ser simples: ' o dobles: \".\n",
    "\n",
    "Luego, utiliza la función nativa `print` para mandar el texto en la variable a la consola, un lugar donde lo podemos leer.\n",
    "\n",
    "```python\n",
    "print(mi_variable)\n",
    "```\n"
   ]
  },
  {
   "cell_type": "code",
   "execution_count": null,
   "metadata": {
    "id": "y2PtR1VreUPa"
   },
   "outputs": [],
   "source": [
    "# pon aquí tu código"
   ]
  },
  {
   "cell_type": "markdown",
   "metadata": {
    "id": "POcjQHuRMWDs"
   },
   "source": [
    "## Ejercicio 2: Corregir un bug\n",
    "El siguiente código tiene un error (bug), corrígelo!\n"
   ]
  },
  {
   "cell_type": "code",
   "execution_count": null,
   "metadata": {
    "id": "4Et-h8RLbxZd"
   },
   "outputs": [],
   "source": [
    "a = 12\n",
    "b = '42'\n",
    "print(a + b)"
   ]
  },
  {
   "cell_type": "markdown",
   "metadata": {
    "id": "1Ete55BVb-FJ"
   },
   "source": [
    "## Ejercicio 3: Reconocer tipos\n",
    "Escribe variables de acuerdo a sus tipos\n",
    "Si aparece algún error, te dirá en dónde está el error."
   ]
  },
  {
   "cell_type": "code",
   "execution_count": null,
   "metadata": {
    "id": "TFyOgV1vcBhF"
   },
   "outputs": [],
   "source": [
    "entero =       # Un número entero\n",
    "decimal =      # Un número decimal\n",
    "booleano =     # Un valor verdadero o falso\n",
    "texto =        # Una cadena de texto\n",
    "lista =        # Una lista de números\n",
    "tupla =        # Una tupla con tres elementos\n",
    "diccionario =  # Un diccionario con al menos dos claves y valores\n",
    "\n",
    "#no toques las siguientes líneas\n",
    "assert type(entero) is int, 'Error en entero'\n",
    "assert type(decimal) is float, 'Error en decimal'\n",
    "assert type(booleano) is bool, 'Error en booleano'\n",
    "assert type(texto) is str, 'Error en texto'\n",
    "assert type(lista) is list, 'Error en lista'\n",
    "assert type(tupla) is tuple, 'Error en tupla'\n",
    "assert type(diccionario) is dict, 'Error en diccionario'\n"
   ]
  },
  {
   "cell_type": "markdown",
   "metadata": {
    "id": "4VTApVDyeoYN"
   },
   "source": [
    "## Ejercicio 4: Tu primera función\n",
    "\n",
    "La tarea es crear una función que calcule el índice de masa corporal.\n",
    "Recuérda que la fórmula es:\n",
    "\n",
    "$IMC = \\frac{peso}{talla^2}$\n",
    "\n",
    "Para ello, la función debe tomar como parámetros el peso y la talla, y luego devolver el resultado de la operación.\n",
    "\n",
    "Ejemplo de una función que calcula la superficie corporal\n",
    "\n",
    "```python\n",
    "def superficie_corporal(peso):\n",
    "  'April 2009Indian Pediatrics 46(12):1085-7'\n",
    "  return (4 * peso + 7) / (90 + peso)\n",
    "\n",
    "```\n",
    "Observa que en la definición de la función existe un parámetro llamado \"peso\" que se pasa dentro de la función y se utiliza para el cálculo.\n",
    "\n",
    "En tu función, debes aceptar el parámetro peso y el parámetro talla y regresar el resultado de la operación.\n",
    "\n",
    "Vas a necesitar revisar la sección de Operadores de para división y potencia.\n",
    "\n"
   ]
  },
  {
   "cell_type": "code",
   "execution_count": null,
   "metadata": {
    "id": "GqR5PbQbOuvh"
   },
   "outputs": [],
   "source": [
    "# tu código aquí\n",
    "# La función debe llamarse \"imc\"\n",
    "\n",
    "def imc # compléta el código\n",
    "\n",
    "# No toques esto\n",
    "try:\n",
    "  result = imc(82, 1.7)\n",
    "  if type(result) is not float:\n",
    "    print(f'La fórmula devolvió el tipo {type(result)} pero se esperaba float'\n",
    "          f' estás regresando el resultado? (return)')\n",
    "  elif round(result) != 28:\n",
    "    print(f'El resultado de la fórmula no es correcto, revisa la fórmula.')\n",
    "except Exception as e:\n",
    "  print('La función tiene un error, revísala.')\n",
    "  print(f'El error encontrado fue: \"{e}\"')\n"
   ]
  },
  {
   "cell_type": "markdown",
   "metadata": {
    "id": "_EkezsPpRjuz"
   },
   "source": [
    "## Algorítmica: Pruebas lógicas y Control de fujo\n",
    "Un paso básico al programar es definir la secuencia lógica que nuestro programa va a seguir.\n",
    "\n",
    "Para hacerlo, debemos revisar dos aspectos fundamentales."
   ]
  },
  {
   "cell_type": "markdown",
   "metadata": {
    "id": "BchKS31cR7dH"
   },
   "source": [
    "### Pruebas lógicas\n",
    "Nos permiten controlar qué secciones de código ejecutar de acuerdo una evaluación booleana (Verdadero/Falso).\n",
    "\n",
    "\n",
    "Ejemplos abstractos:\n",
    "```\n",
    "Si algo es verdadero, entonces hacer A si es falso, entonces hacer B.\n",
    "\n",
    "Si X es igual a 1, hacer A, si es igual a 2, hacer B, si es igual a 3, hacer C, etçetera.\n",
    "\n",
    "Mientras X sea cierto, hacer Y, cuando sea falso, parar.\n",
    "```\n",
    "\n"
   ]
  },
  {
   "cell_type": "markdown",
   "metadata": {
    "id": "K68xECdKTE6L"
   },
   "source": [
    "#### Verdadero/Falso\n",
    "En python los valores boleanos `True` y `False` representan un resultado de una operación lógica, por ejemplo:\n",
    "\n",
    "```python\n",
    "3 > 2 # True\n",
    "2 > 2 # False\n",
    "0 < 1 # True\n",
    "2 == 2# True\n",
    "```\n",
    "Puesto así quizá no sea fácil entender la utilidad, pero pensémoslo en términos de variables:\n",
    "\n",
    "Ejecuta la siguiente celda pero no muestres el código (es un spoiler del ejercicio 4).\n",
    "\n",
    "Revisa la sección de operadores para conocer los operadores lógicos que existen."
   ]
  },
  {
   "cell_type": "code",
   "execution_count": null,
   "metadata": {
    "cellView": "form",
    "id": "MlxXh2_BT8av"
   },
   "outputs": [],
   "source": [
    "# @title\n",
    "def imc(peso, talla):\n",
    "  return round(peso/talla**2, 1)"
   ]
  },
  {
   "cell_type": "code",
   "execution_count": null,
   "metadata": {
    "colab": {
     "base_uri": "https://localhost:8080/"
    },
    "executionInfo": {
     "elapsed": 4,
     "status": "ok",
     "timestamp": 1741379779053,
     "user": {
      "displayName": "Christian Delaflor",
      "userId": "00373967388274535000"
     },
     "user_tz": 360
    },
    "id": "9r0f-EDzT35h",
    "outputId": "1773d2c2-681a-40bc-bfcf-fa818e06b624"
   },
   "outputs": [
    {
     "data": {
      "text/plain": [
       "True"
      ]
     },
     "execution_count": 16,
     "metadata": {},
     "output_type": "execute_result"
    }
   ],
   "source": [
    "peso = 82\n",
    "talla = 1.65\n",
    "# los valores podrían cambiar libremente,\n",
    "# inténtalo poner los valores que quieras.\n",
    "imc(peso, talla) >= 30"
   ]
  },
  {
   "cell_type": "markdown",
   "metadata": {
    "id": "6bTQCTIgUf0B"
   },
   "source": [
    "Como puedes ver el resultado de la operación lógica nos dice si el IMC de una persona dados un peso y talla es mayor o igual a 30.\n"
   ]
  },
  {
   "cell_type": "markdown",
   "metadata": {
    "id": "vTZAMgS8Wz9N"
   },
   "source": [
    "#### Diferencias entre or y XOR (^)\n",
    "\n",
    "El operador \"or\" comprueba si cualquiera de los dos lados de la prueba lógica son verdaderos:\n",
    "\n",
    "```python\n",
    "True or False # True\n",
    "True or True # True\n",
    "False or True # True\n",
    "False or False # False\n",
    "```\n",
    "\n",
    "El Operador XOR (or exclusivo), comprueba que solo uno de los dos lados de la prueba sea positivo:\n",
    "\n",
    "```python\n",
    "True ^ False # True\n",
    "False ^ True # True\n",
    "False ^ False # False\n",
    "True ^ True # False\n",
    "```\n"
   ]
  },
  {
   "cell_type": "markdown",
   "metadata": {
    "id": "M68Bg0sGSiW9"
   },
   "source": [
    "#### Truthy/Falsy\n",
    "Hay veces que no queremos hacer una prueba lógica explícita como en el ejemplo anterior, sino que queremos ver si un valor dado puede o no ser \"veraz\" o tener un valor verdadero o falso __implícito__.\n",
    "\n",
    "```python\n",
    "tiene_diabetes = 1 # 1 es sí, 0 es no\n",
    "\n",
    "if tiene_diabetes:\n",
    "  # ejecutar un código específico solo si tiene diabetes\n",
    "```\n",
    "\n",
    "Python sabe que si la variable tiene el valor cero, entonces es un \"negativo\" implícito y si es uno, entonces es \"positivo\".\n",
    "\n",
    "Es posible conocer el valor implicito al utilizar la función `bool`"
   ]
  },
  {
   "cell_type": "code",
   "execution_count": null,
   "metadata": {
    "colab": {
     "base_uri": "https://localhost:8080/"
    },
    "executionInfo": {
     "elapsed": 11,
     "status": "ok",
     "timestamp": 1741380039121,
     "user": {
      "displayName": "Christian Delaflor",
      "userId": "00373967388274535000"
     },
     "user_tz": 360
    },
    "id": "VlAHr71uVpCd",
    "outputId": "471f3ead-c4bb-474f-e2c7-f4dc74675851"
   },
   "outputs": [
    {
     "data": {
      "text/plain": [
       "False"
      ]
     },
     "execution_count": 17,
     "metadata": {},
     "output_type": "execute_result"
    }
   ],
   "source": [
    "valor = 0 #intenta poner aquí el valor que quieras\n",
    "bool(valor)"
   ]
  },
  {
   "cell_type": "markdown",
   "metadata": {
    "id": "2fuS4QKHVgZV"
   },
   "source": [
    "##### Ejemplos de valores implícitos\n",
    "\n",
    "|valor|bool(valor)|explicación|\n",
    "|-----|-----------|-----------|\n",
    "|\"\"|False|Cadena de texto vacía|\n",
    "|[]|False|Lista vacía|\n",
    "|None|False|Valor nulo o ausente|\n",
    "|0|False|Valor cero|\n",
    "|\"Christian\"|True|Cadena de texto con cualquier dato|\n",
    "|[1]|True|Lista o tupla con cualquier valor|\n",
    "|[None]|True|Aún si la lista contiene valores nulos, es verdadero, solo vacía es falso|\n",
    "|[False]|True|Aún si la lista contiene valores falsos se toma como positiva|\n"
   ]
  },
  {
   "cell_type": "markdown",
   "metadata": {
    "id": "oh0f5LQbYNJd"
   },
   "source": [
    "### Control de flujo lógico\n",
    "Las plabras reservadas `if`, `elif`, `else` permiten controlar qué código se ejecuta con base en el resultado de una prueba lógica.\n",
    "\n",
    "Se inicia siempre con `if` y la prueba lógica su respectivo código en caso de Verdadero, opcionalmente se pueden agregar otras condiciones con `elif` y sus respectivos códigos y finalmente puede usarse `else` en caso de que ninguna de las condiciones se cumpliera, por ejemplo:"
   ]
  },
  {
   "cell_type": "code",
   "execution_count": null,
   "metadata": {
    "colab": {
     "base_uri": "https://localhost:8080/"
    },
    "executionInfo": {
     "elapsed": 10,
     "status": "ok",
     "timestamp": 1741616433773,
     "user": {
      "displayName": "Christian Delaflor",
      "userId": "00373967388274535000"
     },
     "user_tz": 360
    },
    "id": "oMVsrniCYvW3",
    "outputId": "f67cad9a-e471-4df4-e507-cef39d081b5e"
   },
   "outputs": [
    {
     "name": "stdout",
     "output_type": "stream",
     "text": [
      "Sobrepeso\n"
     ]
    }
   ],
   "source": [
    "peso = 95\n",
    "talla = 1.82\n",
    "resultado = imc(peso, talla)\n",
    "\n",
    "if resultado < 28:\n",
    "  print('Peso sano')\n",
    "elif resultado < 30:\n",
    "  print(\"Sobrepeso\")\n",
    "elif resultado < 35:\n",
    "  print(\"Obesidad\")\n",
    "else: # solo se ejecuta si ninguna de las otras condiciones pasaron\n",
    "  print(\"Obesidad mórbida\")"
   ]
  },
  {
   "cell_type": "markdown",
   "metadata": {
    "id": "wwQMcCAtbuLY"
   },
   "source": [
    "#### Bucles: Repetición de código\n",
    "Es muy frecuente necesitar ejecutar un mismo código varias veces. Por ejemplo, cuando lo queremos aplicar para ítems de una lista, o cuando queremos ejecutarlo un cierto número de veces."
   ]
  },
  {
   "cell_type": "markdown",
   "metadata": {
    "id": "_saYFtEbcLiF"
   },
   "source": [
    "##### For\n",
    "Los bucles for tienen la forma `for element in sequence`. las palabras reservadas son \"for\" e \"in\". La palabra después de \"for\" define el nombre que recibirá como variable cada elemento de la secuencia, la palabra después de \"in\" define de qué secuencia tomar los elementos.\n",
    "\n",
    "Ejemplo:\n",
    "```python\n",
    "colores = ['rojo', 'amarill', 'azul']\n",
    "\n",
    "for color in colores:\n",
    "  print('El color', color, 'es bonito!')\n",
    "\n",
    ">>> El color rojo es bonito!\n",
    "... El color amarill es bonito!\n",
    "... El color azul es bonito!\n",
    "```\n",
    "\n",
    "Como se ve en el ejemplo, definimos una lista llamada `colores` que contiene las cadenas de texto de tres colores. Luego, en el bucle, definimos que cada color va a ir a una variable llamada `color` y vamos a imprimir en la consola la frase \"El color **{color}** es bonito\".\n",
    "\n",
    "El bucle en total se ejecutará 3 veces, una por cada color."
   ]
  },
  {
   "cell_type": "markdown",
   "metadata": {
    "id": "GFZ_FbLgdawG"
   },
   "source": [
    "##### While\n",
    "\n",
    "El buble `while` evalúa una condición y ejecuta su sección de código hasta que la condición sea falsa y no se ejecuta cuando es falso.\n",
    "\n",
    "Ejemplo:\n",
    "```python\n",
    "mi_num = 7\n",
    "n = 0\n",
    "while n != mi_num:\n",
    "  print(\"Mi número no es\", n)\n",
    "  n = n + 1\n",
    "print(\"Mi número es\", n)\n",
    "\n",
    ">>> Mi número no es 0\n",
    "... Mi número no es 1\n",
    "... Mi número no es 2\n",
    "... Mi número no es 3\n",
    "... Mi número no es 4\n",
    "... Mi número no es 5\n",
    "... Mi número no es 6\n",
    "... Mi número es 7\n",
    "```\n",
    "\n",
    "Primero definimos un número especial, en este caso el número 7 y otra variable \"n\". El programa irá sumando de uno en uno desde el cero y compara cada vez si la variable n es ese número especial en la variable `mi_num`, como está comparando si el número es distinto, se ejecutará siempre que el número no sea igual, diciendo \"Mi número no es **{n}**\", finalmente el bucle se detiene cuando n es igual a 7 y se imprime \"Mi número es **{n}**.\n",
    "\n",
    "**IMPORTANTE**\n",
    "\n",
    "Si el bucle nunca evalúa la condición como \"falso\" nunca se dentendrá y el programa se ejecutará hasta que lo paremos manualmente."
   ]
  },
  {
   "cell_type": "markdown",
   "metadata": {
    "id": "L5IGuMezfznh"
   },
   "source": [
    "### Ejemplo práctico"
   ]
  },
  {
   "cell_type": "code",
   "execution_count": null,
   "metadata": {
    "colab": {
     "base_uri": "https://localhost:8080/"
    },
    "executionInfo": {
     "elapsed": 4,
     "status": "ok",
     "timestamp": 1741617901069,
     "user": {
      "displayName": "Christian Delaflor",
      "userId": "00373967388274535000"
     },
     "user_tz": 360
    },
    "id": "5WFJSZ6bdSVL",
    "outputId": "a6497954-f3b2-407a-e779-150488342c06"
   },
   "outputs": [
    {
     "name": "stdout",
     "output_type": "stream",
     "text": [
      "Chris tiene sobrepeso\n",
      "Pedro tiene obesidad\n",
      "Ilma tiene sobrepeso\n",
      "Sandra tiene peso sano\n"
     ]
    }
   ],
   "source": [
    "pacientes = [\n",
    "    (\"Chris\", 85, 1.72), # Paciente 1\n",
    "    (\"Pedro\", 92, 1.75), # Paciente 2\n",
    "    (\"Ilma\", 65, 1.51),  # Paciente 3\n",
    "    (\"Sandra\", 70, 1.63),# Paciente 4\n",
    "]\n",
    "\n",
    "for paciente in pacientes:\n",
    "  nombre = paciente[0]\n",
    "  peso = paciente[1]\n",
    "  talla = paciente[2]\n",
    "\n",
    "  px_imc = imc(peso, talla)\n",
    "\n",
    "  if px_imc >= 30:\n",
    "    print(nombre, \"tiene obesidad\")\n",
    "  elif 27 < px_imc < 30:\n",
    "    print(nombre, \"tiene sobrepeso\")\n",
    "  else:\n",
    "    print(nombre, \"tiene peso sano\")\n"
   ]
  },
  {
   "cell_type": "markdown",
   "metadata": {
    "id": "0pl3n4wPgsnm"
   },
   "source": [
    "#### Explicación\n",
    "\n",
    "Primero definimos una lista de pacientes. Cada paciente es una tupla con tres valores, el nombre, el peso y la talla. Luego, utilizamos un bucle `for` para iterar por cada uno de los pacientes y extraemos las tres variables. Lugo definimos una nueva variable que se llama `px_imc` y que contiene el IMC de ese paciente usando su peso y talla. Finalmente comparamos si el paciente tiene obesidad, si no sobrepeso y si no peso sano e imprimimos el resultado en la consola.\n",
    "\n",
    "En este ejemplo, extraemos el los valores de cada paciente utilizando el operador de indexación, pero se puede hacer directamente en el bucle así:\n",
    "\n",
    "```python\n",
    "for nombre, peso, talla in pacientes:\n",
    "  ...\n",
    "```\n",
    "Esto se llama \"desempaquetamiento\".\n"
   ]
  },
  {
   "cell_type": "markdown",
   "metadata": {
    "id": "AWvhukwh1nL4"
   },
   "source": [
    "## Ejercicio final:\n",
    "\n",
    "Escribe el algoritmo que se presenta a continuación como código en python:\n",
    "\n",
    "En la celda de código hay una lista, utiliza el bucle `for` para iterar cada elemento de la lista y compara si el elemento es múltiplo de 3 manda el número y la palabra \"Fizz\" a la consola, si el elemento, por el contrario es múltiplo de 5, entonces manda el número y la palabra \"Buzz\" a la consola, pero, si el número es múltiplo tanto de 3 como de 5, entonces manda el número y la palabra \"FizzBuzz\". Si no es múltiplo ni de 3 ni de 5 entonces solo manda el número a la consola.\n",
    "\n",
    "### Ejemplo de las primeras 15 filas:\n",
    "```python\n",
    "lista = list(range(100))\n",
    "# lista es [0,1,2,...,99]\n",
    "\n",
    "# tu código aquí\n",
    "...\n",
    "\n",
    "# resultado:\n",
    "0 FizzBuzz\n",
    "1\n",
    "2\n",
    "3 Fizz\n",
    "4\n",
    "5 Buzz\n",
    "...\n",
    "15 FizzBuzz\n",
    "```\n",
    "\n",
    "\n",
    "### Tip 1:\n",
    "Para saber si un número es divisor de otro usa el operador módulo %.\n",
    "El operador módulo va a ser 0 si a es múltiplo de b:\n",
    "\n",
    "```python\n",
    "a = 27\n",
    "b = 3\n",
    "a%b # si el resultado es 0, entonces a es múltiplo de b.\n",
    ">>> 0 # sí es.\n",
    "```\n",
    "El operador módulo nos da el remanente de la división entera dentre a y b.\n",
    "\n",
    "### Tip 2:\n",
    "Para imprimir dos cosas diferentes en una sola línea, puedes utilizar `print` así:\n",
    "\n",
    "```python\n",
    "print('Primera cosa', 'Segunda cosa')\n",
    "print(5, 'Buzz')\n",
    "```\n",
    "Print separará cada argumento (cada cosa) con un espacio simple."
   ]
  },
  {
   "cell_type": "markdown",
   "metadata": {
    "id": "I2Y54SqDaC6q"
   },
   "source": [
    "![image.png](data:image/png;base64,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)"
   ]
  },
  {
   "cell_type": "code",
   "execution_count": null,
   "metadata": {
    "id": "RNLDmBIJfgdg"
   },
   "outputs": [],
   "source": [
    "lista = list(range(101))\n",
    "# lista es [0,1,...,99,100]\n",
    "\n",
    "# tu código aquí\n"
   ]
  }
 ],
 "metadata": {
  "colab": {
   "authorship_tag": "ABX9TyNbi1BiRkMxmlZW3ydfB/Ih",
   "provenance": [],
   "toc_visible": true
  },
  "kernelspec": {
   "display_name": "Python 3",
   "name": "python3"
  },
  "language_info": {
   "name": "python"
  }
 },
 "nbformat": 4,
 "nbformat_minor": 0
}

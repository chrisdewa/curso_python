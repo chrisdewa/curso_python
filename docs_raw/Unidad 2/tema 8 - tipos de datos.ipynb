{
 "cells": [
  {
   "cell_type": "markdown",
   "id": "5c370759",
   "metadata": {
    "nav_order": 2
   },
   "source": [
    "# Tema 8: Tipos de datos\n",
    "\n",
    "Como se revisión en la [lección 3](#tema2-tipos-target) y en las lecciones anterior, todos los valores en python son objetos que tienen un cierto tipo.\n",
    "\n",
    "## ¿Qué es un objeto?\n",
    "Los objetos, en cualquier lenguaje de programacion son abstracciones de lógica y valores. Aunque, para comenzar a trabajar con python, no es necesario tener un entendimiento muy profundo del paradigma de `Programación Orientada a Objetos` (OOP, por sus siglas en inglés), para profundizar el dominio le lenguaje, es un concepto fundamental. \n",
    "\n",
    "En este curso no nos enfocaremos en OOP, pero hay algunos conceptos necesarios que debemos conocer y trataremos en esta libreta.\n",
    "\n",
    ":::{tip}\n",
    "Piensa en cada objeto como un pequeño artefacto o robot, las cosas que el artefacto puede **hacer**, son los `métodos`. Las cosas que **tiene** o sus **características** son sus atributos. \n",
    ":::\n",
    "\n",
    "## Tipos básicos\n",
    "\n",
    "Cada objeto tiene un tipo. \n",
    "Por ejemplo, los `tenis` son un tipo de `calzado`, y a su vez, el calzado es un tipo de `ropa`.\n",
    "Así en python, por ejemplo, cada valor posible tiene un tipo. Por ejemplo, el valor `True`, es de tipo `bool`, es decir, booleano, puede ser Verdadero (`True`) o Falso (`False`), pero a su vez, bool es un tipo de `int` o número entero. Es decir que en algunos contextos ``True` es equivalente a `1`.\n",
    "\n",
    "En python existen algunos tipos básicos que pueden consultarse en la sección correspondiente del [tema 2.3](#tema2-tipos-target).\n",
    "En las siguientes celdas iremos revisando cada uno de los tipos básicos, su utilidad y ejemplos de cómo y para qué utilizarlos.\n",
    "\n",
    "## Métodos y Atributos\n",
    "Dependiendo del tipo los objetos pueden tener `atributos` y `métodos`.\n",
    "\n",
    ":::{important}\n",
    "\n",
    "Los **Métodos** son funciones asociadas a cada objeto. Piensa en funciones que actúan con el objeto para hacer algo.\n",
    "Por ejmplo:\n",
    "> `mi_lista.sort()`\n",
    "> El método `sort`, asociado a una `lista`, ordena la lista en cuestión.\n",
    "> Todos los métodos se ejecutan, con paréntesis, como `sort()`.\n",
    "\n",
    "Los **Atributos** son variables asociadas al objeto en cuestión, piensa en ellas como características.\n",
    "Por ejemplo:\n",
    "> `datos.columns`\n",
    "> El artibuto `columns`, asociado a un `pandas.DataFrame`, devuelve una lista de las columnas en el arreglo de datos.\n",
    "> Los atributos no se ejecutan, no tienen paréntesis al final.\n",
    ":::\n",
    "\n",
    "\n",
    "## Tipos para valores individuales\n",
    "### Int\n",
    "Los tipos `int` son números enteros, pueden ser positivos o negativos.\n",
    "Se codifican con el número en cuestión. \n",
    "En ciencias de la salud pueden representar tamaños de muestra, número de años cumplidos, etcétera.\n",
    "\n",
    "\n",
    "### Float\n",
    "Los tipos `float` son números con punto decimal, incluyen también aquellos que su decimal es cero. Por ejemplo el número `3.0` es tipo `float`, no `int`.\n",
    "\n",
    "### Actividad 1\n",
    "Los `int` y `float` pueden pueden usarse en operaciones matemáticas de todo tipo incluso entre ellas.\n",
    "En la siguiente celda agrega variables tipo `int` que sean relevantes en tu campo e intenta realizar operaciones matemáticas relevantes."
   ]
  },
  {
   "cell_type": "code",
   "execution_count": null,
   "id": "8521aa57",
   "metadata": {},
   "outputs": [
    {
     "name": "stdout",
     "output_type": "stream",
     "text": [
      "92.66666666666667\n"
     ]
    }
   ],
   "source": [
    "# por ejemplo\n",
    "presión_sistólica = 134 # int\n",
    "presión_diastólica = 72 # int\n",
    "tensión_arterial_media = (presión_sistólica + presión_diastólica * 2) / 3 # float\n",
    "print(tensión_arterial_media)\n",
    "\n",
    "# pon aqui tus datos y realiza operaciones con ellas\n",
    "\n",
    "\n"
   ]
  },
  {
   "cell_type": "markdown",
   "id": "7dbee58d",
   "metadata": {},
   "source": [
    "## Booleanos\n",
    "Los tipos `bool` son valores que pueden tomar un valor \"cierto\" o \"falso\", `True` o `False`.\n",
    "\n",
    ":::{note}\n",
    "Los tipos `bool` son en realidad desendientes de los `int` `0` (Falso) y `1` (Cierto), así, `True + True == 2`.\n",
    "Esto puede ser algo confuso pero no tienes que preocuparte por ello en este momento.\n",
    ":::\n",
    "\n",
    "Lo más habitual es generar valores por medio de pruebas lógicas que veremos en otra lección, pero te dejo un ejemplo:\n",
    "\n",
    "```python\n",
    "imc = 40\n",
    "obeso = imc >= 30 # mayor o igual a 30\n",
    "print(obeso) # True\n",
    "```\n",
    "Puedes probar este ejemplo en la celda siguiente."
   ]
  },
  {
   "cell_type": "code",
   "execution_count": null,
   "id": "6b805963",
   "metadata": {},
   "outputs": [],
   "source": [
    "# ejemplo\n",
    "enfermo = True # sí está enfermo\n"
   ]
  },
  {
   "cell_type": "markdown",
   "id": "1caf932f",
   "metadata": {},
   "source": [
    "### Strings\n",
    "Los strings, de tipo `str` son cadenas de texto, son cualquier texto libre, puede usarse para datos como el nombre del paciente, el identificador de una variante genética, etcétera.\n",
    "\n",
    "Los `str` reaccionan diferente a las operaciones matemáticas y no todas están implementadas.\n",
    "\n",
    "Para codificar un `str`, es necesario englobar todo el texto en comillas, pueden ser simples `'` o dobles `\"` y es posible escribirlos en múltiples líneas, pero se requiere poner tres comillas en lugar de una.\n",
    "\n",
    "```python\n",
    "una_línea = \"Este str es de una sola línea\"\n",
    "multiples_líneas = \"\"\"Este texto tiene múltiples\n",
    "\n",
    "lineas de texto.\n",
    "\"\"\"\n",
    "```\n",
    "\n",
    ":::{warning}\n",
    "Siempre revisa que cada par de comillas que se abre también se cierre. \n",
    "Si dejas unas comillas sin cerrar, python marcará un error.\n",
    ":::\n"
   ]
  },
  {
   "cell_type": "code",
   "execution_count": null,
   "id": "17e98bbb",
   "metadata": {},
   "outputs": [],
   "source": [
    "variable = \"\""
   ]
  },
  {
   "cell_type": "code",
   "execution_count": null,
   "id": "bb0dd3ce",
   "metadata": {},
   "outputs": [],
   "source": [
    "# ejemplos:\n",
    "nombre = 'Christian'\n",
    "apellido = 'Delaflor'\n",
    "print(nombre * 3)        # multiplicación\n",
    "print(nombre + apellido) # suma\n",
    "\n",
    "# practica aquí con otras cadenas de texto y operaciones\n",
    "\n"
   ]
  },
  {
   "cell_type": "markdown",
   "id": "64bb7ead",
   "metadata": {},
   "source": []
  }
 ],
 "metadata": {
  "kernelspec": {
   "display_name": "curso-python",
   "language": "python",
   "name": "python3"
  },
  "language_info": {
   "codemirror_mode": {
    "name": "ipython",
    "version": 3
   },
   "file_extension": ".py",
   "mimetype": "text/x-python",
   "name": "python",
   "nbconvert_exporter": "python",
   "pygments_lexer": "ipython3",
   "version": "3.13.0"
  }
 },
 "nbformat": 4,
 "nbformat_minor": 5
}

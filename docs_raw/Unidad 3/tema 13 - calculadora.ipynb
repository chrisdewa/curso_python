{
 "cells": [
  {
   "cell_type": "markdown",
   "id": "77dcbf62",
   "metadata": {},
   "source": [
    "# Tema 13: Calculadora\n",
    "\n",
    "Tenemos ahora todos los bloques necesarios para comenzar a analizar datos y verás que tienes en tus manos una calculadora ultrapoderosa.\n",
    "\n",
    ":::{admonition} Antes de comenzar\n",
    ":class: error\n",
    "Para que esta libreta funcione debes tener instaladas las librería `scipy`.\n",
    "En el tema 1, durante la preparación del espacio local estaba contemplado, pero si no lo has hecho, revisa [el tema](correr-python-target). El comando específico con `uv` es: `uv add scipy`.\n",
    "\n",
    ":::\n",
    "\n",
    "## Los datos\n",
    "Simularemos dos variables `X` y `Y`."
   ]
  },
  {
   "cell_type": "code",
   "execution_count": null,
   "id": "9c54ea44",
   "metadata": {},
   "outputs": [
    {
     "data": {
      "text/plain": [
       "(array([ 0.28371237,  2.33338151, -0.7711445 ,  0.28817949,  1.55445942,\n",
       "         1.54555921, -0.75011357, -0.0843404 , -1.41521519,  1.06848958,\n",
       "         0.20261044, -1.01691297, -1.04547483, -0.18258379,  0.57141867,\n",
       "        -0.98306934,  1.87519372, -0.1228499 ,  0.80068073, -0.10170673,\n",
       "        -0.37584101,  0.50556108, -0.21961321,  1.40354274, -1.10317578,\n",
       "         0.12414575,  1.36732905, -0.44302395, -1.93445398,  0.6315936 ]),\n",
       " array([ 0.58927131,  1.32936042, -0.37921544,  0.36849195,  1.34375088,\n",
       "         0.22957914, -0.25608952, -0.05751933, -2.10514127, -0.0506218 ,\n",
       "        -0.50666031, -1.5988722 , -1.71071746, -0.53330399, -0.0988412 ,\n",
       "         0.2138499 ,  2.01929856, -0.57596757,  1.87800748, -1.05589458,\n",
       "         0.42055905, -0.38027576, -0.74354357,  1.06938714, -0.3789836 ,\n",
       "         0.61659674,  1.30736515,  0.39798339, -1.54866974,  0.36854891]))"
      ]
     },
     "execution_count": 4,
     "metadata": {},
     "output_type": "execute_result"
    }
   ],
   "source": [
    "\n",
    "x = [ 0.28371237,  2.33338151, -0.7711445 ,  0.28817949,  1.55445942,\n",
    "         1.54555921, -0.75011357, -0.0843404 , -1.41521519,  1.06848958,\n",
    "         0.20261044, -1.01691297, -1.04547483, -0.18258379,  0.57141867,\n",
    "        -0.98306934,  1.87519372, -0.1228499 ,  0.80068073, -0.10170673,\n",
    "        -0.37584101,  0.50556108, -0.21961321,  1.40354274, -1.10317578,\n",
    "         0.12414575,  1.36732905, -0.44302395, -1.93445398,  0.6315936 ]\n",
    "y = [ 0.58927131,  1.32936042, -0.37921544,  0.36849195,  1.34375088,\n",
    "         0.22957914, -0.25608952, -0.05751933, -2.10514127, -0.0506218 ,\n",
    "        -0.50666031, -1.5988722 , -1.71071746, -0.53330399, -0.0988412 ,\n",
    "         0.2138499 ,  2.01929856, -0.57596757,  1.87800748, -1.05589458,\n",
    "         0.42055905, -0.38027576, -0.74354357,  1.06938714, -0.3789836 ,\n",
    "         0.61659674,  1.30736515,  0.39798339, -1.54866974,  0.36854891]\n"
   ]
  }
 ],
 "metadata": {
  "kernelspec": {
   "display_name": "curso-python",
   "language": "python",
   "name": "python3"
  },
  "language_info": {
   "codemirror_mode": {
    "name": "ipython",
    "version": 3
   },
   "file_extension": ".py",
   "mimetype": "text/x-python",
   "name": "python",
   "nbconvert_exporter": "python",
   "pygments_lexer": "ipython3",
   "version": "3.13.1"
  }
 },
 "nbformat": 4,
 "nbformat_minor": 5
}

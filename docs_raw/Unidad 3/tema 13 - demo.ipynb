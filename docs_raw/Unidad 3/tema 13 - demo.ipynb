{
 "cells": [
  {
   "cell_type": "markdown",
   "id": "77dcbf62",
   "metadata": {},
   "source": [
    "# Tema 13: Demostración con datos simulados\n",
    "\n",
    "Tenemos ahora todos los bloques necesarios para comenzar a analizar datos y verás que tienes en tus manos una calculadora ultrapoderosa.\n",
    "\n",
    ":::{admonition} Antes de comenzar\n",
    ":class: warning\n",
    "Para que esta libreta funcione debes tener instaladas las librería `scipy`.\n",
    "En el tema 1, durante la preparación del espacio local estaba contemplado, pero si no lo has hecho, revisa [el tema 1](correr-python-target). El comando específico con `uv` es: `uv add scipy`.\n",
    "\n",
    ":::{note}\n",
    "Si ejecutas la libreta en la nube de `colab`, no es necesario instalar estas librerías porque el entorno de ejecución ya las tiene disponibles.\n",
    ":::\n",
    ":::\n",
    "\n",
    "(datos-tema13-target)=\n",
    "## Los datos\n",
    "Simularemos una serie de datos."
   ]
  },
  {
   "cell_type": "code",
   "execution_count": 2,
   "id": "9c54ea44",
   "metadata": {},
   "outputs": [],
   "source": [
    "\n",
    "pacientes = {\n",
    "    'ids': [ 1,  2,  3,  4,  5,  6,  7,  8,  9, 10, 11, 12, 13, 14, 15, 16, 17,\n",
    "        18, 19, 20, 21, 22, 23, 24, 25, 26, 27, 28, 29, 30],\n",
    "    'peso': [69.6, 62.7, 74.2, 66.7, 62.6, 67.4, 69.2, 71.2, 66.8, 69.7, 68.9,\n",
    "        69.5, 72.5, 77.7, 64.6, 76.4, 64.1, 68.3, 68.4, 65.3, 69.4, 61.6,\n",
    "        75.4, 63.6, 82.1, 73.3, 70.8, 69.5, 83.9, 73.9],\n",
    "    'talla': [1.78, 1.62, 1.68, 1.62, 1.73, 1.65, 1.53, 1.61, 1.62, 1.61, 1.73,\n",
    "        1.51, 1.7 , 1.68, 1.7 , 1.65, 1.64, 1.59, 1.68, 1.71, 1.64, 1.67,\n",
    "        1.67, 1.67, 1.72, 1.61, 1.69, 1.57, 1.67, 1.68]\n",
    "}\n"
   ]
  },
  {
   "cell_type": "markdown",
   "id": "bdfef60c",
   "metadata": {},
   "source": [
    "Esta estructura de datos está diseñada así, un `dict` que contiene tres claves y para cada clave una lista de valores numéricos. La primera clave `'id'` identifica a cada paciente, la segunda y tercera son sus respectivos pesos y tallas.\n",
    "\n",
    "En esta estructura, la posición de cada dato, define a qué paciente pertenece, por ejemplo, el paciente con `id` 1, tiene un peso de 69.6kg y una talla de 1.78m.\n",
    "\n",
    "En esta libreta integraremos los conocimientos que ya tenemos para describir estos datos.\n",
    "\n",
    "Utilizaremos la librería de fábrica de python para calcular la media y la desviación estándar de python para calcular la media y la desviación estándar de cada dato, de la siguiente manera."
   ]
  },
  {
   "cell_type": "code",
   "execution_count": 3,
   "id": "63763b17",
   "metadata": {},
   "outputs": [
    {
     "name": "stdout",
     "output_type": "stream",
     "text": [
      "Para peso - la media es 69.98 +/- 5.46\n",
      "Para talla - la media es 1.65 +/- 0.06\n"
     ]
    }
   ],
   "source": [
    "import statistics as st\n",
    "\n",
    "for llave in ['peso', 'talla']:\n",
    "    datos = pacientes[llave]\n",
    "    media = st.mean(datos)# aritmética\n",
    "    std = st.stdev(datos) # de la muestra\n",
    "    print(f'Para {llave} - la media es {media:.2f} +/- {std:.2f}')\n"
   ]
  },
  {
   "cell_type": "markdown",
   "id": "50829538",
   "metadata": {},
   "source": [
    "Veamos cómo podríamos calcular la media y el rango intercuartilar, utilizando `statistics`"
   ]
  },
  {
   "cell_type": "code",
   "execution_count": 14,
   "id": "5b05e992",
   "metadata": {},
   "outputs": [
    {
     "name": "stdout",
     "output_type": "stream",
     "text": [
      "peso: mediana= 69.45 (66.35 - 73.45)\n",
      "talla: mediana= 1.67 (1.62 - 1.69)\n"
     ]
    }
   ],
   "source": [
    "for llave in ['peso', 'talla']:\n",
    "    datos = pacientes[llave]\n",
    "    q1, mediana, q3 = st.quantiles(datos) # observa que no hay que importar cada vez.\n",
    "    print(f'{llave}: mediana= {mediana} ({q1:.2f} - {q3:.2f})')\n",
    "\n",
    "\n"
   ]
  },
  {
   "cell_type": "markdown",
   "id": "4ad3e8dd",
   "metadata": {},
   "source": [
    "Utilizando ahora un librería externa podemos calcular datos más poderosos, por ejemplo, podemos utilizar la prueba de [Shapiro-Wilk](https://es.wikipedia.org/wiki/Prueba_de_Shapiro-Wilk) para ver si los datos son o no normales.\n",
    "\n",
    "La prueba está integrada dentro de la librería `scipy` y su documentación se puede consultar [aquí](https://docs.scipy.org/doc/scipy/reference/generated/scipy.stats.shapiro.html#shapiro).\n",
    "\n",
    "\n",
    "Respecto a la expresión ternaria, recuerda revisar el tema [aquí](#expresion-ternaria-target)\n"
   ]
  },
  {
   "cell_type": "code",
   "execution_count": null,
   "id": "d97224b1",
   "metadata": {},
   "outputs": [
    {
     "name": "stdout",
     "output_type": "stream",
     "text": [
      "Resultado de shapiro wilk: Normal con p=0.16922468929736062\n",
      "Resultado de shapiro wilk: Normal con p=0.608918875551153\n"
     ]
    }
   ],
   "source": [
    "from scipy.stats import shapiro\n",
    "\n",
    "def es_normal(datos):\n",
    "    res = shapiro(datos)\n",
    "    normal = 'Normal' if res.pvalue > 0.05 else 'No Normal'\n",
    "    # la expresión arriba se llama \"ternaria\"\n",
    "    # en una línea tenemos un if else.\n",
    "    reporte = f'Resultado de shapiro wilk: {normal} con p={res.pvalue}'\n",
    "    print(reporte)\n",
    "\n",
    "es_normal(pacientes['peso'])\n",
    "es_normal(pacientes['talla'])"
   ]
  },
  {
   "cell_type": "markdown",
   "id": "4955b734",
   "metadata": {},
   "source": [
    "Ambas variables son normales, segun la prueba.\n",
    "\n",
    "Esta libreta es un breve ejemplo de cómo podemos utilizar python, en forma lineal para resolver problemas estadísticos con una muestra de pacientes. En la siguiente unidad veremos aspectos específicos y dirigidos del análisis estadístico."
   ]
  }
 ],
 "metadata": {
  "kernelspec": {
   "display_name": ".venv",
   "language": "python",
   "name": "python3"
  },
  "language_info": {
   "codemirror_mode": {
    "name": "ipython",
    "version": 3
   },
   "file_extension": ".py",
   "mimetype": "text/x-python",
   "name": "python",
   "nbconvert_exporter": "python",
   "pygments_lexer": "ipython3",
   "version": "3.13.5"
  }
 },
 "nbformat": 4,
 "nbformat_minor": 5
}

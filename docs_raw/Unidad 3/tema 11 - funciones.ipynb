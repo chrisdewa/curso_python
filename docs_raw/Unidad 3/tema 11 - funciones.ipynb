{
 "cells": [
  {
   "cell_type": "markdown",
   "id": "53561e3a",
   "metadata": {},
   "source": [
    "# Tema 11: Funciones\n",
    "\n",
    "El concepto de función es heredado de las matemáticas, representan una operación y en su sentido más puro es un bloque de código que toma una serie de entradas `inputs` y genera una `salida`.\n",
    "\n",
    "En programación las funciones nos ayudan a escribir menos código, hacer que el código sea más legible y esté mejor organizado y simplifican nuestras operaciones pero su principal función es clave, son **BLOQUES DE CÓDIGO REUTILIZABLES**.\n",
    "\n",
    "Retomemos el ejemplo de la lección anterior con el índice de masa corporal, en el [tema 10](<tema 10 - control de flujo.md>) calculamos el índice de masa corporal, pero como lo vimos en los bucles, había que escribir la operación una y otra vez cuando queríamos obtener el valor.\n",
    "\n",
    "Esta es la fórmula:\n",
    "\n",
    "$IMC = \\frac{peso}{talla^2}$\n",
    "\n",
    "Una función matemática se vería así:\n",
    "\n",
    "$IMC(peso; talla) = \\frac{peso}{talla^2}$\n",
    "\n",
    "Es decir, la función `IMC` toma dos parámetros, `peso` y `talla` y regresa el resultado de dividir el peso por el cuadrado de la talla.\n",
    "\n",
    "En python, podemos crear una función a partir de ello y se vería así:\n",
    "\n",
    "```python\n",
    "def calcular_imc(peso, talla):\n",
    "    return peso / talla**2\n",
    "```\n",
    "\n",
    "Esta función puede ser utilizada múltiples veces de la siguiente manera:\n",
    "\n",
    "```python\n",
    "for paciente in lista_de_pacientes:\n",
    "    imc = calcular_imc(paciente['peso'], paciente['talla'])\n",
    "    print('Paciente', paciente['ID'], 'Tiene imc de', imc)\n",
    "```\n",
    "\n",
    "Desglosemos qué está pasando.\n",
    "\n",
    "## Sintaxis\n",
    "\n",
    "En python definimos una función de la siguiente forma:\n",
    "\n",
    "```python\n",
    "def suma(a, b):\n",
    "    return a + b\n",
    "```\n",
    "\n",
    "1. El encabezado comienza siempre con la palabra clave `def`.\n",
    "2. La siguiente palabra es el nombre que recibirá la función.\n",
    "3. Luego se abren paréntesis.\n",
    "4. Dentro de los paréntesis puede ir lo sigueinte:\n",
    "   - Nada: `()`.\n",
    "   - Argumentos posicionales (positional arguments o más comumente `args`).\n",
    "   - Argumentos de palabra clave (Key word arguments, o más comunmente `kwargs` o `kws`).\n",
    "   - Cualquier combinación de estos, pero siempre van primero los posicionales y luego los `kws`.\n",
    "5. Dos puntos `:` para marcar el comienzo del cuerpo de la función.\n",
    "6. Cuerpo de la función en el siguiente nivel de sangría.\n",
    "\n",
    "### Argumentos\n",
    "\n",
    "Uno de los principales poderes de las funciones es aceptar argumentos para realizar su trabajo.\n",
    "Veamos el ejemplo más sencillo, una función matemática:\n",
    "\n",
    "$f\\relax(x) = x^2$\n",
    "\n",
    "En python esta función se ve así:\n",
    "\n",
    "```python\n",
    "def f(x): \n",
    "    return x**2\n",
    "```\n",
    "\n",
    "Esta función toma un solo argumento, `x` y devuelve su valor elevado al cuadrado con la palabra clave `return`.\n",
    "\n",
    ":::{note}\n",
    "Si una función no tiene explícitamente la palabra `return` en realidad regresa un tipo nulo `NoneType`.\n",
    "Es decir, que las siguientes dos funciones son equivalentes:\n",
    "\n",
    "```python\n",
    "def saludar(nombre):\n",
    "    print('Hola', nombre)\n",
    "\n",
    "# y\n",
    "\n",
    "def saludar2(nombre):\n",
    "    print('Hola', nombre)\n",
    "    return None\n",
    "\n",
    "```\n",
    ":::\n",
    "\n",
    "Como se comentó previamente, existen básicamente dos tipos de argumentos, los posicionales y los de palabra clave, veamos cómo funcionan. Para las siguientes dos secciones usaremos el ejemplo de la siguiente función.\n",
    "\n",
    "\n",
    "#### Posicionales\n",
    "\n"
   ]
  },
  {
   "cell_type": "code",
   "execution_count": 1,
   "id": "214c5629",
   "metadata": {},
   "outputs": [
    {
     "data": {
      "text/plain": [
       "builtin_function_or_method"
      ]
     },
     "execution_count": 1,
     "metadata": {},
     "output_type": "execute_result"
    }
   ],
   "source": [
    "type(print)"
   ]
  }
 ],
 "metadata": {
  "kernelspec": {
   "display_name": "curso-python",
   "language": "python",
   "name": "python3"
  },
  "language_info": {
   "codemirror_mode": {
    "name": "ipython",
    "version": 3
   },
   "file_extension": ".py",
   "mimetype": "text/x-python",
   "name": "python",
   "nbconvert_exporter": "python",
   "pygments_lexer": "ipython3",
   "version": "3.13.1"
  }
 },
 "nbformat": 4,
 "nbformat_minor": 5
}

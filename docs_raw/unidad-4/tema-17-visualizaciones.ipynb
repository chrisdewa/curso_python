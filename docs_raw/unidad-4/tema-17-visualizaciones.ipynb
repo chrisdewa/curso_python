{
 "cells": [
  {
   "cell_type": "markdown",
   "id": "a61f090b",
   "metadata": {},
   "source": [
    "# Tema 17: Visualizaciones\n",
    "\n",
    "El análisis visual de los datos es discutiblemente uno de los aspectos más importantes del proceso analítico. En python existen múltiples librerías para generar visualizaciones informativas y hermosas, en esta libreta aprenderás los aspectos básicos de cómo utilizar dos de ellas `matplotlib` y `seaborn`.\n",
    "\n",
    "Trabajaremos con los mismos datos que hemos estado analizando **palmer penguins**.\n",
    "\n",
    "## Cargar librerías"
   ]
  },
  {
   "cell_type": "code",
   "execution_count": 1,
   "id": "e6495342",
   "metadata": {},
   "outputs": [],
   "source": [
    "import pandas as pd\n",
    "import matplotlib.pyplot as plt\n",
    "import seaborn as sns"
   ]
  },
  {
   "cell_type": "markdown",
   "id": "ecd72366",
   "metadata": {},
   "source": [
    "## Carga de datos\n"
   ]
  },
  {
   "cell_type": "code",
   "execution_count": 2,
   "id": "f7c2d1c5",
   "metadata": {},
   "outputs": [
    {
     "data": {
      "text/html": [
       "<div>\n",
       "<style scoped>\n",
       "    .dataframe tbody tr th:only-of-type {\n",
       "        vertical-align: middle;\n",
       "    }\n",
       "\n",
       "    .dataframe tbody tr th {\n",
       "        vertical-align: top;\n",
       "    }\n",
       "\n",
       "    .dataframe thead th {\n",
       "        text-align: right;\n",
       "    }\n",
       "</style>\n",
       "<table border=\"1\" class=\"dataframe\">\n",
       "  <thead>\n",
       "    <tr style=\"text-align: right;\">\n",
       "      <th></th>\n",
       "      <th>species</th>\n",
       "      <th>island</th>\n",
       "      <th>bill_length_mm</th>\n",
       "      <th>bill_depth_mm</th>\n",
       "      <th>flipper_length_mm</th>\n",
       "      <th>body_mass_g</th>\n",
       "      <th>sex</th>\n",
       "    </tr>\n",
       "  </thead>\n",
       "  <tbody>\n",
       "    <tr>\n",
       "      <th>0</th>\n",
       "      <td>Adelie</td>\n",
       "      <td>Biscoe</td>\n",
       "      <td>37.8</td>\n",
       "      <td>18.3</td>\n",
       "      <td>174.0</td>\n",
       "      <td>3400.0</td>\n",
       "      <td>female</td>\n",
       "    </tr>\n",
       "    <tr>\n",
       "      <th>1</th>\n",
       "      <td>Adelie</td>\n",
       "      <td>Biscoe</td>\n",
       "      <td>37.7</td>\n",
       "      <td>18.7</td>\n",
       "      <td>180.0</td>\n",
       "      <td>3600.0</td>\n",
       "      <td>male</td>\n",
       "    </tr>\n",
       "    <tr>\n",
       "      <th>2</th>\n",
       "      <td>Adelie</td>\n",
       "      <td>Biscoe</td>\n",
       "      <td>35.9</td>\n",
       "      <td>19.2</td>\n",
       "      <td>189.0</td>\n",
       "      <td>3800.0</td>\n",
       "      <td>female</td>\n",
       "    </tr>\n",
       "    <tr>\n",
       "      <th>3</th>\n",
       "      <td>Adelie</td>\n",
       "      <td>Biscoe</td>\n",
       "      <td>38.2</td>\n",
       "      <td>18.1</td>\n",
       "      <td>185.0</td>\n",
       "      <td>3950.0</td>\n",
       "      <td>male</td>\n",
       "    </tr>\n",
       "    <tr>\n",
       "      <th>4</th>\n",
       "      <td>Adelie</td>\n",
       "      <td>Biscoe</td>\n",
       "      <td>38.8</td>\n",
       "      <td>17.2</td>\n",
       "      <td>180.0</td>\n",
       "      <td>3800.0</td>\n",
       "      <td>male</td>\n",
       "    </tr>\n",
       "  </tbody>\n",
       "</table>\n",
       "</div>"
      ],
      "text/plain": [
       "  species  island  bill_length_mm  bill_depth_mm  flipper_length_mm  \\\n",
       "0  Adelie  Biscoe            37.8           18.3              174.0   \n",
       "1  Adelie  Biscoe            37.7           18.7              180.0   \n",
       "2  Adelie  Biscoe            35.9           19.2              189.0   \n",
       "3  Adelie  Biscoe            38.2           18.1              185.0   \n",
       "4  Adelie  Biscoe            38.8           17.2              180.0   \n",
       "\n",
       "   body_mass_g     sex  \n",
       "0       3400.0  female  \n",
       "1       3600.0    male  \n",
       "2       3800.0  female  \n",
       "3       3950.0    male  \n",
       "4       3800.0    male  "
      ]
     },
     "execution_count": 2,
     "metadata": {},
     "output_type": "execute_result"
    }
   ],
   "source": [
    "url = 'https://raw.githubusercontent.com/raphaelvallat/pingouin/refs/heads/main/src/pingouin/datasets/penguins.csv'\n",
    "\n",
    "df = pd.read_csv(url)\n",
    "df.head()"
   ]
  },
  {
   "cell_type": "markdown",
   "id": "b0215e35",
   "metadata": {},
   "source": [
    "## Análisis con matplotlib\n",
    "Retomaremos la última figura del tema de [descriptivos básicos](tema-16-descriptivos-básicos.ipynb). Pudimos usar pandas para separar por color las tres especies pero no sabíamos cuál era cual. Retomaremos esto con `matplotlib`.\n",
    "\n",
    "Por favor revisa los [acordeone](#acordeones-target) y la [documentación](https://matplotlib.org/stable/index.html) de la librería.\n",
    "\n",
    ":::{important}\n",
    "En particular revisa la guía de inicio rápido de `matplotlib` que puedes encontrar aquí: https://matplotlib.org/stable/users/explain/quick_start.html\n",
    ":::\n",
    "\n",
    "Primero, volvamos a hacer la gráfica sin color."
   ]
  },
  {
   "cell_type": "code",
   "execution_count": null,
   "id": "a8113c69",
   "metadata": {},
   "outputs": [
    {
     "data": {
      "text/plain": [
       "<matplotlib.collections.PathCollection at 0x7bf5d59e9450>"
      ]
     },
     "execution_count": 4,
     "metadata": {},
     "output_type": "execute_result"
    },
    {
     "data": {
      "image/png": "[encoded data removed]",
      "text/plain": [
       "<Figure size 640x480 with 1 Axes>"
      ]
     },
     "metadata": {},
     "output_type": "display_data"
    }
   ],
   "source": [
    "plt.scatter( # matplotlib también tiene una función para la gráfica de dispersión\n",
    "    x=df['bill_length_mm'],\n",
    "    y=df['bill_depth_mm'],\n",
    ")"
   ]
  },
  {
   "cell_type": "markdown",
   "id": "5ee7b3b9",
   "metadata": {},
   "source": [
    "Podemos ver nuevamente los conglomerados, vamos a colorearlos, pero primero veamos el algoritmo de cómo lo vamos a hacer.\n",
    "\n",
    "```{mermaid}\n",
    "\n",
    "```"
   ]
  }
 ],
 "metadata": {
  "kernelspec": {
   "display_name": "curso-python",
   "language": "python",
   "name": "python3"
  },
  "language_info": {
   "codemirror_mode": {
    "name": "ipython",
    "version": 3
   },
   "file_extension": ".py",
   "mimetype": "text/x-python",
   "name": "python",
   "nbconvert_exporter": "python",
   "pygments_lexer": "ipython3",
   "version": "3.13.1"
  }
 },
 "nbformat": 4,
 "nbformat_minor": 5
}

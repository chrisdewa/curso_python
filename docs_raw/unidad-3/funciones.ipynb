{
 "cells": [
  {
   "cell_type": "markdown",
   "id": "53561e3a",
   "metadata": {},
   "source": [
    "# Funciones\n",
    "\n",
    "El concepto de función es heredado de las matemáticas, representan una operación y en su sentido más puro es un bloque de código que toma una serie de entradas `inputs` y genera una `salida`.\n",
    "\n",
    "En programación las funciones nos ayudan a escribir menos código, hacer que el código sea más legible y esté mejor organizado y simplifican nuestras operaciones pero su principal función es clave, son **BLOQUES DE CÓDIGO REUTILIZABLES**.\n",
    "\n",
    "Retomemos el ejemplo de la lección anterior con el índice de masa corporal, en el [tema 10](tema-10-control-de-flujo.ipynb) calculamos el índice de masa corporal, pero como lo vimos en los bucles, había que escribir la operación una y otra vez cuando queríamos obtener el valor.\n",
    "\n",
    "Esta es la fórmula:\n",
    "\n",
    "$IMC = \\frac{peso}{talla^2}$\n",
    "\n",
    "Una función matemática se vería así:\n",
    "\n",
    "$IMC(peso; talla) = \\frac{peso}{talla^2}$\n",
    "\n",
    "Es decir, la función `IMC` toma dos parámetros, `peso` y `talla` y regresa el resultado de dividir el peso por el cuadrado de la talla.\n",
    "\n",
    "En python, podemos crear una función a partir de ello y se vería así:\n",
    "\n",
    "```python\n",
    "def calcular_imc(peso, talla):\n",
    "    return peso / talla**2\n",
    "```\n",
    "\n",
    "Esta función puede ser utilizada múltiples veces de la siguiente manera:\n",
    "\n",
    "```python\n",
    "for paciente in lista_de_pacientes:\n",
    "    imc = calcular_imc(paciente['peso'], paciente['talla'])\n",
    "    print('Paciente', paciente['ID'], 'Tiene imc de', imc)\n",
    "```\n",
    "\n",
    "Desglosemos qué está pasando.\n",
    "\n",
    "## Sintaxis\n",
    "\n",
    "En python definimos una función de la siguiente forma:\n",
    "\n",
    "```python\n",
    "def suma(a, b):\n",
    "    \"Esta función suma los argumentos a y b y devuelve el resultado\"\n",
    "    return a + b\n",
    "```\n",
    "\n",
    "1. El encabezado comienza siempre con la palabra clave `def`.\n",
    "2. Inmediatamente después del encabezado de la función, se puede poner un string (`str`) cuya función es explicar qué hace y cómo se usa la función, se le llama **Docstring**.\n",
    "3. La siguiente palabra es el nombre que recibirá la función.\n",
    "4. Luego se abren paréntesis.\n",
    "5. Dentro de los paréntesis puede ir lo sigueinte:\n",
    "   - Nada: `()`.\n",
    "   - Parámetros posicionales (positional arguments o más comumente `args`).\n",
    "   - Parámetros de palabra clave (Key word arguments, o más comunmente `kwargs` o `kws`).\n",
    "   - Cualquier combinación de estos, pero siempre van primero los posicionales y luego los `kws`.\n",
    "6. Dos puntos `:` para marcar el comienzo del cuerpo de la función.\n",
    "7. Cuerpo de la función en el siguiente nivel de sangría.\n",
    "\n",
    "\n",
    "### Parámetros\n",
    "\n",
    ":::{important}\n",
    "Diferencia entre \"parámetro\" y \"argumento\".\n",
    "\n",
    "Los **parámetros** se definen en el encabezado de la función. `def foo(x):` define un parámetro `x` para la función `foo`.\n",
    "\n",
    "Los **argumentos** son los valores que se pasan a la función para cubrir sus parámetros, por ejemplo:\n",
    "```python\n",
    "def imc(peso, talla):\n",
    "    return peso / talla ** 2\n",
    "\n",
    "p = 77\n",
    "t = 1.72\n",
    "print(imc(p, t))\n",
    "\n",
    "```\n",
    "En esta función, los parámetros son peso y talla en la función de `imc`. Los argumentos al llamar la función son 77 y 1.72, contenidos en las variables llamadas `p` y `t`.\n",
    ":::\n",
    "\n",
    "Uno de los principales poderes de las funciones es aceptar argumentos para realizar su trabajo.\n",
    "Veamos el ejemplo más sencillo, una función matemática:\n",
    "\n",
    "$f(x) = x^2$\n",
    "\n",
    "En python esta función se ve así:\n",
    "\n",
    "```python\n",
    "def f(x): \n",
    "    return x**2\n",
    "```\n",
    "\n",
    "Esta función toma un solo argumento, `x` y devuelve su valor elevado al cuadrado con la palabra clave `return`.\n",
    "\n",
    ":::{note}\n",
    "Si una función no tiene explícitamente la palabra `return` en realidad regresa un tipo nulo `NoneType`.\n",
    "Es decir, que las siguientes dos funciones son equivalentes:\n",
    "\n",
    "```python\n",
    "def saludar(nombre):\n",
    "    print('Hola', nombre)\n",
    "\n",
    "# y\n",
    "\n",
    "def saludar2(nombre):\n",
    "    print('Hola', nombre)\n",
    "    return None\n",
    "\n",
    "```\n",
    ":::\n",
    "\n",
    "Como se comentó previamente, existen básicamente dos tipos de argumentos, los posicionales y los de palabra clave, veamos cómo funcionan. Para las siguientes dos secciones usaremos el ejemplo de la siguiente función.\n",
    "\n",
    "\n",
    "#### Parámetros posicionales\n",
    "\n",
    "Los parámetros posicionales se pasan a la función en el orden definido en la función. \n",
    "Por ejemplo:\n",
    "\n"
   ]
  },
  {
   "cell_type": "code",
   "execution_count": 1,
   "id": "214c5629",
   "metadata": {},
   "outputs": [
    {
     "name": "stdout",
     "output_type": "stream",
     "text": [
      "x=7, y=6\n",
      "x=6, y=7\n",
      "x=7, y=6\n",
      "x=6, y=7\n"
     ]
    }
   ],
   "source": [
    "def mas_grande(x, y):\n",
    "    \"Esta función muestra los valores de X y Y\"\n",
    "    print(f'{x=}, {y=}')\n",
    "\n",
    "# Podríamos utlizar la función de cualquiera de las siguientes formas:\n",
    "\n",
    "x = 7\n",
    "y = 6\n",
    "mas_grande(x, y)\n",
    "mas_grande(y, x)    \n",
    "mas_grande(7, 6)    \n",
    "mas_grande(x=y, y=x) # intercambiados\n"
   ]
  },
  {
   "cell_type": "markdown",
   "id": "9d600c01",
   "metadata": {},
   "source": [
    ":::{note}\n",
    "El `str` está formateado con `f-string`, revisa el [tema correspondiente](#tema-f-string-target) para ver cómo funciona.\n",
    "\n",
    ":::\n",
    ":::\n",
    "En los primeros dos usos de la función, pasamos los argumentos en forma posicional, en el tercero lo hicimos en forma de palabras clave `kws`, esto último lo veremos en la siguiente sección.\n",
    "\n",
    "Esto es porque la función no nos ha limitado en cómo utilizarla, es decir, podemos ejecutarla como queramos, pero nota que cuando usamos la función con argumentos posicionales, el orden en que pasamos los argumentos cambia como responde la función.\n",
    "\n",
    "Aunque la variable, fuera de la función, se llame como alguno de los parámetros, dentro de la función los valores asociados a las variables se asignan al nombre del parámetro de la función. Observa el segundo ejemplo, `mas_grande(y, x)` aunque las variables se llamen `x` y `y`, dentro de la función se transforman, porque el valor de la variable `x`, se asigna al parámetro `y` y viceversa.\n",
    "\n",
    "Es posible hacer que los argumentos de una función sean obligatoriamente posicionales.\n"
   ]
  },
  {
   "cell_type": "code",
   "execution_count": 2,
   "id": "c4c7fba1",
   "metadata": {},
   "outputs": [
    {
     "name": "stdout",
     "output_type": "stream",
     "text": [
      "x=7, y=6\n"
     ]
    },
    {
     "ename": "TypeError",
     "evalue": "mas_grande_pos() got some positional-only arguments passed as keyword arguments: 'y'",
     "output_type": "error",
     "traceback": [
      "\u001b[31m---------------------------------------------------------------------------\u001b[39m",
      "\u001b[31mTypeError\u001b[39m                                 Traceback (most recent call last)",
      "\u001b[36mCell\u001b[39m\u001b[36m \u001b[39m\u001b[32mIn[2]\u001b[39m\u001b[32m, line 6\u001b[39m\n\u001b[32m      3\u001b[39m     \u001b[38;5;28mprint\u001b[39m(\u001b[33mf\u001b[39m\u001b[33m'\u001b[39m\u001b[38;5;132;01m{\u001b[39;00mx\u001b[38;5;132;01m=}\u001b[39;00m\u001b[33m, \u001b[39m\u001b[38;5;132;01m{\u001b[39;00my\u001b[38;5;132;01m=}\u001b[39;00m\u001b[33m'\u001b[39m)\n\u001b[32m      5\u001b[39m mas_grande_pos(\u001b[32m7\u001b[39m, \u001b[32m6\u001b[39m) \u001b[38;5;66;03m# Sí funciona\u001b[39;00m\n\u001b[32m----> \u001b[39m\u001b[32m6\u001b[39m \u001b[43mmas_grande_pos\u001b[49m\u001b[43m(\u001b[49m\u001b[32;43m7\u001b[39;49m\u001b[43m,\u001b[49m\u001b[43m \u001b[49m\u001b[43my\u001b[49m\u001b[43m=\u001b[49m\u001b[32;43m6\u001b[39;49m\u001b[43m)\u001b[49m \u001b[38;5;66;03m# No funciona\u001b[39;00m\n",
      "\u001b[31mTypeError\u001b[39m: mas_grande_pos() got some positional-only arguments passed as keyword arguments: 'y'"
     ]
    }
   ],
   "source": [
    "def mas_grande_pos(x, y, /):\n",
    "    \"Esta función muestra los valores de X y Y\"\n",
    "    print(f'{x=}, {y=}')\n",
    "\n",
    "mas_grande_pos(7, 6) # Sí funciona\n",
    "mas_grande_pos(7, y=6) # No funciona"
   ]
  },
  {
   "cell_type": "markdown",
   "id": "074e3f6a",
   "metadata": {},
   "source": [
    "Como ves en este ejemplo, el error ocurre porque ambos parámetros, `x` y `y` son obligatoriamente posicionales, es la diagonal `/` en el encabezado de la función lo que señaliza a los argumentos posicionales obligatorios.\n",
    "Es posible tener casos mixtos, por ejemplo, en la siguiente función:"
   ]
  },
  {
   "cell_type": "code",
   "execution_count": 3,
   "id": "e77c1398",
   "metadata": {},
   "outputs": [
    {
     "name": "stdout",
     "output_type": "stream",
     "text": [
      "x=7, y=6\n",
      "x=7, y=6\n"
     ]
    },
    {
     "ename": "TypeError",
     "evalue": "mas_grande_pos_2() got some positional-only arguments passed as keyword arguments: 'x'",
     "output_type": "error",
     "traceback": [
      "\u001b[31m---------------------------------------------------------------------------\u001b[39m",
      "\u001b[31mTypeError\u001b[39m                                 Traceback (most recent call last)",
      "\u001b[36mCell\u001b[39m\u001b[36m \u001b[39m\u001b[32mIn[3]\u001b[39m\u001b[32m, line 7\u001b[39m\n\u001b[32m      5\u001b[39m mas_grande_pos_2(\u001b[32m7\u001b[39m, \u001b[32m6\u001b[39m) \u001b[38;5;66;03m# Sí funciona\u001b[39;00m\n\u001b[32m      6\u001b[39m mas_grande_pos_2(\u001b[32m7\u001b[39m, y=\u001b[32m6\u001b[39m) \u001b[38;5;66;03m# También funciona\u001b[39;00m\n\u001b[32m----> \u001b[39m\u001b[32m7\u001b[39m \u001b[43mmas_grande_pos_2\u001b[49m\u001b[43m(\u001b[49m\u001b[43mx\u001b[49m\u001b[43m=\u001b[49m\u001b[32;43m7\u001b[39;49m\u001b[43m,\u001b[49m\u001b[43m \u001b[49m\u001b[43my\u001b[49m\u001b[43m=\u001b[49m\u001b[32;43m6\u001b[39;49m\u001b[43m)\u001b[49m \u001b[38;5;66;03m# No funciona\u001b[39;00m\n",
      "\u001b[31mTypeError\u001b[39m: mas_grande_pos_2() got some positional-only arguments passed as keyword arguments: 'x'"
     ]
    }
   ],
   "source": [
    "def mas_grande_pos_2(x, /, y): # la / está ahora a la mitad\n",
    "    \"Esta función muestra los valores de X y Y\"\n",
    "    print(f'{x=}, {y=}')\n",
    "\n",
    "mas_grande_pos_2(7, 6) # Sí funciona\n",
    "mas_grande_pos_2(7, y=6) # También funciona\n",
    "mas_grande_pos_2(x=7, y=6) # No funciona"
   ]
  },
  {
   "cell_type": "markdown",
   "id": "9d86cf05",
   "metadata": {},
   "source": [
    "##### Ejercicio personal\n",
    "¿Por qué falló la última ejecución?\n",
    "\n",
    "\n",
    "### Parámetros de palabra clave `kws`\n",
    "\n",
    "Los parámetros de \"palabra clave\", en adelante `ksw`, se utilizan en la función de forma explícita con el operador de asignación `=` y el nombre del parámetro.\n",
    "\n",
    "Tomemos el siguiente ejemplo"
   ]
  },
  {
   "cell_type": "markdown",
   "id": "b4977ed3",
   "metadata": {},
   "source": [
    "### Parámetros de palabra clave (`kwargs`, o `kws`)\n",
    "\n",
    "Los argumentos de palabra clave permiten especificar a qué parámetro corresponde cada valor usando `nombre=valor`. Son útiles cuando hay muchos parámetros o cuando queremos cambiar solo uno sin importar el orden.\n",
    "\n",
    "```python\n",
    "def saludar(nombre, saludo):\n",
    "    print(f\"{saludo}, {nombre}!\")\n",
    "\n",
    "saludar(nombre=\"Chris\", saludo=\"Buenos días\") # imprime Buenos días Chris\n",
    "saludar(saludo=\"Buenos días\", nombre=\"Chris\") # imprime Buenos días Chris también\n",
    "``` \n",
    "Observa que ambos argumentos se están pasando por palabra clave, pero podrían de igualforma pasarse como argumentos posicionales.\n",
    "```python\n",
    "saludar(\"Chris\", \"Buenos días\")\n",
    "```\n",
    "Para hacer obligatorios los `kws` se utiliza un asterizco antes:\n",
    "```python\n",
    "def saludar(*, nombre, saludo):\n",
    "    print(f\"{saludo}, {nombre}!\")\n",
    "```\n",
    "\n",
    "### Valores por defecto\n",
    "\n",
    "Al definir una función, podemos asignar valores por defecto a los parámetros. Estos se usan si no se pasan argumentos para el parámetro en cuestión cuando se llama la función\n",
    "\n",
    "Por ejemplo:\n",
    "\n",
    "```python\n",
    "def potencia(base, exponente=2):\n",
    "    return base ** exponente\n",
    "\n",
    "potencia(3)      # 9\n",
    "potencia(3, 3)   # 27\n",
    "```\n",
    "Nota que aunque la sintaxis de los parámetros con valor por defecto es parecida a como se pasan argumentos tipo `kws`, pero no te confundas, los parámetros con valores por defecto pueden ser `args` o `kws`.\n",
    "\n",
    "\n",
    "## Combinado todo\n",
    "\n",
    "Definamos una función con todos los tipos de parámetros comentados y lo aprendido hasta el momento. Analiza la siguiente celda de código y luego resuelve los ejercicios de la siguiente sección.\n"
   ]
  },
  {
   "cell_type": "code",
   "execution_count": 4,
   "id": "ee087d4b",
   "metadata": {},
   "outputs": [
    {
     "name": "stdout",
     "output_type": "stream",
     "text": [
      "29.365763350250564\n"
     ]
    }
   ],
   "source": [
    "def grado_imc(imc):\n",
    "    \"\"\"\n",
    "    Clasifica el grado del Índice de Masa Corporal (IMC) según rangos definidos.\n",
    "\n",
    "    Utiliza el valor del IMC para determinar la categoría correspondiente:\n",
    "    - IMC < 20: 'Peso bajo'\n",
    "    - 20 <= IMC < 27: 'Peso normal'\n",
    "    - 27 <= IMC < 30: 'Sobrepeso'\n",
    "    - IMC >= 30: 'Obeso' (valor por defecto)\n",
    "\n",
    "    Parámetros\n",
    "    ----------\n",
    "    imc : float\n",
    "        Valor del Índice de Masa Corporal a clasificar.\n",
    "\n",
    "    Retorna\n",
    "    -------\n",
    "    str\n",
    "        Cadena con la categoría correspondiente al IMC:\n",
    "        'Peso bajo', 'Peso normal', 'Sobrepeso' u 'Obeso'.\n",
    "    \"\"\"\n",
    "    grado = 'Obeso'\n",
    "    \n",
    "    if imc < 20:\n",
    "        grado = 'Peso bajo'\n",
    "    elif 20 <= imc < 27:\n",
    "        grado = 'Peso normal'\n",
    "    elif 27 <= imc < 30:\n",
    "        grado = 'Sobrepeso'\n",
    "\n",
    "    return grado\n",
    "\n",
    "\n",
    "def calcular_imc( # observa que el encabezado non tiene que estar en una sola línea\n",
    "                  # esto ayuda a que sea más legible\n",
    "    peso,         # posicional obligado\n",
    "    talla,        # posicional obligado \n",
    "    /,            # terminando los posicionales obligados\n",
    "    calcular_grado=False, # puede ser posicional o por palabra clave\n",
    "    *, # a partir de aquí los demás parámetros deben ser de palabra clave\n",
    "    generar_reporte=False \n",
    "):\n",
    "    \"\"\"\n",
    "    Calcula el Índice de Masa Corporal (IMC) a partir del peso y la talla.\n",
    "\n",
    "    El cálculo se realiza como `peso / talla**2`. Opcionalmente, puede determinar \n",
    "    el grado del IMC (por ejemplo, normopeso, sobrepeso, obesidad) utilizando una \n",
    "    función externa llamada `grado_imc`, y generar un reporte impreso.\n",
    "\n",
    "    Parámetros\n",
    "    ----------\n",
    "    peso : float\n",
    "        Peso del individuo en kilogramos. Obligatorio y posicional.\n",
    "    talla : float\n",
    "        Talla del individuo en metros. Obligatorio y posicional.\n",
    "    calcular_grado : bool, opcional\n",
    "        Si es `True`, también se evalúa y retorna el grado del IMC usando `grado_imc()`.\n",
    "        Por defecto es `False`.\n",
    "    generar_reporte : bool, palabra clave\n",
    "        Si es `True`, imprime un reporte con el IMC y, si se solicita, el grado.\n",
    "        Por defecto es `True`.\n",
    "\n",
    "    Retorna\n",
    "    -------\n",
    "    float o tuple\n",
    "        - Si `calcular_grado` es `False`, retorna solo el valor del IMC (`float`).\n",
    "        - Si `calcular_grado` es `True`, retorna una tupla (`imc`, `grado`).\n",
    "\n",
    "    \"\"\"\n",
    "    imc = peso / talla ** 2\n",
    "    grado = grado_imc(imc) if calcular_grado is True else None\n",
    "\n",
    "    if generar_reporte is True:\n",
    "        reporte = f'Para {peso=} y {talla=}, el imc es {imc}'\n",
    "        if grado is not None:\n",
    "            reporte += f' y el grado es: {grado}'\n",
    "        print(reporte)\n",
    "    \n",
    "    return (imc, grado) if calcular_grado else (imc)\n",
    "\n",
    "\n",
    "\n",
    "imc = calcular_imc(92, 1.77) # Guarda el IMC en una variable\n",
    "print(imc)"
   ]
  },
  {
   "cell_type": "markdown",
   "id": "0e15cc9d",
   "metadata": {},
   "source": [
    "### Ejercicios\n",
    "1. Analiza el código con detenimiento\n",
    "2. Lee con detenimiento los `docstrings`\n",
    "3. Contesta: ¿por qué en la primera función iniciamos con `grado = 'Obeso'`?\n",
    "4. Utiliza el `docstring` de la función `calcular_imc` para cambiar su forma de actuar.\n",
    "5. Genera un diagrama de flujo que explique cómo funciona, utiliza [draw.io](https://draw.io) o la herramienta que prefieraas."
   ]
  },
  {
   "cell_type": "markdown",
   "id": "ba7d3857",
   "metadata": {},
   "source": [
    "(parametros-variables-target)=\n",
    "## Funciones con parámetros indefinidos.\n",
    "\n",
    "Existen algunos casos particulares en donde las funciones pueden aceptar cualquier cantidad de argumentos, la siguiente función es un ejemplo mínimo."
   ]
  },
  {
   "cell_type": "code",
   "execution_count": 5,
   "id": "6520e2e1",
   "metadata": {},
   "outputs": [
    {
     "name": "stdout",
     "output_type": "stream",
     "text": [
      "(1, 2, 3, 4, 5)\n",
      "{'a': 123, 'nombre': 'Pedro'}\n",
      "None\n"
     ]
    }
   ],
   "source": [
    "def foo(*args, **kwargs):\n",
    "    print(args)\n",
    "    print(kwargs)\n",
    "\n",
    "print(foo(1, 2, 3, 4, 5, a=123, nombre='Pedro'))\n"
   ]
  },
  {
   "cell_type": "markdown",
   "id": "3422b843",
   "metadata": {},
   "source": [
    "Si analizamos al función nos damos cuenta que cuando ponemos un asterisco al inicio parámetro `args` acepta cualquier cantidad de argumentos posicionales, cuyos valores, se concentran en una lista. Por otro lado, al poner dos asteriscos `kwargs` acepta cualquier cantidad de argumentos de palabra clave y los guarda en un diccionario, donde las llaves son las palabras clave y los valores son los valores que se pasaron.\n",
    "\n",
    "Es posible de hecho, pasar `args` y `kwargs` listas (o tuplas) y diccionarios como argumentos."
   ]
  },
  {
   "cell_type": "code",
   "execution_count": 6,
   "id": "aee4bb27",
   "metadata": {},
   "outputs": [
    {
     "name": "stdout",
     "output_type": "stream",
     "text": [
      "(1, 7, 42)\n",
      "{'nombre': 'Chris', 'apellido': 'Delaflor'}\n"
     ]
    }
   ],
   "source": [
    "mis_args = [1, 7, 42]\n",
    "mis_kwargs = {'nombre': 'Chris', 'apellido': 'Delaflor'}\n",
    "\n",
    "foo(*mis_args, **mis_kwargs)\n"
   ]
  },
  {
   "cell_type": "markdown",
   "id": "51124327",
   "metadata": {},
   "source": [
    "\n",
    ":::{note}\n",
    "Si bien en este curso no construiremos funciones con `args` o `kwargs` de este tipo, sí utilizaremos muchas que los implementan, por lo que es importante que los conozcas y sepas cómo funcionan.\n",
    ":::"
   ]
  },
  {
   "cell_type": "markdown",
   "id": "596f8aa3",
   "metadata": {},
   "source": [
    "## Ejercicio personal\n",
    "Realiza este ejercicio si te sientes valiente, verás la solución al principio de la siguiente lección.\n",
    "\n",
    "Elabora una función que calcule la `media` de un conjunto de datos.\n"
   ]
  }
 ],
 "metadata": {
  "kernelspec": {
   "display_name": "curso-python",
   "language": "python",
   "name": "python3"
  },
  "language_info": {
   "codemirror_mode": {
    "name": "ipython",
    "version": 3
   },
   "file_extension": ".py",
   "mimetype": "text/x-python",
   "name": "python",
   "nbconvert_exporter": "python",
   "pygments_lexer": "ipython3",
   "version": "3.13.5"
  }
 },
 "nbformat": 4,
 "nbformat_minor": 5
}

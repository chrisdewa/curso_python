{
 "cells": [
  {
   "cell_type": "markdown",
   "id": "29edc5fa",
   "metadata": {},
   "source": [
    "# Proporción simple\n",
    "\n",
    "En este ejercicio tu objetivo es calcular la **proporción de resultados positivos** (True) en un arreglo de datos.\n",
    "\n",
    "## Ejercicio\n",
    "\n",
    "Cada elemento del arreglo representa el resultado de un test aplicado a una persona. Si el test fue positivo, el valor es `True`. Si fue negativo, el valor es `False`.\n"
   ]
  },
  {
   "cell_type": "code",
   "execution_count": 4,
   "id": "411c23b9",
   "metadata": {},
   "outputs": [
    {
     "name": "stdout",
     "output_type": "stream",
     "text": [
      "[True, True, False, True, False, False, True, True, True, True, True, True, False, True, True, True, True, False, True, True, True, False, False, False, True, True, True, True, True, False, False, True, True, True, False, True, False, True, True, False, True, True, False, True, True, True, True, True, False, False, True, True, True, False, True, False, True, True, True, True, True, False, True, True, False, True, True, True, True, False, True, False, False, True, True, False, True, True, True, True, True, False, False, False, True, False, False, True, False, False, False, True, True, False, False, False, False, True, False, True]\n"
     ]
    }
   ],
   "source": [
    "# No muevas esta celda\n",
    "\n",
    "resultados = [True, True, False, True, False, False, True, True, True, True, \n",
    "              True, True, False, True, True, True, True, False, True, True, \n",
    "              True, False, False, False, True, True, True, True, True, False, \n",
    "              False, True, True, True, False, True, False, True, True, False, \n",
    "              True, True, False, True, True, True, True, True, False, False, \n",
    "              True, True, True, False, True, False, True, True, True, True, \n",
    "              True, False, True, True, False, True, True, True, True, False, \n",
    "              True, False, False, True, True, False, True, True, True, True, \n",
    "              True, False, False, False, True, False, False, True, False, False, \n",
    "              False, True, True, False, False, False, False, True, False, True]\n",
    "print(resultados)"
   ]
  },
  {
   "cell_type": "markdown",
   "id": "34340462",
   "metadata": {},
   "source": [
    "\n",
    ":::{tip}\n",
    "Recuerda que en Python:\n",
    "\n",
    "    True equivale a 1\n",
    "\n",
    "    False equivale a 0\n",
    "\n",
    "Esto significa que puedes sumar una lista de booleanos para contar los True.\n",
    ":::"
   ]
  },
  {
   "cell_type": "code",
   "execution_count": 5,
   "id": "87e7e9fb",
   "metadata": {},
   "outputs": [
    {
     "name": "stdout",
     "output_type": "stream",
     "text": [
      "Pon tu código aquí\n"
     ]
    }
   ],
   "source": [
    "print('Pon tu código aquí')"
   ]
  },
  {
   "cell_type": "markdown",
   "id": "8f06ea6d",
   "metadata": {},
   "source": [
    "Tu resultado debería verse como una proporción o como un porcentaje."
   ]
  }
 ],
 "metadata": {
  "kernelspec": {
   "display_name": "curso-python",
   "language": "python",
   "name": "python3"
  },
  "language_info": {
   "codemirror_mode": {
    "name": "ipython",
    "version": 3
   },
   "file_extension": ".py",
   "mimetype": "text/x-python",
   "name": "python",
   "nbconvert_exporter": "python",
   "pygments_lexer": "ipython3",
   "version": "3.13.5"
  }
 },
 "nbformat": 4,
 "nbformat_minor": 5
}

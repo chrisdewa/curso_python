{
 "cells": [
  {
   "cell_type": "markdown",
   "id": "93416db3",
   "metadata": {},
   "source": [
    "# Tema 27: Rearreglo de datos\n",
    "\n",
    "Hasta el momento hemos trabajado con datos que ya han sido arreglados en forma "
   ]
  }
 ],
 "metadata": {
  "language_info": {
   "name": "python"
  }
 },
 "nbformat": 4,
 "nbformat_minor": 5
}

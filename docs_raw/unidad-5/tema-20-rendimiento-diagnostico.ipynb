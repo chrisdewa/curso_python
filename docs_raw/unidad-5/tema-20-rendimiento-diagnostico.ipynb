{
 "cells": [
  {
   "cell_type": "markdown",
   "id": "817f310b",
   "metadata": {},
   "source": [
    "# Medidas de rendimiento diangóstico\n",
    "\n",
    "En esta libreta veremos cómo calcular algunas métricas claves de rendimiento diagnóstico como la `sensiblidad` y la `especificidad` entre otras.\n",
    "\n",
    ":::{tip}\n",
    "Podrás utilizar las funciones que utilizaremos en esta unidad en tus propios análisis ya que el objetivo es generar código reutilizable.\n",
    ":::\n",
    "\n",
    "Antes de comenzar, te recomiendo que revises el tema en [statpearls](https://www.ncbi.nlm.nih.gov/books/NBK557491/).\n",
    "\n",
    "## Librerías y datos\n",
    "\n",
    "Los datos que utilizaremos en esta libreta fueron simulados, el código para generarlos está al final de la libreta."
   ]
  },
  {
   "cell_type": "code",
   "execution_count": 19,
   "id": "6d429188",
   "metadata": {},
   "outputs": [
    {
     "data": {
      "text/html": [
       "<div>\n",
       "<style scoped>\n",
       "    .dataframe tbody tr th:only-of-type {\n",
       "        vertical-align: middle;\n",
       "    }\n",
       "\n",
       "    .dataframe tbody tr th {\n",
       "        vertical-align: top;\n",
       "    }\n",
       "\n",
       "    .dataframe thead th {\n",
       "        text-align: right;\n",
       "    }\n",
       "</style>\n",
       "<table border=\"1\" class=\"dataframe\">\n",
       "  <thead>\n",
       "    <tr style=\"text-align: right;\">\n",
       "      <th></th>\n",
       "      <th>Unnamed: 0</th>\n",
       "      <th>Estándar</th>\n",
       "      <th>Test</th>\n",
       "    </tr>\n",
       "  </thead>\n",
       "  <tbody>\n",
       "    <tr>\n",
       "      <th>0</th>\n",
       "      <td>0</td>\n",
       "      <td>0</td>\n",
       "      <td>0</td>\n",
       "    </tr>\n",
       "    <tr>\n",
       "      <th>1</th>\n",
       "      <td>1</td>\n",
       "      <td>0</td>\n",
       "      <td>0</td>\n",
       "    </tr>\n",
       "    <tr>\n",
       "      <th>2</th>\n",
       "      <td>2</td>\n",
       "      <td>1</td>\n",
       "      <td>1</td>\n",
       "    </tr>\n",
       "    <tr>\n",
       "      <th>3</th>\n",
       "      <td>3</td>\n",
       "      <td>0</td>\n",
       "      <td>0</td>\n",
       "    </tr>\n",
       "    <tr>\n",
       "      <th>4</th>\n",
       "      <td>4</td>\n",
       "      <td>0</td>\n",
       "      <td>0</td>\n",
       "    </tr>\n",
       "  </tbody>\n",
       "</table>\n",
       "</div>"
      ],
      "text/plain": [
       "   Unnamed: 0  Estándar  Test\n",
       "0           0         0     0\n",
       "1           1         0     0\n",
       "2           2         1     1\n",
       "3           3         0     0\n",
       "4           4         0     0"
      ]
     },
     "execution_count": 19,
     "metadata": {},
     "output_type": "execute_result"
    }
   ],
   "source": [
    "import pandas as pd\n",
    "import scipy.stats as stats\n",
    "\n",
    "url = 'https://raw.githubusercontent.com/chrisdewa/curso_python/refs/heads/main/docs_raw/unidad-5/datos_dx.csv'\n",
    "datos = pd.read_csv(url)\n",
    "datos.head()\n"
   ]
  },
  {
   "cell_type": "markdown",
   "id": "1cf596c2",
   "metadata": {},
   "source": [
    "Vemos que los datos están \n",
    "## Tablas de contingencia\n",
    "\n",
    "En general, para todos los cálculos que realizaremos, asumimos que contamos con datos en una matriz de confusión de 1 grado de libertad, es decir, 2x2 y se estructura de la siguiente manera:\n",
    "\n",
    "||Estándar de Oro positivo|Estándar de Oro negativo|\n",
    "|---|---|---|\n",
    "|Test positivo|Verdaderos positivos|Falsos positivos|\n",
    "|Test negativo|Falsos negativos|Verdaderos negativos|\n",
    "\n",
    "Veamos cómo generar esta tabla en python\n",
    "\n"
   ]
  },
  {
   "cell_type": "code",
   "execution_count": null,
   "id": "536ff092",
   "metadata": {},
   "outputs": [],
   "source": []
  },
  {
   "cell_type": "markdown",
   "id": "94fcbacc",
   "metadata": {},
   "source": [
    "## Nota sobre los datos\n",
    "\n",
    "La base de datos utilizada en esta libreta fue generada con el siguiente código:\n",
    "\n",
    "```python\n",
    "import pandas as pd\n",
    "import scipy.stats as stats\n",
    "n = 100     # tamaño de muestra\n",
    "prev = 0.15 # prevalencia\n",
    "sens = 0.87 # sensibilidad\n",
    "esp = 0.91  # especificidad\n",
    "# El gold standar define la presencia de la enfermedad con 100% de precisión\n",
    "# por lo que utilizamos la distribución bernoulli\n",
    "gold = stats.bernoulli.rvs(prev, size=n)\n",
    "test = [\n",
    "    stats.bernoulli.rvs(sens) # en caso positivo usamos la sensibilidad\n",
    "    if subj == 1 else # comparación si el sujeto fue positivo\n",
    "    stats.bernoulli.rvs(1-esp)# en caso negativo usamos 1 - especificidad\n",
    "    for subj in gold # por cada sujeto en \"gold\" (estándar de oro)\n",
    "]\n",
    "data = pd.DataFrame({'Estándar': gold, 'Test': test}) # convertimos ambas variables a un dataset\n",
    "data.to_csv('datos_dx.csv')\n",
    "```\n",
    "\n",
    "Puedes generar tus propios datos imulados con estos datos.\n",
    "\n",
    "El código usa una comprension de lista para generar la variable `test`, puedes leer al respecto [aquí](otras-lecciones\\python-intermedio\\comprensiones.md)."
   ]
  },
  {
   "cell_type": "code",
   "execution_count": null,
   "id": "13aa5db6",
   "metadata": {},
   "outputs": [],
   "source": [
    "import pandas as pd\n",
    "import scipy.stats as stats\n",
    "n = 100     # tamaño de muestra\n",
    "prev = 0.15 # prevalencia\n",
    "sens = 0.87 # sensibilidad\n",
    "esp = 0.91  # especificidad\n",
    "# El gold standar define la presencia de la enfermedad con 100% de precisión\n",
    "# por lo que utilizamos la distribución bernoulli\n",
    "gold = stats.bernoulli.rvs(prev, size=n)\n",
    "test = [\n",
    "    stats.bernoulli.rvs(sens) # en caso positivo usamos la sensibilidad\n",
    "    if subj == 1 else # comparación si el sujeto fue positivo\n",
    "    stats.bernoulli.rvs(1-esp)# en caso negativo usamos 1 - especificidad\n",
    "    for subj in gold # por cada sujeto en \"gold\" (estándar de oro)\n",
    "]\n",
    "data = pd.DataFrame({'Estándar': gold, 'Test': test}) # convertimos ambas variables a un dataset\n",
    "data.to_csv('datos_dx.csv', index=False)"
   ]
  }
 ],
 "metadata": {
  "kernelspec": {
   "display_name": "curso-python",
   "language": "python",
   "name": "python3"
  },
  "language_info": {
   "codemirror_mode": {
    "name": "ipython",
    "version": 3
   },
   "file_extension": ".py",
   "mimetype": "text/x-python",
   "name": "python",
   "nbconvert_exporter": "python",
   "pygments_lexer": "ipython3",
   "version": "3.13.5"
  }
 },
 "nbformat": 4,
 "nbformat_minor": 5
}

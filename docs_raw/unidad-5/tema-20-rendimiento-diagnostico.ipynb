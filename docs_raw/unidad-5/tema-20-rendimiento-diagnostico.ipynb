{
 "cells": [
  {
   "cell_type": "markdown",
   "id": "817f310b",
   "metadata": {},
   "source": [
    "# Medidas de rendimiento diangóstico\n",
    "\n",
    "En esta libreta veremos cómo calcular algunas métricas claves de rendimiento diagnóstico como la `sensiblidad` y la `especificidad` entre otras.\n",
    "\n",
    ":::{tip}\n",
    "Podrás utilizar las funciones que utilizaremos en esta unidad en tus propios análisis ya que el objetivo es generar código reutilizable.\n",
    ":::\n",
    "\n",
    "Antes de comenzar, te recomiendo que revises el tema en [statpearls](https://www.ncbi.nlm.nih.gov/books/NBK557491/).\n",
    "\n",
    "## Librerías y datos\n",
    "\n",
    "Los datos que utilizaremos en esta libreta fueron simulados, el código para generarlos está al final de la libreta."
   ]
  },
  {
   "cell_type": "code",
   "execution_count": 2,
   "id": "6d429188",
   "metadata": {},
   "outputs": [
    {
     "data": {
      "text/html": [
       "<div>\n",
       "<style scoped>\n",
       "    .dataframe tbody tr th:only-of-type {\n",
       "        vertical-align: middle;\n",
       "    }\n",
       "\n",
       "    .dataframe tbody tr th {\n",
       "        vertical-align: top;\n",
       "    }\n",
       "\n",
       "    .dataframe thead th {\n",
       "        text-align: right;\n",
       "    }\n",
       "</style>\n",
       "<table border=\"1\" class=\"dataframe\">\n",
       "  <thead>\n",
       "    <tr style=\"text-align: right;\">\n",
       "      <th></th>\n",
       "      <th>Estándar</th>\n",
       "      <th>Test</th>\n",
       "    </tr>\n",
       "  </thead>\n",
       "  <tbody>\n",
       "    <tr>\n",
       "      <th>0</th>\n",
       "      <td>0</td>\n",
       "      <td>0</td>\n",
       "    </tr>\n",
       "    <tr>\n",
       "      <th>1</th>\n",
       "      <td>0</td>\n",
       "      <td>0</td>\n",
       "    </tr>\n",
       "    <tr>\n",
       "      <th>2</th>\n",
       "      <td>1</td>\n",
       "      <td>1</td>\n",
       "    </tr>\n",
       "    <tr>\n",
       "      <th>3</th>\n",
       "      <td>0</td>\n",
       "      <td>0</td>\n",
       "    </tr>\n",
       "    <tr>\n",
       "      <th>4</th>\n",
       "      <td>0</td>\n",
       "      <td>0</td>\n",
       "    </tr>\n",
       "  </tbody>\n",
       "</table>\n",
       "</div>"
      ],
      "text/plain": [
       "   Estándar  Test\n",
       "0         0     0\n",
       "1         0     0\n",
       "2         1     1\n",
       "3         0     0\n",
       "4         0     0"
      ]
     },
     "execution_count": 2,
     "metadata": {},
     "output_type": "execute_result"
    }
   ],
   "source": [
    "import pandas as pd\n",
    "import scipy.stats as stats\n",
    "\n",
    "url = 'https://raw.githubusercontent.com/chrisdewa/curso_python/refs/heads/main/docs_raw/unidad-5/datos_dx.csv'\n",
    "datos = pd.read_csv(url)\n",
    "datos.head()\n"
   ]
  },
  {
   "cell_type": "markdown",
   "id": "1cf596c2",
   "metadata": {},
   "source": [
    "Vemos que los datos están compuestos por dos columnas, \"Estándar\" y \"Test\", la primera columna representa el estado de la enfermedad de acuerdo al estándar de oro, la segunda, representa la predicción realizada por la prueba diagnóstica.\n",
    "\n",
    "## Tablas de contingencia\n",
    "\n",
    "En general, para todos los cálculos que realizaremos, asumimos que contamos con datos en una matriz de confusión de 1 grado de libertad, es decir, 2x2 y se estructura de la siguiente manera:\n",
    "\n",
    "||Estándar de Oro positivo|Estándar de Oro negativo|\n",
    "|---|---|---|\n",
    "|Test positivo|Verdaderos positivos|Falsos positivos|\n",
    "|Test negativo|Falsos negativos|Verdaderos negativos|\n",
    "\n",
    "Los verdaderos positivos (VP) son aquellos sujetos positivos en el test y en el estándar de oro.\n",
    "Los falsos positivos (FP) son aquellos que fueron positivos en el test pero no en el estándar.\n",
    "Los falsos negativos (FN) fueron negativos en el test pero positivos en el estándar.\n",
    "Los verdaderos negativos (VN) fueron negativos en ambos casos.\n",
    "\n",
    "Veamos cómo generar la tabla con python.\n",
    "\n",
    "El modo más directo es `pd.crosstab` que produce una tabulación cruzada entre las columnas."
   ]
  },
  {
   "cell_type": "code",
   "execution_count": 5,
   "id": "536ff092",
   "metadata": {},
   "outputs": [
    {
     "data": {
      "text/html": [
       "<div>\n",
       "<style scoped>\n",
       "    .dataframe tbody tr th:only-of-type {\n",
       "        vertical-align: middle;\n",
       "    }\n",
       "\n",
       "    .dataframe tbody tr th {\n",
       "        vertical-align: top;\n",
       "    }\n",
       "\n",
       "    .dataframe thead th {\n",
       "        text-align: right;\n",
       "    }\n",
       "</style>\n",
       "<table border=\"1\" class=\"dataframe\">\n",
       "  <thead>\n",
       "    <tr style=\"text-align: right;\">\n",
       "      <th>Estándar</th>\n",
       "      <th>0</th>\n",
       "      <th>1</th>\n",
       "    </tr>\n",
       "    <tr>\n",
       "      <th>Test</th>\n",
       "      <th></th>\n",
       "      <th></th>\n",
       "    </tr>\n",
       "  </thead>\n",
       "  <tbody>\n",
       "    <tr>\n",
       "      <th>0</th>\n",
       "      <td>72</td>\n",
       "      <td>3</td>\n",
       "    </tr>\n",
       "    <tr>\n",
       "      <th>1</th>\n",
       "      <td>5</td>\n",
       "      <td>20</td>\n",
       "    </tr>\n",
       "  </tbody>\n",
       "</table>\n",
       "</div>"
      ],
      "text/plain": [
       "Estándar   0   1\n",
       "Test            \n",
       "0         72   3\n",
       "1          5  20"
      ]
     },
     "execution_count": 5,
     "metadata": {},
     "output_type": "execute_result"
    }
   ],
   "source": [
    "tab1 = pd.crosstab(\n",
    "    index=datos['Test'],       # las filas\n",
    "    columns=datos['Estándar'], # las columnas\n",
    ")\n",
    "tab1"
   ]
  },
  {
   "cell_type": "markdown",
   "id": "b77f9369",
   "metadata": {},
   "source": [
    "Analiza la tabla generada, ¿notas algo fuera de lugar?.\n",
    "Si observas la tabla, está invertida, en el formato:\n",
    "||Estándar de Oro negativo|Estándar de Oro positivo|\n",
    "|---|---|---|\n",
    "|Test negativo|Verdaderos negativos|Falsos negativos|\n",
    "|Test positivo|Falsos positivos|Verdaderos positivos|\n",
    "\n",
    "Esto es muy importante de entender, ya que si no lo contemplamos los cálculos pueden salir al revés.\n",
    "Para muchos cálculos en python, como el OR, no es importante el cambio, dados los valores de los encabezados y el índice, los datos están en las columnas correctas, solo es el órden de las columnas el que no está de forma habitual.\n",
    "\n",
    "Primero, veamos cómo corregirlo\n"
   ]
  },
  {
   "cell_type": "code",
   "execution_count": 7,
   "id": "2f09cf0b",
   "metadata": {},
   "outputs": [
    {
     "data": {
      "text/html": [
       "<div>\n",
       "<style scoped>\n",
       "    .dataframe tbody tr th:only-of-type {\n",
       "        vertical-align: middle;\n",
       "    }\n",
       "\n",
       "    .dataframe tbody tr th {\n",
       "        vertical-align: top;\n",
       "    }\n",
       "\n",
       "    .dataframe thead th {\n",
       "        text-align: right;\n",
       "    }\n",
       "</style>\n",
       "<table border=\"1\" class=\"dataframe\">\n",
       "  <thead>\n",
       "    <tr style=\"text-align: right;\">\n",
       "      <th>Estándar</th>\n",
       "      <th>1</th>\n",
       "      <th>0</th>\n",
       "    </tr>\n",
       "    <tr>\n",
       "      <th>Test</th>\n",
       "      <th></th>\n",
       "      <th></th>\n",
       "    </tr>\n",
       "  </thead>\n",
       "  <tbody>\n",
       "    <tr>\n",
       "      <th>1</th>\n",
       "      <td>20</td>\n",
       "      <td>5</td>\n",
       "    </tr>\n",
       "    <tr>\n",
       "      <th>0</th>\n",
       "      <td>3</td>\n",
       "      <td>72</td>\n",
       "    </tr>\n",
       "  </tbody>\n",
       "</table>\n",
       "</div>"
      ],
      "text/plain": [
       "Estándar   1   0\n",
       "Test            \n",
       "1         20   5\n",
       "0          3  72"
      ]
     },
     "execution_count": 7,
     "metadata": {},
     "output_type": "execute_result"
    }
   ],
   "source": [
    "tab2 = pd.crosstab(\n",
    "    index=datos['Test'],       # las filas\n",
    "    columns=datos['Estándar'], # las columnas\n",
    ").reindex(index=[1,0], columns=[1, 0])\n",
    "tab2"
   ]
  },
  {
   "cell_type": "markdown",
   "id": "d0ea6110",
   "metadata": {},
   "source": [
    "Lo que hicimos fue reordenar la tabla por medio del método `reindex`.\n",
    "\n",
    "Ahora bien, ¿esto importa?, para el ojo humano sí, claro, porque en el contexto científico se espera este orden, pero veamos qué pasa cuando queremos obtener datos de la tabla para realizar los cálculos.\n",
    "\n",
    "Busquemos los VP:"
   ]
  },
  {
   "cell_type": "code",
   "execution_count": 8,
   "id": "7fd89c6c",
   "metadata": {},
   "outputs": [
    {
     "data": {
      "text/plain": [
       "np.int64(20)"
      ]
     },
     "execution_count": 8,
     "metadata": {},
     "output_type": "execute_result"
    }
   ],
   "source": [
    "tab1.loc[1, 1]"
   ]
  },
  {
   "cell_type": "markdown",
   "id": "54c1be73",
   "metadata": {},
   "source": [
    "El atributo `loc` permite buscar en un dataframe un dato particular, la sintaxis es de indexación, por eso los corchetes, similar a listas y diccionarios. El primer argumento es la fila o filas y el segundo es la columna o columnas.\n",
    "\n",
    ":::{note}\n",
    "Si queremos todas las columnas a partir de la 3a para la fila 17, el código sería:\n",
    "```python\n",
    "dataframe.loc[17, 3:]\n",
    "```\n",
    ":::\n",
    "\n",
    "Eso quiere decir que buscamos la fila índice `1` en la columna `1`.\n",
    "Es decir, \"Estándar\" igual a 1 y \"Test\" igual a 1; o Verdaderos positivos, que es lo mismo.\n",
    "Por lo tanto, el código funcionará exactamente igual si utilizamos la tabulación 1 (automática) o la tabulación 2 (reindexada)."
   ]
  },
  {
   "cell_type": "code",
   "execution_count": 9,
   "id": "f3e096b4",
   "metadata": {},
   "outputs": [
    {
     "data": {
      "text/plain": [
       "np.True_"
      ]
     },
     "execution_count": 9,
     "metadata": {},
     "output_type": "execute_result"
    }
   ],
   "source": [
    "tab1.loc[1, 1] == tab2.loc[1, 1]"
   ]
  },
  {
   "cell_type": "markdown",
   "id": "24dfbbf5",
   "metadata": {},
   "source": [
    "Por lo tanto, no es necesario reindexar las tabulaciones cruzadas a menos que se busque pasar la tabla a un documento para publicación.\n",
    "\n",
    "### Extracción de datos de la tabulación\n",
    "La siguiente función toma una tabulación cruzada y extrae sus valores VP, FP, FN, VN.\n"
   ]
  },
  {
   "cell_type": "code",
   "execution_count": 16,
   "id": "aa1df08a",
   "metadata": {},
   "outputs": [
    {
     "data": {
      "text/html": [
       "<div>\n",
       "<style scoped>\n",
       "    .dataframe tbody tr th:only-of-type {\n",
       "        vertical-align: middle;\n",
       "    }\n",
       "\n",
       "    .dataframe tbody tr th {\n",
       "        vertical-align: top;\n",
       "    }\n",
       "\n",
       "    .dataframe thead th {\n",
       "        text-align: right;\n",
       "    }\n",
       "</style>\n",
       "<table border=\"1\" class=\"dataframe\">\n",
       "  <thead>\n",
       "    <tr style=\"text-align: right;\">\n",
       "      <th>Estándar</th>\n",
       "      <th>0</th>\n",
       "      <th>1</th>\n",
       "    </tr>\n",
       "    <tr>\n",
       "      <th>Test</th>\n",
       "      <th></th>\n",
       "      <th></th>\n",
       "    </tr>\n",
       "  </thead>\n",
       "  <tbody>\n",
       "    <tr>\n",
       "      <th>0</th>\n",
       "      <td>72</td>\n",
       "      <td>3</td>\n",
       "    </tr>\n",
       "    <tr>\n",
       "      <th>1</th>\n",
       "      <td>5</td>\n",
       "      <td>20</td>\n",
       "    </tr>\n",
       "  </tbody>\n",
       "</table>\n",
       "</div>"
      ],
      "text/plain": [
       "Estándar   0   1\n",
       "Test            \n",
       "0         72   3\n",
       "1          5  20"
      ]
     },
     "execution_count": 16,
     "metadata": {},
     "output_type": "execute_result"
    }
   ],
   "source": [
    "tab1"
   ]
  },
  {
   "cell_type": "code",
   "execution_count": 23,
   "id": "dc4bc865",
   "metadata": {},
   "outputs": [
    {
     "name": "stdout",
     "output_type": "stream",
     "text": [
      "función de extraer datos definida\n"
     ]
    }
   ],
   "source": [
    "def descomponer_tabulacion(tabulacion: pd.DataFrame) -> tuple[int, int, int, int]:\n",
    "    \"\"\"\n",
    "    Extrae los valores de la tabla de contingencia 2x2 para un test diagnóstico.\n",
    "\n",
    "    Asume que la tabla está organizada con:\n",
    "    - Filas: resultado del test (1 = positivo, 0 = negativo)\n",
    "    - Columnas: estándar diagnóstico (1 = enfermedad presente, 0 = enfermedad ausente)\n",
    "\n",
    "    Parámetros\n",
    "    ----------\n",
    "    tabulacion : pd.DataFrame\n",
    "        Tabla de contingencia 2x2 con los resultados del test y el estándar diagnóstico.\n",
    "\n",
    "    Retorna\n",
    "    -------\n",
    "    tuple\n",
    "        Una tupla con cuatro enteros: (VP, FP, FN, VN)\n",
    "        - VP: Verdaderos Positivos\n",
    "        - FP: Falsos Positivos\n",
    "        - FN: Falsos Negativos\n",
    "        - VN: Verdaderos Negativos\n",
    "    \"\"\"\n",
    "    vp = tabulacion.loc[1, 1] \n",
    "    fp = tabulacion.loc[1, 0] \n",
    "    fn = tabulacion.loc[0, 1] \n",
    "    vn = tabulacion.loc[0, 0]\n",
    "\n",
    "    return vp, fp, fn, vn\n",
    "# el print no es necesario, es solo para agilizar la compilación del libro\n",
    "# en producción.\n",
    "print('función de extraer datos definida')"
   ]
  },
  {
   "cell_type": "markdown",
   "id": "d31fceab",
   "metadata": {},
   "source": [
    "Veamos cómo funciona y si realmente es igual para la tabulación 1 y para la 2."
   ]
  },
  {
   "cell_type": "code",
   "execution_count": 21,
   "id": "bd5cce6d",
   "metadata": {},
   "outputs": [
    {
     "name": "stdout",
     "output_type": "stream",
     "text": [
      "(np.int64(20), np.int64(5), np.int64(3), np.int64(72))\n",
      "(np.int64(20), np.int64(5), np.int64(3), np.int64(72))\n"
     ]
    }
   ],
   "source": [
    "print(descomponer_tabulacion(tab1))\n",
    "print(descomponer_tabulacion(tab2))"
   ]
  },
  {
   "cell_type": "markdown",
   "id": "77c0df64",
   "metadata": {},
   "source": [
    "Podemos corroborar que efectivamente el resultado es el mismo, independientemente de si reindexamos o no.\n",
    "\n",
    "## Rendimiento diagnóstico\n",
    "\n",
    "Las principales métricas, o las más utilizadas, se resumen en la siguiente tabla\n",
    "\n",
    "|Métrica | Fórmula| Interpretación breve|\n",
    "|--------|:-------:|---------------------|\n",
    "|Sensibilidad | VP / (VP + FN) | Capacidad de detectar correctamente a los enfermos|\n",
    "|Especificidad | VN / (VN + FP) | Capacidad de identificar correctamente a los sanos|\n",
    "|VPP | VP / (VP + FP) | Probabilidad de que un positivo sea realmente enfermo|\n",
    "|VPN | VN / (VN + FN) | Probabilidad de que un negativo sea realmente sano|\n",
    "|LR+ | Sensibilidad / (1 - Especificidad) | Cuánto más probable es un resultado positivo en un enfermo que en un sano|\n",
    "|LR− | (1 - Sensibilidad) / Especificidad | Cuánto más probable es un resultado negativo en un enfermo que en un sano|\n",
    "\n",
    "Viendo las fórmulas y contando con los valores extraidos de la función que definimos, calcular los valores en python es trivial.\n"
   ]
  },
  {
   "cell_type": "code",
   "execution_count": 24,
   "id": "a08f7421",
   "metadata": {},
   "outputs": [
    {
     "name": "stdout",
     "output_type": "stream",
     "text": [
      "Funciones de rendimiento definidas\n"
     ]
    }
   ],
   "source": [
    "def sensibilidad(tabulacion):\n",
    "    \"\"\"\n",
    "    Calcula la sensibilidad (verdaderos positivos / total de enfermos).\n",
    "\n",
    "    Parámetro:\n",
    "    - tabulacion: DataFrame 2x2 con los resultados del test y estándar diagnóstico.\n",
    "\n",
    "    Retorna:\n",
    "    - Sensibilidad como flotante.\n",
    "    \"\"\"\n",
    "    vp, fp, fn, vn = descomponer_tabulacion(tabulacion)\n",
    "    return vp / (vp + fn)\n",
    "\n",
    "def especificidad(tabulacion):\n",
    "    \"\"\"\n",
    "    Calcula la especificidad (verdaderos negativos / total de sanos).\n",
    "    \"\"\"\n",
    "    vp, fp, fn, vn = descomponer_tabulacion(tabulacion)\n",
    "    return vn / (vn + fp)\n",
    "\n",
    "def vpp(tabulacion):\n",
    "    \"\"\"\n",
    "    Calcula el valor predictivo positivo (probabilidad de enfermedad dado test positivo).\n",
    "    \"\"\"\n",
    "    vp, fp, fn, vn = descomponer_tabulacion(tabulacion)\n",
    "    return vp / (vp + fp)\n",
    "\n",
    "def vpn(tabulacion):\n",
    "    \"\"\"\n",
    "    Calcula el valor predictivo negativo (probabilidad de no tener la enfermedad dado test negativo).\n",
    "    \"\"\"\n",
    "    vp, fp, fn, vn = descomponer_tabulacion(tabulacion)\n",
    "    return vn / (vn + fn)\n",
    "\n",
    "def verosimilitud_positiva(tabulacion):\n",
    "    \"\"\"\n",
    "    Calcula la razón de verosimilitud positiva: sensibilidad / (1 - especificidad).\n",
    "    \"\"\"\n",
    "    sens = sensibilidad(tabulacion)\n",
    "    espe = especificidad(tabulacion)\n",
    "    return sens / (1 - espe)\n",
    "\n",
    "def verosimilitud_negativa(tabulacion):\n",
    "    \"\"\"\n",
    "    Calcula la razón de verosimilitud negativa: (1 - sensibilidad) / especificidad.\n",
    "    \"\"\"\n",
    "    sens = sensibilidad(tabulacion)\n",
    "    espe = especificidad(tabulacion)\n",
    "    return (1 - sens) / espe\n",
    "\n",
    "print('Funciones de rendimiento definidas')"
   ]
  },
  {
   "cell_type": "markdown",
   "id": "17f788e1",
   "metadata": {},
   "source": [
    "Ya puedes utilizar estas fórmulas en tu código, con facilidd, sin embargo, podemos empaquetar toda la lógica en una solo función que genere una tabla de resumen con solo la tabulación."
   ]
  },
  {
   "cell_type": "code",
   "execution_count": 34,
   "id": "660ee9c1",
   "metadata": {},
   "outputs": [
    {
     "name": "stdout",
     "output_type": "stream",
     "text": [
      "Función definida\n"
     ]
    }
   ],
   "source": [
    "def rendimiento_diagnostico(tabulacion):\n",
    "    \"\"\"\n",
    "    Calcula las principales métricas de rendimiento diagnóstico y las devuelve en un DataFrame.\n",
    "\n",
    "    Cada métrica se coloca como una fila con su valor en la columna 'valor'.\n",
    "\n",
    "    Parámetro:\n",
    "    - tabulacion: DataFrame 2x2 con los resultados del test y el estándar diagnóstico.\n",
    "\n",
    "    Retorna:\n",
    "    - DataFrame con las métricas en el índice y sus valores en la columna 'valor'.\n",
    "    \"\"\"\n",
    "    # creamos primero un diccionario con los resultados.\n",
    "    valores = {\n",
    "        'Sensibilidad': sensibilidad(tabulacion),\n",
    "        'Especificidad': especificidad(tabulacion),\n",
    "        'VPP': vpp(tabulacion),\n",
    "        'VPN': vpn(tabulacion),\n",
    "        'Verosimilitud positiva': verosimilitud_positiva(tabulacion),\n",
    "        'Verosimilitud negativa': verosimilitud_negativa(tabulacion),\n",
    "    }\n",
    "    # convertimos el resultado en un dataframe\n",
    "    resultado = (\n",
    "        pd.DataFrame  # es un dataframe\n",
    "        .from_dict(   # creado desde un diccionario (from_dict)\n",
    "            valores,  # pasamos el diccionario de valores\n",
    "            orient='index',   # esto hace que las llaves se pasen al índice\n",
    "            columns=['Valor'] # esto define el nombre de la columna.\n",
    "        )\n",
    "        .round(3) # redondeamos 3 puntos decimales para que sea legible.\n",
    "    )\n",
    "    return resultado\n",
    "\n",
    "print('Función definida')"
   ]
  },
  {
   "cell_type": "markdown",
   "id": "298c34c0",
   "metadata": {},
   "source": [
    "Veamos cómo funciona con nuestras tabulaciones"
   ]
  },
  {
   "cell_type": "code",
   "execution_count": 35,
   "id": "81b11252",
   "metadata": {},
   "outputs": [
    {
     "data": {
      "text/html": [
       "<div>\n",
       "<style scoped>\n",
       "    .dataframe tbody tr th:only-of-type {\n",
       "        vertical-align: middle;\n",
       "    }\n",
       "\n",
       "    .dataframe tbody tr th {\n",
       "        vertical-align: top;\n",
       "    }\n",
       "\n",
       "    .dataframe thead th {\n",
       "        text-align: right;\n",
       "    }\n",
       "</style>\n",
       "<table border=\"1\" class=\"dataframe\">\n",
       "  <thead>\n",
       "    <tr style=\"text-align: right;\">\n",
       "      <th></th>\n",
       "      <th>Valor</th>\n",
       "    </tr>\n",
       "  </thead>\n",
       "  <tbody>\n",
       "    <tr>\n",
       "      <th>Sensibilidad</th>\n",
       "      <td>0.870</td>\n",
       "    </tr>\n",
       "    <tr>\n",
       "      <th>Especificidad</th>\n",
       "      <td>0.935</td>\n",
       "    </tr>\n",
       "    <tr>\n",
       "      <th>VPP</th>\n",
       "      <td>0.800</td>\n",
       "    </tr>\n",
       "    <tr>\n",
       "      <th>VPN</th>\n",
       "      <td>0.960</td>\n",
       "    </tr>\n",
       "    <tr>\n",
       "      <th>Verosimilitud positiva</th>\n",
       "      <td>13.391</td>\n",
       "    </tr>\n",
       "    <tr>\n",
       "      <th>Verosimilitud negativa</th>\n",
       "      <td>0.139</td>\n",
       "    </tr>\n",
       "  </tbody>\n",
       "</table>\n",
       "</div>"
      ],
      "text/plain": [
       "                         Valor\n",
       "Sensibilidad             0.870\n",
       "Especificidad            0.935\n",
       "VPP                      0.800\n",
       "VPN                      0.960\n",
       "Verosimilitud positiva  13.391\n",
       "Verosimilitud negativa   0.139"
      ]
     },
     "execution_count": 35,
     "metadata": {},
     "output_type": "execute_result"
    }
   ],
   "source": [
    "rendimiento_diagnostico(tab1)"
   ]
  },
  {
   "cell_type": "markdown",
   "id": "94fcbacc",
   "metadata": {},
   "source": [
    "## Nota sobre los datos\n",
    "\n",
    "La base de datos utilizada en esta libreta fue generada con el siguiente código:\n",
    "\n",
    "```python\n",
    "import pandas as pd\n",
    "import scipy.stats as stats\n",
    "n = 100     # tamaño de muestra\n",
    "prev = 0.15 # prevalencia\n",
    "sens = 0.87 # sensibilidad\n",
    "esp = 0.91  # especificidad\n",
    "# El gold standar define la presencia de la enfermedad con 100% de precisión\n",
    "# por lo que utilizamos la distribución bernoulli\n",
    "gold = stats.bernoulli.rvs(prev, size=n)\n",
    "test = [\n",
    "    stats.bernoulli.rvs(sens) # en caso positivo usamos la sensibilidad\n",
    "    if subj == 1 else # comparación si el sujeto fue positivo\n",
    "    stats.bernoulli.rvs(1-esp)# en caso negativo usamos 1 - especificidad\n",
    "    for subj in gold # por cada sujeto en \"gold\" (estándar de oro)\n",
    "]\n",
    "data = pd.DataFrame({'Estándar': gold, 'Test': test}) # convertimos ambas variables a un dataset\n",
    "data.to_csv('datos_dx.csv', index=False)\n",
    "```\n",
    "\n",
    "Puedes generar tus propios datos imulados con estos datos.\n",
    "\n",
    "El código usa una comprension de lista para generar la variable `test`, puedes leer al respecto [aquí](otras-lecciones\\python-intermedio\\comprensiones.md)."
   ]
  }
 ],
 "metadata": {
  "kernelspec": {
   "display_name": "curso-python",
   "language": "python",
   "name": "python3"
  },
  "language_info": {
   "codemirror_mode": {
    "name": "ipython",
    "version": 3
   },
   "file_extension": ".py",
   "mimetype": "text/x-python",
   "name": "python",
   "nbconvert_exporter": "python",
   "pygments_lexer": "ipython3",
   "version": "3.13.5"
  }
 },
 "nbformat": 4,
 "nbformat_minor": 5
}

{
 "cells": [
  {
   "cell_type": "markdown",
   "id": "817f310b",
   "metadata": {},
   "source": [
    "# Medidas de rendimiento diangóstico\n",
    "\n",
    "En esta libreta veremos cómo calcular algunas métricas claves de rendimiento diagnóstico como la `sensiblidad` y la `especificidad` entre otras.\n",
    "\n",
    ":::{tip}\n",
    "Podrás utilizar las funciones que utilizaremos en esta unidad en tus propios análisis ya que el objetivo es generar código reutilizable.\n",
    ":::\n",
    "\n",
    "Antes de comenzar, te recomiendo que revises el tema en [statpearls](https://www.ncbi.nlm.nih.gov/books/NBK557491/).\n",
    "\n",
    "## Librerías y datos\n"
   ]
  },
  {
   "cell_type": "code",
   "execution_count": 1,
   "id": "6d429188",
   "metadata": {},
   "outputs": [],
   "source": [
    "import pandas as pd\n",
    "import scipy.stats as stats\n"
   ]
  },
  {
   "cell_type": "markdown",
   "id": "1cf596c2",
   "metadata": {},
   "source": [
    "## Tablas de contingencia\n",
    "\n",
    "En general, para todos los cálculos que realizaremos, asumimos que contamos con datos en una matriz de confusión de 1 grado de libertad, es decir, 2x2 y se estructura de la siguiente manera:\n",
    "\n",
    "||Estándar de Oro positivo|Estándar de Oro negativo|\n",
    "|---|---|---|\n",
    "|Test positivo|Verdaderos positivos|Falsos positivos|\n",
    "|Test negativo|Falsos negativos|Verdaderos negativos|\n",
    "\n",
    "Veamos cómo generar esta tabla en python"
   ]
  },
  {
   "cell_type": "code",
   "execution_count": 14,
   "id": "e5433679",
   "metadata": {},
   "outputs": [
    {
     "name": "stdout",
     "output_type": "stream",
     "text": [
      "10 21\n"
     ]
    },
    {
     "data": {
      "text/plain": [
       "Estándar  Test\n",
       "0         0       76\n",
       "          1       14\n",
       "1         1        7\n",
       "          0        3\n",
       "Name: count, dtype: int64"
      ]
     },
     "execution_count": 14,
     "metadata": {},
     "output_type": "execute_result"
    }
   ],
   "source": [
    "n = 100\n",
    "prev = 0.15\n",
    "sens = 0.87\n",
    "esp = 0.91\n",
    "gold = stats.bernoulli.rvs(prev, size=n)\n",
    "test = [\n",
    "    stats.bernoulli.rvs(sens)\n",
    "    if subj == 1 else\n",
    "    stats.bernoulli.rvs(1-esp)\n",
    "    for subj in gold\n",
    "]\n",
    "data = pd.DataFrame({'Estándar': gold, 'Test': test})\n",
    "print(sum(gold), sum(test))\n",
    "data.value_counts()\n"
   ]
  }
 ],
 "metadata": {
  "kernelspec": {
   "display_name": "curso-python",
   "language": "python",
   "name": "python3"
  },
  "language_info": {
   "codemirror_mode": {
    "name": "ipython",
    "version": 3
   },
   "file_extension": ".py",
   "mimetype": "text/x-python",
   "name": "python",
   "nbconvert_exporter": "python",
   "pygments_lexer": "ipython3",
   "version": "3.13.5"
  }
 },
 "nbformat": 4,
 "nbformat_minor": 5
}

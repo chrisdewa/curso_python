{
 "cells": [
  {
   "cell_type": "markdown",
   "id": "7b3eff24",
   "metadata": {},
   "source": [
    "# Medidas de asociación y correlación\n",
    "\n",
    "En esta libreta analizaremos diferentes medidas de asociación para diferentes conjuntos de datos, tanto numéricos como categóricos.\n",
    "\n",
    "We'll consider the following flowchart\n",
    "```{mermaid}\n",
    "flowchart TD\n",
    "    A[Dos variables] --> B{¿Tipo de variables?}\n",
    "\n",
    "    B --> C[Ambas categóricas]\n",
    "    C --> D{¿Frecuencias esperadas ≥ 5?}\n",
    "    D -- Sí --> F[χ² de Pearson]\n",
    "    D -- No --> G[Test exacto de Fisher]\n",
    "\n",
    "    F --> Cef[Medida de efecto]\n",
    "    G --> Cef\n",
    "\n",
    "    Cef --> OR[Odds Ratio]\n",
    "    Cef --> V[V de Cramér]\n",
    "    Cef --> Phi[Coeficiente Phi]\n",
    "\n",
    "    B --> H[Una categórica, una numérica]\n",
    "    H --> I[Correlación biserial puntual o Rango-Biserial]\n",
    "\n",
    "    B --> J[Ambas numéricas]\n",
    "    J --> K{¿Supuestos paramétricos?}\n",
    "    K -- No --> L[Rho de Spearman]\n",
    "    K -- No --> M[Tau de Kendall]\n",
    "    K -- Sí --> N[r de Pearson]\n",
    "\n",
    "```\n",
    "\n",
    "Pese a que este tipo de diagramas son muy limitados, lo uso aquí solo con fines de resumen, no de guía. Siempre decide la prueba adecuada con base en tu contexto científico.\n",
    "\n",
    "## Librerías y datos"
   ]
  }
 ],
 "metadata": {
  "language_info": {
   "name": "python"
  }
 },
 "nbformat": 4,
 "nbformat_minor": 5
}

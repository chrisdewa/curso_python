{
 "cells": [
  {
   "cell_type": "markdown",
   "id": "7b3eff24",
   "metadata": {},
   "source": [
    "# Tema 21: Medidas de asociación y correlación\n",
    "\n",
    "En esta libreta analizaremos diferentes medidas de asociación para diferentes conjuntos de datos, tanto numéricos como categóricos.\n",
    "\n",
    "We'll consider the following flowchart\n",
    "```{mermaid}\n",
    "flowchart TD\n",
    "    A[Dos variables] --> B{¿Tipo?}\n",
    "\n",
    "    B --> C[Ambas categóricas]\n",
    "    C --> D{¿Frecuencias esperadas ≥ 5?}\n",
    "    D -- Sí --> F[χ² de Pearson]\n",
    "    D -- No --> G[Test exacto de Fisher]\n",
    "\n",
    "    F --> Cef[Medida de efecto]\n",
    "    G --> Cef\n",
    "\n",
    "    Cef --> OR[Odds Ratio]\n",
    "    Cef --> V[V de Cramer]\n",
    "    Cef --> Phi[Coeficiente Phi]\n",
    "\n",
    "    B --> H[Una y Una]\n",
    "    H --> I[Correlación Rango-Biserial]\n",
    "\n",
    "    B --> J[Ambas numéricas]\n",
    "    J --> K{¿Supuestos paramétricos?}\n",
    "    K -- No --> L[Rho de Spearman]\n",
    "    K -- No --> M[Tau de Kendall]\n",
    "    K -- Sí --> N[r de Pearson]\n",
    "\n",
    "```\n",
    "\n",
    "Pese a que este tipo de diagramas son muy limitados, lo uso aquí solo con fines de resumen, no de guía. Siempre decide la prueba adecuada con base en tu contexto científico.\n",
    "\n",
    "## Librerías y datos\n",
    "Utilizaremos datos de un dataset público que puedes encontrar [aquí](https://www.kaggle.com/datasets/pritsheta/heart-attack/data).\n",
    "La fichas técnica del dataset contiene la siguiente información:\n",
    "\n",
    " 1. Age: Age (in years) \n",
    " 2. Sex: gender (1 = male; 0 = female) \n",
    " 3. ChestPain: Chest Pain type .\n",
    "    - typical angina (all criteria present) \n",
    "    - atypical angina (two of three criteria satisfied)\n",
    "    - non-anginal pain (less than one criteria satisfied)\n",
    "    - asymptomatic (none of the criteria are satisfied) \n",
    "4. Restbps: Resting Blood pressure (in mmHg, upon admission to the hospital) \n",
    "5. Chol: serum cholesterol in mg/dL \n",
    "6. Fbs: fasting blood sugar > 120 mg/dL (likely to be diabetic) 1 = true; 0 = false \n",
    "7. RestECG: Resting electrocardiogram results \n",
    "    - Value 0: normal \n",
    "    - Value 1: having ST-T wave abnormality (T wave inversions and/or ST elevation or depression of > 0.05 mV) \n",
    "    - Value 2: showing probable or definite left ventricular hypertrophy by Estes' criteria \n",
    "8. MaxHR: Greatest number of beats per minute your heart can possibly reach during all-out strenuous exercise. \n",
    "9. Exang: exercise induced angina (1 = yes; 0 = no) \n",
    "10. Oldpeak: ST depression induced by exercise relative to rest (in mm, achieved by subtracting the lowest ST segment points during exercise and rest) \n",
    "11. Slope: the slope of the peak exercise ST segment, ST-T abnormalities are considered to be a crucial indicator for identifying presence of ischaemia \n",
    "    - Value 1: upsloping \n",
    "    - Value 2: flat \n",
    "    - Value 3: downsloping \n",
    "12. Ca: number of major vessels (0-3) colored by fluoroscopy. Major cardial vessels are as goes: aorta, superior vena cava, inferior vena cava, pulmonary artery (oxygen-poor blood --> lungs), pulmonary veins (oxygen-rich blood --> heart), and coronary arteries (supplies blood to heart tissue). \n",
    "13. AHD: 0 = normal; 1 = fixed defect (heart tissue can't absorb thallium both under stress and in rest); 2 = reversible defect (heart tissue is unable to absorb thallium only under the exercise portion of the test) \n",
    "14. AHD: 0 = no disease, 1 = disease\n"
   ]
  },
  {
   "cell_type": "code",
   "execution_count": 43,
   "id": "f27190f4",
   "metadata": {},
   "outputs": [
    {
     "data": {
      "text/html": [
       "<div>\n",
       "<style scoped>\n",
       "    .dataframe tbody tr th:only-of-type {\n",
       "        vertical-align: middle;\n",
       "    }\n",
       "\n",
       "    .dataframe tbody tr th {\n",
       "        vertical-align: top;\n",
       "    }\n",
       "\n",
       "    .dataframe thead th {\n",
       "        text-align: right;\n",
       "    }\n",
       "</style>\n",
       "<table border=\"1\" class=\"dataframe\">\n",
       "  <thead>\n",
       "    <tr style=\"text-align: right;\">\n",
       "      <th></th>\n",
       "      <th>age</th>\n",
       "      <th>sex</th>\n",
       "      <th>cp</th>\n",
       "      <th>trestbps</th>\n",
       "      <th>chol</th>\n",
       "      <th>fbs</th>\n",
       "      <th>restecg</th>\n",
       "      <th>thalach</th>\n",
       "      <th>exang</th>\n",
       "      <th>oldpeak</th>\n",
       "      <th>slope</th>\n",
       "      <th>ca</th>\n",
       "      <th>thal</th>\n",
       "      <th>target</th>\n",
       "    </tr>\n",
       "  </thead>\n",
       "  <tbody>\n",
       "    <tr>\n",
       "      <th>0</th>\n",
       "      <td>63</td>\n",
       "      <td>1</td>\n",
       "      <td>3</td>\n",
       "      <td>145</td>\n",
       "      <td>233</td>\n",
       "      <td>1</td>\n",
       "      <td>0</td>\n",
       "      <td>150</td>\n",
       "      <td>0</td>\n",
       "      <td>2.3</td>\n",
       "      <td>0</td>\n",
       "      <td>0</td>\n",
       "      <td>1</td>\n",
       "      <td>1</td>\n",
       "    </tr>\n",
       "    <tr>\n",
       "      <th>1</th>\n",
       "      <td>37</td>\n",
       "      <td>1</td>\n",
       "      <td>2</td>\n",
       "      <td>130</td>\n",
       "      <td>250</td>\n",
       "      <td>0</td>\n",
       "      <td>1</td>\n",
       "      <td>187</td>\n",
       "      <td>0</td>\n",
       "      <td>3.5</td>\n",
       "      <td>0</td>\n",
       "      <td>0</td>\n",
       "      <td>2</td>\n",
       "      <td>1</td>\n",
       "    </tr>\n",
       "    <tr>\n",
       "      <th>2</th>\n",
       "      <td>41</td>\n",
       "      <td>0</td>\n",
       "      <td>1</td>\n",
       "      <td>130</td>\n",
       "      <td>204</td>\n",
       "      <td>0</td>\n",
       "      <td>0</td>\n",
       "      <td>172</td>\n",
       "      <td>0</td>\n",
       "      <td>1.4</td>\n",
       "      <td>2</td>\n",
       "      <td>0</td>\n",
       "      <td>2</td>\n",
       "      <td>1</td>\n",
       "    </tr>\n",
       "    <tr>\n",
       "      <th>3</th>\n",
       "      <td>56</td>\n",
       "      <td>1</td>\n",
       "      <td>1</td>\n",
       "      <td>120</td>\n",
       "      <td>236</td>\n",
       "      <td>0</td>\n",
       "      <td>1</td>\n",
       "      <td>178</td>\n",
       "      <td>0</td>\n",
       "      <td>0.8</td>\n",
       "      <td>2</td>\n",
       "      <td>0</td>\n",
       "      <td>2</td>\n",
       "      <td>1</td>\n",
       "    </tr>\n",
       "    <tr>\n",
       "      <th>4</th>\n",
       "      <td>57</td>\n",
       "      <td>0</td>\n",
       "      <td>0</td>\n",
       "      <td>120</td>\n",
       "      <td>354</td>\n",
       "      <td>0</td>\n",
       "      <td>1</td>\n",
       "      <td>163</td>\n",
       "      <td>1</td>\n",
       "      <td>0.6</td>\n",
       "      <td>2</td>\n",
       "      <td>0</td>\n",
       "      <td>2</td>\n",
       "      <td>1</td>\n",
       "    </tr>\n",
       "  </tbody>\n",
       "</table>\n",
       "</div>"
      ],
      "text/plain": [
       "   age  sex  cp  trestbps  chol  fbs  restecg  thalach  exang  oldpeak  slope  \\\n",
       "0   63    1   3       145   233    1        0      150      0      2.3      0   \n",
       "1   37    1   2       130   250    0        1      187      0      3.5      0   \n",
       "2   41    0   1       130   204    0        0      172      0      1.4      2   \n",
       "3   56    1   1       120   236    0        1      178      0      0.8      2   \n",
       "4   57    0   0       120   354    0        1      163      1      0.6      2   \n",
       "\n",
       "   ca  thal  target  \n",
       "0   0     1       1  \n",
       "1   0     2       1  \n",
       "2   0     2       1  \n",
       "3   0     2       1  \n",
       "4   0     2       1  "
      ]
     },
     "execution_count": 43,
     "metadata": {},
     "output_type": "execute_result"
    }
   ],
   "source": [
    "import pandas as pd\n",
    "import scipy.stats as stats\n",
    "import seaborn as sns\n",
    "import matplotlib.pyplot as plt\n",
    "\n",
    "url = 'https://raw.githubusercontent.com/chrisdewa/curso_python/refs/heads/main/bases/Heart_Attack_Data.csv'\n",
    "df = pd.read_csv(url)\n",
    "df.head()\n"
   ]
  },
  {
   "cell_type": "markdown",
   "id": "f8ad2853",
   "metadata": {},
   "source": [
    "Ahora que tenemos los datos, pasemos al análisis.\n",
    "\n",
    "## Dos variables categóricas\n",
    "\n",
    "Utilizaremos las variables `sex` y `target`.\n",
    "Primero obtengamos la tabla cruzada como se hizo en la lección previa."
   ]
  },
  {
   "cell_type": "code",
   "execution_count": 4,
   "id": "8fd4bf86",
   "metadata": {},
   "outputs": [
    {
     "data": {
      "text/html": [
       "<div>\n",
       "<style scoped>\n",
       "    .dataframe tbody tr th:only-of-type {\n",
       "        vertical-align: middle;\n",
       "    }\n",
       "\n",
       "    .dataframe tbody tr th {\n",
       "        vertical-align: top;\n",
       "    }\n",
       "\n",
       "    .dataframe thead th {\n",
       "        text-align: right;\n",
       "    }\n",
       "</style>\n",
       "<table border=\"1\" class=\"dataframe\">\n",
       "  <thead>\n",
       "    <tr style=\"text-align: right;\">\n",
       "      <th>target</th>\n",
       "      <th>0</th>\n",
       "      <th>1</th>\n",
       "    </tr>\n",
       "    <tr>\n",
       "      <th>sex</th>\n",
       "      <th></th>\n",
       "      <th></th>\n",
       "    </tr>\n",
       "  </thead>\n",
       "  <tbody>\n",
       "    <tr>\n",
       "      <th>0</th>\n",
       "      <td>24</td>\n",
       "      <td>72</td>\n",
       "    </tr>\n",
       "    <tr>\n",
       "      <th>1</th>\n",
       "      <td>114</td>\n",
       "      <td>93</td>\n",
       "    </tr>\n",
       "  </tbody>\n",
       "</table>\n",
       "</div>"
      ],
      "text/plain": [
       "target    0   1\n",
       "sex            \n",
       "0        24  72\n",
       "1       114  93"
      ]
     },
     "execution_count": 4,
     "metadata": {},
     "output_type": "execute_result"
    }
   ],
   "source": [
    "tab = pd.crosstab(df['sex'], df['target'])\n",
    "tab"
   ]
  },
  {
   "cell_type": "code",
   "execution_count": 5,
   "id": "5bc2b8e1",
   "metadata": {},
   "outputs": [
    {
     "data": {
      "text/plain": [
       "(2, 2)"
      ]
     },
     "execution_count": 5,
     "metadata": {},
     "output_type": "execute_result"
    }
   ],
   "source": [
    "tab.shape"
   ]
  },
  {
   "cell_type": "markdown",
   "id": "ae78ac97",
   "metadata": {},
   "source": [
    "Crearemos una función que realizará la chi cuadrada, obendrá el OR y su intervalo de confianza e imprimirá en la consola el resultado, además, verificará el supuesto de las frecuencias esperadas."
   ]
  },
  {
   "cell_type": "code",
   "execution_count": 23,
   "id": "6bd6a965",
   "metadata": {},
   "outputs": [],
   "source": [
    "def chi_cuadrada(tab):\n",
    "    \"\"\"Calcula la chi2 y general un reporte de la tabla 2x2\"\"\"\n",
    "    # verificar tipo de tabla\n",
    "    if tab.shape != (2,2):\n",
    "        raise ValueError('La tabla debe ser 2x2')\n",
    "    chi = stats.chi2_contingency(tab)\n",
    "    OR = stats.contingency.odds_ratio(tab, kind='sample')\n",
    "    low, high = OR.confidence_interval()\n",
    "    cumple_frec = bool(v>5 for v in chi.expected_freq.flatten())\n",
    "    print(f'Resutado de Chi cuadrada: p={chi.pvalue:.1e}, OR={OR.statistic:.2f} (IC 95% {low:.2f} - {high:.2f})')\n",
    "\n",
    "    "
   ]
  },
  {
   "cell_type": "code",
   "execution_count": 24,
   "id": "381466ea",
   "metadata": {},
   "outputs": [
    {
     "name": "stdout",
     "output_type": "stream",
     "text": [
      "Resutado de Chi cuadrada: p=1.9e-06, OR=0.27 (IC 95% 0.16 - 0.47)\n"
     ]
    }
   ],
   "source": [
    "chi_cuadrada(tab)"
   ]
  },
  {
   "cell_type": "markdown",
   "id": "cb1b4181",
   "metadata": {},
   "source": [
    "Podemos ver que existe una asociación significativa entre la presencia de la enfermedad y el sexo. Como en la tabla está codificado el sexo masculino como 1, curiosamente en estos datos, ser hombre es protector para la enfermedad cardiaca aguda. Además, podemos ver que la p es muy significativa, al igual que el odds ratio. \n",
    "\n",
    "### Ejercio\n",
    "1. Revisa la documentación de las funciones `chi2_contingecy` y `odds_ratio`. \n",
    "2. Ajusta la función para que acepte argumentos adicionales, de forma que podamos calcular intervalos de confianza para diferentes niveles de alfa.\n",
    "3. Ajusta la función para el parámetro \"kind\" de la función `odds_ratio`, pero primero asegúrate de entender qué hace.\n",
    "4. Implementa una función diferente que funcione con la exacta de fisher.\n",
    "\n",
    "### Otros tamaños del efecto\n",
    "Veremos cómo calcular la V de Cramer y el coeficiente phi."
   ]
  },
  {
   "cell_type": "code",
   "execution_count": 26,
   "id": "5088d215",
   "metadata": {},
   "outputs": [
    {
     "name": "stdout",
     "output_type": "stream",
     "text": [
      "V de Cramer: 0.280936575501767, Phi: -0.28093657550176704\n"
     ]
    }
   ],
   "source": [
    "v = stats.contingency.association(tab, method='cramer')\n",
    "phi = stats.pearsonr(df['sex'], df['target'])\n",
    "print(f'V de Cramer: {v}, Phi: {phi.statistic}')"
   ]
  },
  {
   "cell_type": "markdown",
   "id": "d9001ee5",
   "metadata": {},
   "source": [
    "### Matriz de asociación\n",
    "Ahora, podemos utilizar estas métricas, ya que no son exclusivas para datos 2x2, para generar matrices de asociación. Revisando los datos, las variables categóricas son: sex, cp, fbs, restecg, exang, splope, thal, target.\n",
    "\n",
    "Primero crearemos una función que tome A y B, como series de un `dataframe` y  genere una tabulación cruzada y calcule la V de Cramer."
   ]
  },
  {
   "cell_type": "code",
   "execution_count": 29,
   "id": "8f5aaf6a",
   "metadata": {},
   "outputs": [
    {
     "data": {
      "text/plain": [
       "0.280936575501767"
      ]
     },
     "execution_count": 29,
     "metadata": {},
     "output_type": "execute_result"
    }
   ],
   "source": [
    "def cramer_v(a, b):\n",
    "    tab = pd.crosstab(a, b)\n",
    "    v = stats.contingency.association(tab)\n",
    "    return v\n",
    "\n",
    "cramer_v(df['sex'], df['target'])"
   ]
  },
  {
   "cell_type": "markdown",
   "id": "85ea3c9c",
   "metadata": {},
   "source": [
    "Ahora utilizaremos la función para generar la matriz de asociación."
   ]
  },
  {
   "cell_type": "code",
   "execution_count": 41,
   "id": "80aba44a",
   "metadata": {},
   "outputs": [
    {
     "data": {
      "text/html": [
       "<div>\n",
       "<style scoped>\n",
       "    .dataframe tbody tr th:only-of-type {\n",
       "        vertical-align: middle;\n",
       "    }\n",
       "\n",
       "    .dataframe tbody tr th {\n",
       "        vertical-align: top;\n",
       "    }\n",
       "\n",
       "    .dataframe thead th {\n",
       "        text-align: right;\n",
       "    }\n",
       "</style>\n",
       "<table border=\"1\" class=\"dataframe\">\n",
       "  <thead>\n",
       "    <tr style=\"text-align: right;\">\n",
       "      <th></th>\n",
       "      <th>sex</th>\n",
       "      <th>cp</th>\n",
       "      <th>fbs</th>\n",
       "      <th>restecg</th>\n",
       "      <th>exang</th>\n",
       "      <th>slope</th>\n",
       "      <th>thal</th>\n",
       "      <th>target</th>\n",
       "    </tr>\n",
       "  </thead>\n",
       "  <tbody>\n",
       "    <tr>\n",
       "      <th>sex</th>\n",
       "      <td>1.000000</td>\n",
       "      <td>0.150050</td>\n",
       "      <td>0.045032</td>\n",
       "      <td>0.110464</td>\n",
       "      <td>0.141664</td>\n",
       "      <td>0.046257</td>\n",
       "      <td>0.383770</td>\n",
       "      <td>0.280937</td>\n",
       "    </tr>\n",
       "    <tr>\n",
       "      <th>cp</th>\n",
       "      <td>0.150050</td>\n",
       "      <td>1.000000</td>\n",
       "      <td>0.113242</td>\n",
       "      <td>0.126437</td>\n",
       "      <td>0.471457</td>\n",
       "      <td>0.213981</td>\n",
       "      <td>0.214676</td>\n",
       "      <td>0.519223</td>\n",
       "    </tr>\n",
       "    <tr>\n",
       "      <th>fbs</th>\n",
       "      <td>0.045032</td>\n",
       "      <td>0.113242</td>\n",
       "      <td>1.000000</td>\n",
       "      <td>0.087068</td>\n",
       "      <td>0.025665</td>\n",
       "      <td>0.105514</td>\n",
       "      <td>0.135242</td>\n",
       "      <td>0.028046</td>\n",
       "    </tr>\n",
       "    <tr>\n",
       "      <th>restecg</th>\n",
       "      <td>0.110464</td>\n",
       "      <td>0.126437</td>\n",
       "      <td>0.087068</td>\n",
       "      <td>1.000000</td>\n",
       "      <td>0.099106</td>\n",
       "      <td>0.134401</td>\n",
       "      <td>0.076283</td>\n",
       "      <td>0.181878</td>\n",
       "    </tr>\n",
       "    <tr>\n",
       "      <th>exang</th>\n",
       "      <td>0.141664</td>\n",
       "      <td>0.471457</td>\n",
       "      <td>0.025665</td>\n",
       "      <td>0.099106</td>\n",
       "      <td>1.000000</td>\n",
       "      <td>0.287995</td>\n",
       "      <td>0.329812</td>\n",
       "      <td>0.436757</td>\n",
       "    </tr>\n",
       "    <tr>\n",
       "      <th>slope</th>\n",
       "      <td>0.046257</td>\n",
       "      <td>0.213981</td>\n",
       "      <td>0.105514</td>\n",
       "      <td>0.134401</td>\n",
       "      <td>0.287995</td>\n",
       "      <td>1.000000</td>\n",
       "      <td>0.241295</td>\n",
       "      <td>0.395965</td>\n",
       "    </tr>\n",
       "    <tr>\n",
       "      <th>thal</th>\n",
       "      <td>0.383770</td>\n",
       "      <td>0.214676</td>\n",
       "      <td>0.135242</td>\n",
       "      <td>0.076283</td>\n",
       "      <td>0.329812</td>\n",
       "      <td>0.241295</td>\n",
       "      <td>1.000000</td>\n",
       "      <td>0.530594</td>\n",
       "    </tr>\n",
       "    <tr>\n",
       "      <th>target</th>\n",
       "      <td>0.280937</td>\n",
       "      <td>0.519223</td>\n",
       "      <td>0.028046</td>\n",
       "      <td>0.181878</td>\n",
       "      <td>0.436757</td>\n",
       "      <td>0.395965</td>\n",
       "      <td>0.530594</td>\n",
       "      <td>1.000000</td>\n",
       "    </tr>\n",
       "  </tbody>\n",
       "</table>\n",
       "</div>"
      ],
      "text/plain": [
       "              sex        cp       fbs   restecg     exang     slope      thal  \\\n",
       "sex      1.000000  0.150050  0.045032  0.110464  0.141664  0.046257  0.383770   \n",
       "cp       0.150050  1.000000  0.113242  0.126437  0.471457  0.213981  0.214676   \n",
       "fbs      0.045032  0.113242  1.000000  0.087068  0.025665  0.105514  0.135242   \n",
       "restecg  0.110464  0.126437  0.087068  1.000000  0.099106  0.134401  0.076283   \n",
       "exang    0.141664  0.471457  0.025665  0.099106  1.000000  0.287995  0.329812   \n",
       "slope    0.046257  0.213981  0.105514  0.134401  0.287995  1.000000  0.241295   \n",
       "thal     0.383770  0.214676  0.135242  0.076283  0.329812  0.241295  1.000000   \n",
       "target   0.280937  0.519223  0.028046  0.181878  0.436757  0.395965  0.530594   \n",
       "\n",
       "           target  \n",
       "sex      0.280937  \n",
       "cp       0.519223  \n",
       "fbs      0.028046  \n",
       "restecg  0.181878  \n",
       "exang    0.436757  \n",
       "slope    0.395965  \n",
       "thal     0.530594  \n",
       "target   1.000000  "
      ]
     },
     "execution_count": 41,
     "metadata": {},
     "output_type": "execute_result"
    }
   ],
   "source": [
    "categoricas = ['sex', 'cp', 'fbs', 'restecg', 'exang', 'slope', 'thal', 'target']\n",
    "# utilizaremos la lista para filtrar el dataset y solo seccionar esas columnas.\n",
    "matriz_asoc = df[categoricas].corr(cramer_v)\n",
    "matriz_asoc"
   ]
  },
  {
   "cell_type": "markdown",
   "id": "e98d7bf0",
   "metadata": {},
   "source": [
    "Podemos ahora generar un mapa de calor"
   ]
  },
  {
   "cell_type": "code",
   "execution_count": 44,
   "id": "4b82b76b",
   "metadata": {},
   "outputs": [
    {
     "data": {
      "text/plain": [
       "Text(0.5, 1.0, 'Asociación de categóricas: V de Cramer')"
      ]
     },
     "execution_count": 44,
     "metadata": {},
     "output_type": "execute_result"
    },
    {
     "data": {
      "image/png": "[encoded data removed]",
      "text/plain": [
       "<Figure size 640x480 with 2 Axes>"
      ]
     },
     "metadata": {},
     "output_type": "display_data"
    }
   ],
   "source": [
    "sns.heatmap(\n",
    "    matriz_asoc.round(3), # para mostrar solo 3 decimales\n",
    "    annot=True,\n",
    "    cmap='magma_r'\n",
    ")\n",
    "plt.title('Asociación de categóricas: V de Cramer')"
   ]
  },
  {
   "cell_type": "markdown",
   "id": "e727b2b1",
   "metadata": {},
   "source": [
    "## Una categórica y una numérica\n",
    "\n",
    "Para analizar la asociación podemos utilizar la correlación punto biserial, que está implementada directamente en scipy.\n",
    "Utilicemos `target` y `age`."
   ]
  },
  {
   "cell_type": "code",
   "execution_count": 45,
   "id": "abafcd28",
   "metadata": {},
   "outputs": [
    {
     "data": {
      "text/plain": [
       "SignificanceResult(statistic=np.float64(-0.22543871587483735), pvalue=np.float64(7.524801303442137e-05))"
      ]
     },
     "execution_count": 45,
     "metadata": {},
     "output_type": "execute_result"
    }
   ],
   "source": [
    "stats.pointbiserialr(df['target'], df['age']) # x debe ser cat, y num\n"
   ]
  },
  {
   "cell_type": "markdown",
   "id": "3b1d71b9",
   "metadata": {},
   "source": [
    "## Dos numéricas\n",
    "Ahora veamos cómo ejecutar las diferentes correlaciones.\n",
    "\n",
    "### Pearson"
   ]
  },
  {
   "cell_type": "code",
   "execution_count": 47,
   "id": "7fedc92c",
   "metadata": {},
   "outputs": [
    {
     "data": {
      "text/plain": [
       "PearsonRResult(statistic=np.float64(0.12317420653239072), pvalue=np.float64(0.03208205361087139))"
      ]
     },
     "execution_count": 47,
     "metadata": {},
     "output_type": "execute_result"
    }
   ],
   "source": [
    "stats.pearsonr(df['trestbps'], df['chol'])"
   ]
  },
  {
   "cell_type": "markdown",
   "id": "2c6f72e3",
   "metadata": {},
   "source": [
    "### Spearman"
   ]
  },
  {
   "cell_type": "code",
   "execution_count": 48,
   "id": "a4bc4497",
   "metadata": {},
   "outputs": [
    {
     "data": {
      "text/plain": [
       "SignificanceResult(statistic=np.float64(0.12656163345944624), pvalue=np.float64(0.027608539162108585))"
      ]
     },
     "execution_count": 48,
     "metadata": {},
     "output_type": "execute_result"
    }
   ],
   "source": [
    "stats.spearmanr(df['trestbps'], df['chol'])"
   ]
  },
  {
   "cell_type": "markdown",
   "id": "748b6975",
   "metadata": {},
   "source": [
    "### Kendall Tau\n",
    "#### Variante B"
   ]
  },
  {
   "cell_type": "code",
   "execution_count": 51,
   "id": "110fb0de",
   "metadata": {},
   "outputs": [
    {
     "data": {
      "text/plain": [
       "SignificanceResult(statistic=np.float64(0.08647408139339434), pvalue=np.float64(0.029128580856773133))"
      ]
     },
     "execution_count": 51,
     "metadata": {},
     "output_type": "execute_result"
    }
   ],
   "source": [
    "stats.kendalltau(df['trestbps'], df['chol'], variant='b')"
   ]
  },
  {
   "cell_type": "markdown",
   "id": "6600ad93",
   "metadata": {},
   "source": [
    "#### Variante C"
   ]
  },
  {
   "cell_type": "code",
   "execution_count": 52,
   "id": "8aa90246",
   "metadata": {},
   "outputs": [
    {
     "data": {
      "text/plain": [
       "SignificanceResult(statistic=np.float64(0.08526124889716695), pvalue=np.float64(0.029128580856773133))"
      ]
     },
     "execution_count": 52,
     "metadata": {},
     "output_type": "execute_result"
    }
   ],
   "source": [
    "stats.kendalltau(df['trestbps'], df['chol'], variant='c')"
   ]
  },
  {
   "cell_type": "markdown",
   "id": "f5d2ce7c",
   "metadata": {},
   "source": [
    "## Ejercicios\n",
    "1. Grafica las correlaciones.\n",
    "2. Continúa explorando los datos presentados.\n",
    "3. Revisa la página del dataset: https://www.kaggle.com/datasets/pritsheta/heart-attack/data.\n",
    "4. Revisa el código de otros para ver qué tipos de análisis utilizan.\n",
    "5. Revisa estas dos libretas en particular: \n",
    "    - https://www.kaggle.com/code/zohaib123/heart-disease-prediction-research-work\n",
    "    - https://www.kaggle.com/code/asifpervezpolok/heart-attack-prediction-eda\n",
    "    \n"
   ]
  }
 ],
 "metadata": {
  "kernelspec": {
   "display_name": "curso-python",
   "language": "python",
   "name": "python3"
  },
  "language_info": {
   "codemirror_mode": {
    "name": "ipython",
    "version": 3
   },
   "file_extension": ".py",
   "mimetype": "text/x-python",
   "name": "python",
   "nbconvert_exporter": "python",
   "pygments_lexer": "ipython3",
   "version": "3.13.5"
  }
 },
 "nbformat": 4,
 "nbformat_minor": 5
}

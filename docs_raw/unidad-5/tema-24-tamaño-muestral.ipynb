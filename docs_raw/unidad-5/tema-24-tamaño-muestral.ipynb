{
 "cells": [
  {
   "cell_type": "markdown",
   "id": "81b0d672",
   "metadata": {},
   "source": [
    "# Tema 24: Tamaños de muestra\n",
    "\n",
    "En seguimiento a la libreta previa donde hablamos sobre los tamaños de muestra, esta libreta mostrará cómo realizar el cálculo del tamaño muestral en varios escenarios.\n",
    "\n",
    "\n",
    ":::{important}\n",
    "\n",
    "Esta libreta se divide en dos secciones. En la primera utilizaremos las fórmulas más comunes para el cálculo de tamaños muestrales, y utilizaremos `scipy` y `numpy`, que ya debes tener instalados. En la segunda parte, utilizaremos la librería `statsmodels` que también ya deberías tener disponible.\n",
    "\n",
    ":::\n",
    "\n",
    "\n",
    "## Librerías"
   ]
  },
  {
   "cell_type": "code",
   "execution_count": null,
   "id": "a4722e88",
   "metadata": {},
   "outputs": [
    {
     "name": "stdout",
     "output_type": "stream",
     "text": [
      "Librerías importadas\n"
     ]
    }
   ],
   "source": [
    "from math import ceil # redondea hacia arriba\n",
    "\n",
    "import numpy as np\n",
    "import pandas as pd\n",
    "import scipy.stats as stats\n",
    "import statsmodels.api as sm\n",
    "print('Librerías importadas')"
   ]
  },
  {
   "cell_type": "markdown",
   "id": "e883ada6",
   "metadata": {},
   "source": [
    "## Estimación para proporciones\n",
    "### Fórmula de Cochran\n",
    "\n",
    "La primera fórmula que revisaremos es la **fórmula de Cochran**, utilizada para estimar el tamaño de muestra necesario al estudiar una proporción en un estudio descriptivo.\n",
    "\n",
    "$$\n",
    "n = \\frac{(Z_{1-\\alpha/2})^2 \\cdot p \\cdot (1-p)}{d^2}\n",
    "$$\n",
    "\n",
    "Donde:\n",
    "\n",
    "- $Z_{1-\\alpha/2}$ es el valor crítico de la distribución normal estándar para un nivel de confianza dado, en este caso para el error de tipo 1.\n",
    "- $p$ es la proporción esperada,\n",
    "- $d$ es el margen de error (precisión deseada)."
   ]
  },
  {
   "cell_type": "code",
   "execution_count": 21,
   "id": "d1086837",
   "metadata": {},
   "outputs": [
    {
     "name": "stdout",
     "output_type": "stream",
     "text": [
      "Función definida\n"
     ]
    }
   ],
   "source": [
    "def cochran_una_p(p, d, alfa=0.05, hipotesis='dos colas'):\n",
    "    \"\"\"\n",
    "    Calcula el tamaño de muestra para una proporción usando la fórmula de Cochran.\n",
    "\n",
    "    Parámetros:\n",
    "    - p: proporción esperada (entre 0 y 1)\n",
    "    - d: margen de error (precisión)\n",
    "    - alfa: nivel de significancia (por defecto 0.05)\n",
    "    - hipotesis: 'dos colas' o 'una cola'\n",
    "\n",
    "    Retorna:\n",
    "    - n: tamaño de muestra (entero)\n",
    "    \"\"\"\n",
    "    hips = 'dos colas', 'una cola'\n",
    "    if hipotesis not in hips:\n",
    "        raise ValueError(\"La hipótesis debe ser 'dos colas' o 'una cola'.\")\n",
    "\n",
    "    if hipotesis == 'dos colas':\n",
    "        z = stats.norm.ppf(1-alfa/2)\n",
    "    else:\n",
    "        z = stats.norm.ppf(1-alfa)\n",
    "        \n",
    "    n = (z**2 * p * (1 - p)) / d**2\n",
    "    return ceil(n)\n",
    "print('Función definida')"
   ]
  },
  {
   "cell_type": "markdown",
   "id": "4a15c2e6",
   "metadata": {},
   "source": [
    "Probemos la función con los siguientes parámetros:\n",
    "- Nivel de significancia: $\\alpha = 0.05$\n",
    "- Proporción esperada: $p = 0.5$\n",
    "- Margen de error: $d = 0.1$\n",
    "- Hipótesis: una cola"
   ]
  },
  {
   "cell_type": "code",
   "execution_count": 19,
   "id": "d05afdbb",
   "metadata": {},
   "outputs": [
    {
     "data": {
      "text/plain": [
       "68"
      ]
     },
     "execution_count": 19,
     "metadata": {},
     "output_type": "execute_result"
    }
   ],
   "source": [
    "cochran_una_p(0.5, 0.1, hipotesis='una cola')"
   ]
  },
  {
   "cell_type": "markdown",
   "id": "9c9e54bd",
   "metadata": {},
   "source": [
    "Para este estudio, requeriríamos de al menos 68 pacientes.\n",
    "\n",
    "### Estudios de equivalencia en una proporción\n",
    "\n",
    "En este caso, queremos conocer si la proporción estimada es diferente de un valor preestablecido, para ello, se modifica ligeramente la fórmula para incluir el poder del estudio.\n",
    "\n",
    "$$\n",
    "n = \\frac{(Z_{1-\\alpha/2} + Z_\\beta)^2 \\cdot p \\cdot (1-p)}{d^2}\n",
    "$$\n",
    "\n",
    "Donde:\n",
    "- $Z_\\beta$ es el valor crítico de la distribución normal estándar para un nivel de confianza dado, en este caso para el error de tipo 2.\n"
   ]
  },
  {
   "cell_type": "code",
   "execution_count": 27,
   "id": "2be7ad8f",
   "metadata": {},
   "outputs": [
    {
     "name": "stdout",
     "output_type": "stream",
     "text": [
      "Función definida\n"
     ]
    }
   ],
   "source": [
    "\n",
    "\n",
    "def cochran_eq_una_p(p, d, alfa=0.05, beta=0.2, hipotesis='dos colas'):\n",
    "    \"\"\"\n",
    "    Calcula el tamaño de muestra para detectar diferencia en una proporción,\n",
    "    incorporando el poder estadístico (estudios de equivalencia o hipótesis).\n",
    "\n",
    "    Parámetros:\n",
    "    - p: proporción esperada (entre 0 y 1)\n",
    "    - d: diferencia mínima que se desea detectar (margen de error)\n",
    "    - alfa: nivel de significancia (por defecto 0.05)\n",
    "    - beta: error tipo II (por defecto 0.2, que equivale a 80% de poder)\n",
    "\n",
    "    Retorna:\n",
    "    - n: tamaño de muestra (entero)\n",
    "    \"\"\"\n",
    "    hips = 'dos colas', 'una cola'\n",
    "    if hipotesis not in hips:\n",
    "        raise ValueError(\"La hipótesis debe ser 'dos colas' o 'una cola'.\")\n",
    "\n",
    "    if hipotesis == 'dos colas':\n",
    "        z_alfa = stats.norm.ppf(1-alfa/2)\n",
    "    else:\n",
    "        z_alfa = stats.norm.ppf(1-alfa)\n",
    "\n",
    "    z_beta = stats.norm.ppf(1 - beta)\n",
    "    n = ((z_alfa + z_beta)**2 * p * (1 - p)) / d**2\n",
    "    return ceil(n)\n",
    "\n",
    "print('Función definida')"
   ]
  },
  {
   "cell_type": "markdown",
   "id": "cde60f7e",
   "metadata": {},
   "source": [
    "Probemos la función con los siguientes parámetros:\n",
    "- Nivel de significancia: $\\alpha = 0.05$\n",
    "- Probabilidad de error de tipo 2: $\\beta = 0.1$\n",
    "- Proporción esperada: $p = 0.3$\n",
    "- Margen de error: $d = 0.1$\n",
    "- Hipótesis: una cola"
   ]
  },
  {
   "cell_type": "code",
   "execution_count": 25,
   "id": "699da6d1",
   "metadata": {},
   "outputs": [
    {
     "data": {
      "text/plain": [
       "130"
      ]
     },
     "execution_count": 25,
     "metadata": {},
     "output_type": "execute_result"
    }
   ],
   "source": [
    "cochran_eq_una_p(0.3, 0.1, beta=0.2, hipotesis='una cola')"
   ]
  },
  {
   "cell_type": "markdown",
   "id": "d27290c5",
   "metadata": {},
   "source": [
    "Para este estudio requeriríamos entonces 130 sujetos."
   ]
  },
  {
   "cell_type": "markdown",
   "id": "856ca10f",
   "metadata": {},
   "source": [
    "### Una proporción finita (Cochran)\n",
    "\n",
    "Existen situaciones en las que queremos acotar el tamaño muestral a una población conocida, para lo cual se realiza un ajuste a en la fórmula de Cochran.\n",
    "\n",
    "\n",
    "def una_prop_fin(p, error, N):\n",
    "  z = 1.96**2\n",
    "  q = 1-p\n",
    "  num = N*z*p*q\n",
    "  den = error**2*(N-1)+z*p*q\n",
    "  n = num/den\n",
    "  return n"
   ]
  },
  {
   "cell_type": "markdown",
   "id": "f2826ef0",
   "metadata": {},
   "source": [
    "\n",
    "\n",
    "\n",
    "def una_media(s, error):\n",
    "  z = 1.96\n",
    "  n = (z*s/error)**2\n",
    "  return n\n",
    "\n",
    "\n",
    "def un_odds_ratio(\n",
    "  OR: float,\n",
    "  p0: float,\n",
    "  alpha: float=0.05,\n",
    "  beta: float=0.2,\n",
    "  ratio: int=1\n",
    ") -> tuple[int, int]:\n",
    "    \"\"\"\n",
    "    Calcula el tamaño de muestra para un odds ratio\n",
    "    Args:\n",
    "      OR: El Odds ratio a estimar\n",
    "      p0: prevalencia general\n",
    "      alpha: error tipo 1\n",
    "      beta: error tipo 2\n",
    "      ratio: razón de controles/casos\n",
    "    Returns:\n",
    "      int, int: n_casos,n_controles\n",
    "    \"\"\"\n",
    "    power = 1-beta\n",
    "\n",
    "    # p1 (prevalencia de exposición en casos)\n",
    "    p1 = (OR * p0) / (1 + p0 * (OR - 1))\n",
    "    # Z-scores a dos colas\n",
    "    Za = stats.norm.ppf(1 - alpha/2).round(2) # e.j. ~1.96 para alpha=0.05\n",
    "    Zb = stats.norm.ppf(power).round(2)  # e.j. ~0.84 para 80% power\n",
    "    # Pooled exposure proportion\n",
    "    p_bar = (p1 + ratio * p0) / (1 + ratio)\n",
    "    q_bar = 1 - p_bar\n",
    "\n",
    "    # Calculatar\n",
    "    n_cases = (\n",
    "        Za * math.sqrt((1 + ratio) * p_bar * q_bar)\n",
    "      + Zb * math.sqrt(p0 * (1 - p0) + ratio * p1 * (1 - p1))\n",
    "    )**2 / (ratio * (p1 - p0)**2)\n",
    "    n_controls = ratio * n_cases\n",
    "    # Round up\n",
    "    return math.ceil(n_cases), math.ceil(n_controls)\n",
    "\n",
    "def for_chi2_indep(p_ij, alpha=0.05, beta=0.2):\n",
    "    \"\"\"\n",
    "    Compute sample size for chi-square test of independence in r x c table.\n",
    "    Always uses brentq method.\n",
    "\n",
    "    Parameters:\n",
    "    p_ij (2D array): Expected joint probabilities matrix (r x c), must sum to 1.\n",
    "    alpha (float): Type I error (e.g., 0.05)\n",
    "    beta (float): Type II error (e.g., 0.2 for 80% power)\n",
    "\n",
    "    Returns:\n",
    "      n (float): Required sample size\n",
    "\n",
    "    Add:\n",
    "      Taken from Chow 2008 6.2.1\n",
    "    \"\"\"\n",
    "\n",
    "    # 1. Check that p_ij is valid\n",
    "    if not np.isclose(np.sum(p_ij), 1):\n",
    "        raise ValueError(\"The matrix p_ij must sum to 1.\")\n",
    "\n",
    "    r = len(p_ij)\n",
    "    c = len(p_ij[0] if r else 0)\n",
    "\n",
    "    # 2. Degrees of freedom\n",
    "    df = (r - 1) * (c - 1)\n",
    "\n",
    "    # 3. Critical value under central chi-squared\n",
    "    critical_value = stats.chi2.ppf(1 - alpha, df)\n",
    "\n",
    "    # 4. Objective function for root finding\n",
    "    def objective(delta):\n",
    "        return stats.ncx2.sf(critical_value, df, delta) - (1 - beta)\n",
    "\n",
    "    # 5. Solve for delta using brentq\n",
    "    sol = root_scalar(objective, bracket=[0, 50], method='brentq')\n",
    "    if not sol.converged:\n",
    "        raise RuntimeError(\"Root finding did not converge.\")\n",
    "\n",
    "    delta = sol.root\n",
    "\n",
    "    # 6. Marginals\n",
    "    p_i_dot = np.sum(p_ij, axis=1)  # row sums\n",
    "    p_dot_j = np.sum(p_ij, axis=0)  # column sums\n",
    "\n",
    "    # 7. Compute the noncentrality effect structure\n",
    "    effect_size = 0.0\n",
    "    for i in range(r):\n",
    "        for j in range(c):\n",
    "            expected = p_i_dot[i] * p_dot_j[j]\n",
    "            if expected > 0:\n",
    "                effect_size += ((p_ij[i, j] - expected) ** 2) / expected\n",
    "\n",
    "    # 8. Sample size\n",
    "    n = delta / effect_size\n",
    "\n",
    "    return n\n",
    "\n",
    "\n",
    "def dos_props(p1, p2):\n",
    "    num = p1*(1-p1) + p2 * (1-p2)\n",
    "    den = (p1-p2)**2\n",
    "    z = (1.96 + 0.84)**2\n",
    "    return z * num/den\n",
    "\n",
    "def dos_medias(mu1, mu2, s):\n",
    "  d = (mu1-mu2)/s\n",
    "  za = 1.96\n",
    "  zb = 0.84\n",
    "  n = (\n",
    "      (2 * (za+zb)**2)\n",
    "      / d**2\n",
    "  ) + 0.25 * za**2\n",
    "  return math.ceil(n)\n"
   ]
  }
 ],
 "metadata": {
  "kernelspec": {
   "display_name": "curso-python",
   "language": "python",
   "name": "python3"
  },
  "language_info": {
   "codemirror_mode": {
    "name": "ipython",
    "version": 3
   },
   "file_extension": ".py",
   "mimetype": "text/x-python",
   "name": "python",
   "nbconvert_exporter": "python",
   "pygments_lexer": "ipython3",
   "version": "3.13.5"
  }
 },
 "nbformat": 4,
 "nbformat_minor": 5
}

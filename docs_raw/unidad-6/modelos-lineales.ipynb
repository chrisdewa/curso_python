{
 "cells": [
  {
   "cell_type": "markdown",
   "id": "f4576930",
   "metadata": {},
   "source": [
    "# Modelos lineales\n"
   ]
  }
 ],
 "metadata": {
  "language_info": {
   "name": "python"
  }
 },
 "nbformat": 4,
 "nbformat_minor": 5
}

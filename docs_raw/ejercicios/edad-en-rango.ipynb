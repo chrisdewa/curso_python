{
 "cells": [
  {
   "cell_type": "markdown",
   "id": "4ca9a97f",
   "metadata": {},
   "source": [
    "# Edad en rango\n",
    "\n",
    "Tu objetivo es tomar la lista propuesta de edades de sujetos pediátricos e imprimir en pantalla aquellos que sean preescolares, es decir, que tengan edad entre 2 y 6 años.\n",
    "\n",
    "## Datos"
   ]
  },
  {
   "cell_type": "code",
   "execution_count": 1,
   "id": "fb077447",
   "metadata": {},
   "outputs": [
    {
     "name": "stdout",
     "output_type": "stream",
     "text": [
      "[{'id': 0, 'edad': 5}, {'id': 1, 'edad': 7}, {'id': 2, 'edad': 7}, {'id': 3, 'edad': 7}, {'id': 4, 'edad': 8}, {'id': 5, 'edad': 9}, {'id': 6, 'edad': 7}, {'id': 7, 'edad': 7}, {'id': 8, 'edad': 6}, {'id': 9, 'edad': 16}, {'id': 10, 'edad': 10}, {'id': 11, 'edad': 13}, {'id': 12, 'edad': 6}, {'id': 13, 'edad': 8}, {'id': 14, 'edad': 9}, {'id': 15, 'edad': 9}, {'id': 16, 'edad': 5}, {'id': 17, 'edad': 8}, {'id': 18, 'edad': 6}, {'id': 19, 'edad': 7}, {'id': 20, 'edad': 7}, {'id': 21, 'edad': 6}, {'id': 22, 'edad': 11}, {'id': 23, 'edad': 11}, {'id': 24, 'edad': 9}, {'id': 25, 'edad': 5}, {'id': 26, 'edad': 3}, {'id': 27, 'edad': 8}, {'id': 28, 'edad': 8}, {'id': 29, 'edad': 9}, {'id': 30, 'edad': 10}, {'id': 31, 'edad': 5}, {'id': 32, 'edad': 13}, {'id': 33, 'edad': 9}, {'id': 34, 'edad': 6}, {'id': 35, 'edad': 7}, {'id': 36, 'edad': 5}, {'id': 37, 'edad': 9}, {'id': 38, 'edad': 7}, {'id': 39, 'edad': 8}, {'id': 40, 'edad': 4}, {'id': 41, 'edad': 5}, {'id': 42, 'edad': 8}, {'id': 43, 'edad': 7}, {'id': 44, 'edad': 4}, {'id': 45, 'edad': 3}, {'id': 46, 'edad': 8}, {'id': 47, 'edad': 6}, {'id': 48, 'edad': 7}, {'id': 49, 'edad': 6}]\n"
     ]
    }
   ],
   "source": [
    "# No muevas esta celda\n",
    "sujetos = [{'id': 0, 'edad': 5}, {'id': 1, 'edad': 7}, {'id': 2, 'edad': 7}, {'id': 3, 'edad': 7}, {'id': 4, 'edad': 8}, {'id': 5, 'edad': 9}, {'id': 6, 'edad': 7}, {'id': 7, 'edad': 7}, {'id': 8, 'edad': 6}, {'id': 9, 'edad': 16}, {'id': 10, 'edad': 10}, {'id': 11, 'edad': 13}, {'id': 12, 'edad': 6}, {'id': 13, 'edad': 8}, {'id': 14, 'edad': 9}, {'id': 15, 'edad': 9}, {'id': 16, 'edad': 5}, {'id': 17, 'edad': 8}, {'id': 18, 'edad': 6}, {'id': 19, 'edad': 7}, {'id': 20, 'edad': 7}, {'id': 21, 'edad': 6}, {'id': 22, 'edad': 11}, {'id': 23, 'edad': 11}, {'id': 24, 'edad': 9}, {'id': 25, 'edad': 5}, {'id': 26, 'edad': 3}, {'id': 27, 'edad': 8}, {'id': 28, 'edad': 8}, {'id': 29, 'edad': 9}, {'id': 30, 'edad': 10}, {'id': 31, 'edad': 5}, {'id': 32, 'edad': 13}, {'id': 33, 'edad': 9}, {'id': 34, 'edad': 6}, {'id': 35, 'edad': 7}, {'id': 36, 'edad': 5}, {'id': 37, 'edad': 9}, {'id': 38, 'edad': 7}, {'id': 39, 'edad': 8}, {'id': 40, 'edad': 4}, {'id': 41, 'edad': 5}, {'id': 42, 'edad': 8}, {'id': 43, 'edad': 7}, {'id': 44, 'edad': 4}, {'id': 45, 'edad': 3}, {'id': 46, 'edad': 8}, {'id': 47, 'edad': 6}, {'id': 48, 'edad': 7}, {'id': 49, 'edad': 6}]\n",
    "print(sujetos)"
   ]
  },
  {
   "cell_type": "markdown",
   "id": "77b81fb5",
   "metadata": {},
   "source": [
    "## Objetivo\n",
    "Tu misión es seleccionar de la lista solo aquellos sujetos con edad entre 2 y 6 años (inclusivo) e imprimir la lista en la consola.\n",
    "\n",
    "Tu resultado debe verse así:\n",
    "```\n",
    "{'id': ..., 'edad': ...}\n",
    "{'id': ..., 'edad': ...}\n",
    "...\n",
    "{'id': ..., 'edad': ...}\n",
    "{'id': ..., 'edad': ...}\n",
    "```"
   ]
  },
  {
   "cell_type": "code",
   "execution_count": 2,
   "id": "be92f588",
   "metadata": {},
   "outputs": [
    {
     "name": "stdout",
     "output_type": "stream",
     "text": [
      "Pon tu código aquí\n"
     ]
    }
   ],
   "source": [
    "print('Pon tu código aquí')"
   ]
  }
 ],
 "metadata": {
  "kernelspec": {
   "display_name": "curso-python",
   "language": "python",
   "name": "python3"
  },
  "language_info": {
   "name": "python",
   "version": "3.13.5"
  }
 },
 "nbformat": 4,
 "nbformat_minor": 5
}

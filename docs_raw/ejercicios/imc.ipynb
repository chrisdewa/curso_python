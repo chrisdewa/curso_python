{
 "cells": [
  {
   "cell_type": "markdown",
   "id": "6fabb7bc",
   "metadata": {},
   "source": [
    "# IMC\n",
    "\n",
    "El índice de masa corporal, calculado como $\\frac{Peso}{Talla^2}$ es uno de los cálculos más frecuentes en bioinformática.\n",
    "\n",
    "## Ejercicio\n",
    "\n",
    "Un estudio ficticio siguió a una serie de 20 pacientes en el tiempo, en el inicio del estudio se registró la talla y el peso y posteriormente se tomó el peso al tercer mes. La información del estudio se presenta a continuación."
   ]
  },
  {
   "cell_type": "code",
   "execution_count": 36,
   "id": "3310caf2",
   "metadata": {},
   "outputs": [
    {
     "data": {
      "text/plain": [
       "[]"
      ]
     },
     "execution_count": 36,
     "metadata": {},
     "output_type": "execute_result"
    }
   ],
   "source": [
    "\n",
    "talla = [1.64, 1.71, 1.65, 1.65, 1.76, 2.02, 1.55, 1.64, 1.57,\n",
    "          1.71, 1.72, 1.82, 1.61, 1.62, 1.55, 1.87, 1.87, 1.71, 1.65, 1.52]\n",
    "basal = [106.7, 92.0, 63.2, 72.6, 53.2, 89.4, 91.7, 78.5, 74.4, \n",
    "         111.9, 84.6, 56.3, 79.5, 103.2, 39.3, 68.0, 86.7, 67.5, 73.4, 76.8]\n",
    "mes3 = [104.3, 89.6, 60.8, 70.2, 50.8, 87.0, 89.3, 76.1, 72.0, \n",
    "        109.5, 82.2, 53.9, 77.1, 100.8, 36.9, 65.6, 84.3, 65.1, 71.0, 74.4]\n",
    "\n",
    "cambio = []\n",
    "cambio"
   ]
  },
  {
   "cell_type": "markdown",
   "id": "5f7cdd61",
   "metadata": {},
   "source": [
    "Tu objetivo es calcular el IMC de cada paciente al momento basal al final y poner en la lista la diferencia `basal - mes3`.\n",
    "Por ejemplo, el primer sujeto con talla `1.64` tuvo un IMC al inicio de `39.7` y al final de `38.8`, la diferencia es `0.9`.\n",
    "\n",
    ":::{tip}\n",
    "Recuerda que son 20 sujetos, y las listas se indexan del `0` a `n-1`, puedes obtener rango de índices con `range(20)`.\n",
    "Utiliza el índice para acceder a los valores de las listas.\n",
    ":::\n",
    "\n",
    "Redondea la lista final a un lugar decimal con `round(imc, 1)`."
   ]
  },
  {
   "cell_type": "code",
   "execution_count": 35,
   "id": "ff196cca",
   "metadata": {},
   "outputs": [
    {
     "name": "stdout",
     "output_type": "stream",
     "text": [
      "Pon tu código aquí\n"
     ]
    }
   ],
   "source": [
    "print('Pon tu código aquí')"
   ]
  }
 ],
 "metadata": {
  "kernelspec": {
   "display_name": "curso-python",
   "language": "python",
   "name": "python3"
  },
  "language_info": {
   "codemirror_mode": {
    "name": "ipython",
    "version": 3
   },
   "file_extension": ".py",
   "mimetype": "text/x-python",
   "name": "python",
   "nbconvert_exporter": "python",
   "pygments_lexer": "ipython3",
   "version": "3.13.5"
  }
 },
 "nbformat": 4,
 "nbformat_minor": 5
}

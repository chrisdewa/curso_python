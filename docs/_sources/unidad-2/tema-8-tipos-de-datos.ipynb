{
 "cells": [
  {
   "cell_type": "markdown",
   "id": "5c370759",
   "metadata": {
    "nav_order": 2
   },
   "source": [
    "# Tema 8: Tipos de datos\n",
    "\n",
    "Como se revisión en la [lección 3](#tema2-tipos-target) y en las lecciones anterior, todos los valores en python son objetos que tienen un cierto tipo.\n",
    "\n",
    "## ¿Qué es un objeto?\n",
    "Los objetos, en cualquier lenguaje de programación son abstracciones de lógica y valores. Aunque, para comenzar a trabajar con python, no es necesario tener un entendimiento muy profundo del paradigma de `Programación Orientada a Objetos` (OOP, por sus siglas en inglés), para profundizar el dominio le lenguaje, es un concepto fundamental. \n",
    "\n",
    "En este curso no nos enfocaremos en OOP, pero hay algunos conceptos necesarios que debemos conocer y trataremos en esta libreta.\n",
    "\n",
    ":::{tip}\n",
    "Piensa en cada objeto como un pequeño artefacto o robot, las cosas que el artefacto puede **hacer**, son los `métodos`. Las cosas que **tiene** o sus **características** son sus atributos. \n",
    ":::\n",
    "\n",
    "## Tipos básicos\n",
    "\n",
    "Cada objeto tiene un tipo. \n",
    "Por ejemplo, los `tenis` son un tipo de `calzado`, y a su vez, el calzado es un tipo de `ropa`.\n",
    "Así en python, por ejemplo, cada valor posible tiene un tipo. Por ejemplo, el valor `True`, es de tipo `bool`, es decir, booleano, puede ser Verdadero (`True`) o Falso (`False`), pero a su vez, bool es un tipo de `int` o número entero. Es decir que en algunos contextos ``True` es equivalente a `1`.\n",
    "\n",
    "En python existen algunos tipos básicos que pueden consultarse en la sección correspondiente del [tema 2.3](#tema2-tipos-target).\n",
    "En las siguientes celdas iremos revisando cada uno de los tipos básicos, su utilidad y ejemplos de cómo y para qué utilizarlos.\n",
    "\n",
    "\n",
    "## Métodos y Atributos\n",
    "Dependiendo del tipo los objetos pueden tener `atributos` y `métodos`.\n",
    "\n",
    ":::{important}\n",
    "\n",
    "Los **Métodos** son funciones asociadas a cada objeto. Piensa en funciones que actúan con el objeto para hacer algo.\n",
    "Por ejemplo:\n",
    "> `mi_lista.sort()`\n",
    "> El método `sort`, asociado a una `lista`, ordena la lista en cuestión.\n",
    "> Todos los métodos se ejecutan, con paréntesis, como `sort()`.\n",
    "\n",
    "Los **Atributos** son variables asociadas al objeto en cuestión, piensa en ellas como características.\n",
    "Por ejemplo:\n",
    "> `datos.columns`\n",
    "> El atributo `columns`, asociado a un `pandas.DataFrame`, devuelve una lista de las columnas en el arreglo de datos.\n",
    "> Los atributos no se ejecutan, no tienen paréntesis al final.\n",
    ":::\n",
    "\n",
    "\n",
    "## Tipos para valores individuales\n",
    "Estos tipos representan datos individuales y pueden usarse de múltiples formas.\n",
    "Todos estos valores se adaptan muy bien para el uso de calculadora que estamos trabajando en esta unidad.\n",
    "\n",
    ":::{note}\n",
    "Los tipos básicos de valores individuales, como `int`, `float`, `str`, `bool` y `NoneType` son todos inmutables.\n",
    "Es decir, aunque podemos cambiar la variable reasignándola, no podemos mutar el valor, toma el siguiente ejemplo.\n",
    "\n",
    "```python\n",
    "x = 1\n",
    "x += 1\n",
    "print(x) # 2\n",
    "```\n",
    "En este ejemplo, `x` inicia con el valor `int` 1 y luego se usa el operador `+=` que es equivalente a `x = x + 1`.\n",
    "Es decir, x aumenta una unidad, pero el número \"1\" no cambia, es inmutable.\n",
    ":::\n",
    "\n",
    "### Enteros (`int`)\n",
    "Los tipos `int` son números enteros, pueden ser positivos o negativos.\n",
    "Se codifican con el número en cuestión. \n",
    "En ciencias de la salud pueden representar tamaños de muestra, número de años cumplidos, etcétera.\n",
    "\n",
    "\n",
    "### Flotantes (`float`)\n",
    "Los tipos `float` son números con punto decimal, incluyen también aquellos que su decimal es cero. Por ejemplo el número `3.0` es tipo `float`, no `int`.\n",
    "\n",
    "Los `int` y `float` pueden pueden usarse en operaciones matemáticas de todo tipo incluso entre ellas.\n",
    "En la siguiente celda agrega variables tipo `int` que sean relevantes en tu campo e intenta realizar operaciones matemáticas relevantes."
   ]
  },
  {
   "cell_type": "code",
   "execution_count": 1,
   "id": "8521aa57",
   "metadata": {},
   "outputs": [
    {
     "name": "stdout",
     "output_type": "stream",
     "text": [
      "92.0\n"
     ]
    }
   ],
   "source": [
    "# por ejemplo\n",
    "tensión_sistólica = 134 # int\n",
    "tensión_diastólica = 71 # int\n",
    "tensión_arterial_media = (tensión_sistólica + tensión_diastólica * 2) / 3 # float\n",
    "print(tensión_arterial_media)\n",
    "\n",
    "# pon aqui tus datos y realiza operaciones con ellas\n",
    "\n",
    "\n"
   ]
  },
  {
   "cell_type": "markdown",
   "id": "7dbee58d",
   "metadata": {},
   "source": [
    "### Booleanos (`bool`)\n",
    "Los tipos `bool` son valores que pueden tomar un valor \"cierto\" o \"falso\", `True` o `False`.\n",
    "\n",
    ":::{note}\n",
    "Los tipos `bool` son en realidad descendientes de los `int` `0` (Falso) y `1` (Cierto), así, `True + True == 2`.\n",
    "Esto puede ser algo confuso pero no tienes que preocuparte por ello en este momento.\n",
    ":::\n",
    "\n",
    "Lo más habitual es generar valores por medio de pruebas lógicas que veremos en otra lección, pero te dejo un ejemplo:\n",
    "\n",
    "```python\n",
    "imc = 40\n",
    "obeso = imc >= 30 # mayor o igual a 30\n",
    "print(obeso) # True\n",
    "```\n",
    "Puedes probar este ejemplo en la celda siguiente."
   ]
  },
  {
   "cell_type": "code",
   "execution_count": 2,
   "id": "6b805963",
   "metadata": {},
   "outputs": [
    {
     "name": "stdout",
     "output_type": "stream",
     "text": [
      "True\n"
     ]
    }
   ],
   "source": [
    "# ejemplo\n",
    "enfermo = True # sí está enfermo\n",
    "print(enfermo)"
   ]
  },
  {
   "cell_type": "markdown",
   "id": "1caf932f",
   "metadata": {},
   "source": [
    "### Cadenas de texto (`str`)\n",
    "Los strings, de tipo `str` son cadenas de texto, son cualquier texto libre, puede usarse para datos como el nombre del paciente, el identificador de una variante genética, etcétera.\n",
    "\n",
    "Los `str` reaccionan diferente a las operaciones matemáticas y no todas están implementadas.\n",
    "\n",
    "Para codificar un `str`, es necesario englobar todo el texto en comillas, pueden ser simples `'` o dobles `\"` y es posible escribirlos en múltiples líneas, pero se requiere poner tres comillas en lugar de una.\n",
    "\n",
    "```python\n",
    "una_línea = \"Este str es de una sola línea\"\n",
    "multiples_líneas = \"\"\"Este texto tiene múltiples\n",
    "\n",
    "lineas de texto.\n",
    "\"\"\"\n",
    "```\n",
    "\n",
    ":::{warning}\n",
    "Siempre revisa que cada par de comillas que se abre también se cierre. \n",
    "Si dejas unas comillas sin cerrar, python marcará un error.\n",
    ":::\n"
   ]
  },
  {
   "cell_type": "code",
   "execution_count": 3,
   "id": "bb0dd3ce",
   "metadata": {},
   "outputs": [
    {
     "name": "stdout",
     "output_type": "stream",
     "text": [
      "ChristianChristianChristian\n",
      "ChristianDelaflor\n"
     ]
    }
   ],
   "source": [
    "# ejemplos:\n",
    "nombre = 'Christian'\n",
    "apellido = 'Delaflor'\n",
    "print(nombre * 3)        # multiplicación\n",
    "print(nombre + apellido) # suma\n",
    "\n",
    "# practica aquí con otras cadenas de texto y operaciones\n",
    "\n"
   ]
  },
  {
   "cell_type": "markdown",
   "id": "6d2aa4d6",
   "metadata": {},
   "source": [
    ":::{tip}\n",
    "Las cadenas de texto `str` son en realidad colecciones formadas por caracteres individuales. Esto quiere decir que puedes utilizar slicing e indexación, ordenamiento, etcétera, parecido a las listas como verás en la siguiente sección, solo contempla que las cadenas de texto son inmutables, así que al reordenarlo estás efectivamente cambiando el objeto asociado a la variable, no lo estás mutando.\n",
    ":::\n",
    "\n",
    "### Tipo Nulo (`NoneType`)\n",
    "\n",
    "El tipo nulo o `None` es un valor único que representa la ausencia de un valor. \n",
    "Sus usos varían, como cuando se pretende obtener el primer objeto que cumpla alguna característica dentro de una lista pero ningún valor cumple con los parámetros.\n"
   ]
  },
  {
   "cell_type": "markdown",
   "id": "64bb7ead",
   "metadata": {},
   "source": [
    "## Colecciones\n",
    "\n",
    "Las colecciones son tipos que contienen a otros objetos.\n",
    "\n",
    "A diferencia de los tipos básicos, que son inmutables, la mayoría de las colecciones sí pueden ser mutables, es decir, el objeto puede cambiar sin necesidad de reasignar la variable.\n",
    "\n",
    "Las colecciones mutables son `list` (listas), `set` (conjuntos) y `dict` (diccionarios).\n",
    "\n",
    "Las colecciones inmutables, por otro lado, son `tuple` (tuplas) y `FrozenSet` (aunque este último no lo cubriremos en el curso).\n",
    "\n",
    "### Listas (`list`)\n",
    "\n",
    "Este es uno de los principales tipos en python, y los más importantes a aprender en el contexto del análisis de datos.\n",
    "\n",
    "Las listas contienen objetos de cualquier tipo y pueden ordenarse, agregar o quitar objetos, etcétera.\n",
    "\n",
    "Para crear una lista, es necesario utilizar corchetes `[]`. Dentro de los corchetes se ponen los valores que se deseen para inicializar la lista, o pueden agregarse más tarde. Analiza el siguiente ejemplo:\n",
    "\n",
    "```python\n",
    "nums = [1, 2, 3, 4, 5, 6, 7, 8, 9, 10]\n",
    "pares = []\n",
    "\n",
    "for numero in nums:\n",
    "    if num % 2 == 0:\n",
    "        pares.append(num)\n",
    "```\n",
    "En el ejemplo comenzamos con dos listas, la primera, `nums` contiene los números del 1 al 10, la segunda lista `pares`, inicia vacía. Después tenemos un código que podría parecer algo raro pero es fácil de entender. Primero hay un bucle (no te preocupes, lo veremos luego), que va tomando cada valor de la lista, del primero al último, en orden, (**porque las listas son ORDENADAS**) y va comprobando si el número es o no par. Para comprobar si es par, utiliza el operador \"módulo\" (`%`), que funciona como una división pero regresa el remanente en lugar del resultado, por lo tanto, si un número es divisible entre 2, no tendrá remanente y ser|á par. Luego, si el número es par, entonces lo anexa (`append`) a la lista de \"pares\".\n",
    "\n",
    "Como no hemos cubierto los bucles, el ejemplo puede parecer raro, pero puedes jugar con él, en las celdas de código en esta libreta.\n",
    "\n",
    "Los principales métodos de las listas son:\n",
    "\n",
    "| Método      | Función                                                         | Ejemplo                      |Explicación|\n",
    "|-------------|-----------------------------------------------------------------|------------------------------|-----------|\n",
    "| `append`  | Agrega un elemento al final de la lista.                          | `pacientes.append(\"María\")`  |Agrega \"María\" al final de la lista|\n",
    "| `insert`  | Inserta un elemento en una posición específica.                   | `pacientes.insert(1, \"José\")`|Agrega \"José\" en la posición 1|\n",
    "| `remove`  | Elimina la primera aparición de un elemento por su valor.         | `pacientes.remove(\"Ana\")`    |Remueve la primera \"Ana\" de la lista|\n",
    "| `pop`     | Elimina y devuelve un elemento (por defecto el último).           | `ultimo = pacientes.pop()`   |Remueve el último elemento de la lista y lo devuelve para asignarlo a la variable|\n",
    "| `sort`    | Ordena la lista en orden ascendente (modifica la lista original). | `temperaturas.sort()`        |Ordena la lista de menor a mayor|\n",
    "| `reverse` | Invierte el orden actual de la lista.                             | `temperaturas.reverse()`     |Invierte el orden de la lista|\n",
    "\n",
    "#### Cómo obtener los valores dentro de la lista\n",
    "\n",
    ":::{important}\n",
    "El concepto de indexación y de slicing aplica a las listas y las tuplas, pero también es crítico cuando veamos arreglos de datos, que se utilizan en el análisis estadístico.\n",
    ":::\n",
    "\n",
    "##### Indexación\n",
    "\n",
    "En python la posición de los valores en una colección se marca desde el número cero. Es decir, el primer elemento está en la posición cero, el segundo en la uno, y así sucesivamente.\n",
    "Para acceder al elemento en la posición `n`, lo que hacemos es utilizar corchetes después de la lista, como si ejecutáramos una función, pero con corchetes en lugar de paréntesis:\n",
    "```python\n",
    "lista[10] # accede al elemento 10 de la lista. \n",
    "```\n"
   ]
  },
  {
   "cell_type": "code",
   "execution_count": 4,
   "id": "b37ede41",
   "metadata": {},
   "outputs": [
    {
     "name": "stdout",
     "output_type": "stream",
     "text": [
      "reemplaza esto con tu código\n"
     ]
    }
   ],
   "source": [
    "frutas = ['manzana', 'pera', 'naranja'] # lista de frutas\n",
    "# ejercicio\n",
    "# obten el str \"pera\" de la lista frutas\n",
    "pera = 'reemplaza esto con tu código' \n",
    "print(pera)"
   ]
  },
  {
   "cell_type": "markdown",
   "id": "8d2295cf",
   "metadata": {},
   "source": [
    "Si una lista no tiene el número de elementos suficientes, python arrojará un error:"
   ]
  },
  {
   "cell_type": "code",
   "execution_count": 5,
   "id": "1538f8e9",
   "metadata": {},
   "outputs": [
    {
     "name": "stdout",
     "output_type": "stream",
     "text": [
      "esta celda va a fallar\n"
     ]
    },
    {
     "ename": "IndexError",
     "evalue": "list index out of range",
     "output_type": "error",
     "traceback": [
      "\u001b[31m---------------------------------------------------------------------------\u001b[39m",
      "\u001b[31mIndexError\u001b[39m                                Traceback (most recent call last)",
      "\u001b[36mCell\u001b[39m\u001b[36m \u001b[39m\u001b[32mIn[5]\u001b[39m\u001b[32m, line 2\u001b[39m\n\u001b[32m      1\u001b[39m \u001b[38;5;28mprint\u001b[39m(\u001b[33m'\u001b[39m\u001b[33mesta celda va a fallar\u001b[39m\u001b[33m'\u001b[39m)\n\u001b[32m----> \u001b[39m\u001b[32m2\u001b[39m \u001b[43mfrutas\u001b[49m\u001b[43m[\u001b[49m\u001b[32;43m10\u001b[39;49m\u001b[43m]\u001b[49m\n",
      "\u001b[31mIndexError\u001b[39m: list index out of range"
     ]
    }
   ],
   "source": [
    "print('esta celda va a fallar')\n",
    "frutas[10]"
   ]
  },
  {
   "cell_type": "markdown",
   "id": "05eef6f8",
   "metadata": {},
   "source": [
    "Los índices también sirven para alterar las listas, por ejemplo, supongamos que queremos cambiar \"pera\" por \"kiwi\" en nuestra lista, lo hacemos así:"
   ]
  },
  {
   "cell_type": "code",
   "execution_count": 6,
   "id": "7843db76",
   "metadata": {},
   "outputs": [
    {
     "name": "stdout",
     "output_type": "stream",
     "text": [
      "['manzana', 'kiwi', 'naranja']\n"
     ]
    }
   ],
   "source": [
    "frutas[1] = 'kiwi' # cambiamos la fruta en la posición 1\n",
    "print(frutas)"
   ]
  },
  {
   "cell_type": "markdown",
   "id": "3a8480cf",
   "metadata": {},
   "source": [
    "##### Rebanadas (Slicing)\n",
    "\n",
    "Además de acceder a un solo valor con su posición, también podemos obtener una **sublista** usando lo que se llama *slicing*, que significa “rebanar”.\n",
    "\n",
    "La sintaxis general es:\n",
    "\n",
    "```python\n",
    "lista[inicio:fin]\n",
    "```\n",
    "\n",
    "Esto devuelve una nueva lista que **incluye** el elemento en la posición `inicio`, pero **excluye** el de la posición `fin`.  \n",
    "Es decir, va de `inicio` hasta `fin - 1`.\n",
    "\n",
    "```python\n",
    "numeros = [10, 20, 30, 40, 50, 60]\n",
    "print(numeros[1:4])  # [20, 30, 40]\n",
    "```\n",
    "\n",
    "Puedes omitir el inicio o el final si deseas ir desde el principio o hasta el final:\n",
    "\n",
    "```python\n",
    "print(numeros[:3])   # [10, 20, 30]\n",
    "print(numeros[3:])   # [40, 50, 60]\n",
    "```\n",
    "\n",
    "También puedes usar un tercer número para indicar el **paso** o la **frecuencia** con la que se seleccionan los elementos:\n",
    "\n",
    "```python\n",
    "print(numeros[::2])  # [10, 30, 50] (cada dos)\n",
    "print(numeros[1::2]) # [20, 40, 60] (pares)\n",
    "```\n",
    "\n",
    "Finalmente, puedes usar slicing con pasos negativos para **invertir** la lista:\n",
    "\n",
    "```python\n",
    "print(numeros[::-1])  # [60, 50, 40, 30, 20, 10]\n",
    "```\n",
    "\n",
    ":::{note}\n",
    "El slicing **no modifica** la lista original, solo devuelve una nueva lista con los valores seleccionados.\n",
    ":::\n",
    "\n",
    "##### Ejercicios\n",
    "\n",
    "Supón la siguiente lista:\n",
    "\n",
    "```python\n",
    "letras = [\"a\", \"b\", \"c\", \"d\", \"e\", \"f\", \"g\"]\n",
    "```\n",
    "\n",
    "1. Extrae una sublista con `\"c\"`, `\"d\"` y `\"e\"`.\n",
    "2. Extrae las primeras tres letras.\n",
    "3. Extrae todas menos las dos últimas.\n",
    "4. Extrae los elementos en las posiciones impares.\n",
    "5. Imprime la lista al revés.\n",
    "\n",
    "Ejecuta tu código en la siguiente celda de código.\n",
    "\n"
   ]
  },
  {
   "cell_type": "code",
   "execution_count": 7,
   "id": "3ac45573",
   "metadata": {},
   "outputs": [
    {
     "data": {
      "text/plain": [
       "'reemplaza esto con tu código'"
      ]
     },
     "execution_count": 7,
     "metadata": {},
     "output_type": "execute_result"
    }
   ],
   "source": [
    "'reemplaza esto con tu código'\n"
   ]
  },
  {
   "cell_type": "markdown",
   "id": "15c7277c",
   "metadata": {},
   "source": [
    ":::{note}\n",
    "En este momento puede ser que te parezca que el slicing es una complicación innecesaria, pero esto está alejado de la realidad.\n",
    "Lo usaremos más adelante en el curso para manipular arreglos de datos, esto funciona para obtener por ejemplo, un conjunto de columnas, en bases de datos, o para seleccionar grupos de sujetos.\n",
    ":::\n",
    "\n",
    "#### Mutabilidad\n",
    "\n",
    "Como se comentó al principio de la lección, en python existen algunos tipos mutables y otros inmutables, las listas son efectivamente mutables, como verás en la siguiente celda."
   ]
  },
  {
   "cell_type": "code",
   "execution_count": 8,
   "id": "52109650",
   "metadata": {},
   "outputs": [
    {
     "name": "stdout",
     "output_type": "stream",
     "text": [
      "1654615809728\n",
      "['h', 'z', 'a']\n",
      "1654615809728\n",
      "140704208966696\n",
      "6\n",
      "140704208966728\n"
     ]
    }
   ],
   "source": [
    "lista = [] # lista vacía\n",
    "print(id(lista)) # imprime el id de la lista vacía\n",
    "# el id es un número único que identifica el objeto en memoria\n",
    "# solo un objeto puede tener un id en un momento dado\n",
    "lista.append('h')\n",
    "lista.append('z')\n",
    "lista.append('a')\n",
    "print(lista) # imprime la lista con los elementos añadidos\n",
    "print(id(lista)) # imprime el id de la lista con los elementos añadidos\n",
    "# el id no ha cambiado, porque la lista es el mismo objeto en memoria\n",
    "# intentemos eso mismo con un `int`\n",
    "numero = 5 # int\n",
    "print(id(numero)) # imprime el id del int\n",
    "numero += 1 # incrementamos el int\n",
    "print(numero) # imprime el int incrementado\n",
    "print(id(numero)) # imprime el id del int incrementado\n",
    "# el id ha cambiado, porque el int es un objeto inmutable"
   ]
  },
  {
   "cell_type": "markdown",
   "id": "314ab5c6",
   "metadata": {},
   "source": [
    "\n",
    "### Tuplas (`tuple`)\n",
    "\n",
    "Las tuplas son prácticamente idénticas a las listas, pero con una diferencia importante, **son inmutables**, eso quiere decir que las tuplas luego de ser inicializadas no pueden ser modificadas, no se pueden agregar o quitar elementos, ni siquiera reordenarlas.\n",
    "\n",
    "Para inicializar una tupla, simplemente engloba a los valores en paréntesis.\n",
    "\n",
    "```python\n",
    "\n",
    "mi_tupla = (1, 7, 42)\n",
    "\n",
    "```\n",
    "\n",
    "Las tuplas son útiles porque, aunque pierdan función con respecto a las listas, son más ligeras en la memoria y muy importantemente, son `hashable`, lo que quiere decir que pueden ser utilizadas como llaves de diccionarios.\n",
    "\n",
    ":::{note}\n",
    "Los tipos `Hashable`, implementan un método `__hash__()` que devuelve un valor único para este objeto, el hash es como un identificador que solo existe para esa configuración del objeto.\n",
    ":::\n",
    "\n",
    "#### Ejercicio\n",
    "intenta ver que puedes hacer con las tuplas, usa los mismos métodos que has usado con las listas.\n"
   ]
  },
  {
   "cell_type": "code",
   "execution_count": 9,
   "id": "78e208c7",
   "metadata": {},
   "outputs": [
    {
     "data": {
      "text/plain": [
       "'reemplaza esto con tu código'"
      ]
     },
     "execution_count": 9,
     "metadata": {},
     "output_type": "execute_result"
    }
   ],
   "source": [
    "# ejercicio: \n",
    "# intenta obtener valores de la tupla, cambiar valores, etc.\n",
    "'reemplaza esto con tu código'"
   ]
  },
  {
   "cell_type": "markdown",
   "id": "8b752a2d",
   "metadata": {},
   "source": [
    "### Conjuntos (`set`)\n",
    "\n",
    "Los conjuntos, o sets, son colecciones **NO ORDENADAS** de valores **ÚNICOS**. Esto quiere decir que dentro de un set solo existe una sola versión de cada objeto, si más versiones quieren ser incorporadas, serán ignoradas. \n",
    "\n",
    ":::{tip}\n",
    "Se puede crear sets de cualquier tipo de colecciones.\n",
    "\n",
    "```python\n",
    "adn = 'AACTCACTTTCGGTACTTGCA'\n",
    "print(set(adn)) \n",
    "# {'A', 'C', 'T', 'G'}, quizá no en ese mismo orden\n",
    "```\n",
    ":::\n",
    "\n",
    ":::{important}\n",
    "Como no tienen orden, no es posible usar indexación ni slicing con los sets.\n",
    ":::\n",
    "\n",
    "Los sets son útiles sobre todo en comparaciones, por ejemplo, si queremos saber si dos conjuntos contienen los mismos objetos únicos o conocer cuáles están en ambos, por ejemplo, como verás en la siguiente celda. \n"
   ]
  },
  {
   "cell_type": "code",
   "execution_count": 10,
   "id": "9552f159",
   "metadata": {},
   "outputs": [
    {
     "name": "stdout",
     "output_type": "stream",
     "text": [
      "{'Pedro'}\n",
      "{'María', 'Juan'}\n",
      "{'Luis', 'Ana'}\n",
      "{'Luis', 'Juan', 'María', 'Pedro', 'Ana'}\n",
      "{'Juan', 'María', 'Luis', 'Ana'}\n"
     ]
    }
   ],
   "source": [
    "sujetos_grupo_a = {'Juan', 'María', 'Pedro'} # conjunto de sujetos del grupo A\n",
    "sujetos_grupo_b = {'Ana', 'Pedro', 'Luis'} # conjunto de sujetos del grupo B\n",
    "# identificar los sujetos que están en ambos grupos\n",
    "print(sujetos_grupo_a & sujetos_grupo_b) # intersección de los conjuntos\n",
    "# identificar los sujetos que están en el grupo A pero no en el grupo B \n",
    "print(sujetos_grupo_a - sujetos_grupo_b) # diferencia de los conjuntos\n",
    "# identificar los sujetos que están en el grupo B pero no en el grupo A\n",
    "print(sujetos_grupo_b - sujetos_grupo_a) # diferencia de los conjuntos\n",
    "# identificar los sujetos que están en al menos uno de los grupos\n",
    "print(sujetos_grupo_a | sujetos_grupo_b) # unión de los conjuntos\n",
    "# identificar los sujetos que están en el grupo A o en el grupo B pero no en ambos\n",
    "print(sujetos_grupo_a ^ sujetos_grupo_b) # diferencia simétrica de los conjuntos\n"
   ]
  },
  {
   "cell_type": "markdown",
   "id": "7561a493",
   "metadata": {},
   "source": [
    "#### Ejercicio \n",
    "Crea un conjunto con tus amigos y otro con tus colegas y realiza operaciones con ellos, como las que has visto con los conjuntos anteriores"
   ]
  },
  {
   "cell_type": "code",
   "execution_count": 11,
   "id": "16939ce6",
   "metadata": {},
   "outputs": [
    {
     "data": {
      "text/plain": [
       "'cambia esto por tu código'"
      ]
     },
     "execution_count": 11,
     "metadata": {},
     "output_type": "execute_result"
    }
   ],
   "source": [
    "'cambia esto por tu código'"
   ]
  },
  {
   "cell_type": "markdown",
   "id": "2407edc7",
   "metadata": {},
   "source": [
    "### Diccionarios (`dict`)\n",
    "\n",
    "Los diccionarios son uno de los tipos más importantes y relevantes en el contexto del análisis de datos. Están formados por dos partes, las **llaves** (keys, en inglés) y los **valores**.\n",
    "\n",
    "Las llaves deben ser valores `hashable`, como `int`, `float`, `str`, `tuple`, etcétera, ya que solo puede existir una misma llave con ese valor específico, de hecho, las llaves, como colección, son parecidas al `set`, en donde solo existe una versión del mismo valor.\n",
    "\n",
    "Los valores no tienen restricción y puede ser cualquier objeto en python, incluyendo colecciones.\n",
    "\n",
    "Para construir un diccionario, se utilizan llaves `{}` y se separa cada llave de su valor por dos puntos `:`, separando cada par con coma:\n",
    "\n",
    "```python\n",
    "mi_diccionario = {llave1: valor1, llave2: valor2, llave3:valor3}\n",
    "```\n",
    "\n",
    "El siguiente es un diccionario válido, con él verás la relevancia de los diccionarios.\n",
    "\n",
    "```python\n",
    "sujeto = {\n",
    "    'nombre': 'ALP', \n",
    "    'edad': 38,\n",
    "    'enfermo': True,\n",
    "    'peso': 72,\n",
    "    'talla': 1.73,\n",
    "    'comorbilidades': ['DM2', 'HAS']\n",
    "}\n",
    "\n",
    "```\n",
    "\n",
    "\n",
    ":::{warning}\n",
    "Los conjuntos `set` también utilizan las llaves `{}`, al igual que los diccionarios, pero no te confundas, el formato `{llave:valor}` es para `dict` y el formato `{valor1, valor2}` es para los sets.\n",
    ":::\n",
    "\n",
    "#### Acceder a los valores dentro del diccionario\n",
    "Supongamos que trabajamos con el ejemplo anterior, el diccionario `sujeto`, que corresponde a la información de un paciente.\n",
    "Se utilizan los mismos corchetes `[]` pero en lugar del índice del objeto, vamos a poner el la llave del valor al que queremos acceder, por ejemplo, si quisiéramos saber qué edad tiene el paciente:\n",
    "\n",
    "```python\n",
    "\n",
    "edad = sujeto['edad']\n",
    "\n",
    "```\n",
    "\n",
    "Como se accede al objeto asociado con la llave en cuestión, es posible interactuar directamente por ejemplo, si queremos acceder a la lista de comorbilidades y obtener el primer valor (DM2), el código sería:\n",
    "\n",
    "```python\n",
    "\n",
    "primera_comorbilidad = sujeto['comorbilidades'][0]\n",
    "# DM2\n",
    "```\n",
    "\n",
    "Como ves, el primer juego de corchetes es para la llave, pero el segundo es para la lista. Es decir que en este ejemplo, `sujeto['comorbilidades']` es lo mismo que si tuviéramos directamente la lista`['DM2', 'HAS']`.\n",
    "\n",
    "#### agregar o cambiar valores en el diccionario\n",
    "Similar a las listas, se hace por medio de corchetes con la llave con la que queremos interactuar:\n",
    "\n",
    "```python\n",
    "sujeto['edad'] += 1 # agregar un año a la edad del paciente\n",
    "sujeto['comorbilidades'].append('TDAH') # agregar una comorbilidad\n",
    "sujeto['hace ejercicio'] = True # agregar una nueva llave y valor\n",
    "```\n",
    "\n",
    "Para quitar un par de llave y valor del diccionario, se utiliza la palabra clave `del`, de esta forma: `del sujeto['peso']`, esto quitaría la llave y el valor de `\"peso\"` del diccionario. \n",
    "\n",
    "#### Ejercicios\n"
   ]
  },
  {
   "cell_type": "code",
   "execution_count": 12,
   "id": "a8f1201a",
   "metadata": {},
   "outputs": [
    {
     "name": "stdout",
     "output_type": "stream",
     "text": [
      "{'nombre': 'ALP', 'edad': 38, 'enfermo': True, 'peso': 72, 'talla': 1.73, 'comorbilidades': ['DM2', 'HAS']}\n"
     ]
    }
   ],
   "source": [
    "sujeto = {\n",
    "    'nombre': 'ALP', \n",
    "    'edad': 38,\n",
    "    'enfermo': True,\n",
    "    'peso': 72,\n",
    "    'talla': 1.73,\n",
    "    'comorbilidades': ['DM2', 'HAS']\n",
    "}\n",
    "\n",
    "print(sujeto)\n",
    "# 1. imprme el nombre del sujeto\n",
    "# 2. imprime la última comorbilidad del sujeto\n",
    "# 3. añade una nueva comorbilidad al sujeto\n",
    "# 4. agrega una nueva clave al sujeto llamada \"tratamiento\" y asigna un valor\n",
    "# 5. suprime la clave \"enfermo\" del sujeto\n",
    "# 6. agrega una variable de \"imc\" al sujeto y calcula el IMC usando la fórmula: peso / talla ^ 2\n"
   ]
  }
 ],
 "metadata": {
  "kernelspec": {
   "display_name": "curso-python",
   "language": "python",
   "name": "python3"
  },
  "language_info": {
   "codemirror_mode": {
    "name": "ipython",
    "version": 3
   },
   "file_extension": ".py",
   "mimetype": "text/x-python",
   "name": "python",
   "nbconvert_exporter": "python",
   "pygments_lexer": "ipython3",
   "version": "3.13.5"
  }
 },
 "nbformat": 4,
 "nbformat_minor": 5
}

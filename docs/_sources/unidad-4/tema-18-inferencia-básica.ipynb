{
 "cells": [
  {
   "cell_type": "markdown",
   "id": "5213229a",
   "metadata": {},
   "source": [
    "# Tema 18: Inferencia básica\n",
    "\n",
    ":::{important}\n",
    "Para esta libreta utilizaremos la libería `scipy`, que ya debería estar instalada en en entorno local, pero si no, puedes utilizar `uv add scipy` en tu terminal. La librería ya está preinstalada en colab.\n",
    ":::\n",
    "\n",
    "En esta librería continuaremos trabajando con la el dataset **palmer penguins** y realizaremos algunas de las pruebas inferenciales más comunes.\n",
    "\n",
    "Antes de iniciar, revisa la documentación de `scipy` [aquí](https://scipy.org/)\n",
    "\n",
    "## Librerías"
   ]
  },
  {
   "cell_type": "code",
   "execution_count": 4,
   "id": "3241712f",
   "metadata": {},
   "outputs": [
    {
     "name": "stdout",
     "output_type": "stream",
     "text": [
      "librerías cargadas\n"
     ]
    }
   ],
   "source": [
    "import pandas as pd\n",
    "import scipy.stats as stats\n",
    "import matplotlib.pyplot as plt\n",
    "import seaborn as sns\n",
    "print('librerías cargadas')"
   ]
  },
  {
   "cell_type": "markdown",
   "id": "6f6c77d1",
   "metadata": {},
   "source": [
    "Similar a `matplotlib` importamos un \"submódulo\" de `scipy` que se llama `stats`.\n",
    "\n",
    "## Cargar datos\n"
   ]
  },
  {
   "cell_type": "code",
   "execution_count": 3,
   "id": "9a40b71e",
   "metadata": {},
   "outputs": [
    {
     "data": {
      "text/html": [
       "<div>\n",
       "<style scoped>\n",
       "    .dataframe tbody tr th:only-of-type {\n",
       "        vertical-align: middle;\n",
       "    }\n",
       "\n",
       "    .dataframe tbody tr th {\n",
       "        vertical-align: top;\n",
       "    }\n",
       "\n",
       "    .dataframe thead th {\n",
       "        text-align: right;\n",
       "    }\n",
       "</style>\n",
       "<table border=\"1\" class=\"dataframe\">\n",
       "  <thead>\n",
       "    <tr style=\"text-align: right;\">\n",
       "      <th></th>\n",
       "      <th>species</th>\n",
       "      <th>island</th>\n",
       "      <th>bill_length_mm</th>\n",
       "      <th>bill_depth_mm</th>\n",
       "      <th>flipper_length_mm</th>\n",
       "      <th>body_mass_g</th>\n",
       "      <th>sex</th>\n",
       "    </tr>\n",
       "  </thead>\n",
       "  <tbody>\n",
       "    <tr>\n",
       "      <th>0</th>\n",
       "      <td>Adelie</td>\n",
       "      <td>Biscoe</td>\n",
       "      <td>37.8</td>\n",
       "      <td>18.3</td>\n",
       "      <td>174.0</td>\n",
       "      <td>3400.0</td>\n",
       "      <td>female</td>\n",
       "    </tr>\n",
       "    <tr>\n",
       "      <th>1</th>\n",
       "      <td>Adelie</td>\n",
       "      <td>Biscoe</td>\n",
       "      <td>37.7</td>\n",
       "      <td>18.7</td>\n",
       "      <td>180.0</td>\n",
       "      <td>3600.0</td>\n",
       "      <td>male</td>\n",
       "    </tr>\n",
       "    <tr>\n",
       "      <th>2</th>\n",
       "      <td>Adelie</td>\n",
       "      <td>Biscoe</td>\n",
       "      <td>35.9</td>\n",
       "      <td>19.2</td>\n",
       "      <td>189.0</td>\n",
       "      <td>3800.0</td>\n",
       "      <td>female</td>\n",
       "    </tr>\n",
       "    <tr>\n",
       "      <th>3</th>\n",
       "      <td>Adelie</td>\n",
       "      <td>Biscoe</td>\n",
       "      <td>38.2</td>\n",
       "      <td>18.1</td>\n",
       "      <td>185.0</td>\n",
       "      <td>3950.0</td>\n",
       "      <td>male</td>\n",
       "    </tr>\n",
       "    <tr>\n",
       "      <th>4</th>\n",
       "      <td>Adelie</td>\n",
       "      <td>Biscoe</td>\n",
       "      <td>38.8</td>\n",
       "      <td>17.2</td>\n",
       "      <td>180.0</td>\n",
       "      <td>3800.0</td>\n",
       "      <td>male</td>\n",
       "    </tr>\n",
       "  </tbody>\n",
       "</table>\n",
       "</div>"
      ],
      "text/plain": [
       "  species  island  bill_length_mm  bill_depth_mm  flipper_length_mm  \\\n",
       "0  Adelie  Biscoe            37.8           18.3              174.0   \n",
       "1  Adelie  Biscoe            37.7           18.7              180.0   \n",
       "2  Adelie  Biscoe            35.9           19.2              189.0   \n",
       "3  Adelie  Biscoe            38.2           18.1              185.0   \n",
       "4  Adelie  Biscoe            38.8           17.2              180.0   \n",
       "\n",
       "   body_mass_g     sex  \n",
       "0       3400.0  female  \n",
       "1       3600.0    male  \n",
       "2       3800.0  female  \n",
       "3       3950.0    male  \n",
       "4       3800.0    male  "
      ]
     },
     "execution_count": 3,
     "metadata": {},
     "output_type": "execute_result"
    }
   ],
   "source": [
    "url = 'https://raw.githubusercontent.com/raphaelvallat/pingouin/refs/heads/main/src/pingouin/datasets/penguins.csv'\n",
    "\n",
    "df = pd.read_csv(url)\n",
    "df.head()\n"
   ]
  },
  {
   "cell_type": "markdown",
   "id": "ab236ffc",
   "metadata": {},
   "source": [
    "## Pruebas de bondad de ajuste\n",
    "\n",
    "Pese al gran [debate](https://stats.stackexchange.com/questions/2492/is-normality-testing-essentially-useless) que existe en torno a este tipo de pruebas, son muy utilizadas así que veremos cómo hacerlas.\n",
    "\n",
    "Lo que se prueba es la hipótesis nula de que los datos provienen de una determinada distribución paramétrica, principalmente la normal.\n",
    "\n",
    "Veremos tres pruebas:\n",
    "1. Shapiro-Wilk (SW)\n",
    "2. Kolmogórov-Smirnov (KS)\n",
    "3. Anderson-Darling (AD)\n",
    "\n",
    "Scipy implementa también otras, pero no las veremos en el curso.\n",
    "\n",
    "Seleccionaremos una variable específica (`body_mass_g`) para las pruebas y acompañaremos el análisis con un histograma con densidad.\n",
    "\n",
    "### Visualización de distribución\n"
   ]
  },
  {
   "cell_type": "code",
   "execution_count": 9,
   "id": "1edc52e9",
   "metadata": {},
   "outputs": [
    {
     "data": {
      "text/plain": [
       "Text(0.5, 1.0, 'Distribución de peso')"
      ]
     },
     "execution_count": 9,
     "metadata": {},
     "output_type": "execute_result"
    },
    {
     "data": {
      "image/png": "[encoded data removed]",
      "text/plain": [
       "<Figure size 500x500 with 1 Axes>"
      ]
     },
     "metadata": {},
     "output_type": "display_data"
    }
   ],
   "source": [
    "sns.displot(\n",
    "    data=df,\n",
    "    x='body_mass_g',\n",
    "    kde=True,\n",
    ")\n",
    "plt.title('Distribución de peso')"
   ]
  },
  {
   "cell_type": "markdown",
   "id": "1eac71d0",
   "metadata": {},
   "source": [
    "Podemos ver una distribución con asimetría positiva, probablemente porque tenemos tres subpoblaciones, podemos separar cada población, agregando una línea o dos más."
   ]
  },
  {
   "cell_type": "code",
   "execution_count": 11,
   "id": "8dd65bb8",
   "metadata": {},
   "outputs": [
    {
     "data": {
      "image/png": "[encoded data removed]",
      "text/plain": [
       "<Figure size 1617x500 with 3 Axes>"
      ]
     },
     "metadata": {},
     "output_type": "display_data"
    }
   ],
   "source": [
    "g = sns.displot(\n",
    "    data=df,\n",
    "    x='body_mass_g',\n",
    "    kde=True,\n",
    "    col='species',\n",
    "    hue='species', # solo para el color\n",
    ")\n"
   ]
  },
  {
   "cell_type": "markdown",
   "id": "5ec78e77",
   "metadata": {},
   "source": [
    "Separando las subpoblaciones podemos ver distribuciones aproximadamente normales.\n",
    "\n",
    "### Shapiro-Wilk"
   ]
  },
  {
   "cell_type": "code",
   "execution_count": null,
   "id": "05dc9d5d",
   "metadata": {},
   "outputs": [
    {
     "data": {
      "text/plain": [
       "ShapiroResult(statistic=np.float64(0.9592111774906512), pvalue=np.float64(3.6790392409769466e-08))"
      ]
     },
     "execution_count": 12,
     "metadata": {},
     "output_type": "execute_result"
    }
   ],
   "source": [
    "peso = df['body_mass_g'].dropna() # quitamos los pingüinos con datos faltantes\n",
    "\n",
    "stats.shapiro(peso)"
   ]
  },
  {
   "cell_type": "markdown",
   "id": "9dac8d7f",
   "metadata": {},
   "source": [
    "La prueba de shapiro para toda la población arroja una p menor a 0.05 que no permite rechazar la hipótesis de que los datos no son normales.\n",
    "Repitamos la prueba por cada subpoblación."
   ]
  },
  {
   "cell_type": "code",
   "execution_count": null,
   "id": "274d1bbf",
   "metadata": {},
   "outputs": [
    {
     "name": "stdout",
     "output_type": "stream",
     "text": [
      "Adelie n= 151\n",
      "ShapiroResult(statistic=np.float64(0.9807078507062779), pvalue=np.float64(0.03239702501304091))\n",
      "Chinstrap n= 68\n",
      "ShapiroResult(statistic=np.float64(0.984493761674102), pvalue=np.float64(0.5605082387697975))\n",
      "Gentoo n= 123\n",
      "ShapiroResult(statistic=np.float64(0.9859276066609362), pvalue=np.float64(0.23361648888961845))\n"
     ]
    }
   ],
   "source": [
    "for especie in df['species'].unique(): # elejimos los valores únicos\n",
    "    filtro = df['species'] == especie\n",
    "    peso = df[filtro]['body_mass_g'].dropna()\n",
    "    print(especie, 'n=', len(peso)) # queremos también saber la n\n",
    "    resultado = stats.shapiro(peso)\n",
    "    print(resultado)"
   ]
  },
  {
   "cell_type": "markdown",
   "id": "0c681ee6",
   "metadata": {},
   "source": [
    "Vemos que solo en la subpoblación de pingüinos Adelie, la prueba de Shapiro indica normalidad.\n",
    "\n",
    "Probemos ahora el mismo procedimiento con la prueba de KS.\n",
    "\n",
    "### Kolmogórov-Smirnov\n",
    "\n",
    "En la prueba de KS probamos una hipótesis general, pero la prueba corrobora la bondad de ajuste a cualquier tipo de distribución que debemos especificar.\n",
    "\n",
    "Scipy contiene prácticamente todas las distribuciones paramétricas habituales, la normal está en `stats.norm`."
   ]
  },
  {
   "cell_type": "code",
   "execution_count": 23,
   "id": "9c6367eb",
   "metadata": {},
   "outputs": [
    {
     "data": {
      "text/plain": [
       "KstestResult(statistic=np.float64(0.10408424225215168), pvalue=np.float64(0.0011141206447900635), statistic_location=np.float64(-0.5009690301398295), statistic_sign=np.int8(1))"
      ]
     },
     "execution_count": 23,
     "metadata": {},
     "output_type": "execute_result"
    }
   ],
   "source": [
    "peso = df['body_mass_g'].dropna()\n",
    "z = (peso - peso.mean()) / peso.std() # estandarizamos\n",
    "stats.kstest(\n",
    "    z, \n",
    "    cdf=stats.norm.cdf # queremos probar la distribución normal\n",
    ")"
   ]
  },
  {
   "cell_type": "markdown",
   "id": "0115e5e8",
   "metadata": {},
   "source": [
    "Nuevamente tenemos un resultado no normal, separemos por especie."
   ]
  },
  {
   "cell_type": "code",
   "execution_count": null,
   "id": "b0d4641b",
   "metadata": {},
   "outputs": [
    {
     "name": "stdout",
     "output_type": "stream",
     "text": [
      "Adelie n= 151\n",
      "KstestResult(statistic=np.float64(0.07246097564635684), pvalue=np.float64(0.3876243471754205), statistic_location=np.float64(-0.3285507654029253), statistic_sign=np.int8(1))\n",
      "Chinstrap n= 68\n",
      "KstestResult(statistic=np.float64(0.09265913723429497), pvalue=np.float64(0.5714776097492497), statistic_location=np.float64(0.17409746844960372), statistic_sign=np.int8(1))\n",
      "Gentoo n= 123\n",
      "KstestResult(statistic=np.float64(0.0681309311837266), pvalue=np.float64(0.5934927015323732), statistic_location=np.float64(0.8410436105945132), statistic_sign=np.int8(-1))\n"
     ]
    }
   ],
   "source": [
    "for especie in df['species'].unique(): # elejimos los valores únicos\n",
    "    filtro = df['species'] == especie\n",
    "    peso = df[filtro]['body_mass_g'].dropna()\n",
    "    z = (peso - peso.mean()) / peso.std() # estandarizamos\n",
    "    print(especie, 'n=', len(peso)) # queremos también saber la n\n",
    "    resultado = stats.kstest(z, cdf=stats.norm.cdf)\n",
    "    print(resultado)"
   ]
  },
  {
   "cell_type": "markdown",
   "id": "f27b0837",
   "metadata": {},
   "source": [
    "Esta vez vemos que las tres subpoblaciones son normales.\n",
    "\n",
    ":::{note}\n",
    "En la prueba de KS debemos estandarizar para probar el resultado.\n",
    "Estandarizar significa convertir los valores de los datos a puntuaciones z.\n",
    "La fórmula de la puntuación z es:\n",
    "$z = \\frac{x-\\bar{x}}{s}$\n",
    "Donde $\\bar{x}$ es la media, *s* es la desviación estándar y *x* es el dato.\n",
    ":::\n",
    "\n",
    "Veamos ahora la prueba de Anderson Darling:\n",
    "\n",
    "### Anderson Darling\n",
    "Es una prueba derivada de KS pero específicamente para la distribución normal.\n",
    "\n",
    "Probemos nuevamente para toda la muestra."
   ]
  },
  {
   "cell_type": "code",
   "execution_count": 24,
   "id": "561342ab",
   "metadata": {},
   "outputs": [
    {
     "data": {
      "text/plain": [
       "AndersonResult(statistic=np.float64(4.543039287872375), critical_values=array([0.569, 0.649, 0.778, 0.908, 1.08 ]), significance_level=array([15. , 10. ,  5. ,  2.5,  1. ]), fit_result=  params: FitParams(loc=np.float64(4201.754385964912), scale=np.float64(801.9545356980955))\n",
       " success: True\n",
       " message: '`anderson` successfully fit the distribution to the data.')"
      ]
     },
     "execution_count": 24,
     "metadata": {},
     "output_type": "execute_result"
    }
   ],
   "source": [
    "peso = df['body_mass_g'].dropna()\n",
    "stats.anderson(peso)"
   ]
  },
  {
   "cell_type": "markdown",
   "id": "4e9842e9",
   "metadata": {},
   "source": [
    "La prueba nos dice que el estadístico es 4.54 y para una significancia del 5% (p < 0.05) el punto de corte sería 0.778, por lo cual no podemos rechazar la hipótesis de que los datos no son normales.\n",
    "\n",
    "#### Ejercicio\n",
    "Ejecuta la prueba de AD para cada una de las subpoblaciones.\n",
    "\n",
    "## Resultados con Scipy\n",
    "La gran mayoría de las pruebas estadísticas con `scipy` devuelven un objeto que se llama `NamedTuple`. Estos objetos son muy fáciles de utilizar y nos ayudan a extraer los valores individuales de cada resultado. Para saber qué valores contine un resultado, es necesario ver su documentación. Pongamos de ejemplo la prueba de SW nuevamente.\n"
   ]
  },
  {
   "cell_type": "code",
   "execution_count": null,
   "id": "1e124b5f",
   "metadata": {},
   "outputs": [
    {
     "name": "stdout",
     "output_type": "stream",
     "text": [
      "Valor p: 3.6790392409769466e-08\n",
      "Estadístico: 0.9592111774906512\n"
     ]
    }
   ],
   "source": [
    "peso = df['body_mass_g'].dropna()\n",
    "resultado = stats.shapiro(peso)\n",
    "\n",
    "print('Valor p:', resultado.pvalue)\n",
    "print('Estadístico:', resultado.statistic)"
   ]
  },
  {
   "cell_type": "markdown",
   "id": "0081a3ee",
   "metadata": {},
   "source": [
    "Esto nos ayuda a generar reportes automatizados de la siguiente manera. Seleccionaremos solo la población de Chinstrap."
   ]
  },
  {
   "cell_type": "code",
   "execution_count": null,
   "id": "77fee9f9",
   "metadata": {},
   "outputs": [
    {
     "name": "stdout",
     "output_type": "stream",
     "text": [
      "La variable \"bill_length_mm\" sí es normal, p=0.1941\n",
      "La variable \"bill_depth_mm\" sí es normal, p=0.1418\n",
      "La variable \"flipper_length_mm\" sí es normal, p=0.8106\n",
      "La variable \"body_mass_g\" sí es normal, p=0.5605\n"
     ]
    }
   ],
   "source": [
    "chinstrap = df[df['species'] == 'Chinstrap']\n",
    "for var in chinstrap.select_dtypes(float): # seleccionamos las numéricas\n",
    "    datos = chinstrap[var].dropna()\n",
    "    resultado = stats.shapiro(datos)\n",
    "    p = resultado.pvalue\n",
    "    normal = \"sí es normal\" if p > 0.05 else \"no es normal\"\n",
    "\n",
    "    print(f'La variable \"{var}\" {normal}, p={p:.4f}')\n"
   ]
  },
  {
   "cell_type": "markdown",
   "id": "caf8e029",
   "metadata": {},
   "source": [
    "### Ejercicio\n",
    "Replícalo para las demás especies.\n",
    "\n",
    "## Pruebas de asociación bivariadas\n",
    "Veremos ahora cómo realizar pruebas de asociación, usaremos solo $X^2$ y la exacta de fisher.\n",
    "\n",
    "### Chi cuadrada\n",
    "\n",
    "Primero vamos cómo generar tablas cruzadas con `pandas`, para ello, seleccionaremos dos variables, `species` y `island`. \n"
   ]
  },
  {
   "cell_type": "code",
   "execution_count": 37,
   "id": "7a9b16ff",
   "metadata": {},
   "outputs": [
    {
     "data": {
      "text/html": [
       "<div>\n",
       "<style scoped>\n",
       "    .dataframe tbody tr th:only-of-type {\n",
       "        vertical-align: middle;\n",
       "    }\n",
       "\n",
       "    .dataframe tbody tr th {\n",
       "        vertical-align: top;\n",
       "    }\n",
       "\n",
       "    .dataframe thead th {\n",
       "        text-align: right;\n",
       "    }\n",
       "</style>\n",
       "<table border=\"1\" class=\"dataframe\">\n",
       "  <thead>\n",
       "    <tr style=\"text-align: right;\">\n",
       "      <th>species</th>\n",
       "      <th>Adelie</th>\n",
       "      <th>Chinstrap</th>\n",
       "      <th>Gentoo</th>\n",
       "    </tr>\n",
       "    <tr>\n",
       "      <th>island</th>\n",
       "      <th></th>\n",
       "      <th></th>\n",
       "      <th></th>\n",
       "    </tr>\n",
       "  </thead>\n",
       "  <tbody>\n",
       "    <tr>\n",
       "      <th>Biscoe</th>\n",
       "      <td>44</td>\n",
       "      <td>0</td>\n",
       "      <td>124</td>\n",
       "    </tr>\n",
       "    <tr>\n",
       "      <th>Dream</th>\n",
       "      <td>56</td>\n",
       "      <td>68</td>\n",
       "      <td>0</td>\n",
       "    </tr>\n",
       "    <tr>\n",
       "      <th>Torgersen</th>\n",
       "      <td>52</td>\n",
       "      <td>0</td>\n",
       "      <td>0</td>\n",
       "    </tr>\n",
       "  </tbody>\n",
       "</table>\n",
       "</div>"
      ],
      "text/plain": [
       "species    Adelie  Chinstrap  Gentoo\n",
       "island                              \n",
       "Biscoe         44          0     124\n",
       "Dream          56         68       0\n",
       "Torgersen      52          0       0"
      ]
     },
     "execution_count": 37,
     "metadata": {},
     "output_type": "execute_result"
    }
   ],
   "source": [
    "matriz = pd.crosstab(\n",
    "    df['island'],  # filas\n",
    "    df['species'], # columnas\n",
    ")\n",
    "matriz"
   ]
  },
  {
   "cell_type": "markdown",
   "id": "6b9cddf0",
   "metadata": {},
   "source": [
    "Esto nos genera una tabla con la cuenta de pingüinos que cumplen con cada valor de ambas variables. Vemos que los Adelie viven en las tres islas, mientras que los Chinstrap y Gentoo solo viven en Dream y Biscoe respectivamente.\n",
    "\n",
    "Guardamos además la tabla en la variable `matriz`.\n",
    "\n",
    "Ahora ejecutemos la $X^2$."
   ]
  },
  {
   "cell_type": "code",
   "execution_count": 38,
   "id": "68a844db",
   "metadata": {},
   "outputs": [
    {
     "data": {
      "text/plain": [
       "Chi2ContingencyResult(statistic=np.float64(299.55032743148195), pvalue=np.float64(1.354573829719252e-63), dof=4, expected_freq=array([[74.23255814, 33.20930233, 60.55813953],\n",
       "       [54.79069767, 24.51162791, 44.69767442],\n",
       "       [22.97674419, 10.27906977, 18.74418605]]))"
      ]
     },
     "execution_count": 38,
     "metadata": {},
     "output_type": "execute_result"
    }
   ],
   "source": [
    "stats.chi2_contingency(matriz)"
   ]
  },
  {
   "cell_type": "markdown",
   "id": "0aca073a",
   "metadata": {},
   "source": [
    "Esta corresponde a la chi cuadrada de independencia y vemos que el valor p es menor a 0.05. También podemos ver que en las frecuencias esperadas no hay celdas con menos de 5 valores y el tamaño de muestra es apropiado.\n",
    "\n",
    "Veamos ahora la prueba de fisher.\n",
    "\n",
    "### Exacta de Fisher\n",
    "Para esta prueba requerimos una tabla 2x2, así que utilizaremos la variable `sex` y crearemos una nueva variable, `peso_bajo_media` en la cual veremos si el peso de un pingüino está por debajo de la media."
   ]
  },
  {
   "cell_type": "code",
   "execution_count": 39,
   "id": "4612d261",
   "metadata": {},
   "outputs": [
    {
     "data": {
      "text/html": [
       "<div>\n",
       "<style scoped>\n",
       "    .dataframe tbody tr th:only-of-type {\n",
       "        vertical-align: middle;\n",
       "    }\n",
       "\n",
       "    .dataframe tbody tr th {\n",
       "        vertical-align: top;\n",
       "    }\n",
       "\n",
       "    .dataframe thead th {\n",
       "        text-align: right;\n",
       "    }\n",
       "</style>\n",
       "<table border=\"1\" class=\"dataframe\">\n",
       "  <thead>\n",
       "    <tr style=\"text-align: right;\">\n",
       "      <th>body_mass_g</th>\n",
       "      <th>False</th>\n",
       "      <th>True</th>\n",
       "    </tr>\n",
       "    <tr>\n",
       "      <th>sex</th>\n",
       "      <th></th>\n",
       "      <th></th>\n",
       "    </tr>\n",
       "  </thead>\n",
       "  <tbody>\n",
       "    <tr>\n",
       "      <th>female</th>\n",
       "      <td>53</td>\n",
       "      <td>112</td>\n",
       "    </tr>\n",
       "    <tr>\n",
       "      <th>male</th>\n",
       "      <td>92</td>\n",
       "      <td>76</td>\n",
       "    </tr>\n",
       "  </tbody>\n",
       "</table>\n",
       "</div>"
      ],
      "text/plain": [
       "body_mass_g  False  True \n",
       "sex                      \n",
       "female          53    112\n",
       "male            92     76"
      ]
     },
     "execution_count": 39,
     "metadata": {},
     "output_type": "execute_result"
    }
   ],
   "source": [
    "peso_bajo_media = df['body_mass_g'] < df['body_mass_g'].mean()\n",
    "matriz = pd.crosstab(\n",
    "    df['sex'],\n",
    "    peso_bajo_media\n",
    ")\n",
    "matriz"
   ]
  },
  {
   "cell_type": "markdown",
   "id": "18302889",
   "metadata": {},
   "source": [
    "Vemos ahora que tenemos una tabla 2x2, con nuestra variable calculada. \n",
    "Ahora ejecutemos la prueba de fisher."
   ]
  },
  {
   "cell_type": "code",
   "execution_count": 40,
   "id": "1017137c",
   "metadata": {},
   "outputs": [
    {
     "data": {
      "text/plain": [
       "SignificanceResult(statistic=np.float64(0.390916149068323), pvalue=np.float64(4.046749537813585e-05))"
      ]
     },
     "execution_count": 40,
     "metadata": {},
     "output_type": "execute_result"
    }
   ],
   "source": [
    "stats.fisher_exact(matriz)"
   ]
  },
  {
   "cell_type": "markdown",
   "id": "63c56fc8",
   "metadata": {},
   "source": [
    "Podemos ver que existe una asociación entre el sexo y tener peso debajo de la media. Ajustemos el análisis para ver si es el sexo `female` el asociado."
   ]
  },
  {
   "cell_type": "code",
   "execution_count": null,
   "id": "90b35e9a",
   "metadata": {},
   "outputs": [
    {
     "data": {
      "text/html": [
       "<div>\n",
       "<style scoped>\n",
       "    .dataframe tbody tr th:only-of-type {\n",
       "        vertical-align: middle;\n",
       "    }\n",
       "\n",
       "    .dataframe tbody tr th {\n",
       "        vertical-align: top;\n",
       "    }\n",
       "\n",
       "    .dataframe thead th {\n",
       "        text-align: right;\n",
       "    }\n",
       "</style>\n",
       "<table border=\"1\" class=\"dataframe\">\n",
       "  <thead>\n",
       "    <tr style=\"text-align: right;\">\n",
       "      <th>body_mass_g</th>\n",
       "      <th>False</th>\n",
       "      <th>True</th>\n",
       "    </tr>\n",
       "    <tr>\n",
       "      <th>sex</th>\n",
       "      <th></th>\n",
       "      <th></th>\n",
       "    </tr>\n",
       "  </thead>\n",
       "  <tbody>\n",
       "    <tr>\n",
       "      <th>False</th>\n",
       "      <td>98</td>\n",
       "      <td>81</td>\n",
       "    </tr>\n",
       "    <tr>\n",
       "      <th>True</th>\n",
       "      <td>53</td>\n",
       "      <td>112</td>\n",
       "    </tr>\n",
       "  </tbody>\n",
       "</table>\n",
       "</div>"
      ],
      "text/plain": [
       "body_mass_g  False  True \n",
       "sex                      \n",
       "False           98     81\n",
       "True            53    112"
      ]
     },
     "execution_count": 41,
     "metadata": {},
     "output_type": "execute_result"
    }
   ],
   "source": [
    "peso_bajo_media = df['body_mass_g'] < df['body_mass_g'].mean()\n",
    "female = df['sex'] == 'female'\n",
    "matriz = pd.crosstab(\n",
    "    female,\n",
    "    peso_bajo_media\n",
    ")\n",
    "matriz"
   ]
  },
  {
   "cell_type": "markdown",
   "id": "53a31c83",
   "metadata": {},
   "source": [
    "Algo raro pasó, las cuentas no son iguales, y esto se debe a que en el arreglo de datos hay faltantes, para poder analizar bien esta asociación necesitamos solo datos completos, lo haremos de la siguiente manera."
   ]
  },
  {
   "cell_type": "code",
   "execution_count": null,
   "id": "711eabe0",
   "metadata": {},
   "outputs": [
    {
     "data": {
      "text/html": [
       "<div>\n",
       "<style scoped>\n",
       "    .dataframe tbody tr th:only-of-type {\n",
       "        vertical-align: middle;\n",
       "    }\n",
       "\n",
       "    .dataframe tbody tr th {\n",
       "        vertical-align: top;\n",
       "    }\n",
       "\n",
       "    .dataframe thead th {\n",
       "        text-align: right;\n",
       "    }\n",
       "</style>\n",
       "<table border=\"1\" class=\"dataframe\">\n",
       "  <thead>\n",
       "    <tr style=\"text-align: right;\">\n",
       "      <th>body_mass_g</th>\n",
       "      <th>False</th>\n",
       "      <th>True</th>\n",
       "    </tr>\n",
       "    <tr>\n",
       "      <th>sex</th>\n",
       "      <th></th>\n",
       "      <th></th>\n",
       "    </tr>\n",
       "  </thead>\n",
       "  <tbody>\n",
       "    <tr>\n",
       "      <th>False</th>\n",
       "      <td>92</td>\n",
       "      <td>76</td>\n",
       "    </tr>\n",
       "    <tr>\n",
       "      <th>True</th>\n",
       "      <td>53</td>\n",
       "      <td>112</td>\n",
       "    </tr>\n",
       "  </tbody>\n",
       "</table>\n",
       "</div>"
      ],
      "text/plain": [
       "body_mass_g  False  True \n",
       "sex                      \n",
       "False           92     76\n",
       "True            53    112"
      ]
     },
     "execution_count": 46,
     "metadata": {},
     "output_type": "execute_result"
    }
   ],
   "source": [
    "datos_completos = df.dropna(subset=['sex', 'body_mass_g']) \n",
    "# quita las filas que en las que falte cualquiera de las\n",
    "# dos variables\n",
    "peso_bajo_media = datos_completos['body_mass_g'] < datos_completos['body_mass_g'].mean()\n",
    "female = datos_completos['sex'] == 'female'\n",
    "matriz = pd.crosstab(\n",
    "    female,\n",
    "    peso_bajo_media\n",
    ")\n",
    "matriz"
   ]
  },
  {
   "cell_type": "markdown",
   "id": "f39cb06b",
   "metadata": {},
   "source": [
    "Esta vez las cuentas se ven bien, hagamos nuevamente la prueba."
   ]
  },
  {
   "cell_type": "code",
   "execution_count": 47,
   "id": "f1e6cc6b",
   "metadata": {},
   "outputs": [
    {
     "data": {
      "text/plain": [
       "SignificanceResult(statistic=np.float64(2.558093346573982), pvalue=np.float64(4.046749537813585e-05))"
      ]
     },
     "execution_count": 47,
     "metadata": {},
     "output_type": "execute_result"
    }
   ],
   "source": [
    "stats.fisher_exact(matriz)"
   ]
  },
  {
   "cell_type": "markdown",
   "id": "51c2300c",
   "metadata": {},
   "source": [
    "Y generemos el OR"
   ]
  },
  {
   "cell_type": "code",
   "execution_count": 44,
   "id": "0ba75d1a",
   "metadata": {},
   "outputs": [
    {
     "data": {
      "text/plain": [
       "OddsRatioResult(statistic=2.558093346573982)"
      ]
     },
     "execution_count": 44,
     "metadata": {},
     "output_type": "execute_result"
    }
   ],
   "source": [
    "stats.contingency.odds_ratio(matriz, kind='sample')"
   ]
  },
  {
   "cell_type": "markdown",
   "id": "f4fc9252",
   "metadata": {},
   "source": [
    "Vemos que los pingüinos hembra tienen 2.5 veces más odds de estar por debajo del peso medio, lo cual podría estar relacionado con dimorfismo sexual.\n",
    "\n",
    "### Ejercicio\n",
    "Analiza el arreglo de datos y realiza otras comparaciones de asociación."
   ]
  },
  {
   "cell_type": "markdown",
   "id": "834ecd59",
   "metadata": {},
   "source": [
    "## Pruebas AB\n",
    "\n",
    "Las pruebas AB básicamente comparan dos series de datos y podemos pensarlas como un contraste entre una variable categórica (grupo) y una cuantitativa. Entre las pruebas AB más utilizadas están las pruebas **t** y las versiones no paramétricas basadas en rango como la U de Mann Whitney. Veamos cómo realizarlas.\n",
    "\n",
    "### T de Student\n",
    "\n",
    "Pleanteemos la siguiente hipótesis:\n",
    "\n",
    "$H_1: Peso_{hembras} \\ne Peso_{machos}$\n",
    "\n",
    "Utilizaremos las variables de la sección previa."
   ]
  },
  {
   "cell_type": "code",
   "execution_count": 48,
   "id": "4e5efc52",
   "metadata": {},
   "outputs": [
    {
     "data": {
      "text/html": [
       "<div>\n",
       "<style scoped>\n",
       "    .dataframe tbody tr th:only-of-type {\n",
       "        vertical-align: middle;\n",
       "    }\n",
       "\n",
       "    .dataframe tbody tr th {\n",
       "        vertical-align: top;\n",
       "    }\n",
       "\n",
       "    .dataframe thead th {\n",
       "        text-align: right;\n",
       "    }\n",
       "</style>\n",
       "<table border=\"1\" class=\"dataframe\">\n",
       "  <thead>\n",
       "    <tr style=\"text-align: right;\">\n",
       "      <th></th>\n",
       "      <th>species</th>\n",
       "      <th>island</th>\n",
       "      <th>bill_length_mm</th>\n",
       "      <th>bill_depth_mm</th>\n",
       "      <th>flipper_length_mm</th>\n",
       "      <th>body_mass_g</th>\n",
       "      <th>sex</th>\n",
       "    </tr>\n",
       "  </thead>\n",
       "  <tbody>\n",
       "    <tr>\n",
       "      <th>0</th>\n",
       "      <td>Adelie</td>\n",
       "      <td>Biscoe</td>\n",
       "      <td>37.8</td>\n",
       "      <td>18.3</td>\n",
       "      <td>174.0</td>\n",
       "      <td>3400.0</td>\n",
       "      <td>female</td>\n",
       "    </tr>\n",
       "    <tr>\n",
       "      <th>1</th>\n",
       "      <td>Adelie</td>\n",
       "      <td>Biscoe</td>\n",
       "      <td>37.7</td>\n",
       "      <td>18.7</td>\n",
       "      <td>180.0</td>\n",
       "      <td>3600.0</td>\n",
       "      <td>male</td>\n",
       "    </tr>\n",
       "    <tr>\n",
       "      <th>2</th>\n",
       "      <td>Adelie</td>\n",
       "      <td>Biscoe</td>\n",
       "      <td>35.9</td>\n",
       "      <td>19.2</td>\n",
       "      <td>189.0</td>\n",
       "      <td>3800.0</td>\n",
       "      <td>female</td>\n",
       "    </tr>\n",
       "    <tr>\n",
       "      <th>3</th>\n",
       "      <td>Adelie</td>\n",
       "      <td>Biscoe</td>\n",
       "      <td>38.2</td>\n",
       "      <td>18.1</td>\n",
       "      <td>185.0</td>\n",
       "      <td>3950.0</td>\n",
       "      <td>male</td>\n",
       "    </tr>\n",
       "    <tr>\n",
       "      <th>4</th>\n",
       "      <td>Adelie</td>\n",
       "      <td>Biscoe</td>\n",
       "      <td>38.8</td>\n",
       "      <td>17.2</td>\n",
       "      <td>180.0</td>\n",
       "      <td>3800.0</td>\n",
       "      <td>male</td>\n",
       "    </tr>\n",
       "  </tbody>\n",
       "</table>\n",
       "</div>"
      ],
      "text/plain": [
       "  species  island  bill_length_mm  bill_depth_mm  flipper_length_mm  \\\n",
       "0  Adelie  Biscoe            37.8           18.3              174.0   \n",
       "1  Adelie  Biscoe            37.7           18.7              180.0   \n",
       "2  Adelie  Biscoe            35.9           19.2              189.0   \n",
       "3  Adelie  Biscoe            38.2           18.1              185.0   \n",
       "4  Adelie  Biscoe            38.8           17.2              180.0   \n",
       "\n",
       "   body_mass_g     sex  \n",
       "0       3400.0  female  \n",
       "1       3600.0    male  \n",
       "2       3800.0  female  \n",
       "3       3950.0    male  \n",
       "4       3800.0    male  "
      ]
     },
     "execution_count": 48,
     "metadata": {},
     "output_type": "execute_result"
    }
   ],
   "source": [
    "datos_completos.head()\n"
   ]
  },
  {
   "cell_type": "code",
   "execution_count": 49,
   "id": "7d19763f",
   "metadata": {},
   "outputs": [
    {
     "data": {
      "text/plain": [
       "0     True\n",
       "1    False\n",
       "2     True\n",
       "3    False\n",
       "4    False\n",
       "Name: sex, dtype: bool"
      ]
     },
     "execution_count": 49,
     "metadata": {},
     "output_type": "execute_result"
    }
   ],
   "source": [
    "female.head()"
   ]
  },
  {
   "cell_type": "markdown",
   "id": "29f73a54",
   "metadata": {},
   "source": [
    "Como female es una serie de datos booleanos, podemos usarla como filtro, para separar los valores de machos y hembras."
   ]
  },
  {
   "cell_type": "code",
   "execution_count": 50,
   "id": "c2bfe991",
   "metadata": {},
   "outputs": [
    {
     "data": {
      "text/plain": [
       "TtestResult(statistic=np.float64(-8.541720337994516), pvalue=np.float64(4.897246751596224e-16), df=np.float64(331.0))"
      ]
     },
     "execution_count": 50,
     "metadata": {},
     "output_type": "execute_result"
    }
   ],
   "source": [
    "peso = datos_completos['body_mass_g']\n",
    "peso_hembras = peso[female]\n",
    "peso_machos = peso[~female] # ~ es el operador \"not\" \n",
    "                            # es decir \"not female\"\n",
    "# ahora hacemos la prueba T\n",
    "\n",
    "stats.ttest_ind( # ind es independientes\n",
    "    peso_hembras, peso_machos\n",
    ")"
   ]
  },
  {
   "cell_type": "markdown",
   "id": "6aac8fee",
   "metadata": {},
   "source": [
    "Vemos que el valor p es muy inferior a 0.05, lo cual corrobora nuestra hipótesis.\n",
    "\n",
    "Existe una variante de la prueba t que no asume varianzas iguales, la prueba **t de Welch**, veamos cómo aplicarla ahora."
   ]
  },
  {
   "cell_type": "code",
   "execution_count": 51,
   "id": "1a6189d5",
   "metadata": {},
   "outputs": [
    {
     "data": {
      "text/plain": [
       "TtestResult(statistic=np.float64(-8.554537231165762), pvalue=np.float64(4.793891255051492e-16), df=np.float64(323.89588102864843))"
      ]
     },
     "execution_count": 51,
     "metadata": {},
     "output_type": "execute_result"
    }
   ],
   "source": [
    "stats.ttest_ind( # ind es independientes\n",
    "    peso_hembras, peso_machos,\n",
    "    equal_var=False, # no asumimos varianzas iguales\n",
    ")"
   ]
  },
  {
   "cell_type": "markdown",
   "id": "807de5a1",
   "metadata": {},
   "source": [
    "En este caso el resultado no se modifica gran cosa.\n"
   ]
  },
  {
   "cell_type": "markdown",
   "id": "5b794465",
   "metadata": {},
   "source": [
    "### U de Mann Whitney\n",
    "\n",
    "Si quisieramos realizar la prueba no paramétrica de rangos de U de Mann Whiney, lo haríamos de la siguiente forma."
   ]
  },
  {
   "cell_type": "code",
   "execution_count": 52,
   "id": "a22d4def",
   "metadata": {},
   "outputs": [
    {
     "data": {
      "text/plain": [
       "MannwhitneyuResult(statistic=np.float64(6874.5), pvalue=np.float64(1.8133343032461053e-15))"
      ]
     },
     "execution_count": 52,
     "metadata": {},
     "output_type": "execute_result"
    }
   ],
   "source": [
    "stats.mannwhitneyu(peso_hembras, peso_machos,)"
   ]
  },
  {
   "cell_type": "markdown",
   "id": "47a748a9",
   "metadata": {},
   "source": [
    "## Correlación\n",
    "Existen varias pruebas de correlación pero las tres principalmente utilizadas son r de Pearson, rho de Spearman y Tau de Kendall, veamos cómo ejecutarlas.\n",
    "Para esto, seleccionaremos dos variables cuantitativas, en este ejemplo `flipper_length_mm` y `bill_length_mm`.\n",
    "\n",
    "Primero separemos las series de interés."
   ]
  },
  {
   "cell_type": "code",
   "execution_count": 54,
   "id": "c02f3c9a",
   "metadata": {},
   "outputs": [],
   "source": [
    "datos_completos = df.dropna(subset=['flipper_length_mm', 'bill_length_mm'])\n",
    "flippers = datos_completos['flipper_length_mm']\n",
    "bill = datos_completos['bill_length_mm']"
   ]
  },
  {
   "cell_type": "markdown",
   "id": "a3388bd8",
   "metadata": {},
   "source": [
    "Ahora las correlaciones.\n",
    "### Pearson\n"
   ]
  },
  {
   "cell_type": "code",
   "execution_count": 55,
   "id": "795fd979",
   "metadata": {},
   "outputs": [
    {
     "data": {
      "text/plain": [
       "PearsonRResult(statistic=np.float64(0.656181340746428), pvalue=np.float64(1.7439736176203663e-43))"
      ]
     },
     "execution_count": 55,
     "metadata": {},
     "output_type": "execute_result"
    }
   ],
   "source": [
    "stats.pearsonr(flippers, bill)"
   ]
  },
  {
   "cell_type": "markdown",
   "id": "d28de991",
   "metadata": {},
   "source": [
    "### Spearman"
   ]
  },
  {
   "cell_type": "code",
   "execution_count": 56,
   "id": "4c80d4de",
   "metadata": {},
   "outputs": [
    {
     "data": {
      "text/plain": [
       "SignificanceResult(statistic=np.float64(0.6727719416255544), pvalue=np.float64(2.0669356276079494e-46))"
      ]
     },
     "execution_count": 56,
     "metadata": {},
     "output_type": "execute_result"
    }
   ],
   "source": [
    "stats.spearmanr(flippers, bill)"
   ]
  },
  {
   "cell_type": "markdown",
   "id": "b5439c25",
   "metadata": {},
   "source": [
    "### Kendall"
   ]
  },
  {
   "cell_type": "code",
   "execution_count": 57,
   "id": "ed46a79f",
   "metadata": {},
   "outputs": [
    {
     "data": {
      "text/plain": [
       "SignificanceResult(statistic=np.float64(0.48334544176274524), pvalue=np.float64(1.7471887323081624e-39))"
      ]
     },
     "execution_count": 57,
     "metadata": {},
     "output_type": "execute_result"
    }
   ],
   "source": [
    "stats.kendalltau(flippers, bill)"
   ]
  },
  {
   "cell_type": "markdown",
   "id": "fe085ffb",
   "metadata": {},
   "source": [
    "En los tres casos encontramos una relación directa moderada y estadísticamente significativa entre las variables.\n",
    "Visualicémoslo.\n",
    "\n",
    "### Visualización"
   ]
  },
  {
   "cell_type": "code",
   "execution_count": 60,
   "id": "2cc461c5",
   "metadata": {},
   "outputs": [
    {
     "data": {
      "text/plain": [
       "<Axes: xlabel='flipper_length_mm', ylabel='bill_length_mm'>"
      ]
     },
     "execution_count": 60,
     "metadata": {},
     "output_type": "execute_result"
    },
    {
     "data": {
      "image/png": "[encoded data removed]",
      "text/plain": [
       "<Figure size 640x480 with 1 Axes>"
      ]
     },
     "metadata": {},
     "output_type": "display_data"
    }
   ],
   "source": [
    "sns.regplot(\n",
    "    x=flippers, \n",
    "    y=bill,\n",
    ")"
   ]
  },
  {
   "cell_type": "markdown",
   "id": "5f63dcb2",
   "metadata": {},
   "source": [
    "### Ejercicio\n",
    "Genera una visualización y las tres correlaciones para las tres diferentes especies."
   ]
  }
 ],
 "metadata": {
  "kernelspec": {
   "display_name": ".venv",
   "language": "python",
   "name": "python3"
  },
  "language_info": {
   "codemirror_mode": {
    "name": "ipython",
    "version": 3
   },
   "file_extension": ".py",
   "mimetype": "text/x-python",
   "name": "python",
   "nbconvert_exporter": "python",
   "pygments_lexer": "ipython3",
   "version": "3.13.5"
  }
 },
 "nbformat": 4,
 "nbformat_minor": 5
}

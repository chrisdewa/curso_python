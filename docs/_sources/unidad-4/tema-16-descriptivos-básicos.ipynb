{
 "cells": [
  {
   "cell_type": "markdown",
   "id": "d5aeabf5",
   "metadata": {},
   "source": [
    "# Tema 16: Descriptivos básicos\n",
    "\n",
    "En libretas anteriores ya vimos que los `datasets` en `pandas` tiene un método llamado `describe` que puede generar algunos estadísticos claves para comenzar a describir los datos, pero hoy iremos más profundo en cómo analizarlos. En esta libreta usaremos una librería nueva `matplotlib` para comenzar a elaborar gráficos exploratorios. \n",
    "\n",
    ":::{note}\n",
    "Aunque utilizamos `matplotlib` en esta libreta vamos a dejar que pandas se encargue de los gráficos, en otras lecciones veremos cómo usar matplotlib de forma más directa.\n",
    ":::\n",
    "\n",
    "## Cargar las librerías\n",
    "\n",
    ":::{tip}\n",
    "Recuerda que cada celda que se ejecuta deposita sus valores en la memoria del kernel de python que estamos utilizando.\n",
    "Eso quiere decir que podemos importar las librerías en una sola celda para organizar nuestro código.\n",
    "Comenzaremos cargando todo lo necesario desde el principio.\n",
    ":::\n",
    "\n",
    ":::{important}\n",
    "En python las importaciones pueden ser procesos tardados, como lo verás en esta libreta, pero python importa librerías una sola vez. Esto quiere decir, que si tienes dos importaciones de lo mismo, python no volverá a importar la librería.\n",
    "\n",
    "```python\n",
    "import pandas as pd # aquí python importa la libería\n",
    "import pandas as pd # aquí python prácticamente se salta la línea\n",
    "```\n",
    ":::\n",
    "\n",
    "Ejecuta la siguiente celda."
   ]
  },
  {
   "cell_type": "code",
   "execution_count": 2,
   "id": "f6df25db",
   "metadata": {},
   "outputs": [],
   "source": [
    "# nota que a todas les cambiamos el nombre\n",
    "# esto es estándar en el análisis de datos\n",
    "import pandas as pd\n",
    "import matplotlib.pyplot as plt\n"
   ]
  },
  {
   "cell_type": "markdown",
   "id": "79c3675b",
   "metadata": {},
   "source": [
    "## Cargar los datos desde la url\n",
    "\n",
    "Esto es igual que en la libreta previa, pero si hiciste el ejercicio final, intenta cambiar el código para importar la librería desde el archivo `csv`.\n",
    "\n",
    "### Nota\n",
    "Si tienes el archivo `csv` puedes cargarlo así.\n",
    "```python\n",
    "path = 'Documentos/cursos/pingüinos.csv' # ejemplo\n",
    "df = pd.read_csv(path)\n",
    "```\n",
    "\n"
   ]
  },
  {
   "cell_type": "code",
   "execution_count": 3,
   "id": "66121789",
   "metadata": {},
   "outputs": [
    {
     "data": {
      "text/html": [
       "<div>\n",
       "<style scoped>\n",
       "    .dataframe tbody tr th:only-of-type {\n",
       "        vertical-align: middle;\n",
       "    }\n",
       "\n",
       "    .dataframe tbody tr th {\n",
       "        vertical-align: top;\n",
       "    }\n",
       "\n",
       "    .dataframe thead th {\n",
       "        text-align: right;\n",
       "    }\n",
       "</style>\n",
       "<table border=\"1\" class=\"dataframe\">\n",
       "  <thead>\n",
       "    <tr style=\"text-align: right;\">\n",
       "      <th></th>\n",
       "      <th>species</th>\n",
       "      <th>island</th>\n",
       "      <th>bill_length_mm</th>\n",
       "      <th>bill_depth_mm</th>\n",
       "      <th>flipper_length_mm</th>\n",
       "      <th>body_mass_g</th>\n",
       "      <th>sex</th>\n",
       "    </tr>\n",
       "  </thead>\n",
       "  <tbody>\n",
       "    <tr>\n",
       "      <th>0</th>\n",
       "      <td>Adelie</td>\n",
       "      <td>Biscoe</td>\n",
       "      <td>37.8</td>\n",
       "      <td>18.3</td>\n",
       "      <td>174.0</td>\n",
       "      <td>3400.0</td>\n",
       "      <td>female</td>\n",
       "    </tr>\n",
       "    <tr>\n",
       "      <th>1</th>\n",
       "      <td>Adelie</td>\n",
       "      <td>Biscoe</td>\n",
       "      <td>37.7</td>\n",
       "      <td>18.7</td>\n",
       "      <td>180.0</td>\n",
       "      <td>3600.0</td>\n",
       "      <td>male</td>\n",
       "    </tr>\n",
       "    <tr>\n",
       "      <th>2</th>\n",
       "      <td>Adelie</td>\n",
       "      <td>Biscoe</td>\n",
       "      <td>35.9</td>\n",
       "      <td>19.2</td>\n",
       "      <td>189.0</td>\n",
       "      <td>3800.0</td>\n",
       "      <td>female</td>\n",
       "    </tr>\n",
       "    <tr>\n",
       "      <th>3</th>\n",
       "      <td>Adelie</td>\n",
       "      <td>Biscoe</td>\n",
       "      <td>38.2</td>\n",
       "      <td>18.1</td>\n",
       "      <td>185.0</td>\n",
       "      <td>3950.0</td>\n",
       "      <td>male</td>\n",
       "    </tr>\n",
       "    <tr>\n",
       "      <th>4</th>\n",
       "      <td>Adelie</td>\n",
       "      <td>Biscoe</td>\n",
       "      <td>38.8</td>\n",
       "      <td>17.2</td>\n",
       "      <td>180.0</td>\n",
       "      <td>3800.0</td>\n",
       "      <td>male</td>\n",
       "    </tr>\n",
       "  </tbody>\n",
       "</table>\n",
       "</div>"
      ],
      "text/plain": [
       "  species  island  bill_length_mm  bill_depth_mm  flipper_length_mm  \\\n",
       "0  Adelie  Biscoe            37.8           18.3              174.0   \n",
       "1  Adelie  Biscoe            37.7           18.7              180.0   \n",
       "2  Adelie  Biscoe            35.9           19.2              189.0   \n",
       "3  Adelie  Biscoe            38.2           18.1              185.0   \n",
       "4  Adelie  Biscoe            38.8           17.2              180.0   \n",
       "\n",
       "   body_mass_g     sex  \n",
       "0       3400.0  female  \n",
       "1       3600.0    male  \n",
       "2       3800.0  female  \n",
       "3       3950.0    male  \n",
       "4       3800.0    male  "
      ]
     },
     "execution_count": 3,
     "metadata": {},
     "output_type": "execute_result"
    }
   ],
   "source": [
    "url = 'https://raw.githubusercontent.com/raphaelvallat/pingouin/refs/heads/main/src/pingouin/datasets/penguins.csv'\n",
    "\n",
    "df = pd.read_csv(url)\n",
    "df.head() # solo las primeras 5 filas"
   ]
  },
  {
   "cell_type": "markdown",
   "id": "ba7bb910",
   "metadata": {},
   "source": [
    "## Análisis descriptivo\n",
    "\n",
    "Como debiste revisar en la libreta previa el dataset contiene tres especies diferentes de pingüinos, **Adelie**, **Chinstrap** y **Gentoo**; y contiene algunos datos de ellos, de qué isla provienen, las dimenciones de sus picos, aletas y su peso corporal, así como su sexo. Comenzaremos analizando los datos categóricos.\n",
    "\n",
    "### Información del dataset\n",
    "Comencemos analizando el dataset como un todo, qué columnas tiene, cuántas filas, datos faltantes, etcétera."
   ]
  },
  {
   "cell_type": "code",
   "execution_count": 4,
   "id": "762bb345",
   "metadata": {},
   "outputs": [
    {
     "name": "stdout",
     "output_type": "stream",
     "text": [
      "<class 'pandas.core.frame.DataFrame'>\n",
      "RangeIndex: 344 entries, 0 to 343\n",
      "Data columns (total 7 columns):\n",
      " #   Column             Non-Null Count  Dtype  \n",
      "---  ------             --------------  -----  \n",
      " 0   species            344 non-null    object \n",
      " 1   island             344 non-null    object \n",
      " 2   bill_length_mm     342 non-null    float64\n",
      " 3   bill_depth_mm      342 non-null    float64\n",
      " 4   flipper_length_mm  342 non-null    float64\n",
      " 5   body_mass_g        342 non-null    float64\n",
      " 6   sex                333 non-null    object \n",
      "dtypes: float64(4), object(3)\n",
      "memory usage: 18.9+ KB\n"
     ]
    }
   ],
   "source": [
    "df.info()"
   ]
  },
  {
   "cell_type": "markdown",
   "id": "c10b1737",
   "metadata": {},
   "source": [
    "Podemos ver que tenemos siete columnas, tres variables categóricas y cuatro numéricas `float`. Además, podemos ver que tenemos información de 344 pingüinos, pero no tenemos todos los datos de cada uno, solo la columna de especie e isla están completas y en la columna de sexo nos faltan 11 datos.\n",
    "\n",
    "\n",
    "### Descriptivos categóricos\n",
    "\n",
    "#### Generales\n",
    "Iniciemos utilizando el método `describe` con las variables categóricas, en el output the `info` aparecen como \"object\"."
   ]
  },
  {
   "cell_type": "code",
   "execution_count": 5,
   "id": "f8ac6598",
   "metadata": {},
   "outputs": [
    {
     "data": {
      "text/html": [
       "<div>\n",
       "<style scoped>\n",
       "    .dataframe tbody tr th:only-of-type {\n",
       "        vertical-align: middle;\n",
       "    }\n",
       "\n",
       "    .dataframe tbody tr th {\n",
       "        vertical-align: top;\n",
       "    }\n",
       "\n",
       "    .dataframe thead th {\n",
       "        text-align: right;\n",
       "    }\n",
       "</style>\n",
       "<table border=\"1\" class=\"dataframe\">\n",
       "  <thead>\n",
       "    <tr style=\"text-align: right;\">\n",
       "      <th></th>\n",
       "      <th>species</th>\n",
       "      <th>island</th>\n",
       "      <th>sex</th>\n",
       "    </tr>\n",
       "  </thead>\n",
       "  <tbody>\n",
       "    <tr>\n",
       "      <th>count</th>\n",
       "      <td>344</td>\n",
       "      <td>344</td>\n",
       "      <td>333</td>\n",
       "    </tr>\n",
       "    <tr>\n",
       "      <th>unique</th>\n",
       "      <td>3</td>\n",
       "      <td>3</td>\n",
       "      <td>2</td>\n",
       "    </tr>\n",
       "    <tr>\n",
       "      <th>top</th>\n",
       "      <td>Adelie</td>\n",
       "      <td>Biscoe</td>\n",
       "      <td>male</td>\n",
       "    </tr>\n",
       "    <tr>\n",
       "      <th>freq</th>\n",
       "      <td>152</td>\n",
       "      <td>168</td>\n",
       "      <td>168</td>\n",
       "    </tr>\n",
       "  </tbody>\n",
       "</table>\n",
       "</div>"
      ],
      "text/plain": [
       "       species  island   sex\n",
       "count      344     344   333\n",
       "unique       3       3     2\n",
       "top     Adelie  Biscoe  male\n",
       "freq       152     168   168"
      ]
     },
     "execution_count": 5,
     "metadata": {},
     "output_type": "execute_result"
    }
   ],
   "source": [
    "df.describe(include='object')"
   ]
  },
  {
   "cell_type": "markdown",
   "id": "290fad8e",
   "metadata": {},
   "source": [
    "De aquí podemos ver que en especie, tenemos las tres ya comentadas y que la más frecuente aparentemente es la **Adelie**, la mayoría de los pingüinos provienen de la isla **Biscoe** y hay en total tres islas, solo tenemos dos categorías en la variable `sex` y la más frecuente es \"male\".\n",
    "\n",
    "\n",
    "#### Cuentas\n",
    "Esta información es útil pero es limitada, nos gustaría poder ver, de cada variable, su cuenta de valores y su porcentaje relativo, como es habitual.\n",
    "Comencemos por obtener la cuenta de cada variable, eso lo hacemos con el método `value_counts`"
   ]
  },
  {
   "cell_type": "code",
   "execution_count": 6,
   "id": "ec777f19",
   "metadata": {},
   "outputs": [
    {
     "data": {
      "text/plain": [
       "species\n",
       "Adelie       152\n",
       "Gentoo       124\n",
       "Chinstrap     68\n",
       "Name: count, dtype: int64"
      ]
     },
     "execution_count": 6,
     "metadata": {},
     "output_type": "execute_result"
    }
   ],
   "source": [
    "# iniciaremos por \"especie\"\n",
    "especie = df['species']\n",
    "especie.value_counts()"
   ]
  },
  {
   "cell_type": "markdown",
   "id": "9431c506",
   "metadata": {},
   "source": [
    "Para \"especie\" tenemos entonces los 152 Adelie que ya `describe` nos había dato, pero ahora podemos ver la cuenta de las otras dos especies, parece que la más rara en este dataset es Chinstrap.\n",
    "\n",
    "Este código está bien, epero habría que analizar las otras dos categóricas y eso multiplicaría nuestro código, así que podemos utilizar eficientemente un simple loop."
   ]
  },
  {
   "cell_type": "code",
   "execution_count": 7,
   "id": "95491835",
   "metadata": {},
   "outputs": [
    {
     "name": "stdout",
     "output_type": "stream",
     "text": [
      "species\n",
      "Adelie       152\n",
      "Gentoo       124\n",
      "Chinstrap     68\n",
      "Name: count, dtype: int64\n",
      "island\n",
      "Biscoe       168\n",
      "Dream        124\n",
      "Torgersen     52\n",
      "Name: count, dtype: int64\n",
      "sex\n",
      "male      168\n",
      "female    165\n",
      "Name: count, dtype: int64\n"
     ]
    }
   ],
   "source": [
    "for variable in ['species', 'island', 'sex']: # hacemos un loop para ahorrar código\n",
    "    print(df[variable].value_counts())"
   ]
  },
  {
   "cell_type": "markdown",
   "id": "39d05ead",
   "metadata": {},
   "source": [
    "Como puedes ver en dos líneas de código obtuvimos los datos que nos interesaban.\n",
    "Ahora, veamos cómo podemos calcular las frecuencias relativas.\n",
    "La fórmula es muy básica \n",
    "\n",
    "$\\text{frecuencia relativa} = \\frac{n_{cat}}{n_{total}}$"
   ]
  },
  {
   "cell_type": "code",
   "execution_count": 8,
   "id": "e58e2050",
   "metadata": {},
   "outputs": [
    {
     "data": {
      "text/html": [
       "<div>\n",
       "<style scoped>\n",
       "    .dataframe tbody tr th:only-of-type {\n",
       "        vertical-align: middle;\n",
       "    }\n",
       "\n",
       "    .dataframe tbody tr th {\n",
       "        vertical-align: top;\n",
       "    }\n",
       "\n",
       "    .dataframe thead th {\n",
       "        text-align: right;\n",
       "    }\n",
       "</style>\n",
       "<table border=\"1\" class=\"dataframe\">\n",
       "  <thead>\n",
       "    <tr style=\"text-align: right;\">\n",
       "      <th></th>\n",
       "      <th>cuenta</th>\n",
       "      <th>p</th>\n",
       "      <th>%</th>\n",
       "    </tr>\n",
       "    <tr>\n",
       "      <th>species</th>\n",
       "      <th></th>\n",
       "      <th></th>\n",
       "      <th></th>\n",
       "    </tr>\n",
       "  </thead>\n",
       "  <tbody>\n",
       "    <tr>\n",
       "      <th>Adelie</th>\n",
       "      <td>152</td>\n",
       "      <td>0.441860</td>\n",
       "      <td>44.186047</td>\n",
       "    </tr>\n",
       "    <tr>\n",
       "      <th>Gentoo</th>\n",
       "      <td>124</td>\n",
       "      <td>0.360465</td>\n",
       "      <td>36.046512</td>\n",
       "    </tr>\n",
       "    <tr>\n",
       "      <th>Chinstrap</th>\n",
       "      <td>68</td>\n",
       "      <td>0.197674</td>\n",
       "      <td>19.767442</td>\n",
       "    </tr>\n",
       "  </tbody>\n",
       "</table>\n",
       "</div>"
      ],
      "text/plain": [
       "           cuenta         p          %\n",
       "species                               \n",
       "Adelie        152  0.441860  44.186047\n",
       "Gentoo        124  0.360465  36.046512\n",
       "Chinstrap      68  0.197674  19.767442"
      ]
     },
     "execution_count": 8,
     "metadata": {},
     "output_type": "execute_result"
    }
   ],
   "source": [
    "cuenta = df['species'].value_counts() # obtenemos la cuenta\n",
    "total = cuenta.sum() # suma todos los valores\n",
    "relativos = cuenta / total # dividie cada cuenta entre el total\n",
    "porcentaje = relativos * 100 # si lo queremos como porcentaje\n",
    "pd.DataFrame({ # utilizamos un dataframe para que mejore el formato del output.\n",
    "    'cuenta': cuenta,\n",
    "    'p': relativos,\n",
    "    '%': porcentaje\n",
    "})"
   ]
  },
  {
   "cell_type": "markdown",
   "id": "afb959ec",
   "metadata": {},
   "source": [
    "observa lo fácil que podemos hacer todos los cálculos. Es como una calculadora.\n",
    "#### Ejercicio\n",
    "Calcula ahora tú las frecuencias relativas de las otras dos variables categóricas `island` y `sex`."
   ]
  },
  {
   "cell_type": "code",
   "execution_count": 9,
   "id": "16af5101",
   "metadata": {},
   "outputs": [
    {
     "data": {
      "text/plain": [
       "'tu código aquí'"
      ]
     },
     "execution_count": 9,
     "metadata": {},
     "output_type": "execute_result"
    }
   ],
   "source": [
    "'tu código aquí'"
   ]
  },
  {
   "cell_type": "markdown",
   "id": "55dc323d",
   "metadata": {},
   "source": [
    "### Descriptivos numéricos\n",
    "Veamos ahora cómo describir nuestros datos numéricos.\n",
    "Iniciemos como en la libreta previa con `describe`.\n",
    "\n",
    "#### Descriptivos básicos"
   ]
  },
  {
   "cell_type": "code",
   "execution_count": 10,
   "id": "1a41240c",
   "metadata": {},
   "outputs": [
    {
     "data": {
      "text/html": [
       "<div>\n",
       "<style scoped>\n",
       "    .dataframe tbody tr th:only-of-type {\n",
       "        vertical-align: middle;\n",
       "    }\n",
       "\n",
       "    .dataframe tbody tr th {\n",
       "        vertical-align: top;\n",
       "    }\n",
       "\n",
       "    .dataframe thead th {\n",
       "        text-align: right;\n",
       "    }\n",
       "</style>\n",
       "<table border=\"1\" class=\"dataframe\">\n",
       "  <thead>\n",
       "    <tr style=\"text-align: right;\">\n",
       "      <th></th>\n",
       "      <th>bill_length_mm</th>\n",
       "      <th>bill_depth_mm</th>\n",
       "      <th>flipper_length_mm</th>\n",
       "      <th>body_mass_g</th>\n",
       "    </tr>\n",
       "  </thead>\n",
       "  <tbody>\n",
       "    <tr>\n",
       "      <th>count</th>\n",
       "      <td>342.000000</td>\n",
       "      <td>342.000000</td>\n",
       "      <td>342.000000</td>\n",
       "      <td>342.000000</td>\n",
       "    </tr>\n",
       "    <tr>\n",
       "      <th>mean</th>\n",
       "      <td>43.921930</td>\n",
       "      <td>17.151170</td>\n",
       "      <td>200.915205</td>\n",
       "      <td>4201.754386</td>\n",
       "    </tr>\n",
       "    <tr>\n",
       "      <th>std</th>\n",
       "      <td>5.459584</td>\n",
       "      <td>1.974793</td>\n",
       "      <td>14.061714</td>\n",
       "      <td>801.954536</td>\n",
       "    </tr>\n",
       "    <tr>\n",
       "      <th>min</th>\n",
       "      <td>32.100000</td>\n",
       "      <td>13.100000</td>\n",
       "      <td>172.000000</td>\n",
       "      <td>2700.000000</td>\n",
       "    </tr>\n",
       "    <tr>\n",
       "      <th>25%</th>\n",
       "      <td>39.225000</td>\n",
       "      <td>15.600000</td>\n",
       "      <td>190.000000</td>\n",
       "      <td>3550.000000</td>\n",
       "    </tr>\n",
       "    <tr>\n",
       "      <th>50%</th>\n",
       "      <td>44.450000</td>\n",
       "      <td>17.300000</td>\n",
       "      <td>197.000000</td>\n",
       "      <td>4050.000000</td>\n",
       "    </tr>\n",
       "    <tr>\n",
       "      <th>75%</th>\n",
       "      <td>48.500000</td>\n",
       "      <td>18.700000</td>\n",
       "      <td>213.000000</td>\n",
       "      <td>4750.000000</td>\n",
       "    </tr>\n",
       "    <tr>\n",
       "      <th>max</th>\n",
       "      <td>59.600000</td>\n",
       "      <td>21.500000</td>\n",
       "      <td>231.000000</td>\n",
       "      <td>6300.000000</td>\n",
       "    </tr>\n",
       "  </tbody>\n",
       "</table>\n",
       "</div>"
      ],
      "text/plain": [
       "       bill_length_mm  bill_depth_mm  flipper_length_mm  body_mass_g\n",
       "count      342.000000     342.000000         342.000000   342.000000\n",
       "mean        43.921930      17.151170         200.915205  4201.754386\n",
       "std          5.459584       1.974793          14.061714   801.954536\n",
       "min         32.100000      13.100000         172.000000  2700.000000\n",
       "25%         39.225000      15.600000         190.000000  3550.000000\n",
       "50%         44.450000      17.300000         197.000000  4050.000000\n",
       "75%         48.500000      18.700000         213.000000  4750.000000\n",
       "max         59.600000      21.500000         231.000000  6300.000000"
      ]
     },
     "execution_count": 10,
     "metadata": {},
     "output_type": "execute_result"
    }
   ],
   "source": [
    "df.describe() # por default solo muestra las numéricas\n",
    "              # no es necesario especificarlo\n"
   ]
  },
  {
   "cell_type": "markdown",
   "id": "5f0537ed",
   "metadata": {},
   "source": [
    "La tabla está bien, pero seguro te parece raro el formato, generalmente estos gráficos se muestran al revés, con las varialbes en las filas y los descriptivos en las columnas.\n",
    "\"Voltear la tabla\" en python, es tribial. El término técnico es `Trasponer` y se logra de la siguiente manera."
   ]
  },
  {
   "cell_type": "code",
   "execution_count": 11,
   "id": "e80d9556",
   "metadata": {},
   "outputs": [
    {
     "data": {
      "text/html": [
       "<div>\n",
       "<style scoped>\n",
       "    .dataframe tbody tr th:only-of-type {\n",
       "        vertical-align: middle;\n",
       "    }\n",
       "\n",
       "    .dataframe tbody tr th {\n",
       "        vertical-align: top;\n",
       "    }\n",
       "\n",
       "    .dataframe thead th {\n",
       "        text-align: right;\n",
       "    }\n",
       "</style>\n",
       "<table border=\"1\" class=\"dataframe\">\n",
       "  <thead>\n",
       "    <tr style=\"text-align: right;\">\n",
       "      <th></th>\n",
       "      <th>count</th>\n",
       "      <th>mean</th>\n",
       "      <th>std</th>\n",
       "      <th>min</th>\n",
       "      <th>25%</th>\n",
       "      <th>50%</th>\n",
       "      <th>75%</th>\n",
       "      <th>max</th>\n",
       "    </tr>\n",
       "  </thead>\n",
       "  <tbody>\n",
       "    <tr>\n",
       "      <th>bill_length_mm</th>\n",
       "      <td>342.0</td>\n",
       "      <td>43.921930</td>\n",
       "      <td>5.459584</td>\n",
       "      <td>32.1</td>\n",
       "      <td>39.225</td>\n",
       "      <td>44.45</td>\n",
       "      <td>48.5</td>\n",
       "      <td>59.6</td>\n",
       "    </tr>\n",
       "    <tr>\n",
       "      <th>bill_depth_mm</th>\n",
       "      <td>342.0</td>\n",
       "      <td>17.151170</td>\n",
       "      <td>1.974793</td>\n",
       "      <td>13.1</td>\n",
       "      <td>15.600</td>\n",
       "      <td>17.30</td>\n",
       "      <td>18.7</td>\n",
       "      <td>21.5</td>\n",
       "    </tr>\n",
       "    <tr>\n",
       "      <th>flipper_length_mm</th>\n",
       "      <td>342.0</td>\n",
       "      <td>200.915205</td>\n",
       "      <td>14.061714</td>\n",
       "      <td>172.0</td>\n",
       "      <td>190.000</td>\n",
       "      <td>197.00</td>\n",
       "      <td>213.0</td>\n",
       "      <td>231.0</td>\n",
       "    </tr>\n",
       "    <tr>\n",
       "      <th>body_mass_g</th>\n",
       "      <td>342.0</td>\n",
       "      <td>4201.754386</td>\n",
       "      <td>801.954536</td>\n",
       "      <td>2700.0</td>\n",
       "      <td>3550.000</td>\n",
       "      <td>4050.00</td>\n",
       "      <td>4750.0</td>\n",
       "      <td>6300.0</td>\n",
       "    </tr>\n",
       "  </tbody>\n",
       "</table>\n",
       "</div>"
      ],
      "text/plain": [
       "                   count         mean         std     min       25%      50%  \\\n",
       "bill_length_mm     342.0    43.921930    5.459584    32.1    39.225    44.45   \n",
       "bill_depth_mm      342.0    17.151170    1.974793    13.1    15.600    17.30   \n",
       "flipper_length_mm  342.0   200.915205   14.061714   172.0   190.000   197.00   \n",
       "body_mass_g        342.0  4201.754386  801.954536  2700.0  3550.000  4050.00   \n",
       "\n",
       "                      75%     max  \n",
       "bill_length_mm       48.5    59.6  \n",
       "bill_depth_mm        18.7    21.5  \n",
       "flipper_length_mm   213.0   231.0  \n",
       "body_mass_g        4750.0  6300.0  "
      ]
     },
     "execution_count": 11,
     "metadata": {},
     "output_type": "execute_result"
    }
   ],
   "source": [
    "df.describe().T # solo usamos el atributo T.\n"
   ]
  },
  {
   "cell_type": "markdown",
   "id": "3c19fe8f",
   "metadata": {},
   "source": [
    "También puede ser que sean demasiados decimales y eso dificulte la lectura, nuevamente arreglarlo es tribial, redondearemos a 2 decimales.\n"
   ]
  },
  {
   "cell_type": "code",
   "execution_count": 12,
   "id": "df0ff86d",
   "metadata": {},
   "outputs": [
    {
     "data": {
      "text/html": [
       "<div>\n",
       "<style scoped>\n",
       "    .dataframe tbody tr th:only-of-type {\n",
       "        vertical-align: middle;\n",
       "    }\n",
       "\n",
       "    .dataframe tbody tr th {\n",
       "        vertical-align: top;\n",
       "    }\n",
       "\n",
       "    .dataframe thead th {\n",
       "        text-align: right;\n",
       "    }\n",
       "</style>\n",
       "<table border=\"1\" class=\"dataframe\">\n",
       "  <thead>\n",
       "    <tr style=\"text-align: right;\">\n",
       "      <th></th>\n",
       "      <th>count</th>\n",
       "      <th>mean</th>\n",
       "      <th>std</th>\n",
       "      <th>min</th>\n",
       "      <th>25%</th>\n",
       "      <th>50%</th>\n",
       "      <th>75%</th>\n",
       "      <th>max</th>\n",
       "    </tr>\n",
       "  </thead>\n",
       "  <tbody>\n",
       "    <tr>\n",
       "      <th>bill_length_mm</th>\n",
       "      <td>342.0</td>\n",
       "      <td>43.92</td>\n",
       "      <td>5.46</td>\n",
       "      <td>32.1</td>\n",
       "      <td>39.22</td>\n",
       "      <td>44.45</td>\n",
       "      <td>48.5</td>\n",
       "      <td>59.6</td>\n",
       "    </tr>\n",
       "    <tr>\n",
       "      <th>bill_depth_mm</th>\n",
       "      <td>342.0</td>\n",
       "      <td>17.15</td>\n",
       "      <td>1.97</td>\n",
       "      <td>13.1</td>\n",
       "      <td>15.60</td>\n",
       "      <td>17.30</td>\n",
       "      <td>18.7</td>\n",
       "      <td>21.5</td>\n",
       "    </tr>\n",
       "    <tr>\n",
       "      <th>flipper_length_mm</th>\n",
       "      <td>342.0</td>\n",
       "      <td>200.92</td>\n",
       "      <td>14.06</td>\n",
       "      <td>172.0</td>\n",
       "      <td>190.00</td>\n",
       "      <td>197.00</td>\n",
       "      <td>213.0</td>\n",
       "      <td>231.0</td>\n",
       "    </tr>\n",
       "    <tr>\n",
       "      <th>body_mass_g</th>\n",
       "      <td>342.0</td>\n",
       "      <td>4201.75</td>\n",
       "      <td>801.95</td>\n",
       "      <td>2700.0</td>\n",
       "      <td>3550.00</td>\n",
       "      <td>4050.00</td>\n",
       "      <td>4750.0</td>\n",
       "      <td>6300.0</td>\n",
       "    </tr>\n",
       "  </tbody>\n",
       "</table>\n",
       "</div>"
      ],
      "text/plain": [
       "                   count     mean     std     min      25%      50%     75%  \\\n",
       "bill_length_mm     342.0    43.92    5.46    32.1    39.22    44.45    48.5   \n",
       "bill_depth_mm      342.0    17.15    1.97    13.1    15.60    17.30    18.7   \n",
       "flipper_length_mm  342.0   200.92   14.06   172.0   190.00   197.00   213.0   \n",
       "body_mass_g        342.0  4201.75  801.95  2700.0  3550.00  4050.00  4750.0   \n",
       "\n",
       "                      max  \n",
       "bill_length_mm       59.6  \n",
       "bill_depth_mm        21.5  \n",
       "flipper_length_mm   231.0  \n",
       "body_mass_g        6300.0  "
      ]
     },
     "execution_count": 12,
     "metadata": {},
     "output_type": "execute_result"
    }
   ],
   "source": [
    "df.describe().T.round(2)"
   ]
  },
  {
   "cell_type": "markdown",
   "id": "1f3f7c75",
   "metadata": {},
   "source": [
    "Otro de los principales descriptivos en variables numéricas son las correlaciones.\n",
    "En pandas es igualmente tribial generar una matriz de correlación."
   ]
  },
  {
   "cell_type": "code",
   "execution_count": 13,
   "id": "a177f166",
   "metadata": {},
   "outputs": [
    {
     "data": {
      "text/html": [
       "<div>\n",
       "<style scoped>\n",
       "    .dataframe tbody tr th:only-of-type {\n",
       "        vertical-align: middle;\n",
       "    }\n",
       "\n",
       "    .dataframe tbody tr th {\n",
       "        vertical-align: top;\n",
       "    }\n",
       "\n",
       "    .dataframe thead th {\n",
       "        text-align: right;\n",
       "    }\n",
       "</style>\n",
       "<table border=\"1\" class=\"dataframe\">\n",
       "  <thead>\n",
       "    <tr style=\"text-align: right;\">\n",
       "      <th></th>\n",
       "      <th>bill_length_mm</th>\n",
       "      <th>bill_depth_mm</th>\n",
       "      <th>flipper_length_mm</th>\n",
       "      <th>body_mass_g</th>\n",
       "    </tr>\n",
       "  </thead>\n",
       "  <tbody>\n",
       "    <tr>\n",
       "      <th>bill_length_mm</th>\n",
       "      <td>1.000000</td>\n",
       "      <td>-0.235053</td>\n",
       "      <td>0.656181</td>\n",
       "      <td>0.595110</td>\n",
       "    </tr>\n",
       "    <tr>\n",
       "      <th>bill_depth_mm</th>\n",
       "      <td>-0.235053</td>\n",
       "      <td>1.000000</td>\n",
       "      <td>-0.583851</td>\n",
       "      <td>-0.471916</td>\n",
       "    </tr>\n",
       "    <tr>\n",
       "      <th>flipper_length_mm</th>\n",
       "      <td>0.656181</td>\n",
       "      <td>-0.583851</td>\n",
       "      <td>1.000000</td>\n",
       "      <td>0.871202</td>\n",
       "    </tr>\n",
       "    <tr>\n",
       "      <th>body_mass_g</th>\n",
       "      <td>0.595110</td>\n",
       "      <td>-0.471916</td>\n",
       "      <td>0.871202</td>\n",
       "      <td>1.000000</td>\n",
       "    </tr>\n",
       "  </tbody>\n",
       "</table>\n",
       "</div>"
      ],
      "text/plain": [
       "                   bill_length_mm  bill_depth_mm  flipper_length_mm  \\\n",
       "bill_length_mm           1.000000      -0.235053           0.656181   \n",
       "bill_depth_mm           -0.235053       1.000000          -0.583851   \n",
       "flipper_length_mm        0.656181      -0.583851           1.000000   \n",
       "body_mass_g              0.595110      -0.471916           0.871202   \n",
       "\n",
       "                   body_mass_g  \n",
       "bill_length_mm        0.595110  \n",
       "bill_depth_mm        -0.471916  \n",
       "flipper_length_mm     0.871202  \n",
       "body_mass_g           1.000000  "
      ]
     },
     "execution_count": 13,
     "metadata": {},
     "output_type": "execute_result"
    }
   ],
   "source": [
    "(\n",
    "    df\n",
    "    .select_dtypes(exclude='object') # excluimos a las variables categóricas\n",
    "    .corr() # corremos la matriz de correlación\n",
    "            # por default utilizará pearson\n",
    ")"
   ]
  },
  {
   "cell_type": "markdown",
   "id": "1b81e114",
   "metadata": {},
   "source": [
    ":::{note}\n",
    "El atributo `T` está disponible en cualquier arreglo de datos, no solo en los descriptivos.\n",
    "Lo mismo para el método `round`.\n",
    ":::\n",
    "\n",
    "### Visualizaciones básicas\n",
    "\n",
    "Para continuar nuestro análisis descriptivo básico, utilizaremos algunos gráficos comunes.\n",
    "Para comenzar a visualizar nuestros datos utilizaremos `matplotlib`\n",
    "\n",
    ":::{important}\n",
    "Por favor tomate un momento para revisar la [documentación](https://matplotlib.org/stable/index.html) de matplotlib.\n",
    "También revisa los [acordeones](#acordeones-target).\n",
    ":::\n",
    "#### Distribuciones\n",
    "\n",
    "##### Histogramas\n",
    "Los histogramas nos dan información de la frecuencia de cada valor posible de nuestras variables numéricas.\n",
    "Exploremos el comportamiento del peso.\n",
    "Es posible generar un histograma directamente de la columna de peso con `pandas` y el método `hist`."
   ]
  },
  {
   "cell_type": "code",
   "execution_count": 14,
   "id": "d936422a",
   "metadata": {},
   "outputs": [
    {
     "data": {
      "text/plain": [
       "<Axes: >"
      ]
     },
     "execution_count": 14,
     "metadata": {},
     "output_type": "execute_result"
    },
    {
     "data": {
      "image/png": "[encoded data removed]",
      "text/plain": [
       "<Figure size 640x480 with 1 Axes>"
      ]
     },
     "metadata": {},
     "output_type": "display_data"
    }
   ],
   "source": [
    "df['body_mass_g'].hist()"
   ]
  },
  {
   "cell_type": "markdown",
   "id": "eb925cda",
   "metadata": {},
   "source": [
    "Si solo lo dejamos así, es poco informativo. En un momento veremos cómo darle más estilo a la imagen, pero antes, es importante resaltar algo notable que está sucediendo.\n",
    "No es `pandas` quien acaba de hacer el histograma, en realidad fue `matplotlib`. \n",
    "\n",
    "Sí, `matplotlib` es la base de muchas librerías que ayudan con la visualización de los datos, incluyendo `pandas`.\n",
    "Eso quiere decir que podemos utilizar `matplotlib` para interactuar más con la imagen, por ejemplo:"
   ]
  },
  {
   "cell_type": "code",
   "execution_count": 15,
   "id": "914ca5b9",
   "metadata": {},
   "outputs": [
    {
     "data": {
      "image/png": "[encoded data removed]",
      "text/plain": [
       "<Figure size 640x480 with 1 Axes>"
      ]
     },
     "metadata": {},
     "output_type": "display_data"
    }
   ],
   "source": [
    "df['body_mass_g'].hist()\n",
    "plt.title('Histograma de peso') # para el título\n",
    "plt.xlabel('Peso en gramos')    # rótulo X\n",
    "plt.ylabel('Frecuencia')        # rótulo Y\n",
    "plt.show()                      # para el formato de salida de la imagen"
   ]
  },
  {
   "cell_type": "markdown",
   "id": "1c5d346f",
   "metadata": {},
   "source": [
    "###### Ejercicio\n",
    "1. Revisa la [documentación](https://pandas.pydata.org/pandas-docs/stable/reference/api/pandas.Series.plot.hist.html) de `pd.Series.hist`.\n",
    "2. Utiliza la documentación y los ejemplos para generar nuevas versiones del histograma.\n",
    "3. Revisa también `pd.DataFrame.hist`\n",
    "\n"
   ]
  },
  {
   "cell_type": "code",
   "execution_count": 16,
   "id": "caa50488",
   "metadata": {},
   "outputs": [
    {
     "data": {
      "image/png": "[encoded data removed]",
      "text/plain": [
       "<Figure size 640x480 with 4 Axes>"
      ]
     },
     "metadata": {},
     "output_type": "display_data"
    }
   ],
   "source": [
    "# ejemplo de lo que se puede hacer si utilizamos hist desde el dataframe en lugar de la serie.\n",
    "df.hist(\n",
    "    column='body_mass_g', # dato que va al histograma\n",
    "    by='species',  # cómo separar los datos\n",
    "    xrot=0\n",
    ")\n",
    "plt.show()"
   ]
  },
  {
   "cell_type": "markdown",
   "id": "96c7eb72",
   "metadata": {},
   "source": [
    "#### Densidad\n",
    "Los gráficos de densidad son también muy útiles y frecuentemente utilizados para analizar la distribución de los datos.\n",
    "El método estándar para analizar la densidad de datos empíricos es con el estimado del kernel, en inglés `kde`."
   ]
  },
  {
   "cell_type": "code",
   "execution_count": 17,
   "id": "5b8229bf",
   "metadata": {},
   "outputs": [
    {
     "data": {
      "image/png": "[encoded data removed]",
      "text/plain": [
       "<Figure size 640x480 with 1 Axes>"
      ]
     },
     "metadata": {},
     "output_type": "display_data"
    }
   ],
   "source": [
    "df['body_mass_g'].plot.kde()\n",
    "plt.title('Densidad de peso')\n",
    "plt.xlabel('Peso en gramos')\n",
    "plt.ylabel('Densidad')\n",
    "plt.show()"
   ]
  },
  {
   "cell_type": "markdown",
   "id": "9cc0f12c",
   "metadata": {},
   "source": [
    "#### Boxplot (Caja y brazos)\n",
    "Estos gráficos también son uno de los principales estándares para visualizar la distribución de los datos.\n"
   ]
  },
  {
   "cell_type": "code",
   "execution_count": 18,
   "id": "77f95234",
   "metadata": {},
   "outputs": [
    {
     "data": {
      "image/png": "[encoded data removed]",
      "text/plain": [
       "<Figure size 640x480 with 1 Axes>"
      ]
     },
     "metadata": {},
     "output_type": "display_data"
    }
   ],
   "source": [
    "df.boxplot(\n",
    "    column='body_mass_g',\n",
    "    by='species'\n",
    ")\n",
    "plt.show()"
   ]
  },
  {
   "cell_type": "markdown",
   "id": "c5396221",
   "metadata": {},
   "source": [
    "#### Ejercicio \n",
    "Utiliza los tres tipos de gráficos que hemos analizado hasta ahora para analizar el resto de las variables"
   ]
  },
  {
   "cell_type": "code",
   "execution_count": 19,
   "id": "c72159e1",
   "metadata": {},
   "outputs": [
    {
     "data": {
      "text/plain": [
       "'tu código aquí'"
      ]
     },
     "execution_count": 19,
     "metadata": {},
     "output_type": "execute_result"
    }
   ],
   "source": [
    "'tu código aquí'"
   ]
  },
  {
   "cell_type": "markdown",
   "id": "4181a4cf",
   "metadata": {},
   "source": [
    "### Dispersión\n",
    "Otro de los principales gráficos en el análisis de datos es el de dispersión, que muestra la relación entre dos principales variables."
   ]
  },
  {
   "cell_type": "code",
   "execution_count": 20,
   "id": "e7cb5799",
   "metadata": {},
   "outputs": [
    {
     "data": {
      "image/png": "[encoded data removed]",
      "text/plain": [
       "<Figure size 640x480 with 1 Axes>"
      ]
     },
     "metadata": {},
     "output_type": "display_data"
    }
   ],
   "source": [
    "df.plot.scatter(\n",
    "    x='bill_length_mm',\n",
    "    y='bill_depth_mm',\n",
    ")\n",
    "plt.title('Dispersión entre el largo y el ancho del pico')\n",
    "plt.show()"
   ]
  },
  {
   "cell_type": "markdown",
   "id": "e9bd8b5a",
   "metadata": {},
   "source": [
    "Si observas con atención, existen tres diferentes clusters o \"conglomerados\" podemos ver qué pasa si asignamos colore por especie."
   ]
  },
  {
   "cell_type": "code",
   "execution_count": 21,
   "id": "7cdba54c",
   "metadata": {},
   "outputs": [
    {
     "data": {
      "image/png": "[encoded data removed]",
      "text/plain": [
       "<Figure size 640x480 with 1 Axes>"
      ]
     },
     "metadata": {},
     "output_type": "display_data"
    }
   ],
   "source": [
    "colors = {'Adelie': 'blue', 'Chinstrap': 'green', 'Gentoo': 'red'}\n",
    "df.plot.scatter(\n",
    "    x='bill_length_mm',\n",
    "    y='bill_depth_mm',\n",
    "    c=df['species'].map(colors)\n",
    ")\n",
    "plt.title('Dispersión entre el largo y el ancho del pico por especie')\n",
    "plt.show()"
   ]
  },
  {
   "cell_type": "markdown",
   "id": "cd5aa7a8",
   "metadata": {},
   "source": [
    "Los colores muestran que hay diferencias por especies, pero en el gráfico no tenemos claro qué especie es qué color, podemos agregarlo pero veremos luego cómo hacerlo."
   ]
  },
  {
   "cell_type": "markdown",
   "id": "82538e47",
   "metadata": {},
   "source": [
    "### Ejercicio final\n",
    "Utiliza lo aprendido y termina de analizar los datos y las diferentes asociaciones que creas que existan.\n",
    "\n",
    "### Práctica personal\n",
    "Abre otro dataset que conozcas y aplica lo que practicamos.\n"
   ]
  }
 ],
 "metadata": {
  "kernelspec": {
   "display_name": ".venv",
   "language": "python",
   "name": "python3"
  },
  "language_info": {
   "codemirror_mode": {
    "name": "ipython",
    "version": 3
   },
   "file_extension": ".py",
   "mimetype": "text/x-python",
   "name": "python",
   "nbconvert_exporter": "python",
   "pygments_lexer": "ipython3",
   "version": "3.13.5"
  }
 },
 "nbformat": 4,
 "nbformat_minor": 5
}

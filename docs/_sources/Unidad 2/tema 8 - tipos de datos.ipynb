{
 "cells": [
  {
   "cell_type": "markdown",
   "id": "5c370759",
   "metadata": {
    "nav_order": 2
   },
   "source": [
    "# Tema 8: Tipos de datos\n",
    "\n",
    "Como se revisión en la [lección 3](#tema2-tipos-target) y en las lecciones anterior, todos los valores en python son objetos que tienen un cierto tipo.\n"
   ]
  }
 ],
 "metadata": {
  "language_info": {
   "name": "python"
  }
 },
 "nbformat": 4,
 "nbformat_minor": 5
}

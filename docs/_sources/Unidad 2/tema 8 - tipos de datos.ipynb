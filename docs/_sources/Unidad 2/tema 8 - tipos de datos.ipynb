{
 "cells": [
  {
   "cell_type": "markdown",
   "id": "5c370759",
   "metadata": {
    "nav_order": 2
   },
   "source": [
    "# Tipos de datos"
   ]
  }
 ],
 "metadata": {
  "language_info": {
   "name": "python"
  }
 },
 "nbformat": 4,
 "nbformat_minor": 5
}

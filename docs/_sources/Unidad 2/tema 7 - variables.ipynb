{
 "cells": [
  {
   "cell_type": "markdown",
   "id": "b90c719f",
   "metadata": {},
   "source": [
    "# Tema 7: Variables\n",
    "\n",
    "En esta libreta aprenderás qué son las variables, cómo asignarles valores, y cómo manipularlas y trabajar con ellas. Entenderás la diferencia entre una **variable** y un **valor**, y comenzarás a explorar cómo Python maneja internamente estos conceptos a través de los **objetos**.\n",
    "\n",
    "## ¿Qué es una variable?\n",
    "\n",
    "Ten en claro lo siguiente:\n",
    "\n",
    ":::{admonition} Concepto Clave\n",
    ":class: error\n",
    "\n",
    "- **Valor:** Es el dato en sí. Puede ser un número como `5`, un texto como `\"hola\"`, o algo más complejo.  \n",
    "- **Variable:** Es un *nombre* que se asocia a un valor. Las variables nos permiten guardar información y referirnos a ella más adelante.\n",
    "\n",
    ":::\n",
    "\n",
    "En Python, cuando haces una asignación como:\n",
    "\n",
    "```python\n",
    "x = 5\n",
    "```\n",
    "\n",
    "Estás creando un **nombre** (`x`) que apunta a un **valor** (`5`). Decimos que `x` *referencia* al valor `5`. Este valor es un **objeto** en Python.\n",
    "\n",
    "```python\n",
    "nombre = \"Juan\"\n",
    "edad = 30\n",
    "```\n",
    "\n",
    "Los nombres `nombre` y `edad` son variables. `\"Juan\"` y `30` son valores. Estos valores pueden cambiarse fácilmente:\n",
    "\n",
    "```python\n",
    "edad = edad + 1\n",
    "```\n",
    "\n",
    "Ahora `edad` tiene un nuevo valor: `31`.\n",
    "\n",
    "## ¿Qué significa que todo es un objeto en Python?\n",
    "\n",
    "Cada valor en Python es en realidad un **objeto**. Eso quiere decir que incluso algo tan simple como el número `5` tiene propiedades y comportamientos.\n",
    "\n",
    "```python\n",
    "x = 5\n",
    "type(x)\n",
    "```\n",
    "\n",
    "Esto te mostrará que el valor `5` es de tipo `int`, pero más adelante veremos qué significa eso. Por ahora, quédate con la idea de que los valores tienen un tipo y que Python usa objetos para representar todo.\n",
    "\n",
    ":::{tip}\n",
    "\n",
    "**Ojo**: Los objetos son los valores, no las variables.\n",
    "\n",
    ":::\n",
    "\n",
    "Ahora vamos a practicar con algunas asignaciones y operaciones con variables."
   ]
  },
  {
   "cell_type": "code",
   "execution_count": 1,
   "id": "a479158a",
   "metadata": {},
   "outputs": [
    {
     "name": "stdout",
     "output_type": "stream",
     "text": [
      "3\n"
     ]
    }
   ],
   "source": [
    "# Esta es una celda de código\n",
    "# Podemos escribir comentarios poniendo el signo de gato \"#\"\n",
    "# Ejecútala con ctrl + enter o el botón de \"play\".\n",
    "\n",
    "x = 3 # esta es una variable, su nombre es \"x\", su valor es \"3\".\n",
    "\n",
    "print(x)"
   ]
  },
  {
   "cell_type": "markdown",
   "id": "3081f747",
   "metadata": {},
   "source": [
    "Observa que debajo de la celda está el número 3. \n",
    "Este número aparece porque la celda ejecutó `print(x)` y `x` es la varable con el valor 3, definido en la linea 5 con `x = 3`."
   ]
  },
  {
   "cell_type": "code",
   "execution_count": 2,
   "id": "b22b1e99",
   "metadata": {},
   "outputs": [
    {
     "name": "stdout",
     "output_type": "stream",
     "text": [
      "8\n"
     ]
    }
   ],
   "source": [
    "# Esta es otra celda de código.\n",
    "# Vamos a asignar una nueva variable llamada \"y\" y le vamos a dar el valor de 5.\n",
    "y = 5\n",
    "# Ahora vamos a sumar las dos variables y mostrar el resultado.\n",
    "suma = x + y\n",
    "print(suma)\n",
    "# Ahora vamos a restar las dos variables y mostrar el resultado."
   ]
  },
  {
   "cell_type": "markdown",
   "id": "20abd307",
   "metadata": {},
   "source": [
    "Deberías ver ahora el número 8. Pero nota que no hemos modificado ni `x` ni `y`.\n",
    "\n",
    "Qué pasa si queremos que `x` sea ahora igual a la suma de `x` y `y`.\n",
    "\n",
    "Es decir:\n",
    "\n",
    "$x = x + y$\n",
    "\n",
    "Así como lo acabamos de escribir, en forma matemática, es válido en python.\n",
    "\n",
    "Python fue diseñado para que el manejo de variables sea parecido a la notación matemática.\n",
    "\n",
    "Intentémoslo."
   ]
  },
  {
   "cell_type": "code",
   "execution_count": 3,
   "id": "d4840906",
   "metadata": {},
   "outputs": [
    {
     "name": "stdout",
     "output_type": "stream",
     "text": [
      "8\n"
     ]
    }
   ],
   "source": [
    "x = x + y\n",
    "print(x)"
   ]
  },
  {
   "cell_type": "markdown",
   "id": "b68f1417",
   "metadata": {},
   "source": [
    "Deberías volver a ver el número 8, pero nota algo interesante, ejecuta la celda varias veces, verás que el numero continúa incrementándose más y más. \n",
    "\n",
    "Esto sucede porque `y` vale **5** y el valor de `x` lo cambiamos con base en lo que vale x al momento de la ejecución del código, la primera vez, `x` vale 3, pero la segunda vale 8, la tercera 13, etcétera.\n",
    "\n",
    "En la celda de abajo escribe un nuevo código que defina las variables `x` y `y` nuevamente, de tal forma que cuando se "
   ]
  },
  {
   "cell_type": "code",
   "execution_count": 4,
   "id": "f583397e",
   "metadata": {},
   "outputs": [
    {
     "name": "stdout",
     "output_type": "stream",
     "text": [
      "13\n"
     ]
    }
   ],
   "source": [
    "# Escríbe código aquí definiendo de nuevo a \"x\" y a \"y\".\n",
    "\n",
    "# --------\n",
    "x = x + y\n",
    "print(x)"
   ]
  },
  {
   "cell_type": "markdown",
   "id": "e8505110",
   "metadata": {},
   "source": [
    "## Mutabilidad de objetos\n",
    "\n",
    "En python existen dos tipos de objetos, los que son mutables y los que no.\n",
    "Hasta ahora hemos trabajado con tipos numéricos enteros, `int` en python.\n",
    "Los valores tipo `int` no son mutables, es decir, un dos no puede convertirse en tres.\n",
    "\n",
    "Pero, ¿no es esto lo que acabamos de hacer?, en efecto **NO**. \n",
    "\n",
    "Cuando decimos `x = 3`, el valor \"3\" es un objeto tipo `int`, y cuando sumamos `y`, otro objeto `int` con el valor \"5\", lo que estamos haciendo es creando un *nuevo* objeto con el valor 8, es decir, que el 3 no se convirtió en 8, sino que un nuevo objeto se asignó a la variable `x`.\n",
    "\n",
    ":::{tip}\n",
    "\n",
    "Imagina las variables como \"contenedores\". \n",
    "Dentro de la copa puedes poner cualquier valor e incluso cambiarlo, en python, nada te previene de cambiar el valor de `x` por algo completamente diferente, como `x = \"hola\"`.\n",
    "\n",
    ":::\n",
    "\n",
    "Veremos lo tipos mutables en la siguiente lección, pero por ahora es importante recordar que los tipos `int` no son mutables, pero eso no quiere decir que no podamos cambiar las \"variables\", solo son los \"valores\" los que no pueden mutar.\n",
    "\n",
    "\n",
    "## ¿Cómo saber si un objeto es el mismo que otro?\n",
    "\n",
    "Aquí hay que separar dos conceptos: \"Identidad\" e \"Igualdad\".\n",
    "\n",
    "### Igualdad\n",
    "\n",
    "Si yo quiero saber si dos objetos son equivalentes, utilizo el operador `==`.\n",
    "Por ejemplo, en python, otro tipo de datos son los `float`. Los tipos float, tienen punto decimal.\n",
    "Podríamos comparar `x=3` y `y=3.0` y ver si son **equivalentes**.\n",
    "\n",
    "```python\n",
    "x = 3\n",
    "y = 3.0\n",
    "print(x == y) # True\n",
    "```\n",
    "\n",
    "### Identidad\n",
    "\n",
    "Si lo que quiero es saber si dos variables apuntan al mismo objeto, entonces uso la el operador `is`.\n",
    "Es decir, en el ejemplo `x=3` y `y=3.0`, `x is y` va a decir **False**, porque aunque son iguales, no son la misma cosa.\n",
    "\n",
    "```python\n",
    "x = 3\n",
    "y = 3.0\n",
    "print(x is y) # False\n",
    "# pero\n",
    "x = y = 3\n",
    "print(x is y) # True\n",
    "```\n",
    "\n",
    ":::{admonition} Concepto crítico\n",
    ":class: error\n",
    "\n",
    "No uses el operador `is` para comprovar equivalencia, por ejemplo:\n",
    "\n",
    "```python\n",
    "x = 3\n",
    "print(x is 3)\n",
    "```\n",
    "En su lugar, utiliza el operador `==`:\n",
    "```python\n",
    "x = 3\n",
    "print(x == 3)\n",
    "```\n",
    ":::\n",
    "\n",
    "\n",
    "Utiliza la última celda para realizar algunas operaciones sencillas, utiliza otros operadores, revisa la sección de [operadores](#operadores-target)."
   ]
  },
  {
   "cell_type": "code",
   "execution_count": null,
   "id": "e38576f8",
   "metadata": {},
   "outputs": [],
   "source": []
  }
 ],
 "metadata": {
  "kernelspec": {
   "display_name": ".venv",
   "language": "python",
   "name": "python3"
  },
  "language_info": {
   "codemirror_mode": {
    "name": "ipython",
    "version": 3
   },
   "file_extension": ".py",
   "mimetype": "text/x-python",
   "name": "python",
   "nbconvert_exporter": "python",
   "pygments_lexer": "ipython3",
   "version": "3.13.1"
  }
 },
 "nbformat": 4,
 "nbformat_minor": 5
}

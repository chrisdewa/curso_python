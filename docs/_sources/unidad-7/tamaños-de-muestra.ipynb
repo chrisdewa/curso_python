{
 "cells": [
  {
   "cell_type": "markdown",
   "id": "340328d8",
   "metadata": {},
   "source": [
    "# Tamaños de muestra\n",
    "\n",
    "Esta libreta está diseñada para ayudarte a realizar cálculos de tamaño muestral frecuentes en estudios biomédicos."
   ]
  },
  {
   "cell_type": "code",
   "execution_count": 1,
   "id": "3dbb6470",
   "metadata": {},
   "outputs": [
    {
     "name": "stdout",
     "output_type": "stream",
     "text": [
      "Librerías importadas\n"
     ]
    }
   ],
   "source": [
    "import pandas as pd\n",
    "import numpy as np\n",
    "import scipy.stats as stats\n",
    "import statsmodels.api as sm\n",
    "import pingouin as pg\n",
    "print('Librerías importadas')"
   ]
  }
 ],
 "metadata": {
  "kernelspec": {
   "display_name": "curso-python",
   "language": "python",
   "name": "python3"
  },
  "language_info": {
   "codemirror_mode": {
    "name": "ipython",
    "version": 3
   },
   "file_extension": ".py",
   "mimetype": "text/x-python",
   "name": "python",
   "nbconvert_exporter": "python",
   "pygments_lexer": "ipython3",
   "version": "3.13.1"
  }
 },
 "nbformat": 4,
 "nbformat_minor": 5
}

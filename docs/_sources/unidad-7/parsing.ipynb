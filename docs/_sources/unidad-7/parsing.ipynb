{
 "cells": [
  {
   "cell_type": "markdown",
   "id": "6d91b7f1",
   "metadata": {},
   "source": [
    "# Parsing\n",
    "\n",
    "*Parsing* es el proceso de tomar una entrada estructurada o semiestructurada (como texto, comandos, o datos en bruto), analizar su contenido de acuerdo con reglas sintácticas o semánticas definidas, y transformarlo en una estructura de datos interna que pueda ser utilizada para generar un resultado o ejecutar una acción.\n",
    "\n",
    "Tu objetivo es tomar una serie de cadenas de texto y procesarlas.\n",
    "\n",
    "## Ejercicio\n",
    "En un laboratorio tienen una lista de sujetos, cada sujeto está representado por una cadena de texto identificadora.\n",
    "La cadena de texto está generada tomando, el sexo del sujeto `M` para mujeres y `H` para hombres, cuatro números aleatorios, luego el año de nacimiento del sujeto y finalmente el número de registro en la serie (dos dígitos). \n",
    "\n",
    "`\"{sexo}{aleatorio}{año}{registro}\"`\n"
   ]
  },
  {
   "cell_type": "code",
   "execution_count": 28,
   "id": "a6cb66ff",
   "metadata": {},
   "outputs": [
    {
     "name": "stdout",
     "output_type": "stream",
     "text": [
      "['M5341196584', 'M2196201879', 'M1444199229', 'M6692197233', 'M3261199136', 'F3028195193', 'F8169196145', 'M7968198621', 'F6740201848', 'M9139200943', 'F9504198527', 'M5259201396', 'F1293199407', 'F9554202553', 'F6876194931', 'M4336198811', 'M0273202590', 'F1146200787', 'F7886201415', 'F0110194538', 'M1519195784', 'F2850196003', 'F2585196436', 'M4103200618', 'M4064197506', 'F0546200207', 'M3384202277', 'M1957195730', 'M6658197000', 'M7492194217', 'F9986194275', 'M9742197754', 'F5197195293', 'M7619200983', 'M8306195225', 'F8876195552', 'M3332196743', 'F6380201396', 'F3149199496', 'F5364198370', 'M8904196854', 'F2448201523', 'M1117197745', 'F0841199275', 'F4688194612', 'F5541196426', 'M4400196698', 'F5494200336', 'F1092197180', 'M8573198792', 'F1122198211', 'M1930199112', 'F6296200284', 'F5046201524', 'F2508202446', 'M4471194443', 'M8723194088', 'M8100202571', 'M3868201594', 'M2754201940', 'F6760198279', 'M2699197500', 'M6960195747', 'M2457202471', 'M2499194970', 'M4155196383', 'F8196194544', 'F7703198631', 'F8228201519', 'F9350198331', 'F3393195898', 'F0094196460', 'F6865199102', 'M8251195713', 'F5580200004', 'F0743199641', 'F0883199750', 'F4287194946', 'F1520198499', 'M6680196154', 'F0864195521', 'M7185201631', 'F8590195894', 'F0522196828', 'F5408197375', 'M9086195567', 'M0522198986', 'F3240201279', 'F8820202377', 'F8100199484', 'M2472198238', 'F0119201573', 'F1536202166', 'F5538202110', 'F4398194084', 'F6844194069', 'F7686195984', 'F8565197200', 'F2684202488', 'M4214199421']\n"
     ]
    }
   ],
   "source": [
    "# No muevas esta celda\n",
    "sujetos = ['M5341196584', 'M2196201879', 'M1444199229', 'M6692197233', 'M3261199136', \n",
    "           'F3028195193', 'F8169196145', 'M7968198621', 'F6740201848', 'M9139200943', \n",
    "           'F9504198527', 'M5259201396', 'F1293199407', 'F9554202553', 'F6876194931', \n",
    "           'M4336198811', 'M0273202590', 'F1146200787', 'F7886201415', 'F0110194538', \n",
    "           'M1519195784', 'F2850196003', 'F2585196436', 'M4103200618', 'M4064197506', \n",
    "           'F0546200207', 'M3384202277', 'M1957195730', 'M6658197000', 'M7492194217', \n",
    "           'F9986194275', 'M9742197754', 'F5197195293', 'M7619200983', 'M8306195225', \n",
    "           'F8876195552', 'M3332196743', 'F6380201396', 'F3149199496', 'F5364198370', \n",
    "           'M8904196854', 'F2448201523', 'M1117197745', 'F0841199275', 'F4688194612', \n",
    "           'F5541196426', 'M4400196698', 'F5494200336', 'F1092197180', 'M8573198792', \n",
    "           'F1122198211', 'M1930199112', 'F6296200284', 'F5046201524', 'F2508202446', \n",
    "           'M4471194443', 'M8723194088', 'M8100202571', 'M3868201594', 'M2754201940', \n",
    "           'F6760198279', 'M2699197500', 'M6960195747', 'M2457202471', 'M2499194970', \n",
    "           'M4155196383', 'F8196194544', 'F7703198631', 'F8228201519', 'F9350198331', \n",
    "           'F3393195898', 'F0094196460', 'F6865199102', 'M8251195713', 'F5580200004', \n",
    "           'F0743199641', 'F0883199750', 'F4287194946', 'F1520198499', 'M6680196154', \n",
    "           'F0864195521', 'M7185201631', 'F8590195894', 'F0522196828', 'F5408197375', \n",
    "           'M9086195567', 'M0522198986', 'F3240201279', 'F8820202377', 'F8100199484', \n",
    "           'M2472198238', 'F0119201573', 'F1536202166', 'F5538202110', 'F4398194084', \n",
    "           'F6844194069', 'F7686195984', 'F8565197200', 'F2684202488', 'M4214199421']\n",
    "\n",
    "print(sujetos)"
   ]
  },
  {
   "cell_type": "markdown",
   "id": "d29d1a16",
   "metadata": {},
   "source": [
    "Por ejemplo, el primer sujeto tiene una id: `\"M5341196584\"`, lo que indica que es un hombre cuyo año de nacimiento es `1965`.\n",
    "Tu objetivo es reportar el número de sujetos del sexo femenino, que nacieron a partir de `2007` (es decir mayor o igual a 2007).\n",
    "\n",
    "Solo debes reportar el número entero.\n",
    "\n",
    ":::{tip}\n",
    "Es posible convertir un número codificado en una cadena de texto con `int`, de la siguiente forma:\n",
    "```python\n",
    "en_texto = '10'\n",
    "en_entero = int(en_texto)\n",
    "```\n",
    ":::"
   ]
  },
  {
   "cell_type": "code",
   "execution_count": 27,
   "id": "84ca1eef",
   "metadata": {},
   "outputs": [
    {
     "name": "stdout",
     "output_type": "stream",
     "text": [
      "Escribe tu código aquí\n"
     ]
    }
   ],
   "source": [
    "print('Escribe tu código aquí')"
   ]
  }
 ],
 "metadata": {
  "kernelspec": {
   "display_name": "curso-python",
   "language": "python",
   "name": "python3"
  },
  "language_info": {
   "codemirror_mode": {
    "name": "ipython",
    "version": 3
   },
   "file_extension": ".py",
   "mimetype": "text/x-python",
   "name": "python",
   "nbconvert_exporter": "python",
   "pygments_lexer": "ipython3",
   "version": "3.13.5"
  }
 },
 "nbformat": 4,
 "nbformat_minor": 5
}

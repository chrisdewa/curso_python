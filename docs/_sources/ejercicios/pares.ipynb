{
 "cells": [
  {
   "cell_type": "markdown",
   "id": "7f0ac4c7",
   "metadata": {},
   "source": [
    "# Pares\n",
    "\n",
    "El objetivo de este ejercicio es programar de forma eficiente cómo identificar si un número es par o es non.\n",
    "\n",
    "## Conocimiento previo\n",
    "La forma más sencilla en para resolver si un número dado es o no par, es utilizando la operación [módulo](https://es.wikipedia.org/wiki/Operaci%C3%B3n_m%C3%B3dulo).\n",
    "En python funciona así: \n"
   ]
  },
  {
   "cell_type": "code",
   "execution_count": 1,
   "id": "a57180da",
   "metadata": {},
   "outputs": [
    {
     "data": {
      "text/plain": [
       "1"
      ]
     },
     "execution_count": 1,
     "metadata": {},
     "output_type": "execute_result"
    }
   ],
   "source": [
    "número = 7\n",
    "número % 2"
   ]
  },
  {
   "cell_type": "markdown",
   "id": "b06a3af0",
   "metadata": {},
   "source": [
    "El resultado es \"1\". Solo los números divisibles entre 2 van a tener un resultado módulo 2 de 0.\n"
   ]
  },
  {
   "cell_type": "code",
   "execution_count": 2,
   "id": "cf3b38ef",
   "metadata": {},
   "outputs": [
    {
     "data": {
      "text/plain": [
       "0"
      ]
     },
     "execution_count": 2,
     "metadata": {},
     "output_type": "execute_result"
    }
   ],
   "source": [
    "número = 8\n",
    "número % 2"
   ]
  },
  {
   "cell_type": "markdown",
   "id": "0c1aee57",
   "metadata": {},
   "source": [
    "## Ejercicio\n"
   ]
  },
  {
   "cell_type": "code",
   "execution_count": null,
   "id": "fe1ab301",
   "metadata": {},
   "outputs": [
    {
     "name": "stdout",
     "output_type": "stream",
     "text": [
      "1 2 3 ... 998 999 1000\n"
     ]
    }
   ],
   "source": [
    "# No muevas este código\n",
    "números = [*range(1, 1001)]\n",
    "print(*números[:3], '...', *números[-3:])\n",
    "# intenta leer este código, ¿adivinas qué estamos haciendo?"
   ]
  },
  {
   "cell_type": "markdown",
   "id": "78f5570a",
   "metadata": {},
   "source": [
    "Definiremos una lista que contiene los números del 1 al 1000, tu objetivo es imprimir en la consola solo los números pares.\n",
    "\n",
    ":::{tip}\n",
    "Una forma fácil de resolverlo es con condicionales (if/elif/else), pero ni se te ocurra hacerlo uno por uno, utiliza un bucle.\n",
    ":::\n"
   ]
  },
  {
   "cell_type": "code",
   "execution_count": 1,
   "id": "1913e823",
   "metadata": {},
   "outputs": [
    {
     "name": "stdout",
     "output_type": "stream",
     "text": [
      "Pon tu código aquí\n"
     ]
    }
   ],
   "source": [
    "print('Pon tu código aquí')"
   ]
  },
  {
   "cell_type": "markdown",
   "id": "a587db21",
   "metadata": {},
   "source": [
    "Tu resultado debe verse así:\n",
    "```python\n",
    "2\n",
    "4\n",
    "6\n",
    "# y así sucesivamente hasta\n",
    "996\n",
    "998\n",
    "1000\n",
    "```"
   ]
  }
 ],
 "metadata": {
  "kernelspec": {
   "display_name": "curso-python",
   "language": "python",
   "name": "python3"
  },
  "language_info": {
   "codemirror_mode": {
    "name": "ipython",
    "version": 3
   },
   "file_extension": ".py",
   "mimetype": "text/x-python",
   "name": "python",
   "nbconvert_exporter": "python",
   "pygments_lexer": "ipython3",
   "version": "3.13.5"
  }
 },
 "nbformat": 4,
 "nbformat_minor": 5
}

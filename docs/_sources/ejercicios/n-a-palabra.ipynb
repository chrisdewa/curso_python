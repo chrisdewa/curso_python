{
 "cells": [
  {
   "cell_type": "markdown",
   "id": "07d5214b",
   "metadata": {},
   "source": [
    "# Número a palabra\n",
    "\n",
    "En este ejercicio la función de trabajo recibirá un número del 0 al 9 (inclusivo) y deberas imprimir en la consola el número con letras.\n",
    "Por ejemplo, `0 -> \"Cero\"`.\n",
    "\n",
    "Completa la función `nombre`.\n",
    "\n",
    ":::{important}\n",
    "**Solo es necesario que consideres los números del uno al diez**\n",
    ":::"
   ]
  },
  {
   "cell_type": "code",
   "execution_count": 3,
   "id": "d0ffe158",
   "metadata": {},
   "outputs": [
    {
     "name": "stdout",
     "output_type": "stream",
     "text": [
      "Implementa la función\n",
      "Implementa la función\n",
      "Implementa la función\n",
      "Implementa la función\n",
      "Implementa la función\n",
      "Implementa la función\n",
      "Implementa la función\n",
      "Implementa la función\n",
      "Implementa la función\n",
      "Implementa la función\n"
     ]
    }
   ],
   "source": [
    "# Puedes modificar esto:\n",
    "#######################################\n",
    "def nombre(número):\n",
    "    print('Implementa la función')\n",
    "#######################################\n",
    "\n",
    "\n",
    "# No toques esto\n",
    "for n in range(10):\n",
    "    nombre(n)"
   ]
  },
  {
   "cell_type": "markdown",
   "id": "8a6170df",
   "metadata": {},
   "source": [
    "El resultado debe ser:\n",
    "```\n",
    "Cero\n",
    "Uno\n",
    "Dos\n",
    "Tres\n",
    "Cuatro\n",
    "Cinco\n",
    "Seis\n",
    "Siete\n",
    "Ocho\n",
    "Nueve\n",
    "Diez\n",
    "```\n"
   ]
  }
 ],
 "metadata": {
  "kernelspec": {
   "display_name": "curso-python",
   "language": "python",
   "name": "python3"
  },
  "language_info": {
   "codemirror_mode": {
    "name": "ipython",
    "version": 3
   },
   "file_extension": ".py",
   "mimetype": "text/x-python",
   "name": "python",
   "nbconvert_exporter": "python",
   "pygments_lexer": "ipython3",
   "version": "3.13.5"
  }
 },
 "nbformat": 4,
 "nbformat_minor": 5
}

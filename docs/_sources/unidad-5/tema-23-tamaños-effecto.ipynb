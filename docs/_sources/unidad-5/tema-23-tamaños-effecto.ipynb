{
 "cells": [
  {
   "cell_type": "markdown",
   "id": "32345b49",
   "metadata": {},
   "source": [
    "# Tema 23: Tamaños del efecto\n",
    "En esta libreta aprenderás cómo calcular algunos de los tamaños del efecto más utilizados, la d de Cohen, la g de Hedge, la r de Rosenthal y la correlación rango-biserial."
   ]
  }
 ],
 "metadata": {
  "language_info": {
   "name": "python"
  }
 },
 "nbformat": 4,
 "nbformat_minor": 5
}

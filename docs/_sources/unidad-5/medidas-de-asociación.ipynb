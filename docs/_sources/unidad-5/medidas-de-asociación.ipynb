{
 "cells": [
  {
   "cell_type": "markdown",
   "id": "7b3eff24",
   "metadata": {},
   "source": [
    "# Medidas de asociación y correlación\n",
    "\n",
    "En esta libreta analizaremos diferentes medidas de asociación para diferentes conjuntos de datos, tanto numéricos como categóricos.\n",
    "\n",
    "We'll consider the following flowchart\n",
    "```{mermaid}\n",
    "flowchart TD\n",
    "    A[Dos variables] --> B{¿Tipo?}\n",
    "\n",
    "    B --> C[Ambas categóricas]\n",
    "    C --> D{¿Frecuencias esperadas ≥ 5?}\n",
    "    D -- Sí --> F[χ² de Pearson]\n",
    "    D -- No --> G[Test exacto de Fisher]\n",
    "\n",
    "    F --> Cef[Medida de efecto]\n",
    "    G --> Cef\n",
    "\n",
    "    Cef --> OR[Odds Ratio]\n",
    "    Cef --> V[V de Cramér]\n",
    "    Cef --> Phi[Coeficiente Phi]\n",
    "\n",
    "    B --> H[Una y Una]\n",
    "    H --> I[Correlación Rango-Biserial]\n",
    "\n",
    "    B --> J[Ambas numéricas]\n",
    "    J --> K{¿Supuestos paramétricos?}\n",
    "    K -- No --> L[Rho de Spearman]\n",
    "    K -- No --> M[Tau de Kendall]\n",
    "    K -- Sí --> N[r de Pearson]\n",
    "\n",
    "```\n",
    "\n",
    "Pese a que este tipo de diagramas son muy limitados, lo uso aquí solo con fines de resumen, no de guía. Siempre decide la prueba adecuada con base en tu contexto científico.\n",
    "\n",
    "## Librerías y datos\n",
    "Utilizaremos datos de un dataset público que puedes encontrar [aquí](https://www.kaggle.com/datasets/pritsheta/heart-attack/data).\n",
    "El dataset contiene la siguiente información:\n",
    "\n",
    " 1. Age: Age (in years) \n",
    " 2. Sex: gender (1 = male; 0 = female) \n",
    " 3. ChestPain: Chest Pain type .\n",
    "    - typical angina (all criteria present) \n",
    "    - atypical angina (two of three criteria satisfied)\n",
    "    - non-anginal pain (less than one criteria satisfied)\n",
    "    - asymptomatic (none of the criteria are satisfied) \n",
    "4. Restbps: Resting Blood pressure (in mmHg, upon admission to the hospital) \n",
    "5. Chol: serum cholesterol in mg/dL \n",
    "6. Fbs: fasting blood sugar > 120 mg/dL (likely to be diabetic) 1 = true; 0 = false \n",
    "7. RestECG: Resting electrocardiogram results \n",
    "    - Value 0: normal \n",
    "    - Value 1: having ST-T wave abnormality (T wave inversions and/or ST elevation or depression of > 0.05 mV) \n",
    "    - Value 2: showing probable or definite left ventricular hypertrophy by Estes' criteria \n",
    "8. MaxHR: Greatest number of beats per minute your heart can possibly reach during all-out strenuous exercise. \n",
    "9. Exang: exercise induced angina (1 = yes; 0 = no) \n",
    "10. Oldpeak: ST depression induced by exercise relative to rest (in mm, achieved by subtracting the lowest ST segment points during exercise and rest) \n",
    "11. Slope: the slope of the peak exercise ST segment, ST-T abnormalities are considered to be a crucial indicator for identifying presence of ischaemia \n",
    "    - Value 1: upsloping \n",
    "    - Value 2: flat \n",
    "    - Value 3: downsloping \n",
    "12. Ca: number of major vessels (0-3) colored by fluoroscopy. Major cardial vessels are as goes: aorta, superior vena cava, inferior vena cava, pulmonary artery (oxygen-poor blood --> lungs), pulmonary veins (oxygen-rich blood --> heart), and coronary arteries (supplies blood to heart tissue). \n",
    "13. AHD: 0 = normal; 1 = fixed defect (heart tissue can't absorb thallium both under stress and in rest); 2 = reversible defect (heart tissue is unable to absorb thallium only under the exercise portion of the test) \n",
    "14. AHD: 0 = no disease, 1 = disease\n"
   ]
  },
  {
   "cell_type": "code",
   "execution_count": null,
   "id": "f27190f4",
   "metadata": {},
   "outputs": [],
   "source": [
    "import pandas as pd\n",
    "import scipy.stats as stats\n",
    "\n",
    "url = 'https://raw.githubusercontent.com/chrisdewa/curso_python/refs/heads/main/datos/Heart_Attack_Data.xls'\n"
   ]
  },
  {
   "cell_type": "code",
   "execution_count": null,
   "id": "8fd4bf86",
   "metadata": {},
   "outputs": [],
   "source": []
  }
 ],
 "metadata": {
  "kernelspec": {
   "display_name": "curso-python",
   "language": "python",
   "name": "python3"
  },
  "language_info": {
   "codemirror_mode": {
    "name": "ipython",
    "version": 3
   },
   "file_extension": ".py",
   "mimetype": "text/x-python",
   "name": "python",
   "nbconvert_exporter": "python",
   "pygments_lexer": "ipython3",
   "version": "3.13.5"
  }
 },
 "nbformat": 4,
 "nbformat_minor": 5
}

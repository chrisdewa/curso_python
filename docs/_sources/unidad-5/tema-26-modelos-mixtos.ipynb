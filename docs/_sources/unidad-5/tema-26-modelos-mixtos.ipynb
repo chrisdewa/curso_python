{
 "cells": [
  {
   "cell_type": "markdown",
   "id": "c6bb0d51",
   "metadata": {},
   "source": [
    "# Tema 26: Modelos Mixtos\n",
    "\n",
    "En la libreta previa exploramos cómo realizar un análisis de varianza de medidas repetidas en el dataset de `sleepstudy`, y comentamos que este dataset es muy utilizado para ejemplificar el uso y ventajas de los modelos mixtos o jerárquicos.\n",
    " "
   ]
  }
 ],
 "metadata": {
  "language_info": {
   "name": "python"
  }
 },
 "nbformat": 4,
 "nbformat_minor": 5
}

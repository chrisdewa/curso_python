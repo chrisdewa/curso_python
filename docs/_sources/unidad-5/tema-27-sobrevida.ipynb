{
 "cells": [
  {
   "cell_type": "markdown",
   "id": "bfa9f107",
   "metadata": {},
   "source": [
    "# Tema 27: Análisis de sobrevida\n",
    "\n",
    "En esta libreta aprenderás cómo ejecutar los análisis de sobrevida más frecuentemente utilizados."
   ]
  }
 ],
 "metadata": {
  "language_info": {
   "name": "python"
  }
 },
 "nbformat": 4,
 "nbformat_minor": 5
}

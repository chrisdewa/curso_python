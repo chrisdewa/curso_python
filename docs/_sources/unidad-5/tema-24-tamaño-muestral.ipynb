{
 "cells": [
  {
   "cell_type": "markdown",
   "id": "81b0d672",
   "metadata": {},
   "source": [
    "# Tema 24: Tamaños de muestra\n",
    "\n",
    "En seguimiento a la libreta previa donde hablamos sobre los tamaños de muestra, esta libreta mostrará cómo realizar el cálculo del tamaño muestral en varios escenarios.\n",
    "\n",
    "\n",
    ":::{important}\n",
    "\n",
    "Esta libreta se divide en dos secciones. En la primera utilizaremos las fórmulas más comunes para el cálculo de tamaños muestrales, y utilizaremos `scipy` y `numpy`, que ya debes tener instalados. En la segunda parte, utilizaremos la librería `statsmodels` que también ya deberías tener disponible.\n",
    "\n",
    ":::\n",
    "\n",
    "\n",
    "## Librerías"
   ]
  },
  {
   "cell_type": "code",
   "execution_count": 1,
   "id": "a4722e88",
   "metadata": {},
   "outputs": [
    {
     "name": "stdout",
     "output_type": "stream",
     "text": [
      "Librerías importadas\n"
     ]
    }
   ],
   "source": [
    "from math import (\n",
    "    ceil, # redondea hacia arriba\n",
    "    sqrt, # la raíz cuadrada\n",
    ") \n",
    "import numpy as np\n",
    "import pandas as pd\n",
    "import scipy.stats as stats\n",
    "from scipy.optimize import root_scalar # para resolver numéricamente\n",
    "import statsmodels.api as sm\n",
    "print('Librerías importadas')"
   ]
  },
  {
   "cell_type": "markdown",
   "id": "e883ada6",
   "metadata": {},
   "source": [
    "## Estimación para proporciones\n",
    "### Fórmula de Cochran\n",
    "\n",
    "La primera fórmula que revisaremos es la **fórmula de Cochran**, utilizada para estimar el tamaño de muestra necesario al estudiar una proporción en un estudio descriptivo.\n",
    "\n",
    "$$\n",
    "n = \\frac{(Z_{1-\\alpha/2})^2 \\cdot p \\cdot (1-p)}{d^2}\n",
    "$$\n",
    "\n",
    "Donde:\n",
    "\n",
    "- $Z_{1-\\alpha/2}$ es el valor crítico de la distribución normal estándar para un nivel de confianza dado, en este caso para el error de tipo 1.\n",
    "- $p$ es la proporción esperada,\n",
    "- $d$ es el margen de error (precisión deseada)."
   ]
  },
  {
   "cell_type": "code",
   "execution_count": 2,
   "id": "d1086837",
   "metadata": {},
   "outputs": [
    {
     "name": "stdout",
     "output_type": "stream",
     "text": [
      "Función definida\n"
     ]
    }
   ],
   "source": [
    "def cochran_una_p(p, d, alfa=0.05, hipotesis='dos colas'):\n",
    "    \"\"\"\n",
    "    Calcula el tamaño de muestra para una proporción usando la fórmula de Cochran.\n",
    "\n",
    "    Parámetros:\n",
    "    - p: proporción esperada (entre 0 y 1)\n",
    "    - d: margen de error (precisión)\n",
    "    - alfa: nivel de significancia (por defecto 0.05)\n",
    "    - hipotesis: 'dos colas' o 'una cola'\n",
    "\n",
    "    Retorna:\n",
    "    - n: tamaño de muestra (entero)\n",
    "    \"\"\"\n",
    "    hips = 'dos colas', 'una cola'\n",
    "    if hipotesis not in hips:\n",
    "        raise ValueError(\"La hipótesis debe ser 'dos colas' o 'una cola'.\")\n",
    "\n",
    "    if hipotesis == 'dos colas':\n",
    "        z = stats.norm.ppf(1-alfa/2)\n",
    "    else:\n",
    "        z = stats.norm.ppf(1-alfa)\n",
    "        \n",
    "    n = (z**2 * p * (1 - p)) / d**2\n",
    "    return ceil(n)\n",
    "print('Función definida')"
   ]
  },
  {
   "cell_type": "markdown",
   "id": "4a15c2e6",
   "metadata": {},
   "source": [
    "Probemos la función con los siguientes parámetros:\n",
    "- Nivel de significancia: $\\alpha = 0.05$\n",
    "- Proporción esperada: $p = 0.5$\n",
    "- Margen de error: $d = 0.1$\n",
    "- Hipótesis: una cola"
   ]
  },
  {
   "cell_type": "code",
   "execution_count": 3,
   "id": "d05afdbb",
   "metadata": {},
   "outputs": [
    {
     "data": {
      "text/plain": [
       "68"
      ]
     },
     "execution_count": 3,
     "metadata": {},
     "output_type": "execute_result"
    }
   ],
   "source": [
    "cochran_una_p(0.5, 0.1, hipotesis='una cola')"
   ]
  },
  {
   "cell_type": "markdown",
   "id": "9c9e54bd",
   "metadata": {},
   "source": [
    "Para este estudio, requeriríamos de al menos 68 pacientes.\n",
    "\n",
    "### Estudios de equivalencia en una proporción\n",
    "\n",
    "En este caso, queremos conocer si la proporción estimada es diferente de un valor preestablecido, para ello, se modifica ligeramente la fórmula para incluir el poder del estudio.\n",
    "\n",
    "$$\n",
    "n = \\frac{(Z_{1-\\alpha/2} + Z_\\beta)^2 \\cdot p \\cdot (1-p)}{d^2}\n",
    "$$\n",
    "\n",
    "Donde:\n",
    "- $Z_\\beta$ es el valor crítico de la distribución normal estándar para un nivel de confianza dado, en este caso para el error de tipo 2.\n"
   ]
  },
  {
   "cell_type": "code",
   "execution_count": 4,
   "id": "2be7ad8f",
   "metadata": {},
   "outputs": [
    {
     "name": "stdout",
     "output_type": "stream",
     "text": [
      "Función definida\n"
     ]
    }
   ],
   "source": [
    "\n",
    "def cochran_eq_una_p(p, d, alfa=0.05, beta=0.2, hipotesis='dos colas'):\n",
    "    \"\"\"\n",
    "    Calcula el tamaño de muestra para detectar diferencia en una proporción,\n",
    "    incorporando el poder estadístico (estudios de equivalencia o hipótesis).\n",
    "\n",
    "    Parámetros:\n",
    "    - p: proporción esperada (entre 0 y 1)\n",
    "    - d: diferencia mínima que se desea detectar (margen de error)\n",
    "    - alfa: nivel de significancia (por defecto 0.05)\n",
    "    - beta: error tipo II (por defecto 0.2, que equivale a 80% de poder)\n",
    "\n",
    "    Retorna:\n",
    "    - n: tamaño de muestra (entero)\n",
    "    \"\"\"\n",
    "    hips = 'dos colas', 'una cola'\n",
    "    if hipotesis not in hips:\n",
    "        raise ValueError(\"La hipótesis debe ser 'dos colas' o 'una cola'.\")\n",
    "\n",
    "    if hipotesis == 'dos colas':\n",
    "        z_alfa = stats.norm.ppf(1-alfa/2)\n",
    "    else:\n",
    "        z_alfa = stats.norm.ppf(1-alfa)\n",
    "\n",
    "    z_beta = stats.norm.ppf(1 - beta)\n",
    "    n = ((z_alfa + z_beta)**2 * p * (1 - p)) / d**2\n",
    "    return ceil(n)\n",
    "\n",
    "print('Función definida')"
   ]
  },
  {
   "cell_type": "markdown",
   "id": "cde60f7e",
   "metadata": {},
   "source": [
    "Probemos la función con los siguientes parámetros:\n",
    "- Nivel de significancia: $\\alpha = 0.05$\n",
    "- Probabilidad de error de tipo 2: $\\beta = 0.1$\n",
    "- Proporción esperada: $p = 0.3$\n",
    "- Margen de error: $d = 0.1$\n",
    "- Hipótesis: una cola"
   ]
  },
  {
   "cell_type": "code",
   "execution_count": 5,
   "id": "699da6d1",
   "metadata": {},
   "outputs": [
    {
     "data": {
      "text/plain": [
       "130"
      ]
     },
     "execution_count": 5,
     "metadata": {},
     "output_type": "execute_result"
    }
   ],
   "source": [
    "cochran_eq_una_p(0.3, 0.1, beta=0.2, hipotesis='una cola')"
   ]
  },
  {
   "cell_type": "markdown",
   "id": "d27290c5",
   "metadata": {},
   "source": [
    "Para este estudio requeriríamos entonces 130 sujetos."
   ]
  },
  {
   "cell_type": "markdown",
   "id": "856ca10f",
   "metadata": {},
   "source": [
    "### Una proporción con población finita (Cochran)\n",
    "\n",
    "En ocasiones, el tamaño de la población es **conocido y limitado**. En estos casos, se recomienda aplicar una **corrección por población finita** a la fórmula de Cochran:\n",
    "\n",
    "$$\n",
    "n = \\frac{N \\cdot (Z_{1-\\alpha/2})^2 \\cdot p(1-p)}{d^2(N - 1) + (Z_{1-\\alpha/2})^2 \\cdot p(1-p)}\n",
    "$$\n",
    "\n",
    "Donde:\n",
    "\n",
    "- $N$ es el tamaño total de la población,\n",
    "- $Z$ es el valor crítico para el nivel de confianza deseado,\n",
    "- $p$ es la proporción esperada,\n",
    "- $d$ es el margen de error (precisión deseada).\n",
    "\n",
    "\n"
   ]
  },
  {
   "cell_type": "code",
   "execution_count": 6,
   "id": "0fcb3911",
   "metadata": {},
   "outputs": [
    {
     "name": "stdout",
     "output_type": "stream",
     "text": [
      "Función definida\n"
     ]
    }
   ],
   "source": [
    "def cochran_poblacion_finita(p, d, N, alfa=0.05, hipotesis='dos colas'):\n",
    "    \"\"\"\n",
    "    Calcula el tamaño de muestra para una proporción ajustado a una población finita.\n",
    "\n",
    "    Parámetros:\n",
    "    - p: proporción esperada (entre 0 y 1)\n",
    "    - d: margen de error (precisión)\n",
    "    - N: tamaño total de la población\n",
    "    - alfa: nivel de significancia (por defecto 0.05)\n",
    "\n",
    "    Retorna:\n",
    "    - n: tamaño de muestra ajustado (float, no redondeado)\n",
    "    \"\"\"\n",
    "    hips = 'dos colas', 'una cola'\n",
    "    if hipotesis not in hips:\n",
    "        raise ValueError(\"La hipótesis debe ser 'dos colas' o 'una cola'.\")\n",
    "\n",
    "    if hipotesis == 'dos colas':\n",
    "        z = stats.norm.ppf(1-alfa/2)\n",
    "    else:\n",
    "        z = stats.norm.ppf(1-alfa)\n",
    "    q = 1 - p\n",
    "    num = N * (z**2) * p * q\n",
    "    den = (d**2) * (N - 1) + (z**2) * p * q\n",
    "    n = num / den\n",
    "    return ceil(n)\n",
    "\n",
    "print('Función definida')"
   ]
  },
  {
   "cell_type": "markdown",
   "id": "3f9d6790",
   "metadata": {},
   "source": [
    "Utilicemos ahora la fórmula con los siguientes parámetros:\n",
    "- $p = 0.4$\n",
    "- $d = 0.05$\n",
    "- $N = 350$\n",
    "- $\\alpha = 0.05$\n",
    "- $hipótesis = \\text{una cola}$\n",
    "\n"
   ]
  },
  {
   "cell_type": "code",
   "execution_count": 7,
   "id": "3b93276a",
   "metadata": {},
   "outputs": [
    {
     "data": {
      "text/plain": [
       "180"
      ]
     },
     "execution_count": 7,
     "metadata": {},
     "output_type": "execute_result"
    }
   ],
   "source": [
    "cochran_poblacion_finita(p=0.4, d=0.05, N=350)"
   ]
  },
  {
   "cell_type": "markdown",
   "id": "50fa3027",
   "metadata": {},
   "source": [
    "## Estimar una Media\n",
    "\n",
    "Utilizaremos la fórmula para una media.\n",
    "\n",
    "$$\n",
    "n = (\\frac{Z_{1-\\alpha/2} \\cdot \\sigma}{d})^2\n",
    "$$\n",
    "\n",
    "Muy parecida a la fórmula que utilizamos para la proporción. Ten en cuenta que $\\sigma$ es la desviación estándar de la media a estimar y $d$ es el margen de error de la media."
   ]
  },
  {
   "cell_type": "code",
   "execution_count": 8,
   "id": "c2e8382e",
   "metadata": {},
   "outputs": [
    {
     "name": "stdout",
     "output_type": "stream",
     "text": [
      "Función definida\n"
     ]
    }
   ],
   "source": [
    "def estimar_una_media(sigma, d, alfa=0.05, hipotesis='dos colas'):\n",
    "    \"\"\"\n",
    "    Calcula el tamaño de muestra para estimar una media en población indefinida.\n",
    "\n",
    "    Parámetros:\n",
    "    - sigma: desviación estándar esperada\n",
    "    - d: margen de error (precisión)\n",
    "    - alfa: nivel de significancia (por defecto 0.05)\n",
    "    - hipotesis: 'dos colas' o 'una cola'\n",
    "\n",
    "    Retorna:\n",
    "    - n: tamaño de muestra (entero)\n",
    "    \"\"\"\n",
    "    hips = 'dos colas', 'una cola'\n",
    "    if hipotesis not in hips:\n",
    "        raise ValueError(\"La hipótesis debe ser 'dos colas' o 'una cola'.\")\n",
    "\n",
    "    if hipotesis == 'dos colas':\n",
    "        z = stats.norm.ppf(1 - alfa/2)\n",
    "    else:\n",
    "        z = stats.norm.ppf(1 - alfa)\n",
    "\n",
    "    n = (z * sigma / d)**2\n",
    "    return ceil(n)\n",
    "\n",
    "print('Función definida')"
   ]
  },
  {
   "cell_type": "markdown",
   "id": "a738a18e",
   "metadata": {},
   "source": [
    "Supongamos que deseamos estimar el promedio de una variable continua (por ejemplo, niveles séricos de una proteína), con:\n",
    "\n",
    "- una desviación estándar estimada de 12 unidades,\n",
    "- un margen de error aceptable de 3 unidades,\n",
    "- un nivel de confianza del 99%,\n",
    "- y una hipótesis a dos colas.\n",
    "\n",
    "Llamamos a la función así:"
   ]
  },
  {
   "cell_type": "code",
   "execution_count": 9,
   "id": "060c2c37",
   "metadata": {},
   "outputs": [
    {
     "data": {
      "text/plain": [
       "107"
      ]
     },
     "execution_count": 9,
     "metadata": {},
     "output_type": "execute_result"
    }
   ],
   "source": [
    "estimar_una_media(sigma=12, d=3, alfa=0.01)"
   ]
  },
  {
   "cell_type": "markdown",
   "id": "9240769c",
   "metadata": {},
   "source": [
    "## Ejercicio 1\n",
    "1. Diseña tu propia función para estimar:\n",
    "   - La media en un estudio analítico, tanto para muestras pareadas como para muestras independientes.\n",
    "   - Para estimar dos proporciones. \n",
    "\n",
    "\n",
    "## Estimar un Odds Ratio\n",
    "\n",
    "Cuando deseamos estimar la asociación entre una exposición y un evento binario (por ejemplo, enfermedad presente o ausente), es común utilizar un **estudio de casos y controles** y calcular el **odds ratio (OR)**.\n",
    "\n",
    "Para calcular el tamaño de muestra necesario en este tipo de estudios, se requiere conocer:\n",
    "\n",
    "- el **OR** esperado (efecto mínimo que se desea detectar),\n",
    "- la **prevalencia de exposición en los controles** ($p_0$),\n",
    "- el **nivel de significancia** ($\\alpha$),\n",
    "- el **poder estadístico** deseado ($1 - \\beta$),\n",
    "- y la **razón de controles por cada caso**.\n",
    "\n",
    "La fórmula aproximada para calcular el número de casos es:\n",
    "\n",
    "$$\n",
    "n_{casos} = \\frac{\\left[ Z_{1-\\alpha/2} \\cdot \\sqrt{(1 + k) \\cdot \\bar{p}(1 - \\bar{p})} + Z_{1-\\beta} \\cdot \\sqrt{p_0(1 - p_0) + k \\cdot p_1(1 - p_1)} \\right]^2}{k \\cdot (p_1 - p_0)^2}\n",
    "$$\n",
    "\n",
    "Donde:\n",
    "\n",
    "- $k$ es la razón de controles por caso,\n",
    "- $p_0$ es la prevalencia de exposición en controles,\n",
    "- $p_1$ es la prevalencia de exposición en casos, calculada como:\n",
    "\n",
    "$$\n",
    "p_1 = \\frac{OR \\cdot p_0}{1 + p_0 \\cdot (OR - 1)}\n",
    "$$\n",
    "\n",
    "- $\\bar{p}$ es la proporción combinada de exposición:\n",
    "\n",
    "$$\n",
    "\\bar{p} = \\frac{p_1 + k \\cdot p_0}{1 + k}\n",
    "$$\n"
   ]
  },
  {
   "cell_type": "code",
   "execution_count": 10,
   "id": "2efcd7c6",
   "metadata": {},
   "outputs": [
    {
     "name": "stdout",
     "output_type": "stream",
     "text": [
      "Función definida\n"
     ]
    }
   ],
   "source": [
    "def un_odds_ratio(OR, p0, alpha=0.05, beta=0.2, ratio=1):\n",
    "    \"\"\"\n",
    "    Calcula el tamaño de muestra para estimar un odds ratio en un estudio de casos y controles.\n",
    "\n",
    "    Parámetros:\n",
    "    - OR: odds ratio esperado\n",
    "    - p0: prevalencia de exposición en los controles\n",
    "    - alpha: error tipo I (por defecto 0.05)\n",
    "    - beta: error tipo II (por defecto 0.2, equivalente a 80% de poder)\n",
    "    - ratio: razón de controles por caso (por defecto 1:1)\n",
    "\n",
    "    Retorna:\n",
    "    - n_casos: número de casos requeridos (entero)\n",
    "    - n_controles: número de controles requeridos (entero)\n",
    "    \"\"\"\n",
    "    poder = 1 - beta\n",
    "\n",
    "    # Prevalencia esperada de exposición en los casos\n",
    "    p1 = (OR * p0) / (1 + p0 * (OR - 1))\n",
    "\n",
    "    # Valores críticos de Z\n",
    "    Za = stats.norm.ppf(1 - alpha / 2)\n",
    "    Zb = stats.norm.ppf(poder)\n",
    "\n",
    "    # Proporciones combinadas\n",
    "    p_bar = (p1 + ratio * p0) / (1 + ratio)\n",
    "    q_bar = 1 - p_bar\n",
    "\n",
    "    # Cálculo del tamaño de muestra\n",
    "    numerador = (Za * sqrt((1 + ratio) * p_bar * q_bar) + Zb * sqrt(p0 * (1 - p0) + ratio * p1 * (1 - p1))) ** 2\n",
    "    denominador = ratio * (p1 - p0) ** 2\n",
    "\n",
    "    n_casos = numerador / denominador\n",
    "    n_controles = ratio * n_casos\n",
    "\n",
    "    return ceil(n_casos), ceil(n_controles)\n",
    "\n",
    "print('Función definida')"
   ]
  },
  {
   "cell_type": "code",
   "execution_count": 11,
   "id": "bf8c9f2d",
   "metadata": {},
   "outputs": [
    {
     "data": {
      "text/plain": [
       "(105, 209)"
      ]
     },
     "execution_count": 11,
     "metadata": {},
     "output_type": "execute_result"
    }
   ],
   "source": [
    "# Supongamos que queremos detectar un OR = 2.0\n",
    "# con p0 = 0.3, alpha = 0.05, beta = 0.2, y ratio 2:1\n",
    "\n",
    "un_odds_ratio(OR=2.0, p0=0.3, alpha=0.05, beta=0.2, ratio=2)"
   ]
  },
  {
   "cell_type": "markdown",
   "id": "6017917b",
   "metadata": {},
   "source": [
    "Por lo que requeriríamos un total de 105 casos y 209 controles como mínimo.\n",
    "\n",
    "## Prueba de independencia (Chi²)\n",
    "\n",
    "Cuando se desea evaluar la **asociación entre dos variables categóricas**, se puede utilizar la **prueba de independencia Chi-cuadrado**. En este caso, se parte de una **tabla de contingencia** con las probabilidades conjuntas esperadas bajo la hipótesis alternativa.\n",
    "\n",
    "El tamaño de muestra se calcula a partir del parámetro de no centralidad $\\lambda$ que satisface:\n",
    "\n",
    "$$\n",
    "1 - \\beta = P\\left(\\chi^2_{df}(\\lambda) > \\chi^2_{1-\\alpha, df}\\right)\n",
    "$$\n",
    "\n",
    "Donde:\n",
    "\n",
    "- $\\chi^2_{df}(\\lambda)$ es una chi-cuadrada no central con $df = (r-1)(c-1)$ grados de libertad y parámetro $\\lambda$,\n",
    "- $\\chi^2_{1-\\alpha, df}$ es el valor crítico de la chi-cuadrada central al nivel $\\alpha$,\n",
    "- $\\beta$ es el error tipo II (el poder es $1 - \\beta$).\n",
    "\n",
    "Una vez que se estima $\\lambda$, el tamaño de muestra se calcula como:\n",
    "\n",
    "$$\n",
    "n = \\frac{\\lambda}{w^2}\n",
    "$$\n",
    "\n",
    "donde $w^2$ es el tamaño del efecto según la diferencia entre proporciones conjuntas y esperadas:\n",
    "\n",
    "$$\n",
    "w^2 = \\sum_{i=1}^r \\sum_{j=1}^c \\frac{(p_{ij} - p_{i\\cdot} p_{\\cdot j})^2}{p_{i\\cdot} p_{\\cdot j}}\n",
    "$$\n"
   ]
  },
  {
   "cell_type": "code",
   "execution_count": 12,
   "id": "7802d9e0",
   "metadata": {},
   "outputs": [
    {
     "name": "stdout",
     "output_type": "stream",
     "text": [
      "Función definida\n"
     ]
    }
   ],
   "source": [
    "def chi2_independencia(p_ij, alpha=0.05, beta=0.2):\n",
    "    \"\"\"\n",
    "    Calcula el tamaño de muestra para una prueba de chi² de independencia.\n",
    "\n",
    "    Parámetros:\n",
    "    - p_ij: matriz (2D) de probabilidades conjuntas bajo la hipótesis alternativa, debe sumar 1.\n",
    "    - alpha: error tipo I (por defecto 0.05)\n",
    "    - beta: error tipo II (por defecto 0.2, equivalente a 80% de poder)\n",
    "\n",
    "    Retorna:\n",
    "    - n: tamaño de muestra requerido (float)\n",
    "\n",
    "    Basado en: Chow et al. (2008), sección 6.2.1\n",
    "    \"\"\"\n",
    "    if not np.isclose(np.sum(p_ij), 1):\n",
    "        raise ValueError(\"La matriz p_ij debe sumar 1.\")\n",
    "\n",
    "    r = len(p_ij)\n",
    "    c = len(p_ij[0] if r else 0)\n",
    "    df = (r - 1) * (c - 1)\n",
    "\n",
    "    # Valor crítico de chi² central\n",
    "    crit = stats.chi2.ppf(1 - alpha, df)\n",
    "\n",
    "    # Resolver lambda para que la chi² no central tenga el poder deseado\n",
    "    def objetivo(delta):\n",
    "        return stats.ncx2.sf(crit, df, delta) - (1 - beta)\n",
    "\n",
    "    sol = root_scalar(objetivo, bracket=[0, 50], method='brentq')\n",
    "    if not sol.converged:\n",
    "        raise RuntimeError(\"No se pudo encontrar el valor de lambda.\")\n",
    "\n",
    "    delta = sol.root\n",
    "\n",
    "    # Calcular márgenes\n",
    "    p_i = np.sum(p_ij, axis=1)  # sumas por fila\n",
    "    p_j = np.sum(p_ij, axis=0)  # sumas por columna\n",
    "\n",
    "    # Tamaño del efecto (w²)\n",
    "    efecto = 0.0\n",
    "    for i in range(r):\n",
    "        for j in range(c):\n",
    "            esperado = p_i[i] * p_j[j]\n",
    "            if esperado > 0:\n",
    "                efecto += ((p_ij[i, j] - esperado) ** 2) / esperado\n",
    "\n",
    "    # Tamaño de muestra\n",
    "    n = delta / efecto\n",
    "    return ceil(n)\n",
    "\n",
    "print('Función definida')"
   ]
  },
  {
   "cell_type": "code",
   "execution_count": 13,
   "id": "462fbd04",
   "metadata": {},
   "outputs": [
    {
     "data": {
      "text/plain": [
       "36"
      ]
     },
     "execution_count": 13,
     "metadata": {},
     "output_type": "execute_result"
    }
   ],
   "source": [
    "p = np.array([\n",
    "    [0.25, 0.15],\n",
    "    [0.10, 0.50]\n",
    "])  # Matriz de probabilidades conjuntas que suma 1\n",
    "\n",
    "chi2_independencia(p)"
   ]
  },
  {
   "cell_type": "markdown",
   "id": "4f358be5",
   "metadata": {},
   "source": [
    "En esta sección exploramos distintas fórmulas para calcular el tamaño de muestra en estudios cuantitativos:\n",
    "\n",
    "- Usamos la **fórmula de Cochran** para estimar proporciones y medias, tanto en poblaciones grandes como finitas.\n",
    "- Incorporamos el **poder estadístico** para estudios comparativos (por ejemplo, al estimar una diferencia de proporciones o un odds ratio).\n",
    "- Aplicamos la **prueba chi² de independencia** para detectar asociación entre variables categóricas, usando una aproximación basada en la distribución no central.\n",
    "\n",
    "Estas herramientas son fundamentales para planear estudios con suficiente poder para detectar efectos reales, y evitar tamaños muestrales insuficientes o excesivos.\n",
    "\n",
    "Esta siguiente sección es demostrativa.\n",
    "\n",
    "## Cálculo de tamaño de muestra con `statsmodels`\n",
    "\n",
    "La librería `statsmodels` incluye utilidades para calcular el tamaño de muestra, el poder estadístico o la magnitud del efecto en distintos tipos de estudios. Usaremos el módulo `statsmodels.stats.power`.\n",
    "\n",
    "### Proporciones: comparación de dos grupos"
   ]
  },
  {
   "cell_type": "code",
   "execution_count": 14,
   "id": "1666c815",
   "metadata": {},
   "outputs": [
    {
     "name": "stdout",
     "output_type": "stream",
     "text": [
      "Tamaño por grupo: 63\n"
     ]
    }
   ],
   "source": [
    "from statsmodels.stats.power import NormalIndPower\n",
    "\n",
    "# Instanciar objeto para pruebas z de dos proporciones independientes\n",
    "power = NormalIndPower()\n",
    "\n",
    "# Calcular tamaño de muestra necesario por grupo\n",
    "n = power.solve_power(\n",
    "    effect_size=0.5,  # tamaño del efecto (p. ej. g de Hedge)\n",
    "    alpha=0.05,\n",
    "    power=0.8,\n",
    "    ratio=1.0,        # razón de tamaños de grupo (n2/n1)\n",
    "    alternative='two-sided'\n",
    ")\n",
    "\n",
    "print(f\"Tamaño por grupo: {ceil(n)}\")"
   ]
  },
  {
   "cell_type": "markdown",
   "id": "c3fc9bb3",
   "metadata": {},
   "source": [
    "### Comparación medias en dos grupos\n",
    "\n",
    "Como en el caso de las pruebas t."
   ]
  },
  {
   "cell_type": "code",
   "execution_count": 15,
   "id": "4ca11d9e",
   "metadata": {},
   "outputs": [
    {
     "name": "stdout",
     "output_type": "stream",
     "text": [
      "Tamaño por grupo: 45\n"
     ]
    }
   ],
   "source": [
    "from statsmodels.stats.power import TTestIndPower\n",
    "\n",
    "t_power = TTestIndPower()\n",
    "\n",
    "n = t_power.solve_power(\n",
    "    effect_size=0.6,  # tamaño del efecto (Cohen's d)\n",
    "    alpha=0.05,\n",
    "    power=0.8,\n",
    "    ratio=1.0,\n",
    "    alternative='two-sided'\n",
    ")\n",
    "\n",
    "print(f\"Tamaño por grupo: {ceil(n)}\")"
   ]
  },
  {
   "cell_type": "markdown",
   "id": "ed5287a9",
   "metadata": {},
   "source": [
    "### ANOVA de una vía (comparación de más de dos medias)\n",
    "\n",
    "Para estudios donde se desea comparar **más de dos grupos** en cuanto a su media, se utiliza un **ANOVA de una vía**. Podemos calcular el tamaño de muestra necesario por grupo con `FTestAnovaPower` de `statsmodels`.\n"
   ]
  },
  {
   "cell_type": "code",
   "execution_count": 16,
   "id": "9f8602cf",
   "metadata": {},
   "outputs": [
    {
     "name": "stdout",
     "output_type": "stream",
     "text": [
      "Tamaño por grupo: 158\n"
     ]
    }
   ],
   "source": [
    "from statsmodels.stats.power import FTestAnovaPower\n",
    "\n",
    "anova_power = FTestAnovaPower()\n",
    "\n",
    "n = anova_power.solve_power(\n",
    "    effect_size=0.25,  # tamaño del efecto (Cohen's f)\n",
    "    alpha=0.05,\n",
    "    power=0.8,\n",
    "    k_groups=3         # número de grupos\n",
    ")\n",
    "\n",
    "print(f\"Tamaño por grupo: {ceil(n)}\")"
   ]
  },
  {
   "cell_type": "markdown",
   "id": "63bbc60d",
   "metadata": {},
   "source": [
    "Puedes convertir de $\\eta^2$ (eta cuadrada) a f usando:\n",
    "\n",
    "$$ f = \\sqrt{\\frac{\\eta^2}{1-\\eta^2}}$$\n",
    "\n",
    "Por ejemplo:\n",
    "\n",
    "Queremos detectar una diferencia moderada en la media de colesterol en 3 grupos de dieta con:\n",
    "- un tamaño del efecto $\\eta^2$ = 0.03,\n",
    "- un nivel de significancia de 0.05,\n",
    "- un poder del 80%."
   ]
  },
  {
   "cell_type": "code",
   "execution_count": 17,
   "id": "13eeb70e",
   "metadata": {},
   "outputs": [
    {
     "name": "stdout",
     "output_type": "stream",
     "text": [
      "Tamaño por grupo: 315\n"
     ]
    }
   ],
   "source": [
    "from statsmodels.stats.power import FTestAnovaPower\n",
    "\n",
    "anova_power = FTestAnovaPower()\n",
    "\n",
    "eta2 = 0.03\n",
    "f = sqrt(eta2 / (1 - eta2))\n",
    "\n",
    "n = anova_power.solve_power(\n",
    "    effect_size=f, \n",
    "    alpha=0.05, \n",
    "    power=0.8, \n",
    "    k_groups=3\n",
    ")\n",
    "print(f\"Tamaño por grupo: {ceil(n)}\")"
   ]
  }
 ],
 "metadata": {
  "kernelspec": {
   "display_name": "curso-python",
   "language": "python",
   "name": "python3"
  },
  "language_info": {
   "codemirror_mode": {
    "name": "ipython",
    "version": 3
   },
   "file_extension": ".py",
   "mimetype": "text/x-python",
   "name": "python",
   "nbconvert_exporter": "python",
   "pygments_lexer": "ipython3",
   "version": "3.13.5"
  }
 },
 "nbformat": 4,
 "nbformat_minor": 5
}

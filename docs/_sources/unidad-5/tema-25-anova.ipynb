{
 "cells": [
  {
   "cell_type": "markdown",
   "id": "af12161d",
   "metadata": {},
   "source": [
    "# Tema 25: Análisis de Varianza\n",
    "\n",
    "El análisis de varianza es un caso especial de la regresión lineal que contesta la hipótesis alterna $ H_1: \\exists\\, i,j \\in \\{1, \\dots, k\\},\\ i \\ne j,\\ \\mu_i \\ne \\mu_j $, que se lee como: *existe un par i,j en los grupos de estudio para los que las medias de la variable dependiente son diferentes*.\n",
    "\n",
    ":::{important}\n",
    "Para esta libreta además de la librería `statsmodels`, utilizaremos `pingouin` una nueva librería que deberás instalar con `uv add pingouin` o `pip install pingouin` si no estás utilizando **uv**.\n",
    "\n",
    "Considera que a diferencia de las demás librerías utilizadas hasta el momento, `pingouin` no está preinstalada en google colab, si estás trabajando en colab, corre lo siguiente en una celda de código:\n",
    "\n",
    "```bash\n",
    "!pip install -q pingouin\n",
    "```\n",
    "\n",
    "Hazlo antes de intentar importar la librería.\n",
    ":::\n",
    "\n",
    "## Librerías\n",
    "\n"
   ]
  },
  {
   "cell_type": "code",
   "execution_count": 16,
   "id": "835ff540",
   "metadata": {},
   "outputs": [
    {
     "name": "stdout",
     "output_type": "stream",
     "text": [
      "Librerías importadas\n"
     ]
    }
   ],
   "source": [
    "import pandas as pd\n",
    "import scipy.stats as stats\n",
    "import statsmodels.api as sm\n",
    "#!pip install -q pingouin # quita el comentario si estás en colab.\n",
    "import pingouin as pg\n",
    "import matplotlib.pyplot as plt\n",
    "import seaborn as sns\n",
    "print('Librerías importadas')"
   ]
  },
  {
   "cell_type": "markdown",
   "id": "1eecbd88",
   "metadata": {},
   "source": [
    "## Datos\n",
    "Para esta libreta utilizaremos el dataset `palmer penguins` que trabajamos en la **Unidad 4**, pero esta vez lo cargaremos desde `pingouin`. \n",
    "\n",
    "Muchas librerías, tanto en `python` como en `R`, nos permiten importar bases de datos para probarlos. En las librerías que ya hemos utilizado, `seaborn` y `statsmodels` ofrecen muchos datos para probar, te sugiero que busques en su documentación. "
   ]
  },
  {
   "cell_type": "code",
   "execution_count": 2,
   "id": "c8eea3c6",
   "metadata": {},
   "outputs": [
    {
     "data": {
      "text/html": [
       "<div>\n",
       "<style scoped>\n",
       "    .dataframe tbody tr th:only-of-type {\n",
       "        vertical-align: middle;\n",
       "    }\n",
       "\n",
       "    .dataframe tbody tr th {\n",
       "        vertical-align: top;\n",
       "    }\n",
       "\n",
       "    .dataframe thead th {\n",
       "        text-align: right;\n",
       "    }\n",
       "</style>\n",
       "<table border=\"1\" class=\"dataframe\">\n",
       "  <thead>\n",
       "    <tr style=\"text-align: right;\">\n",
       "      <th></th>\n",
       "      <th>species</th>\n",
       "      <th>island</th>\n",
       "      <th>bill_length_mm</th>\n",
       "      <th>bill_depth_mm</th>\n",
       "      <th>flipper_length_mm</th>\n",
       "      <th>body_mass_g</th>\n",
       "      <th>sex</th>\n",
       "    </tr>\n",
       "  </thead>\n",
       "  <tbody>\n",
       "    <tr>\n",
       "      <th>0</th>\n",
       "      <td>Adelie</td>\n",
       "      <td>Biscoe</td>\n",
       "      <td>37.8</td>\n",
       "      <td>18.3</td>\n",
       "      <td>174.0</td>\n",
       "      <td>3400.0</td>\n",
       "      <td>female</td>\n",
       "    </tr>\n",
       "    <tr>\n",
       "      <th>1</th>\n",
       "      <td>Adelie</td>\n",
       "      <td>Biscoe</td>\n",
       "      <td>37.7</td>\n",
       "      <td>18.7</td>\n",
       "      <td>180.0</td>\n",
       "      <td>3600.0</td>\n",
       "      <td>male</td>\n",
       "    </tr>\n",
       "    <tr>\n",
       "      <th>2</th>\n",
       "      <td>Adelie</td>\n",
       "      <td>Biscoe</td>\n",
       "      <td>35.9</td>\n",
       "      <td>19.2</td>\n",
       "      <td>189.0</td>\n",
       "      <td>3800.0</td>\n",
       "      <td>female</td>\n",
       "    </tr>\n",
       "    <tr>\n",
       "      <th>3</th>\n",
       "      <td>Adelie</td>\n",
       "      <td>Biscoe</td>\n",
       "      <td>38.2</td>\n",
       "      <td>18.1</td>\n",
       "      <td>185.0</td>\n",
       "      <td>3950.0</td>\n",
       "      <td>male</td>\n",
       "    </tr>\n",
       "    <tr>\n",
       "      <th>4</th>\n",
       "      <td>Adelie</td>\n",
       "      <td>Biscoe</td>\n",
       "      <td>38.8</td>\n",
       "      <td>17.2</td>\n",
       "      <td>180.0</td>\n",
       "      <td>3800.0</td>\n",
       "      <td>male</td>\n",
       "    </tr>\n",
       "  </tbody>\n",
       "</table>\n",
       "</div>"
      ],
      "text/plain": [
       "  species  island  bill_length_mm  bill_depth_mm  flipper_length_mm  \\\n",
       "0  Adelie  Biscoe            37.8           18.3              174.0   \n",
       "1  Adelie  Biscoe            37.7           18.7              180.0   \n",
       "2  Adelie  Biscoe            35.9           19.2              189.0   \n",
       "3  Adelie  Biscoe            38.2           18.1              185.0   \n",
       "4  Adelie  Biscoe            38.8           17.2              180.0   \n",
       "\n",
       "   body_mass_g     sex  \n",
       "0       3400.0  female  \n",
       "1       3600.0    male  \n",
       "2       3800.0  female  \n",
       "3       3950.0    male  \n",
       "4       3800.0    male  "
      ]
     },
     "execution_count": 2,
     "metadata": {},
     "output_type": "execute_result"
    }
   ],
   "source": [
    "data = pg.read_dataset('penguins')\n",
    "data.head()"
   ]
  },
  {
   "cell_type": "markdown",
   "id": "e997a1b4",
   "metadata": {},
   "source": [
    "## Plan de análisis\n",
    "Primero haremos un ANOVA de una vía, con la variable `body_mass_g` como dependiente y la variable `species` como factor de agrupación (independiente categórica).\n",
    "\n",
    "Lo que queremos probar es lo siguiente:\n",
    "\n",
    "\n",
    "$$\n",
    "\\exists\\, i, j \\in \\{\\text{Adelie}, \\text{Chinstrap}, \\text{Gentoo}\\},\\ i \\ne j,\\ \\mu_i \\ne \\mu_j\n",
    "$$\n",
    "\n",
    "Es decir, existe un par de especies con media diferente para el peso.\n",
    "\n",
    "Nuestro objetivo es probar la hipótesis nula:\n",
    "\n",
    "$$\n",
    "H_0: \\mu_{Adelie} = \\mu_{Chinstrap} = \\mu_{Gentoo}\n",
    "$$\n",
    "\n",
    "## Statsmodels\n",
    "Statsmodels implementa ANOVA como la extensión del modelo lineal, sin embargo, sus resultados son limitados y para obtener tamaños del efecto requeriríamos código adicional, por esto, `pingouin` trabaja a un mayor nivel programático, abstrayendo la tarea compleja. Primero veamos cómo generamos la tabla ANOVA con `statsmodels`"
   ]
  },
  {
   "cell_type": "code",
   "execution_count": 3,
   "id": "7ed1399c",
   "metadata": {},
   "outputs": [
    {
     "data": {
      "text/html": [
       "<div>\n",
       "<style scoped>\n",
       "    .dataframe tbody tr th:only-of-type {\n",
       "        vertical-align: middle;\n",
       "    }\n",
       "\n",
       "    .dataframe tbody tr th {\n",
       "        vertical-align: top;\n",
       "    }\n",
       "\n",
       "    .dataframe thead th {\n",
       "        text-align: right;\n",
       "    }\n",
       "</style>\n",
       "<table border=\"1\" class=\"dataframe\">\n",
       "  <thead>\n",
       "    <tr style=\"text-align: right;\">\n",
       "      <th></th>\n",
       "      <th>df</th>\n",
       "      <th>sum_sq</th>\n",
       "      <th>mean_sq</th>\n",
       "      <th>F</th>\n",
       "      <th>PR(&gt;F)</th>\n",
       "    </tr>\n",
       "  </thead>\n",
       "  <tbody>\n",
       "    <tr>\n",
       "      <th>species</th>\n",
       "      <td>2.0</td>\n",
       "      <td>1.468642e+08</td>\n",
       "      <td>7.343211e+07</td>\n",
       "      <td>343.626275</td>\n",
       "      <td>2.892368e-82</td>\n",
       "    </tr>\n",
       "    <tr>\n",
       "      <th>Residual</th>\n",
       "      <td>339.0</td>\n",
       "      <td>7.244348e+07</td>\n",
       "      <td>2.136976e+05</td>\n",
       "      <td>NaN</td>\n",
       "      <td>NaN</td>\n",
       "    </tr>\n",
       "  </tbody>\n",
       "</table>\n",
       "</div>"
      ],
      "text/plain": [
       "             df        sum_sq       mean_sq           F        PR(>F)\n",
       "species     2.0  1.468642e+08  7.343211e+07  343.626275  2.892368e-82\n",
       "Residual  339.0  7.244348e+07  2.136976e+05         NaN           NaN"
      ]
     },
     "execution_count": 3,
     "metadata": {},
     "output_type": "execute_result"
    }
   ],
   "source": [
    "model_res = sm.OLS.from_formula(\n",
    "    'body_mass_g ~ species', data\n",
    ").fit()\n",
    "\n",
    "table = sm.stats.anova_lm(model_res)\n",
    "table"
   ]
  },
  {
   "cell_type": "markdown",
   "id": "1a0a31dd",
   "metadata": {},
   "source": [
    "Vemos que podemos rechazar la hipótesis nula, pero veamos cómo se ve este análisis con `pingouin`.\n",
    "\n",
    "## Pingouin\n",
    "\n",
    "Esta librería fue creada como una extensión alto nivel de `statsmodels` y `scipy` y está enfocada en tamaños del efecto para uso clínico, por lo que es ideal para su uso en ciencias de la salud.\n"
   ]
  },
  {
   "cell_type": "code",
   "execution_count": 4,
   "id": "ba5bf9a8",
   "metadata": {},
   "outputs": [
    {
     "data": {
      "text/html": [
       "<div>\n",
       "<style scoped>\n",
       "    .dataframe tbody tr th:only-of-type {\n",
       "        vertical-align: middle;\n",
       "    }\n",
       "\n",
       "    .dataframe tbody tr th {\n",
       "        vertical-align: top;\n",
       "    }\n",
       "\n",
       "    .dataframe thead th {\n",
       "        text-align: right;\n",
       "    }\n",
       "</style>\n",
       "<table border=\"1\" class=\"dataframe\">\n",
       "  <thead>\n",
       "    <tr style=\"text-align: right;\">\n",
       "      <th></th>\n",
       "      <th>Source</th>\n",
       "      <th>SS</th>\n",
       "      <th>DF</th>\n",
       "      <th>MS</th>\n",
       "      <th>F</th>\n",
       "      <th>p-unc</th>\n",
       "      <th>np2</th>\n",
       "    </tr>\n",
       "  </thead>\n",
       "  <tbody>\n",
       "    <tr>\n",
       "      <th>0</th>\n",
       "      <td>species</td>\n",
       "      <td>1.468642e+08</td>\n",
       "      <td>2</td>\n",
       "      <td>7.343211e+07</td>\n",
       "      <td>343.626275</td>\n",
       "      <td>2.892368e-82</td>\n",
       "      <td>0.669672</td>\n",
       "    </tr>\n",
       "    <tr>\n",
       "      <th>1</th>\n",
       "      <td>Within</td>\n",
       "      <td>7.244348e+07</td>\n",
       "      <td>339</td>\n",
       "      <td>2.136976e+05</td>\n",
       "      <td>NaN</td>\n",
       "      <td>NaN</td>\n",
       "      <td>NaN</td>\n",
       "    </tr>\n",
       "  </tbody>\n",
       "</table>\n",
       "</div>"
      ],
      "text/plain": [
       "    Source            SS   DF            MS           F         p-unc  \\\n",
       "0  species  1.468642e+08    2  7.343211e+07  343.626275  2.892368e-82   \n",
       "1   Within  7.244348e+07  339  2.136976e+05         NaN           NaN   \n",
       "\n",
       "        np2  \n",
       "0  0.669672  \n",
       "1       NaN  "
      ]
     },
     "execution_count": 4,
     "metadata": {},
     "output_type": "execute_result"
    }
   ],
   "source": [
    "pg.anova(\n",
    "    data, # los datos\n",
    "    dv='body_mass_g', # variable dependiente\n",
    "    between='species', # variable de agrupación\n",
    "    detailed=True, # información adicional\n",
    ")"
   ]
  },
  {
   "cell_type": "markdown",
   "id": "63abebbd",
   "metadata": {},
   "source": [
    "Podemos ver que con una sola función de fácil uso, logramos un resultado muy parecido pero con información adicional, muy importante `np2` corresponde a $\\eta^2$, el tamaño del efecto. \n",
    "\n",
    "Esto lo intepretamos como que existe una diferencia significativa en el peso de los pingüinos de acuerdo a su especie, con un tamaño de efecto muy grande. Visualicémoslo."
   ]
  },
  {
   "cell_type": "code",
   "execution_count": 5,
   "id": "914eb056",
   "metadata": {},
   "outputs": [
    {
     "data": {
      "text/plain": [
       "<seaborn.axisgrid.FacetGrid at 0x22ac16ad160>"
      ]
     },
     "execution_count": 5,
     "metadata": {},
     "output_type": "execute_result"
    },
    {
     "data": {
      "image/png": "[encoded data removed]",
      "text/plain": [
       "<Figure size 500x500 with 1 Axes>"
      ]
     },
     "metadata": {},
     "output_type": "display_data"
    }
   ],
   "source": [
    "sns.catplot(\n",
    "    data,\n",
    "    x='species',\n",
    "    y='body_mass_g',\n",
    "    kind='box',\n",
    "    hue='species', # agrega color\n",
    ")"
   ]
  },
  {
   "cell_type": "markdown",
   "id": "1bce5636",
   "metadata": {},
   "source": [
    "## Post-Hoc\n",
    "Habiendo encontrado la diferencia, lo apropiado es correr una prueba post-hoc para encontrar los pares que difieren.\n",
    "\n",
    "Pingouin ofrece esta herramienta con el código prácticamente idéntico que para el ANOVA."
   ]
  },
  {
   "cell_type": "code",
   "execution_count": 6,
   "id": "ad2f5f27",
   "metadata": {},
   "outputs": [
    {
     "data": {
      "text/html": [
       "<div>\n",
       "<style scoped>\n",
       "    .dataframe tbody tr th:only-of-type {\n",
       "        vertical-align: middle;\n",
       "    }\n",
       "\n",
       "    .dataframe tbody tr th {\n",
       "        vertical-align: top;\n",
       "    }\n",
       "\n",
       "    .dataframe thead th {\n",
       "        text-align: right;\n",
       "    }\n",
       "</style>\n",
       "<table border=\"1\" class=\"dataframe\">\n",
       "  <thead>\n",
       "    <tr style=\"text-align: right;\">\n",
       "      <th></th>\n",
       "      <th>A</th>\n",
       "      <th>B</th>\n",
       "      <th>mean(A)</th>\n",
       "      <th>mean(B)</th>\n",
       "      <th>diff</th>\n",
       "      <th>se</th>\n",
       "      <th>T</th>\n",
       "      <th>p-tukey</th>\n",
       "      <th>hedges</th>\n",
       "    </tr>\n",
       "  </thead>\n",
       "  <tbody>\n",
       "    <tr>\n",
       "      <th>0</th>\n",
       "      <td>Adelie</td>\n",
       "      <td>Chinstrap</td>\n",
       "      <td>3700.662252</td>\n",
       "      <td>3733.088235</td>\n",
       "      <td>-32.425984</td>\n",
       "      <td>67.511684</td>\n",
       "      <td>-0.480302</td>\n",
       "      <td>0.880667</td>\n",
       "      <td>-0.073946</td>\n",
       "    </tr>\n",
       "    <tr>\n",
       "      <th>1</th>\n",
       "      <td>Adelie</td>\n",
       "      <td>Gentoo</td>\n",
       "      <td>3700.662252</td>\n",
       "      <td>5076.016260</td>\n",
       "      <td>-1375.354009</td>\n",
       "      <td>56.147971</td>\n",
       "      <td>-24.495169</td>\n",
       "      <td>0.000000</td>\n",
       "      <td>-2.860201</td>\n",
       "    </tr>\n",
       "    <tr>\n",
       "      <th>2</th>\n",
       "      <td>Chinstrap</td>\n",
       "      <td>Gentoo</td>\n",
       "      <td>3733.088235</td>\n",
       "      <td>5076.016260</td>\n",
       "      <td>-1342.928025</td>\n",
       "      <td>69.856928</td>\n",
       "      <td>-19.223978</td>\n",
       "      <td>0.000000</td>\n",
       "      <td>-2.875327</td>\n",
       "    </tr>\n",
       "  </tbody>\n",
       "</table>\n",
       "</div>"
      ],
      "text/plain": [
       "           A          B      mean(A)      mean(B)         diff         se  \\\n",
       "0     Adelie  Chinstrap  3700.662252  3733.088235   -32.425984  67.511684   \n",
       "1     Adelie     Gentoo  3700.662252  5076.016260 -1375.354009  56.147971   \n",
       "2  Chinstrap     Gentoo  3733.088235  5076.016260 -1342.928025  69.856928   \n",
       "\n",
       "           T   p-tukey    hedges  \n",
       "0  -0.480302  0.880667 -0.073946  \n",
       "1 -24.495169  0.000000 -2.860201  \n",
       "2 -19.223978  0.000000 -2.875327  "
      ]
     },
     "execution_count": 6,
     "metadata": {},
     "output_type": "execute_result"
    }
   ],
   "source": [
    "pg.pairwise_tukey(\n",
    "    data, # los datos\n",
    "    dv='body_mass_g', # variable dependiente\n",
    "    between='species', # variable de agrupación\n",
    ")"
   ]
  },
  {
   "cell_type": "markdown",
   "id": "53017261",
   "metadata": {},
   "source": [
    "Corroboramos lo que el diagrama de caja y brazos sugería, existe una diferencia entre Gentoo y las otras dos especies, pero no entre Adelie y Chinstrap.\n",
    "\n",
    "Observa además que tenemos el tamaño del efecto de hedge para cada par."
   ]
  },
  {
   "cell_type": "markdown",
   "id": "aaf9cce6",
   "metadata": {},
   "source": [
    "## ANOVA de dos vías\n",
    "\n",
    "Repitamos el análisis pero ajustemos como agrupación adicional `sex`, para ver si el peso varía también entre sexos y si la especie puede interactuar con el sexo afectando el peso del pingüino.\n"
   ]
  },
  {
   "cell_type": "code",
   "execution_count": 7,
   "id": "7f5c3aef",
   "metadata": {},
   "outputs": [
    {
     "data": {
      "text/html": [
       "<div>\n",
       "<style scoped>\n",
       "    .dataframe tbody tr th:only-of-type {\n",
       "        vertical-align: middle;\n",
       "    }\n",
       "\n",
       "    .dataframe tbody tr th {\n",
       "        vertical-align: top;\n",
       "    }\n",
       "\n",
       "    .dataframe thead th {\n",
       "        text-align: right;\n",
       "    }\n",
       "</style>\n",
       "<table border=\"1\" class=\"dataframe\">\n",
       "  <thead>\n",
       "    <tr style=\"text-align: right;\">\n",
       "      <th></th>\n",
       "      <th>Source</th>\n",
       "      <th>SS</th>\n",
       "      <th>DF</th>\n",
       "      <th>MS</th>\n",
       "      <th>F</th>\n",
       "      <th>p-unc</th>\n",
       "      <th>np2</th>\n",
       "    </tr>\n",
       "  </thead>\n",
       "  <tbody>\n",
       "    <tr>\n",
       "      <th>0</th>\n",
       "      <td>species</td>\n",
       "      <td>1.434016e+08</td>\n",
       "      <td>2.0</td>\n",
       "      <td>7.170079e+07</td>\n",
       "      <td>749.015666</td>\n",
       "      <td>8.144406e-123</td>\n",
       "      <td>0.820825</td>\n",
       "    </tr>\n",
       "    <tr>\n",
       "      <th>1</th>\n",
       "      <td>sex</td>\n",
       "      <td>3.709026e+07</td>\n",
       "      <td>1.0</td>\n",
       "      <td>3.709026e+07</td>\n",
       "      <td>387.459976</td>\n",
       "      <td>1.902273e-57</td>\n",
       "      <td>0.542312</td>\n",
       "    </tr>\n",
       "    <tr>\n",
       "      <th>2</th>\n",
       "      <td>species * sex</td>\n",
       "      <td>1.676557e+06</td>\n",
       "      <td>2.0</td>\n",
       "      <td>8.382784e+05</td>\n",
       "      <td>8.756997</td>\n",
       "      <td>1.973489e-04</td>\n",
       "      <td>0.050837</td>\n",
       "    </tr>\n",
       "    <tr>\n",
       "      <th>3</th>\n",
       "      <td>Residual</td>\n",
       "      <td>3.130263e+07</td>\n",
       "      <td>327.0</td>\n",
       "      <td>9.572669e+04</td>\n",
       "      <td>NaN</td>\n",
       "      <td>NaN</td>\n",
       "      <td>NaN</td>\n",
       "    </tr>\n",
       "  </tbody>\n",
       "</table>\n",
       "</div>"
      ],
      "text/plain": [
       "          Source            SS     DF            MS           F  \\\n",
       "0        species  1.434016e+08    2.0  7.170079e+07  749.015666   \n",
       "1            sex  3.709026e+07    1.0  3.709026e+07  387.459976   \n",
       "2  species * sex  1.676557e+06    2.0  8.382784e+05    8.756997   \n",
       "3       Residual  3.130263e+07  327.0  9.572669e+04         NaN   \n",
       "\n",
       "           p-unc       np2  \n",
       "0  8.144406e-123  0.820825  \n",
       "1   1.902273e-57  0.542312  \n",
       "2   1.973489e-04  0.050837  \n",
       "3            NaN       NaN  "
      ]
     },
     "execution_count": 7,
     "metadata": {},
     "output_type": "execute_result"
    }
   ],
   "source": [
    "pg.anova(\n",
    "    data,\n",
    "    dv='body_mass_g',\n",
    "    between=['species', 'sex'], # pasamos list en lugar de str\n",
    "    detailed=True,\n",
    ")"
   ]
  },
  {
   "cell_type": "markdown",
   "id": "0657d1bf",
   "metadata": {},
   "source": [
    "Corroboramos nuevamente nuestra hipótesis, existe dimorfismo sexual. Veamos el post-hoc the tukey para sexo."
   ]
  },
  {
   "cell_type": "code",
   "execution_count": 8,
   "id": "435f1e72",
   "metadata": {},
   "outputs": [
    {
     "data": {
      "text/html": [
       "<div>\n",
       "<style scoped>\n",
       "    .dataframe tbody tr th:only-of-type {\n",
       "        vertical-align: middle;\n",
       "    }\n",
       "\n",
       "    .dataframe tbody tr th {\n",
       "        vertical-align: top;\n",
       "    }\n",
       "\n",
       "    .dataframe thead th {\n",
       "        text-align: right;\n",
       "    }\n",
       "</style>\n",
       "<table border=\"1\" class=\"dataframe\">\n",
       "  <thead>\n",
       "    <tr style=\"text-align: right;\">\n",
       "      <th></th>\n",
       "      <th>A</th>\n",
       "      <th>B</th>\n",
       "      <th>mean(A)</th>\n",
       "      <th>mean(B)</th>\n",
       "      <th>diff</th>\n",
       "      <th>se</th>\n",
       "      <th>T</th>\n",
       "      <th>p-tukey</th>\n",
       "      <th>hedges</th>\n",
       "    </tr>\n",
       "  </thead>\n",
       "  <tbody>\n",
       "    <tr>\n",
       "      <th>0</th>\n",
       "      <td>female</td>\n",
       "      <td>male</td>\n",
       "      <td>3862.272727</td>\n",
       "      <td>4545.684524</td>\n",
       "      <td>-683.411797</td>\n",
       "      <td>80.008683</td>\n",
       "      <td>-8.54172</td>\n",
       "      <td>1.612044e-13</td>\n",
       "      <td>-0.934082</td>\n",
       "    </tr>\n",
       "  </tbody>\n",
       "</table>\n",
       "</div>"
      ],
      "text/plain": [
       "        A     B      mean(A)      mean(B)        diff         se        T  \\\n",
       "0  female  male  3862.272727  4545.684524 -683.411797  80.008683 -8.54172   \n",
       "\n",
       "        p-tukey    hedges  \n",
       "0  1.612044e-13 -0.934082  "
      ]
     },
     "execution_count": 8,
     "metadata": {},
     "output_type": "execute_result"
    }
   ],
   "source": [
    "pg.pairwise_tukey(\n",
    "    data,\n",
    "    dv='body_mass_g',\n",
    "    between='sex',\n",
    ")"
   ]
  },
  {
   "cell_type": "markdown",
   "id": "30572a81",
   "metadata": {},
   "source": [
    "Y para la interacción? Para esto debemos crear una nueva variable que combine los pares entre especie y sexo y meteremos cada una dentro de la prueba de tukey."
   ]
  },
  {
   "cell_type": "code",
   "execution_count": 9,
   "id": "087eb873",
   "metadata": {},
   "outputs": [
    {
     "data": {
      "text/html": [
       "<div>\n",
       "<style scoped>\n",
       "    .dataframe tbody tr th:only-of-type {\n",
       "        vertical-align: middle;\n",
       "    }\n",
       "\n",
       "    .dataframe tbody tr th {\n",
       "        vertical-align: top;\n",
       "    }\n",
       "\n",
       "    .dataframe thead th {\n",
       "        text-align: right;\n",
       "    }\n",
       "</style>\n",
       "<table border=\"1\" class=\"dataframe\">\n",
       "  <thead>\n",
       "    <tr style=\"text-align: right;\">\n",
       "      <th></th>\n",
       "      <th>A</th>\n",
       "      <th>B</th>\n",
       "      <th>mean(A)</th>\n",
       "      <th>mean(B)</th>\n",
       "      <th>diff</th>\n",
       "      <th>se</th>\n",
       "      <th>T</th>\n",
       "      <th>p-tukey</th>\n",
       "      <th>hedges</th>\n",
       "    </tr>\n",
       "  </thead>\n",
       "  <tbody>\n",
       "    <tr>\n",
       "      <th>0</th>\n",
       "      <td>Adelie-female</td>\n",
       "      <td>Adelie-male</td>\n",
       "      <td>3368.835616</td>\n",
       "      <td>4043.493151</td>\n",
       "      <td>-674.657534</td>\n",
       "      <td>51.211806</td>\n",
       "      <td>-13.173867</td>\n",
       "      <td>0.000000e+00</td>\n",
       "      <td>-2.161343</td>\n",
       "    </tr>\n",
       "    <tr>\n",
       "      <th>1</th>\n",
       "      <td>Adelie-female</td>\n",
       "      <td>Chinstrap-female</td>\n",
       "      <td>3368.835616</td>\n",
       "      <td>3527.205882</td>\n",
       "      <td>-158.370266</td>\n",
       "      <td>64.240295</td>\n",
       "      <td>-2.465279</td>\n",
       "      <td>1.376213e-01</td>\n",
       "      <td>-0.572822</td>\n",
       "    </tr>\n",
       "    <tr>\n",
       "      <th>2</th>\n",
       "      <td>Adelie-female</td>\n",
       "      <td>Chinstrap-male</td>\n",
       "      <td>3368.835616</td>\n",
       "      <td>3938.970588</td>\n",
       "      <td>-570.134972</td>\n",
       "      <td>64.240295</td>\n",
       "      <td>-8.875037</td>\n",
       "      <td>0.000000e+00</td>\n",
       "      <td>-1.876696</td>\n",
       "    </tr>\n",
       "    <tr>\n",
       "      <th>3</th>\n",
       "      <td>Adelie-female</td>\n",
       "      <td>Gentoo-female</td>\n",
       "      <td>3368.835616</td>\n",
       "      <td>4679.741379</td>\n",
       "      <td>-1310.905763</td>\n",
       "      <td>54.422282</td>\n",
       "      <td>-24.087666</td>\n",
       "      <td>0.000000e+00</td>\n",
       "      <td>-4.741976</td>\n",
       "    </tr>\n",
       "    <tr>\n",
       "      <th>4</th>\n",
       "      <td>Adelie-female</td>\n",
       "      <td>Gentoo-male</td>\n",
       "      <td>3368.835616</td>\n",
       "      <td>5484.836066</td>\n",
       "      <td>-2116.000449</td>\n",
       "      <td>53.671357</td>\n",
       "      <td>-39.425134</td>\n",
       "      <td>0.000000e+00</td>\n",
       "      <td>-7.252527</td>\n",
       "    </tr>\n",
       "    <tr>\n",
       "      <th>5</th>\n",
       "      <td>Adelie-male</td>\n",
       "      <td>Chinstrap-female</td>\n",
       "      <td>4043.493151</td>\n",
       "      <td>3527.205882</td>\n",
       "      <td>516.287268</td>\n",
       "      <td>64.240295</td>\n",
       "      <td>8.036813</td>\n",
       "      <td>1.999512e-13</td>\n",
       "      <td>1.559300</td>\n",
       "    </tr>\n",
       "    <tr>\n",
       "      <th>6</th>\n",
       "      <td>Adelie-male</td>\n",
       "      <td>Chinstrap-male</td>\n",
       "      <td>4043.493151</td>\n",
       "      <td>3938.970588</td>\n",
       "      <td>104.522562</td>\n",
       "      <td>64.240295</td>\n",
       "      <td>1.627056</td>\n",
       "      <td>5.812048e-01</td>\n",
       "      <td>0.295064</td>\n",
       "    </tr>\n",
       "    <tr>\n",
       "      <th>7</th>\n",
       "      <td>Adelie-male</td>\n",
       "      <td>Gentoo-female</td>\n",
       "      <td>4043.493151</td>\n",
       "      <td>4679.741379</td>\n",
       "      <td>-636.248229</td>\n",
       "      <td>54.422282</td>\n",
       "      <td>-11.690951</td>\n",
       "      <td>0.000000e+00</td>\n",
       "      <td>-1.978960</td>\n",
       "    </tr>\n",
       "    <tr>\n",
       "      <th>8</th>\n",
       "      <td>Adelie-male</td>\n",
       "      <td>Gentoo-male</td>\n",
       "      <td>4043.493151</td>\n",
       "      <td>5484.836066</td>\n",
       "      <td>-1441.342915</td>\n",
       "      <td>53.671357</td>\n",
       "      <td>-26.854974</td>\n",
       "      <td>0.000000e+00</td>\n",
       "      <td>-4.317487</td>\n",
       "    </tr>\n",
       "    <tr>\n",
       "      <th>9</th>\n",
       "      <td>Chinstrap-female</td>\n",
       "      <td>Chinstrap-male</td>\n",
       "      <td>3527.205882</td>\n",
       "      <td>3938.970588</td>\n",
       "      <td>-411.764706</td>\n",
       "      <td>75.039869</td>\n",
       "      <td>-5.487279</td>\n",
       "      <td>1.219550e-06</td>\n",
       "      <td>-1.248653</td>\n",
       "    </tr>\n",
       "    <tr>\n",
       "      <th>10</th>\n",
       "      <td>Chinstrap-female</td>\n",
       "      <td>Gentoo-female</td>\n",
       "      <td>3527.205882</td>\n",
       "      <td>4679.741379</td>\n",
       "      <td>-1152.535497</td>\n",
       "      <td>66.827772</td>\n",
       "      <td>-17.246355</td>\n",
       "      <td>0.000000e+00</td>\n",
       "      <td>-4.039086</td>\n",
       "    </tr>\n",
       "    <tr>\n",
       "      <th>11</th>\n",
       "      <td>Chinstrap-female</td>\n",
       "      <td>Gentoo-male</td>\n",
       "      <td>3527.205882</td>\n",
       "      <td>5484.836066</td>\n",
       "      <td>-1957.630183</td>\n",
       "      <td>66.217679</td>\n",
       "      <td>-29.563558</td>\n",
       "      <td>0.000000e+00</td>\n",
       "      <td>-6.396393</td>\n",
       "    </tr>\n",
       "    <tr>\n",
       "      <th>12</th>\n",
       "      <td>Chinstrap-male</td>\n",
       "      <td>Gentoo-female</td>\n",
       "      <td>3938.970588</td>\n",
       "      <td>4679.741379</td>\n",
       "      <td>-740.770791</td>\n",
       "      <td>66.827772</td>\n",
       "      <td>-11.084775</td>\n",
       "      <td>0.000000e+00</td>\n",
       "      <td>-2.342940</td>\n",
       "    </tr>\n",
       "    <tr>\n",
       "      <th>13</th>\n",
       "      <td>Chinstrap-male</td>\n",
       "      <td>Gentoo-male</td>\n",
       "      <td>3938.970588</td>\n",
       "      <td>5484.836066</td>\n",
       "      <td>-1545.865477</td>\n",
       "      <td>66.217679</td>\n",
       "      <td>-23.345208</td>\n",
       "      <td>0.000000e+00</td>\n",
       "      <td>-4.627380</td>\n",
       "    </tr>\n",
       "    <tr>\n",
       "      <th>14</th>\n",
       "      <td>Gentoo-female</td>\n",
       "      <td>Gentoo-male</td>\n",
       "      <td>4679.741379</td>\n",
       "      <td>5484.836066</td>\n",
       "      <td>-805.094686</td>\n",
       "      <td>56.742843</td>\n",
       "      <td>-14.188480</td>\n",
       "      <td>0.000000e+00</td>\n",
       "      <td>-2.682582</td>\n",
       "    </tr>\n",
       "  </tbody>\n",
       "</table>\n",
       "</div>"
      ],
      "text/plain": [
       "                   A                 B      mean(A)      mean(B)         diff  \\\n",
       "0      Adelie-female       Adelie-male  3368.835616  4043.493151  -674.657534   \n",
       "1      Adelie-female  Chinstrap-female  3368.835616  3527.205882  -158.370266   \n",
       "2      Adelie-female    Chinstrap-male  3368.835616  3938.970588  -570.134972   \n",
       "3      Adelie-female     Gentoo-female  3368.835616  4679.741379 -1310.905763   \n",
       "4      Adelie-female       Gentoo-male  3368.835616  5484.836066 -2116.000449   \n",
       "5        Adelie-male  Chinstrap-female  4043.493151  3527.205882   516.287268   \n",
       "6        Adelie-male    Chinstrap-male  4043.493151  3938.970588   104.522562   \n",
       "7        Adelie-male     Gentoo-female  4043.493151  4679.741379  -636.248229   \n",
       "8        Adelie-male       Gentoo-male  4043.493151  5484.836066 -1441.342915   \n",
       "9   Chinstrap-female    Chinstrap-male  3527.205882  3938.970588  -411.764706   \n",
       "10  Chinstrap-female     Gentoo-female  3527.205882  4679.741379 -1152.535497   \n",
       "11  Chinstrap-female       Gentoo-male  3527.205882  5484.836066 -1957.630183   \n",
       "12    Chinstrap-male     Gentoo-female  3938.970588  4679.741379  -740.770791   \n",
       "13    Chinstrap-male       Gentoo-male  3938.970588  5484.836066 -1545.865477   \n",
       "14     Gentoo-female       Gentoo-male  4679.741379  5484.836066  -805.094686   \n",
       "\n",
       "           se          T       p-tukey    hedges  \n",
       "0   51.211806 -13.173867  0.000000e+00 -2.161343  \n",
       "1   64.240295  -2.465279  1.376213e-01 -0.572822  \n",
       "2   64.240295  -8.875037  0.000000e+00 -1.876696  \n",
       "3   54.422282 -24.087666  0.000000e+00 -4.741976  \n",
       "4   53.671357 -39.425134  0.000000e+00 -7.252527  \n",
       "5   64.240295   8.036813  1.999512e-13  1.559300  \n",
       "6   64.240295   1.627056  5.812048e-01  0.295064  \n",
       "7   54.422282 -11.690951  0.000000e+00 -1.978960  \n",
       "8   53.671357 -26.854974  0.000000e+00 -4.317487  \n",
       "9   75.039869  -5.487279  1.219550e-06 -1.248653  \n",
       "10  66.827772 -17.246355  0.000000e+00 -4.039086  \n",
       "11  66.217679 -29.563558  0.000000e+00 -6.396393  \n",
       "12  66.827772 -11.084775  0.000000e+00 -2.342940  \n",
       "13  66.217679 -23.345208  0.000000e+00 -4.627380  \n",
       "14  56.742843 -14.188480  0.000000e+00 -2.682582  "
      ]
     },
     "execution_count": 9,
     "metadata": {},
     "output_type": "execute_result"
    }
   ],
   "source": [
    "data['group'] = data['species'] + '-' + data['sex']\n",
    "\n",
    "# Comparaciones post-hoc entre combinaciones especie-sexo\n",
    "pg.pairwise_tukey(\n",
    "    data=data,\n",
    "    dv='body_mass_g',\n",
    "    between='group'\n",
    ")"
   ]
  },
  {
   "cell_type": "markdown",
   "id": "ba790926",
   "metadata": {},
   "source": [
    "Podemos ver un enorme efecto entre sexo y especie, sobre todo en los machos Gentoo, que son los más pesados."
   ]
  },
  {
   "cell_type": "markdown",
   "id": "10a907ac",
   "metadata": {},
   "source": [
    "## ANCOVA\n",
    "Para terminar las demostraciones, ajustemos el modelo simple de nuestro ANOVA de una vía entre peso y especie para el tamaño del pico.\n"
   ]
  },
  {
   "cell_type": "code",
   "execution_count": 10,
   "id": "c71c182c",
   "metadata": {},
   "outputs": [
    {
     "data": {
      "text/html": [
       "<div>\n",
       "<style scoped>\n",
       "    .dataframe tbody tr th:only-of-type {\n",
       "        vertical-align: middle;\n",
       "    }\n",
       "\n",
       "    .dataframe tbody tr th {\n",
       "        vertical-align: top;\n",
       "    }\n",
       "\n",
       "    .dataframe thead th {\n",
       "        text-align: right;\n",
       "    }\n",
       "</style>\n",
       "<table border=\"1\" class=\"dataframe\">\n",
       "  <thead>\n",
       "    <tr style=\"text-align: right;\">\n",
       "      <th></th>\n",
       "      <th>Source</th>\n",
       "      <th>SS</th>\n",
       "      <th>DF</th>\n",
       "      <th>F</th>\n",
       "      <th>p-unc</th>\n",
       "      <th>np2</th>\n",
       "    </tr>\n",
       "  </thead>\n",
       "  <tbody>\n",
       "    <tr>\n",
       "      <th>0</th>\n",
       "      <td>species</td>\n",
       "      <td>7.828083e+07</td>\n",
       "      <td>2</td>\n",
       "      <td>349.264191</td>\n",
       "      <td>7.093167e-83</td>\n",
       "      <td>0.674562</td>\n",
       "    </tr>\n",
       "    <tr>\n",
       "      <th>1</th>\n",
       "      <td>bill_length_mm</td>\n",
       "      <td>6.633645e+06</td>\n",
       "      <td>1</td>\n",
       "      <td>59.194431</td>\n",
       "      <td>1.591048e-13</td>\n",
       "      <td>0.149408</td>\n",
       "    </tr>\n",
       "    <tr>\n",
       "      <th>2</th>\n",
       "      <td>bill_depth_mm</td>\n",
       "      <td>9.847683e+06</td>\n",
       "      <td>1</td>\n",
       "      <td>87.874461</td>\n",
       "      <td>1.044582e-18</td>\n",
       "      <td>0.206825</td>\n",
       "    </tr>\n",
       "    <tr>\n",
       "      <th>3</th>\n",
       "      <td>Residual</td>\n",
       "      <td>3.776602e+07</td>\n",
       "      <td>337</td>\n",
       "      <td>NaN</td>\n",
       "      <td>NaN</td>\n",
       "      <td>NaN</td>\n",
       "    </tr>\n",
       "  </tbody>\n",
       "</table>\n",
       "</div>"
      ],
      "text/plain": [
       "           Source            SS   DF           F         p-unc       np2\n",
       "0         species  7.828083e+07    2  349.264191  7.093167e-83  0.674562\n",
       "1  bill_length_mm  6.633645e+06    1   59.194431  1.591048e-13  0.149408\n",
       "2   bill_depth_mm  9.847683e+06    1   87.874461  1.044582e-18  0.206825\n",
       "3        Residual  3.776602e+07  337         NaN           NaN       NaN"
      ]
     },
     "execution_count": 10,
     "metadata": {},
     "output_type": "execute_result"
    }
   ],
   "source": [
    "pg.ancova(\n",
    "    data,\n",
    "    dv='body_mass_g',\n",
    "    between='species',\n",
    "    covar=['bill_length_mm', 'bill_depth_mm']\n",
    ")"
   ]
  },
  {
   "cell_type": "markdown",
   "id": "84c8ce9a",
   "metadata": {},
   "source": [
    "## Medidas repetidas\n",
    "Analizaremos ahora el dataset `sleepstudy` que analizó a una serie de sujetos en el tiempo y cómo su tiempo de reacción se deteriora en el tiempo conforme se les depriva de sueño.\n",
    "\n",
    "Este dataset se utiliza con mucha frecuencia en el contexto de modelos mixtos, también lo utilizaremos con ese fin más adelante en el curso, pero por ahora veamos cómo se ve el ANOVA de medidas repetidas"
   ]
  },
  {
   "cell_type": "code",
   "execution_count": 11,
   "id": "59fe0b6a",
   "metadata": {},
   "outputs": [
    {
     "data": {
      "text/html": [
       "<div>\n",
       "<style scoped>\n",
       "    .dataframe tbody tr th:only-of-type {\n",
       "        vertical-align: middle;\n",
       "    }\n",
       "\n",
       "    .dataframe tbody tr th {\n",
       "        vertical-align: top;\n",
       "    }\n",
       "\n",
       "    .dataframe thead th {\n",
       "        text-align: right;\n",
       "    }\n",
       "</style>\n",
       "<table border=\"1\" class=\"dataframe\">\n",
       "  <thead>\n",
       "    <tr style=\"text-align: right;\">\n",
       "      <th></th>\n",
       "      <th>Reaction</th>\n",
       "      <th>Days</th>\n",
       "      <th>Subject</th>\n",
       "    </tr>\n",
       "  </thead>\n",
       "  <tbody>\n",
       "    <tr>\n",
       "      <th>0</th>\n",
       "      <td>249.5600</td>\n",
       "      <td>0</td>\n",
       "      <td>308</td>\n",
       "    </tr>\n",
       "    <tr>\n",
       "      <th>1</th>\n",
       "      <td>258.7047</td>\n",
       "      <td>1</td>\n",
       "      <td>308</td>\n",
       "    </tr>\n",
       "    <tr>\n",
       "      <th>2</th>\n",
       "      <td>250.8006</td>\n",
       "      <td>2</td>\n",
       "      <td>308</td>\n",
       "    </tr>\n",
       "    <tr>\n",
       "      <th>3</th>\n",
       "      <td>321.4398</td>\n",
       "      <td>3</td>\n",
       "      <td>308</td>\n",
       "    </tr>\n",
       "    <tr>\n",
       "      <th>4</th>\n",
       "      <td>356.8519</td>\n",
       "      <td>4</td>\n",
       "      <td>308</td>\n",
       "    </tr>\n",
       "  </tbody>\n",
       "</table>\n",
       "</div>"
      ],
      "text/plain": [
       "   Reaction  Days  Subject\n",
       "0  249.5600     0      308\n",
       "1  258.7047     1      308\n",
       "2  250.8006     2      308\n",
       "3  321.4398     3      308\n",
       "4  356.8519     4      308"
      ]
     },
     "execution_count": 11,
     "metadata": {},
     "output_type": "execute_result"
    }
   ],
   "source": [
    "sleep_data = sm.datasets.get_rdataset('sleepstudy', package='lme4').data\n",
    "sleep_data.head()"
   ]
  },
  {
   "cell_type": "markdown",
   "id": "c6ecb5b7",
   "metadata": {},
   "source": [
    "Visualicemos los cambios."
   ]
  },
  {
   "cell_type": "code",
   "execution_count": 12,
   "id": "ba27c482",
   "metadata": {},
   "outputs": [
    {
     "data": {
      "text/plain": [
       "<seaborn.axisgrid.FacetGrid at 0x22ac38991d0>"
      ]
     },
     "execution_count": 12,
     "metadata": {},
     "output_type": "execute_result"
    },
    {
     "data": {
      "image/png": "[encoded data removed]",
      "text/plain": [
       "<Figure size 1800x1500 with 18 Axes>"
      ]
     },
     "metadata": {},
     "output_type": "display_data"
    }
   ],
   "source": [
    "sns.lmplot(\n",
    "    sleep_data,\n",
    "    col='Subject',\n",
    "    col_wrap=6,\n",
    "    x='Days',\n",
    "    y='Reaction',\n",
    "    aspect=0.6,\n",
    ")"
   ]
  },
  {
   "cell_type": "markdown",
   "id": "54b64803",
   "metadata": {},
   "source": [
    "Podemos ver que en general, se incrementa el tiempo de reacción conforme se depriva del sueño al sujeto, excepto para el sujeto 335 que se tomó muy serie el ejercicio.\n",
    "\n",
    "Probemos ahora la hipótesis de que el tiempo de reacción no varía de acuerdo al número de días."
   ]
  },
  {
   "cell_type": "code",
   "execution_count": 13,
   "id": "2067c228",
   "metadata": {},
   "outputs": [
    {
     "data": {
      "text/html": [
       "<div>\n",
       "<style scoped>\n",
       "    .dataframe tbody tr th:only-of-type {\n",
       "        vertical-align: middle;\n",
       "    }\n",
       "\n",
       "    .dataframe tbody tr th {\n",
       "        vertical-align: top;\n",
       "    }\n",
       "\n",
       "    .dataframe thead th {\n",
       "        text-align: right;\n",
       "    }\n",
       "</style>\n",
       "<table border=\"1\" class=\"dataframe\">\n",
       "  <thead>\n",
       "    <tr style=\"text-align: right;\">\n",
       "      <th></th>\n",
       "      <th>Source</th>\n",
       "      <th>ddof1</th>\n",
       "      <th>ddof2</th>\n",
       "      <th>F</th>\n",
       "      <th>p-unc</th>\n",
       "      <th>p-GG-corr</th>\n",
       "      <th>ng2</th>\n",
       "      <th>eps</th>\n",
       "      <th>sphericity</th>\n",
       "      <th>W-spher</th>\n",
       "      <th>p-spher</th>\n",
       "    </tr>\n",
       "  </thead>\n",
       "  <tbody>\n",
       "    <tr>\n",
       "      <th>0</th>\n",
       "      <td>Days</td>\n",
       "      <td>9</td>\n",
       "      <td>153</td>\n",
       "      <td>18.702698</td>\n",
       "      <td>8.995345e-21</td>\n",
       "      <td>5.463092e-09</td>\n",
       "      <td>0.292691</td>\n",
       "      <td>0.36903</td>\n",
       "      <td>False</td>\n",
       "      <td>0.000219</td>\n",
       "      <td>5.154879e-08</td>\n",
       "    </tr>\n",
       "  </tbody>\n",
       "</table>\n",
       "</div>"
      ],
      "text/plain": [
       "  Source  ddof1  ddof2          F         p-unc     p-GG-corr       ng2  \\\n",
       "0   Days      9    153  18.702698  8.995345e-21  5.463092e-09  0.292691   \n",
       "\n",
       "       eps  sphericity   W-spher       p-spher  \n",
       "0  0.36903       False  0.000219  5.154879e-08  "
      ]
     },
     "execution_count": 13,
     "metadata": {},
     "output_type": "execute_result"
    }
   ],
   "source": [
    "pg.rm_anova(\n",
    "    sleep_data,\n",
    "    dv='Reaction',\n",
    "    within='Days',\n",
    "    subject='Subject'\n",
    ")"
   ]
  },
  {
   "cell_type": "markdown",
   "id": "b5b42b7d",
   "metadata": {},
   "source": [
    "Podemos ver que el tiempo efectivamente varía en el tiempo para cada sujeto, con una p significativa, aún con la corrección por esfericidad (Greenhouse-Geisser). Por lo que corroboramos que existe un cambio significativo con un tamaño de efecto importante.\n",
    "\n",
    "## No paramétrico\n",
    "\n",
    "Veamos cómo analizar la diferencia entre más de dos grupos con las pruebas no paramétricas de Kruskal-Wallis y Friedman.\n",
    "\n",
    "### Grupos independientes\n",
    "Para analizar más de dos grupos en forma no paramétrica, la prueba de rutina es Kruskal-Wallis, que en python está implementada en varios paquetes.\n",
    "\n",
    "#### Scipy"
   ]
  },
  {
   "cell_type": "code",
   "execution_count": 39,
   "id": "a74265a9",
   "metadata": {},
   "outputs": [
    {
     "data": {
      "text/plain": [
       "KruskalResult(statistic=np.float64(217.59924143680436), pvalue=np.float64(5.609512095829062e-48))"
      ]
     },
     "execution_count": 39,
     "metadata": {},
     "output_type": "execute_result"
    }
   ],
   "source": [
    "clean_data = data.dropna(subset=['species', 'body_mass_g'])\n",
    "# esta es otra forma de extraer los grupos\n",
    "# primero agrupamos y seleccionamos la columna\n",
    "groups = clean_data.groupby('species')['body_mass_g']\n",
    "# luego extraemos los grupos\n",
    "adelie = groups.get_group('Adelie')\n",
    "chinstrap = groups.get_group('Chinstrap')\n",
    "gentoo = groups.get_group('Gentoo')\n",
    "\n",
    "stats.kruskal(adelie, chinstrap, gentoo)"
   ]
  },
  {
   "cell_type": "markdown",
   "id": "905e8015",
   "metadata": {},
   "source": [
    "#### Pingouin"
   ]
  },
  {
   "cell_type": "code",
   "execution_count": 40,
   "id": "85bc26e8",
   "metadata": {},
   "outputs": [
    {
     "data": {
      "text/html": [
       "<div>\n",
       "<style scoped>\n",
       "    .dataframe tbody tr th:only-of-type {\n",
       "        vertical-align: middle;\n",
       "    }\n",
       "\n",
       "    .dataframe tbody tr th {\n",
       "        vertical-align: top;\n",
       "    }\n",
       "\n",
       "    .dataframe thead th {\n",
       "        text-align: right;\n",
       "    }\n",
       "</style>\n",
       "<table border=\"1\" class=\"dataframe\">\n",
       "  <thead>\n",
       "    <tr style=\"text-align: right;\">\n",
       "      <th></th>\n",
       "      <th>Source</th>\n",
       "      <th>ddof1</th>\n",
       "      <th>H</th>\n",
       "      <th>p-unc</th>\n",
       "    </tr>\n",
       "  </thead>\n",
       "  <tbody>\n",
       "    <tr>\n",
       "      <th>Kruskal</th>\n",
       "      <td>species</td>\n",
       "      <td>2</td>\n",
       "      <td>217.599241</td>\n",
       "      <td>5.609512e-48</td>\n",
       "    </tr>\n",
       "  </tbody>\n",
       "</table>\n",
       "</div>"
      ],
      "text/plain": [
       "          Source  ddof1           H         p-unc\n",
       "Kruskal  species      2  217.599241  5.609512e-48"
      ]
     },
     "execution_count": 40,
     "metadata": {},
     "output_type": "execute_result"
    }
   ],
   "source": [
    "# la sintaxis es muy parecida al anova\n",
    "pg.kruskal(data, dv='body_mass_g', between='species', detailed=True)\n"
   ]
  },
  {
   "cell_type": "markdown",
   "id": "1de1ec41",
   "metadata": {},
   "source": [
    "### Medidas repetidas\n",
    "\n",
    "Para el análisis de Friedman contamos con las mismas herramientas.\n",
    "\n",
    "#### scipy\n",
    "Como tenemos varios días en el estudio, necesitamos extraer cada día directamente a un objeto, en lugar de separar en variables como hicimos con las especies, lo haremos con los días."
   ]
  },
  {
   "cell_type": "code",
   "execution_count": 43,
   "id": "6452e6d5",
   "metadata": {},
   "outputs": [
    {
     "name": "stdout",
     "output_type": "stream",
     "text": [
      "guardando día: 0\n",
      "guardando día: 1\n",
      "guardando día: 2\n",
      "guardando día: 3\n",
      "guardando día: 4\n",
      "guardando día: 5\n",
      "guardando día: 6\n",
      "guardando día: 7\n",
      "guardando día: 8\n",
      "guardando día: 9\n"
     ]
    }
   ],
   "source": [
    "dias = []\n",
    "\n",
    "for name, group in sleep_data.groupby('Days')['Reaction']:\n",
    "    print('guardando día:', name)\n",
    "    dias.append(group)\n",
    "\n"
   ]
  },
  {
   "cell_type": "markdown",
   "id": "8851ea95",
   "metadata": {},
   "source": [
    "Ahora en la variable `dias` tenemos una lista con los valores del tiempo de reacción para cada día, pongámoslo en la prueba de friedman."
   ]
  },
  {
   "cell_type": "code",
   "execution_count": 44,
   "id": "5ceec90a",
   "metadata": {},
   "outputs": [
    {
     "data": {
      "text/plain": [
       "FriedmanchisquareResult(statistic=np.float64(86.08484848484852), pvalue=np.float64(9.904181018793203e-15))"
      ]
     },
     "execution_count": 44,
     "metadata": {},
     "output_type": "execute_result"
    }
   ],
   "source": [
    "stats.friedmanchisquare(*dias) "
   ]
  },
  {
   "cell_type": "markdown",
   "id": "f905ee99",
   "metadata": {},
   "source": [
    "El operador `*` antes de la lista, \"desempaqueta\" la colección en los argumentos de la función. Si analizamos el encabezado de la función vemos esto `def friedmanchisquare(*samples: Any)`, puedes ver que samples es un argumento que puede recibir cualquier cantidad de valores y terminan todos en una lista, al utilizar `*dias` estamos pasando cada objeto dentro de la lista al parámetro `samples`. Revisa el tema de [argumentos](#parametros-variables-target) para recordar estos conceptos.\n",
    "\n",
    "#### pingouin"
   ]
  },
  {
   "cell_type": "code",
   "execution_count": null,
   "id": "b1e0c430",
   "metadata": {},
   "outputs": [
    {
     "data": {
      "text/html": [
       "<div>\n",
       "<style scoped>\n",
       "    .dataframe tbody tr th:only-of-type {\n",
       "        vertical-align: middle;\n",
       "    }\n",
       "\n",
       "    .dataframe tbody tr th {\n",
       "        vertical-align: top;\n",
       "    }\n",
       "\n",
       "    .dataframe thead th {\n",
       "        text-align: right;\n",
       "    }\n",
       "</style>\n",
       "<table border=\"1\" class=\"dataframe\">\n",
       "  <thead>\n",
       "    <tr style=\"text-align: right;\">\n",
       "      <th></th>\n",
       "      <th>Source</th>\n",
       "      <th>W</th>\n",
       "      <th>ddof1</th>\n",
       "      <th>Q</th>\n",
       "      <th>p-unc</th>\n",
       "    </tr>\n",
       "  </thead>\n",
       "  <tbody>\n",
       "    <tr>\n",
       "      <th>Friedman</th>\n",
       "      <td>Days</td>\n",
       "      <td>0.531388</td>\n",
       "      <td>9</td>\n",
       "      <td>86.084848</td>\n",
       "      <td>9.904181e-15</td>\n",
       "    </tr>\n",
       "  </tbody>\n",
       "</table>\n",
       "</div>"
      ],
      "text/plain": [
       "         Source         W  ddof1          Q         p-unc\n",
       "Friedman   Days  0.531388      9  86.084848  9.904181e-15"
      ]
     },
     "execution_count": 45,
     "metadata": {},
     "output_type": "execute_result"
    }
   ],
   "source": [
    "pg.friedman(\n",
    "    sleep_data, dv='Reaction', within='Days', subject='Subject', \n",
    ")"
   ]
  },
  {
   "cell_type": "markdown",
   "id": "67df3d37",
   "metadata": {},
   "source": [
    "Nuevamente `pingouin` es más sencillo de utilizar y produce resultados más estéticos. "
   ]
  },
  {
   "cell_type": "markdown",
   "id": "0f013a77",
   "metadata": {},
   "source": [
    "## Ejercicios\n",
    "1. Explora qué otros datasets están disponibles en las tres librerías `seaborn`, `statsmodels` y `pingouin`. Deberás revisar su documentación.\n",
    "2. Utiliza `statsmodels` para ejecutar las pruebas post-hoc, `pingouin` lo hace muy fácil, ve si puedes descifrar cómo hacerlo sin esta herramienta.\n",
    "3. Explora cómo cambiar los supuestos (por ejemplo, violación de esfericidad o heterocedasticidad) y cómo afectan los resultados del ANOVA."
   ]
  }
 ],
 "metadata": {
  "kernelspec": {
   "display_name": "curso-python",
   "language": "python",
   "name": "python3"
  },
  "language_info": {
   "codemirror_mode": {
    "name": "ipython",
    "version": 3
   },
   "file_extension": ".py",
   "mimetype": "text/x-python",
   "name": "python",
   "nbconvert_exporter": "python",
   "pygments_lexer": "ipython3",
   "version": "3.13.5"
  }
 },
 "nbformat": 4,
 "nbformat_minor": 5
}

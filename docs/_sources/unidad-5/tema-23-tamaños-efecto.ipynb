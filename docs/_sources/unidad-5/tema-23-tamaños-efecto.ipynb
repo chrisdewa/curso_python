{
 "cells": [
  {
   "cell_type": "markdown",
   "id": "32345b49",
   "metadata": {},
   "source": [
    "# Tema 23: Tamaños del efecto\n",
    "En esta libreta aprenderás cómo calcular algunos de los tamaños del efecto más utilizados, la d de Cohen, la g de Hedge, la r de Rosenthal y la correlación rango-biserial.\n",
    "\n",
    "## Librerías"
   ]
  },
  {
   "cell_type": "code",
   "execution_count": 2,
   "id": "4a00f357",
   "metadata": {},
   "outputs": [
    {
     "name": "stdout",
     "output_type": "stream",
     "text": [
      "Librerías importadas y semilla establecida\n"
     ]
    }
   ],
   "source": [
    "import numpy as np # para semilla aleatoria\n",
    "import scipy.stats as stats\n",
    "from scipy.special import expit, gamma\n",
    "import pandas as pd\n",
    "import seaborn as sns\n",
    "import matplotlib.pyplot as plt\n",
    "\n",
    "np.random.seed(42) # establece la semilla que quieras\n",
    "\n",
    "print('Librerías importadas y semilla establecida')"
   ]
  },
  {
   "cell_type": "markdown",
   "id": "ed56fc38",
   "metadata": {},
   "source": [
    "\n",
    "##  Datos\n",
    "Para esta libreta utilizaremos datos simulados con una variable dicotómica de agrupación y una variable cuantitativa\n",
    "La variable X será normal con media de 100 y desviación estándar de 15, emulando la distribución del cociente de desarrollo.\n",
    "Y la variable dicotómica será simulada con base en la función expit (logit inversa) `grupo ~ X + error`.\n",
    "\n",
    "\n",
    "El dataset simula una cohorte infantil con medición del cociente de desarrollo. El supuesto de la simulación es que el grupo de intervención tendrá un cociente de desarrollo mayor que el grupo control.\n"
   ]
  },
  {
   "cell_type": "code",
   "execution_count": 3,
   "id": "a381b660",
   "metadata": {},
   "outputs": [
    {
     "data": {
      "text/html": [
       "<div>\n",
       "<style scoped>\n",
       "    .dataframe tbody tr th:only-of-type {\n",
       "        vertical-align: middle;\n",
       "    }\n",
       "\n",
       "    .dataframe tbody tr th {\n",
       "        vertical-align: top;\n",
       "    }\n",
       "\n",
       "    .dataframe thead th {\n",
       "        text-align: right;\n",
       "    }\n",
       "</style>\n",
       "<table border=\"1\" class=\"dataframe\">\n",
       "  <thead>\n",
       "    <tr style=\"text-align: right;\">\n",
       "      <th></th>\n",
       "      <th>Grupo</th>\n",
       "      <th>X</th>\n",
       "    </tr>\n",
       "  </thead>\n",
       "  <tbody>\n",
       "    <tr>\n",
       "      <th>0</th>\n",
       "      <td>1</td>\n",
       "      <td>107</td>\n",
       "    </tr>\n",
       "    <tr>\n",
       "      <th>1</th>\n",
       "      <td>0</td>\n",
       "      <td>97</td>\n",
       "    </tr>\n",
       "    <tr>\n",
       "      <th>2</th>\n",
       "      <td>1</td>\n",
       "      <td>109</td>\n",
       "    </tr>\n",
       "    <tr>\n",
       "      <th>3</th>\n",
       "      <td>1</td>\n",
       "      <td>122</td>\n",
       "    </tr>\n",
       "    <tr>\n",
       "      <th>4</th>\n",
       "      <td>0</td>\n",
       "      <td>96</td>\n",
       "    </tr>\n",
       "  </tbody>\n",
       "</table>\n",
       "</div>"
      ],
      "text/plain": [
       "   Grupo    X\n",
       "0      1  107\n",
       "1      0   97\n",
       "2      1  109\n",
       "3      1  122\n",
       "4      0   96"
      ]
     },
     "execution_count": 3,
     "metadata": {},
     "output_type": "execute_result"
    }
   ],
   "source": [
    "N = 100\n",
    "X = stats.norm.rvs(100, 15, size=N).astype(int)\n",
    "err = stats.norm.rvs(0, 3, size=N)\n",
    "z = -100 + X + err\n",
    "prob = expit(z)\n",
    "grupo = stats.bernoulli.rvs(prob)\n",
    "\n",
    "data = pd.DataFrame({\n",
    "    'Grupo': grupo,\n",
    "    'X': X \n",
    "})\n",
    "data.head()\n"
   ]
  },
  {
   "cell_type": "markdown",
   "id": "4604d321",
   "metadata": {},
   "source": [
    "## Visualización de los datos\n",
    "Visualicemos nuestros datos."
   ]
  },
  {
   "cell_type": "code",
   "execution_count": 4,
   "id": "f2e984c0",
   "metadata": {},
   "outputs": [
    {
     "data": {
      "text/plain": [
       "<seaborn.axisgrid.FacetGrid at 0x266113b6660>"
      ]
     },
     "execution_count": 4,
     "metadata": {},
     "output_type": "execute_result"
    },
    {
     "data": {
      "image/png": "[encoded data removed]",
      "text/plain": [
       "<Figure size 558.875x500 with 1 Axes>"
      ]
     },
     "metadata": {},
     "output_type": "display_data"
    }
   ],
   "source": [
    "sns.displot(data, x='X', hue='Grupo', kde=True)"
   ]
  },
  {
   "cell_type": "markdown",
   "id": "ad4e5865",
   "metadata": {},
   "source": [
    "\n",
    "## Diferencia de grupos\n",
    "\n",
    "Podemos ver que hay una diferencia a favor del grupo de estudio, ahora veamos si la diferencia es estadísticamente significativa, como el objetivo de la libreta es el tamaño del efecto, utilizaremos tanto la prueba T para grupos independientes como la prueba U de mann whitney y guardaremos los resultados.\n",
    "\n",
    "Para mayor facilidad, separemos la puntuación de desarrollo para cada grupo."
   ]
  },
  {
   "cell_type": "code",
   "execution_count": 5,
   "id": "701d5e7c",
   "metadata": {},
   "outputs": [
    {
     "name": "stdout",
     "output_type": "stream",
     "text": [
      "Resutado prueba T: p=0.000\n",
      "Resutado prueba U de Mann-Whitney: p=0.000\n"
     ]
    }
   ],
   "source": [
    "control = data[data['Grupo'] == 0]['X']\n",
    "intervencion = data[data['Grupo'] == 1]['X']\n",
    "\n",
    "res_t = stats.ttest_ind(control, intervencion)\n",
    "res_u = stats.mannwhitneyu(control, intervencion)\n",
    "\n",
    "print(f'Resutado prueba T: p={res_t.pvalue:.3f}')\n",
    "print(f'Resutado prueba U de Mann-Whitney: p={res_u.pvalue:.3f}')\n"
   ]
  },
  {
   "cell_type": "markdown",
   "id": "ee61d946",
   "metadata": {},
   "source": [
    "Con esto podemos ver que efectivamente la diferencia es estadísticamente significativa. Esto no debe sorprendernos puesto que así diseñamos el dataset, pero puedes modificar el código de la simulación para ver qué otros resultados podríamos tener.\n",
    "\n",
    ":::{tip}\n",
    "Puedes modificar la desviación estándar del error para disminuir la diferencia entre los sujetos en la variable X, ya que disminuimos el poder explicativo de la variable. O puedes utilizar un valor multiplicativo (coeficiente) menor a 1 en la ecuación.\n",
    ":::\n",
    "\n",
    "## d de Cohen\n",
    "La d de Cohen se calcula, para muestras independientes como:\n",
    "\n",
    "$$\n",
    "\\sigma_{pooled} = \\sqrt{\n",
    "    \\frac{(n_1-1)*\\sigma_1^2 + (n_2-1)*\\sigma_2^2}{(n_1 + n_2 - 2)}\n",
    "}\n",
    "$$\n",
    "\n",
    "$$d = \\frac{\\bar{x}_1 - \\bar{x}_2}{\\sigma_{pooled}}$$\n",
    "\n",
    "Codifiquémoslo en una función que tome los datos de las dos variables. Aunque, no tengamos los valores de sigma, por lo que utilizaremos los estimadores de la muestra."
   ]
  },
  {
   "cell_type": "code",
   "execution_count": 6,
   "id": "4247544e",
   "metadata": {},
   "outputs": [
    {
     "data": {
      "text/plain": [
       "np.float64(2.4298288189098987)"
      ]
     },
     "execution_count": 6,
     "metadata": {},
     "output_type": "execute_result"
    }
   ],
   "source": [
    "def pooled_s(a, b):\n",
    "    n1, n2 = len(a), len(b)\n",
    "    var1 = np.var(a, ddof=1) # n-1\n",
    "    var2 = np.var(b, ddof=1) # n-1\n",
    "\n",
    "    sp = np.sqrt(\n",
    "        ((n1-1)*var1 + (n2-1)*var2) \n",
    "        /\n",
    "        (n1+n2-2)\n",
    "    )\n",
    "\n",
    "    return sp\n",
    "\n",
    "def d_cohen(a, b):\n",
    "    \"\"\"\n",
    "    Calcula el tamaño del efecto d de Cohen para dos muestras independientes.\n",
    "\n",
    "    El d de Cohen es una medida estandarizada de la diferencia entre dos medias,\n",
    "    calculada como la diferencia de medias dividida entre la desviación estándar\n",
    "    combinada (pooled). Asume que ambas muestras son independientes, provienen de\n",
    "    poblaciones aproximadamente normales y con varianzas similares.\n",
    "\n",
    "    Parámetros\n",
    "    ----------\n",
    "    a : array-like\n",
    "        Primera muestra de observaciones.\n",
    "    b : array-like\n",
    "        Segunda muestra de observaciones.\n",
    "\n",
    "    Retorna\n",
    "    -------\n",
    "    float\n",
    "        Tamaño del efecto d de Cohen. Valores positivos indican que la media de `a`\n",
    "        es mayor que la media de `b`.\n",
    "\n",
    "    Notas\n",
    "    -----\n",
    "    La desviación estándar combinada se calcula utilizando la corrección de Bessel\n",
    "    (grados de libertad = 1) para obtener una estimación insesgada de la desviación\n",
    "    estándar poblacional.\n",
    "    \"\"\"\n",
    "    sp = pooled_s(a, b)\n",
    "\n",
    "    d = (np.mean(a) - np.mean(b)) / sp\n",
    "\n",
    "    return d\n",
    "\n",
    "\n",
    "d_cohen(intervencion, control)"
   ]
  },
  {
   "cell_type": "markdown",
   "id": "6b242ab7",
   "metadata": {},
   "source": [
    "Podemos ver un tamaño del efecto muy significativo, esperado por los datos generados, positivo, es decir a favor del grupo de intervención.\n",
    "\n",
    "## g de Hedges\n",
    "\n",
    "El estadístico *g* de Hedges es una versión corregida del tamaño del efecto *d* de Cohen. Esta corrección compensa el sesgo que ocurre en muestras pequeñas cuando se utiliza el estimador de la desviación estándar muestral en lugar del parámetro poblacional $\\sigma$.\n",
    "\n",
    "Existen dos formas comunes de calcular esta corrección:\n",
    "\n",
    "\n",
    "### Versión ajustada (corrección aproximada)\n",
    "\n",
    "Se calcula como $g = d \\cdot J$, donde:\n",
    "\n",
    "$$\n",
    "J = 1 - \\frac{3}{4(n_1 + n_2) - 9}\n",
    "$$\n",
    "$$\n",
    "d = \\frac{\\bar{X}_1 - \\bar{X}_2}{s_p}\n",
    "$$\n",
    "\n",
    "Esta corrección es una aproximación que funciona bien en la mayoría de los casos.\n"
   ]
  },
  {
   "cell_type": "code",
   "execution_count": 7,
   "id": "eaf4924a",
   "metadata": {},
   "outputs": [
    {
     "data": {
      "text/plain": [
       "np.float64(2.411185631041025)"
      ]
     },
     "execution_count": 7,
     "metadata": {},
     "output_type": "execute_result"
    }
   ],
   "source": [
    "def g_hedge(a, b):\n",
    "    \"\"\"\n",
    "    Calcula el tamaño del efecto g de Hedges con corrección aproximada por sesgo.\n",
    "\n",
    "    Esta versión utiliza un factor de corrección J que ajusta el valor de d de Cohen\n",
    "    para muestras pequeñas, basándose en una fórmula empírica.\n",
    "\n",
    "    Parámetros\n",
    "    ----------\n",
    "    a : array-like\n",
    "        Muestra del grupo 1.\n",
    "    b : array-like\n",
    "        Muestra del grupo 2.\n",
    "\n",
    "    Retorna\n",
    "    -------\n",
    "    float\n",
    "        Tamaño del efecto g de Hedges corregido.\n",
    "    \"\"\"\n",
    "    n1, n2 = len(a), len(b)\n",
    "    media1, media2 = np.mean(a), np.mean(b)\n",
    "    sp = pooled_s(a, b)\n",
    "    j = 1 - (3 / (4 * (n1 + n2) - 9))\n",
    "\n",
    "    g = ((media1 - media2) / sp) * j\n",
    "    return g\n",
    "\n",
    "g_hedge(intervencion, control)\n"
   ]
  },
  {
   "cell_type": "markdown",
   "id": "6d98306f",
   "metadata": {},
   "source": [
    "### Versión exacta (corrección con función Gamma)\n",
    "\n",
    "Una forma más precisa de estimar el factor de corrección usa la función Gamma:\n",
    "\n",
    "$$\n",
    "J = \\frac{\\Gamma\\left(\\frac{df}{2}\\right)}{\\sqrt{\\frac{df}{2}} \\cdot \\Gamma\\left(\\frac{df - 1}{2}\\right)}\n",
    "$$\n",
    "\n",
    "donde $ df = n_1 + n_2 - 2$ son los grados de libertad. \n",
    "\n",
    "Esta versión es especialmente útil para muestras pequeñas, ya que reduce el sesgo de estimación con mayor precisión.\n"
   ]
  },
  {
   "cell_type": "code",
   "execution_count": 8,
   "id": "fde23406",
   "metadata": {},
   "outputs": [
    {
     "data": {
      "text/plain": [
       "np.float64(2.411177665313029)"
      ]
     },
     "execution_count": 8,
     "metadata": {},
     "output_type": "execute_result"
    }
   ],
   "source": [
    "def g_hedge_exacta(a, b):\n",
    "    \"\"\"\n",
    "    Calcula el tamaño del efecto g de Hedges con corrección exacta por sesgo\n",
    "    utilizando la función Gamma.\n",
    "\n",
    "    Esta versión proporciona una estimación más precisa del factor de corrección J,\n",
    "    especialmente útil en muestras pequeñas.\n",
    "\n",
    "    Parámetros\n",
    "    ----------\n",
    "    a : array-like\n",
    "        Muestra del grupo 1.\n",
    "    b : array-like\n",
    "        Muestra del grupo 2.\n",
    "\n",
    "    Retorna\n",
    "    -------\n",
    "    float\n",
    "        Tamaño del efecto g de Hedges corregido (versión exacta).\n",
    "    \"\"\"\n",
    "    n1, n2 = len(a), len(b)\n",
    "    media1, media2 = np.mean(a), np.mean(b)\n",
    "    sp = pooled_s(a, b)\n",
    "    df = n1 + n2 - 2\n",
    "\n",
    "    j = gamma(df / 2) / (np.sqrt(df / 2) * gamma((df - 1) / 2))\n",
    "\n",
    "    g = ((media1 - media2) / sp) * j\n",
    "    return g\n",
    "\n",
    "g_hedge_exacta(intervencion, control)\n"
   ]
  },
  {
   "cell_type": "markdown",
   "id": "0f44e44f",
   "metadata": {},
   "source": [
    "\n",
    "## r de Rosenthal\n",
    "\n",
    "El coeficiente $r$ de Rosenthal, también llamado *efecto tamaño r*, se calcula a partir de una estadística z como:\n",
    "\n",
    "$$\n",
    "r = \\frac{z}{\\sqrt{N}}\n",
    "$$\n",
    "\n",
    "donde $z$ es el estadístico estándar (por ejemplo, de Mann–Whitney) y $N$ el tamaño total de la muestra.\n"
   ]
  },
  {
   "cell_type": "code",
   "execution_count": 9,
   "id": "86b580d8",
   "metadata": {},
   "outputs": [
    {
     "name": "stdout",
     "output_type": "stream",
     "text": [
      "MWU: pvalue=0.000, r=-0.836\n"
     ]
    }
   ],
   "source": [
    "def mann_whitney_z(U, n1, n2):\n",
    "    z = (U - n1*n2/2) / np.sqrt(n1*n2*(n1+n2+1)/12)\n",
    "    return z\n",
    "\n",
    "\n",
    "# Aproximación z bajo normalidad (para muestras grandes)\n",
    "\n",
    "def r_rosenthal(z, N):\n",
    "    \"\"\"\n",
    "    Calcula el coeficiente r de Rosenthal como medida de tamaño del efecto\n",
    "    a partir de una estadística z y el tamaño muestral total.\n",
    "\n",
    "    Parámetros\n",
    "    ----------\n",
    "    z : float\n",
    "        Estadístico z de la prueba (e.g., de Mann–Whitney o Wilcoxon).\n",
    "    N : int\n",
    "        Tamaño total de la muestra (e.g., n1 + n2).\n",
    "\n",
    "    Retorna\n",
    "    -------\n",
    "    float\n",
    "        Coeficiente r de Rosenthal, análogo a una correlación de Pearson.\n",
    "    \"\"\"\n",
    "    return z / np.sqrt(N)\n",
    "\n",
    "\n",
    "res_u = stats.mannwhitneyu(control, intervencion)\n",
    "U = res_u.statistic\n",
    "n1 = len(control)\n",
    "n2 = len(intervencion)\n",
    "z = mann_whitney_z(U, n1, n2)\n",
    "r = r_rosenthal(z, n1+n2)\n",
    "\n",
    "print(f'MWU: pvalue={res_u.pvalue:.3f}, r={r:.3f}')"
   ]
  },
  {
   "cell_type": "markdown",
   "id": "941f601f",
   "metadata": {},
   "source": [
    "Un valor negativo de $r$ indica que el grupo control tiene mayores valores que el grupo intervención. Si queremos que un efecto a favor de la intervención tenga signo positivo, basta con invertir el orden de los grupos en el análisis."
   ]
  },
  {
   "cell_type": "code",
   "execution_count": 10,
   "id": "4cec3ebf",
   "metadata": {},
   "outputs": [
    {
     "name": "stdout",
     "output_type": "stream",
     "text": [
      "MWU: pvalue=0.000, r=0.836\n"
     ]
    }
   ],
   "source": [
    "res_u = stats.mannwhitneyu(intervencion, control)\n",
    "U = res_u.statistic\n",
    "n1 = len(intervencion)\n",
    "n2 = len(control)\n",
    "z = mann_whitney_z(U, n1, n2)\n",
    "r = r_rosenthal(z, n1+n2)\n",
    "\n",
    "print(f'MWU: pvalue={res_u.pvalue:.3f}, r={r:.3f}')"
   ]
  },
  {
   "cell_type": "markdown",
   "id": "5a5fcac8",
   "metadata": {},
   "source": [
    "## Correlación Rango-Biserial.\n",
    "\n",
    "Este coeficiente se asocia a la prueba U de Mann–Whitney y estima la probabilidad de superioridad de un grupo sobre otro. Se interpreta como la diferencia entre la probabilidad de que un valor del grupo 1 sea mayor que uno del grupo 2, y la probabilidad contraria:\n",
    "\n",
    "$$\n",
    "r_{rb} = \\frac{2U}{n_1 n_2} - 1\n",
    "$$\n",
    "\n",
    "Valores positivos indican que el grupo 1 tiende a tener puntuaciones más altas."
   ]
  },
  {
   "cell_type": "code",
   "execution_count": 11,
   "id": "a6998c8d",
   "metadata": {},
   "outputs": [
    {
     "name": "stdout",
     "output_type": "stream",
     "text": [
      "MWU: pvalue=0.000, r=-0.973\n"
     ]
    }
   ],
   "source": [
    "def rango_biserial(U, n1, n2):\n",
    "    \"\"\"\n",
    "    Calcula la correlación rango-biserial como tamaño del efecto para pruebas como Mann–Whitney U.\n",
    "\n",
    "    Parámetros\n",
    "    ----------\n",
    "    U : float\n",
    "        Estadístico U de la prueba de Mann–Whitney.\n",
    "    n1 : int\n",
    "        Tamaño del primer grupo.\n",
    "    n2 : int\n",
    "        Tamaño del segundo grupo.\n",
    "\n",
    "    Retorna\n",
    "    -------\n",
    "    float\n",
    "        Coeficiente de correlación rango-biserial.\n",
    "    \"\"\"\n",
    "    return (2 * U) / (n1 * n2) -1\n",
    "\n",
    "\n",
    "res_u = stats.mannwhitneyu(control, intervencion)\n",
    "U = res_u.statistic\n",
    "n1 = len(control)\n",
    "n2 = len(intervencion)\n",
    "crb = rango_biserial(U, n1, n2)\n",
    "print(f'MWU: pvalue={res_u.pvalue:.3f}, r={crb:.3f}')"
   ]
  },
  {
   "cell_type": "markdown",
   "id": "542f0d77",
   "metadata": {},
   "source": [
    "## Simplificación del código para datos reportados\n",
    "\n",
    "Puede ser el caso de que no contemos con los datos crudos del estudio para obtener toda la información, pero modificando ligeramente el código, es posible crear funciones que acepten los estimadores reportados por los estudios.\n",
    "\n",
    "Por ejemplo, retomemos la corrección exacta de Hedge para el tamaño del efecto, si buscamos en detalle los datos que necesitamos en realidad solo es necesario conocer las desviaciones estándar, las medias y los tamaños de los grupos.\n",
    "\n"
   ]
  },
  {
   "cell_type": "code",
   "execution_count": null,
   "id": "279538f5",
   "metadata": {},
   "outputs": [
    {
     "data": {
      "text/plain": [
       "np.float64(2.411177665313029)"
      ]
     },
     "execution_count": 13,
     "metadata": {},
     "output_type": "execute_result"
    }
   ],
   "source": [
    "def g_hedge_exacta_v2(media1, media2, sd1, sd2, n1, n2):\n",
    "    df = n1 + n2 - 2\n",
    "\n",
    "    sp = np.sqrt(\n",
    "        ((n1-1)*sd1**2 + (n2-1)*sd2**2) \n",
    "        /\n",
    "        df\n",
    "    )\n",
    "\n",
    "    j = gamma(df / 2) / (np.sqrt(df / 2) * gamma((df - 1) / 2))\n",
    "\n",
    "    g = ((media1 - media2) / sp) * j\n",
    "    return g\n",
    "\n",
    "media1 = np.mean(intervencion)\n",
    "media2 = np.mean(control)\n",
    "\n",
    "\n",
    "g_hedge_exacta_v2(\n",
    "    media1=np.mean(intervencion),\n",
    "    media2=np.mean(control),\n",
    "    sd1=np.std(intervencion, ddof=1),\n",
    "    sd2=np.std(control, ddof=1),\n",
    "    n1=len(intervencion),\n",
    "    n2=len(control)\n",
    ")\n"
   ]
  },
  {
   "cell_type": "markdown",
   "id": "1b33e6b6",
   "metadata": {},
   "source": [
    "De esta manera podemos simplificar las fórmulas y aplicarlas a diferentes escenarios.\n",
    "\n",
    "## Ejercicios\n",
    "\n",
    "Calcula ahora tú los tamaños del efecto para otros datos. Puedes utilizar datos reales o el dataset de pingüinos que practicamos en la unidad 4."
   ]
  }
 ],
 "metadata": {
  "kernelspec": {
   "display_name": "curso-python",
   "language": "python",
   "name": "python3"
  },
  "language_info": {
   "codemirror_mode": {
    "name": "ipython",
    "version": 3
   },
   "file_extension": ".py",
   "mimetype": "text/x-python",
   "name": "python",
   "nbconvert_exporter": "python",
   "pygments_lexer": "ipython3",
   "version": "3.13.5"
  }
 },
 "nbformat": 4,
 "nbformat_minor": 5
}

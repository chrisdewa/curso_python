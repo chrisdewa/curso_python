{
 "cells": [
  {
   "cell_type": "markdown",
   "id": "362607a7",
   "metadata": {},
   "source": [
    "# Tema 21: Curvas ROC\n",
    "\n",
    "Las curvas de Característica Operativa del Receptor es muy utilizada para identificar puntos de corte maximizando la sensibilidad y especificidad de una prueba con resultado binario.\n",
    "\n",
    ":::{important}\n",
    "Para esta libreta es necesario tener instalada la librería `scikit-learn`, puedes hacerlo con el comando `uv add scikit-learn` dentro del directorio del curso.\n",
    "\n",
    "Observa, sin embargo, que a la hora de importar la librería se hace como `sklearn`, esto se debe a restricciones en el nombre de las variables en python y a la comodidad de un nombre más corto. \n",
    ":::\n",
    "\n",
    "## Librerías\n"
   ]
  },
  {
   "cell_type": "code",
   "execution_count": null,
   "id": "67b92509",
   "metadata": {},
   "outputs": [
    {
     "name": "stdout",
     "output_type": "stream",
     "text": [
      "Librerías importadas\n"
     ]
    }
   ],
   "source": [
    "import scipy.stats as stats # pruebas y distribuciones\n",
    "from scipy.special import expit # logit inversa\n",
    "import numpy as np # librería de cálculos matemáticos y vectores\n",
    "import pandas as pd # manejo de datos tabulados\n",
    "from sklearn.metrics import roc_curve, auc # para la curva ROC\n",
    "\n",
    "import matplotlib.pyplot as plt # para graficar.\n",
    "\n",
    "print(\"Librerías importadas\")"
   ]
  },
  {
   "cell_type": "markdown",
   "id": "876c1aef",
   "metadata": {},
   "source": [
    "## Datos\n",
    "Utilizaremos datos con una variable predictora numérica discreta en el intervalo 0-40 con distribución normal. \n",
    "\n",
    "En esta libreta también utilizaremos datos simulados, sin embargo, esta vez correremos la simulación al momento de ejecutar la libreta, es decir, que en cada caso los datos generados serán únicos para tí. Sin embargo, para hacerlo replicable, utilizaremos el concepto de `semilla` aleatoria.\n",
    "\n",
    ":::{important}\n",
    "Cuando utilizamos una semilla aleatoria el algoritmo generador de números pseudo-aleatorios operará en forma determinística.\n",
    "Es decir, que a pesar de que los números sean *aleatorios*, aparecerán en el mismo orden cada vez.\n",
    "\n",
    "Esto es crítico para la reproducibilidad de resultados en pruebas que dependen de números aleatorios, por ejemplo, [bootstrap](https://en.wikipedia.org/wiki/Bootstrapping_(statistics))\n",
    ":::\n",
    "\n",
    "### Semilla aleatoria\n",
    "\n",
    "#### Demostración\n",
    "Para ver cómo funciona la semilla ejecuta la siguiente celda.\n",
    "Utilizaremos `numpy`, una librería para operaciones matemáticas con vectores y matrices; está en el corazón de librerías como `pandas` y `scipy` y por lo tanto es donde debemos \"sembrar\" la `semilla`.\n",
    "\n",
    "##### Ejemplo sin semilla\n",
    "Ejecuta la siguiente celda el número de veces que gustes, pero al menos más de dos veces.\n",
    "Verás que en cada ejecución los números generados cambian."
   ]
  },
  {
   "cell_type": "code",
   "execution_count": 10,
   "id": "06fbae49",
   "metadata": {},
   "outputs": [
    {
     "name": "stdout",
     "output_type": "stream",
     "text": [
      "5\n",
      "64\n",
      "55\n",
      "28\n",
      "98\n",
      "54\n",
      "49\n",
      "14\n",
      "58\n",
      "81\n"
     ]
    }
   ],
   "source": [
    "# quitamos cualquier efecto de seed que quede en la memoria\n",
    "# solo en caso de que hayamos corrido alguna semilla antes de esta celda\n",
    "np.random.seed(None)\n",
    "for _ in range(10): # 10 números del 0 al 9\n",
    "    n = np.random.randint(0, 100) # número aleatorio del 0 al 100\n",
    "    print(n)"
   ]
  },
  {
   "cell_type": "markdown",
   "id": "2d6214c9",
   "metadata": {},
   "source": [
    "##### Ejemplo con semilla\n",
    "Ahora utilizamos la semilla `42`, repite el ejercicio previo, ejecuta la siguiente celda múltiples veces pero al menos más de dos."
   ]
  },
  {
   "cell_type": "code",
   "execution_count": 17,
   "id": "5853ff78",
   "metadata": {},
   "outputs": [
    {
     "name": "stdout",
     "output_type": "stream",
     "text": [
      "51\n",
      "92\n",
      "14\n",
      "71\n",
      "60\n",
      "20\n",
      "82\n",
      "86\n",
      "74\n",
      "74\n"
     ]
    }
   ],
   "source": [
    "np.random.seed(42) # el argumento puede ser cualquier int\n",
    "for _ in range(10): # 10 números del 0 al 9\n",
    "    n = np.random.randint(0, 100) # número aleatorio del 0 al 100\n",
    "    print(n)\n"
   ]
  },
  {
   "cell_type": "markdown",
   "id": "f197e64f",
   "metadata": {},
   "source": [
    "Como ves, a pesar de que los números son \"aleatorios\", al utilizar una semilla, podemos replicar la misma secuencia cada vez.\n",
    "\n",
    "#### Elije tu semilla\n",
    "En la siguiente celda elegiremos la semilla que utlizarás en el resto de la libreta. \n",
    "\n",
    "¿Cuál es tu número de la suerte?"
   ]
  },
  {
   "cell_type": "code",
   "execution_count": 20,
   "id": "547a1179",
   "metadata": {},
   "outputs": [
    {
     "name": "stdout",
     "output_type": "stream",
     "text": [
      "Semilla elegida\n"
     ]
    }
   ],
   "source": [
    "num = 42 # elige el número que tú quieras.\n",
    "np.random.seed(num)\n",
    "print('Semilla elegida')"
   ]
  },
  {
   "cell_type": "markdown",
   "id": "29857231",
   "metadata": {},
   "source": [
    "## Simulación\n",
    "\n",
    "Para simular los datos utilizaremos la siguiente función. Lee la documentación y sigue el código para ver cómo funciona."
   ]
  },
  {
   "cell_type": "code",
   "execution_count": null,
   "id": "c5feafb1",
   "metadata": {},
   "outputs": [
    {
     "data": {
      "text/html": [
       "<div>\n",
       "<style scoped>\n",
       "    .dataframe tbody tr th:only-of-type {\n",
       "        vertical-align: middle;\n",
       "    }\n",
       "\n",
       "    .dataframe tbody tr th {\n",
       "        vertical-align: top;\n",
       "    }\n",
       "\n",
       "    .dataframe thead th {\n",
       "        text-align: right;\n",
       "    }\n",
       "</style>\n",
       "<table border=\"1\" class=\"dataframe\">\n",
       "  <thead>\n",
       "    <tr style=\"text-align: right;\">\n",
       "      <th></th>\n",
       "      <th>Estándar</th>\n",
       "      <th>Test</th>\n",
       "    </tr>\n",
       "  </thead>\n",
       "  <tbody>\n",
       "    <tr>\n",
       "      <th>0</th>\n",
       "      <td>0</td>\n",
       "      <td>22</td>\n",
       "    </tr>\n",
       "    <tr>\n",
       "      <th>1</th>\n",
       "      <td>0</td>\n",
       "      <td>19</td>\n",
       "    </tr>\n",
       "    <tr>\n",
       "      <th>2</th>\n",
       "      <td>1</td>\n",
       "      <td>23</td>\n",
       "    </tr>\n",
       "    <tr>\n",
       "      <th>3</th>\n",
       "      <td>1</td>\n",
       "      <td>27</td>\n",
       "    </tr>\n",
       "    <tr>\n",
       "      <th>4</th>\n",
       "      <td>0</td>\n",
       "      <td>18</td>\n",
       "    </tr>\n",
       "  </tbody>\n",
       "</table>\n",
       "</div>"
      ],
      "text/plain": [
       "   Estándar  Test\n",
       "0         0    22\n",
       "1         0    19\n",
       "2         1    23\n",
       "3         1    27\n",
       "4         0    18"
      ]
     },
     "execution_count": 21,
     "metadata": {},
     "output_type": "execute_result"
    }
   ],
   "source": [
    "def simular_test(mu, s, N, err_s=1):\n",
    "    \"\"\"\n",
    "    Simula datos de una escala diagnóstica discreta asociada a un desenlace binario.\n",
    "\n",
    "    Genera N observaciones de una escala ('Test') con distribución normal discreta (media `mu`, DE `s`), \n",
    "    y un desenlace binario ('Estándar') modelado mediante regresión logística con error aditivo (`err_s`) \n",
    "    y un intercepto centrado en -mu.\n",
    "\n",
    "    Parámetros\n",
    "    ----------\n",
    "    mu : float\n",
    "        Media de la escala.\n",
    "    s : float\n",
    "        Desviación estándar de la escala.\n",
    "    N : int\n",
    "        Número de observaciones simuladas.\n",
    "    err_s : float, opcional\n",
    "        Desviación estándar del error logístico. Por defecto 1.\n",
    "\n",
    "    Retorna\n",
    "    -------\n",
    "    pd.DataFrame\n",
    "        DataFrame con dos columnas:\n",
    "        - 'Test': puntaje discreto de la escala.\n",
    "        - 'Estándar': desenlace binario simulado.\n",
    "\n",
    "    \"\"\"\n",
    "    B0 = -mu\n",
    "    X = stats.norm.rvs(mu, s, size=N).astype(int)\n",
    "    err = stats.norm.rvs(0, err_s, size=N)\n",
    "    z = B0 + X + err # predictor z de la regresión logística\n",
    "    p = expit(z) # logit inversa p = 1 / (1+exp(-z))\n",
    "    y = stats.bernoulli.rvs(p)\n",
    "    \n",
    "    data = pd.DataFrame({\n",
    "        'Estándar': y,\n",
    "        'Test': X\n",
    "    })\n",
    "    \n",
    "    return data\n",
    "\n",
    "df = simular_test(20, 5, 100)\n",
    "df.head()\n"
   ]
  },
  {
   "cell_type": "markdown",
   "id": "2bc402cd",
   "metadata": {},
   "source": [
    "Con esto simulamos datos de 100 sujetos para un test discreto con media de 20 y desviación estándar de 5 con un error aleatorio con desviación estándar de 1.\n",
    "\n",
    "## Librerías\n",
    "\n",
    "Veamos las librerías que utilizaremos, debes reconocer las primeras tres ya que son tomadas con exactitud de la lección de rendimiento diagnóstico.\n"
   ]
  },
  {
   "cell_type": "code",
   "execution_count": 22,
   "id": "9f6e7c1d",
   "metadata": {},
   "outputs": [
    {
     "name": "stdout",
     "output_type": "stream",
     "text": [
      "Funciones soporte definidas\n"
     ]
    }
   ],
   "source": [
    "def descomponer_tabulacion(tabulacion: pd.DataFrame): \n",
    "    \"\"\"\n",
    "    Extrae los valores de la tabla de contingencia 2x2 para un test diagnóstico.\n",
    "\n",
    "    Asume que la tabla está organizada con:\n",
    "    - Filas: resultado del test (1 = positivo, 0 = negativo)\n",
    "    - Columnas: estándar diagnóstico (1 = enfermedad presente, 0 = enfermedad ausente)\n",
    "\n",
    "    Parámetros\n",
    "    ----------\n",
    "    tabulacion : pd.DataFrame\n",
    "        Tabla de contingencia 2x2 con los resultados del test y el estándar diagnóstico.\n",
    "\n",
    "    Retorna\n",
    "    -------\n",
    "    tuple\n",
    "        Una tupla con cuatro enteros: (VP, FP, FN, VN)\n",
    "        - VP: Verdaderos Positivos\n",
    "        - FP: Falsos Positivos\n",
    "        - FN: Falsos Negativos\n",
    "        - VN: Verdaderos Negativos\n",
    "    \"\"\"\n",
    "    vp = tabulacion.loc[1, 1] \n",
    "    fp = tabulacion.loc[1, 0] \n",
    "    fn = tabulacion.loc[0, 1] \n",
    "    vn = tabulacion.loc[0, 0]\n",
    "\n",
    "    return vp, fp, fn, vn\n",
    "\n",
    "def sensibilidad(tabulacion):\n",
    "    \"\"\"\n",
    "    Calcula la sensibilidad (verdaderos positivos / total de enfermos).\n",
    "\n",
    "    Parámetro:\n",
    "    - tabulacion: DataFrame 2x2 con los resultados del test y estándar diagnóstico.\n",
    "\n",
    "    Retorna:\n",
    "    - Sensibilidad como flotante.\n",
    "    \"\"\"\n",
    "    vp, fp, fn, vn = descomponer_tabulacion(tabulacion)\n",
    "    return vp / (vp + fn)\n",
    "\n",
    "def especificidad(tabulacion):\n",
    "    \"\"\"\n",
    "    Calcula la especificidad (verdaderos negativos / total de sanos).\n",
    "    \"\"\"\n",
    "    vp, fp, fn, vn = descomponer_tabulacion(tabulacion)\n",
    "    return vn / (vn + fp)\n",
    "\n",
    "print('Funciones soporte definidas')\n"
   ]
  },
  {
   "cell_type": "markdown",
   "id": "fa5886c7",
   "metadata": {},
   "source": [
    "## Curva ROC\n",
    "\n",
    "Ahora viene la parte medular de esta libreta. Generar la curva ROC y obtener el mejor punto de corte para la prueba con base en el índice J de Youden.\n",
    "\n",
    "Antes de comenzar, asegúrate de revisar a fondo el tema de qué es y para qué se usa la curva [ROC](https://doi.org/10.1016/j.patrec.2005.10.010), el AUC y el índice de [Youden](https://en.wikipedia.org/wiki/Youden%27s_J_statistic).\n",
    "\n",
    "Lo primero que necesitamos hacer es extraer la información para la curva roc, lo cual tiene tres elementos:\n",
    "- La tasa de falsos positivos\n",
    "- La tasa de verdaderos positivos\n",
    "- Los umbrales para cada caso\n",
    "\n",
    "El primer elemento no es más que `1 - especificidad` y el segundo es simplemente la `sensibilidad`.\n",
    "\n",
    "Afortunadamente, como muchos otros casos, esta función ya está implementada en python, en una librería nueva llamada `scikit-learn`, que contiene múltiples herramientas para ejecutar, diagnosticar y tunear diversos algoritmos de aprendizaje de máquina (ML), y es una de las principales librerías que hace a python tan atractivo para ML.\n",
    "\n",
    "Ejecutemos la función `roc_curve`.\n"
   ]
  },
  {
   "cell_type": "code",
   "execution_count": 23,
   "id": "2fe7670d",
   "metadata": {},
   "outputs": [
    {
     "name": "stdout",
     "output_type": "stream",
     "text": [
      "[0. 0. 0.] [0.         0.02631579 0.18421053] [inf 29. 27.]\n"
     ]
    }
   ],
   "source": [
    "verdaderos = df['Estándar']\n",
    "predictor = df['Test']\n",
    "fpr, tpr, th = roc_curve(verdaderos, predictor)\n",
    "\n",
    "print(fpr[:3], tpr[:3], th[:3])"
   ]
  },
  {
   "cell_type": "markdown",
   "id": "0717755b",
   "metadata": {},
   "source": [
    "La función `roc_curve` extrae los tres fragmentos de la curva que necesitamos:\n",
    "`fpr`: *False Positive Rate*, es decir, `1-Especificidad`\n",
    "`tpr`: *True Positive Rate*, es decir, `sensibilidad`\n",
    "`th`: *Threshold*, es decir, umbrales.\n",
    "\n",
    "Ahora, podemos graficar la curva."
   ]
  },
  {
   "cell_type": "code",
   "execution_count": 28,
   "id": "4f4a4a14",
   "metadata": {},
   "outputs": [
    {
     "data": {
      "text/plain": [
       "Text(0, 0.5, 'Sensibilidad')"
      ]
     },
     "execution_count": 28,
     "metadata": {},
     "output_type": "execute_result"
    },
    {
     "data": {
      "image/png": "[encoded data removed]",
      "text/plain": [
       "<Figure size 640x480 with 1 Axes>"
      ]
     },
     "metadata": {},
     "output_type": "display_data"
    }
   ],
   "source": [
    "plt.plot(fpr, tpr)\n",
    "plt.title('Curva ROC')\n",
    "plt.xlabel('1 - Especificidad')\n",
    "plt.ylabel('Sensibilidad')"
   ]
  },
  {
   "cell_type": "markdown",
   "id": "6ab703ba",
   "metadata": {},
   "source": [
    "### AUCROC\n",
    "Ahora calculemos el área bajo la curva ROC, o AUC (o AUCROC), para ello, usaremos otra función de `scikit-learn`"
   ]
  },
  {
   "cell_type": "code",
   "execution_count": 29,
   "id": "1c867798",
   "metadata": {},
   "outputs": [
    {
     "name": "stdout",
     "output_type": "stream",
     "text": [
      "0.9492784380305602\n"
     ]
    }
   ],
   "source": [
    "auc_roc = auc(fpr, tpr)\n",
    "print(auc_roc)"
   ]
  },
  {
   "cell_type": "markdown",
   "id": "fc918594",
   "metadata": {},
   "source": [
    "Con esto podemos ver el rendimiento predictivo de la prueba a lo largo de los diferentes puntos de corte, parece ser bastante apropiada, claro que esto es por diseño en estos datos simulados, puedes jugar con la función de generar datos para obtener un dataset diferente.\n",
    "\n",
    "### Índice de Youden\n",
    "Ahora veamos cómo calcular el índice de Youden.\n",
    "Lo que necesitamos hacer es encontrar el punto en la curva donde se se tenga en balance, la máxima sensibilidad con la menor tasa de falsos positivos."
   ]
  },
  {
   "cell_type": "code",
   "execution_count": 30,
   "id": "64a4be39",
   "metadata": {},
   "outputs": [
    {
     "name": "stdout",
     "output_type": "stream",
     "text": [
      "9\n"
     ]
    }
   ],
   "source": [
    "j = np.argmax(tpr-fpr)\n",
    "print(j)"
   ]
  },
  {
   "cell_type": "markdown",
   "id": "7f1ae0c7",
   "metadata": {},
   "source": [
    "El índice `j` lo obtenemos al encontrar el índice máximo de los elementos resultantes de restar `tpr` y `fpr`, observa qué pasa con esta operación:"
   ]
  },
  {
   "cell_type": "code",
   "execution_count": 31,
   "id": "808bdb76",
   "metadata": {},
   "outputs": [
    {
     "data": {
      "text/plain": [
       "array([0.        , 0.02631579, 0.18421053, 0.21052632, 0.28947368,\n",
       "       0.47368421, 0.57894737, 0.57300509, 0.70288625, 0.74363328,\n",
       "       0.73174873, 0.58064516, 0.41935484, 0.32258065, 0.27419355,\n",
       "       0.19354839, 0.16129032, 0.09677419, 0.06451613, 0.01612903,\n",
       "       0.        ])"
      ]
     },
     "execution_count": 31,
     "metadata": {},
     "output_type": "execute_result"
    }
   ],
   "source": [
    "tpr-fpr"
   ]
  },
  {
   "cell_type": "markdown",
   "id": "26443c31",
   "metadata": {},
   "source": [
    "Si lo cuentas desde el cero, verás que el elemento 9 es el máximo en esta serie de datos. Con el índice `j` ahora podemos obtener el mejor punto de corte (cutoff en inglés) en la curva ROC."
   ]
  },
  {
   "cell_type": "code",
   "execution_count": 32,
   "id": "e101ecf9",
   "metadata": {},
   "outputs": [
    {
     "data": {
      "text/plain": [
       "np.float64(20.0)"
      ]
     },
     "execution_count": 32,
     "metadata": {},
     "output_type": "execute_result"
    }
   ],
   "source": [
    "cutoff = th[j]\n",
    "cutoff"
   ]
  },
  {
   "cell_type": "markdown",
   "id": "97dd8f8a",
   "metadata": {},
   "source": [
    "Según esta simulación, el punto de corte `20` es el que resulta en la mayor sensibilidad y especificidad, veamos cuáles son estos parámetros.\n",
    "Primero generemos una nueva serie dentro de nuestro arreglo de datos con aquellos puntajes del `Test` que resulten mayores o igual que 20."
   ]
  },
  {
   "cell_type": "code",
   "execution_count": 34,
   "id": "b9afcd84",
   "metadata": {},
   "outputs": [
    {
     "data": {
      "text/html": [
       "<div>\n",
       "<style scoped>\n",
       "    .dataframe tbody tr th:only-of-type {\n",
       "        vertical-align: middle;\n",
       "    }\n",
       "\n",
       "    .dataframe tbody tr th {\n",
       "        vertical-align: top;\n",
       "    }\n",
       "\n",
       "    .dataframe thead th {\n",
       "        text-align: right;\n",
       "    }\n",
       "</style>\n",
       "<table border=\"1\" class=\"dataframe\">\n",
       "  <thead>\n",
       "    <tr style=\"text-align: right;\">\n",
       "      <th></th>\n",
       "      <th>Estándar</th>\n",
       "      <th>Test</th>\n",
       "      <th>pred</th>\n",
       "      <th>Predicho</th>\n",
       "    </tr>\n",
       "  </thead>\n",
       "  <tbody>\n",
       "    <tr>\n",
       "      <th>0</th>\n",
       "      <td>0</td>\n",
       "      <td>22</td>\n",
       "      <td>1</td>\n",
       "      <td>1</td>\n",
       "    </tr>\n",
       "    <tr>\n",
       "      <th>1</th>\n",
       "      <td>0</td>\n",
       "      <td>19</td>\n",
       "      <td>0</td>\n",
       "      <td>0</td>\n",
       "    </tr>\n",
       "    <tr>\n",
       "      <th>2</th>\n",
       "      <td>1</td>\n",
       "      <td>23</td>\n",
       "      <td>1</td>\n",
       "      <td>1</td>\n",
       "    </tr>\n",
       "    <tr>\n",
       "      <th>3</th>\n",
       "      <td>1</td>\n",
       "      <td>27</td>\n",
       "      <td>1</td>\n",
       "      <td>1</td>\n",
       "    </tr>\n",
       "    <tr>\n",
       "      <th>4</th>\n",
       "      <td>0</td>\n",
       "      <td>18</td>\n",
       "      <td>0</td>\n",
       "      <td>0</td>\n",
       "    </tr>\n",
       "  </tbody>\n",
       "</table>\n",
       "</div>"
      ],
      "text/plain": [
       "   Estándar  Test  pred  Predicho\n",
       "0         0    22     1         1\n",
       "1         0    19     0         0\n",
       "2         1    23     1         1\n",
       "3         1    27     1         1\n",
       "4         0    18     0         0"
      ]
     },
     "execution_count": 34,
     "metadata": {},
     "output_type": "execute_result"
    }
   ],
   "source": [
    "df['Predicho'] = df['Test'].ge(cutoff).astype(int)\n",
    "df.head()"
   ]
  },
  {
   "cell_type": "markdown",
   "id": "a7f23191",
   "metadata": {},
   "source": [
    "El método `ge` quiere decir *Grater or Equal* y con este, podemos generar una columna de valores predichos para la enfermedad.\n",
    "Ahora calculemos tabla cruzada y la sensibilidad y especificidad."
   ]
  },
  {
   "cell_type": "code",
   "execution_count": 35,
   "id": "335c9e24",
   "metadata": {},
   "outputs": [
    {
     "data": {
      "text/html": [
       "<div>\n",
       "<style scoped>\n",
       "    .dataframe tbody tr th:only-of-type {\n",
       "        vertical-align: middle;\n",
       "    }\n",
       "\n",
       "    .dataframe tbody tr th {\n",
       "        vertical-align: top;\n",
       "    }\n",
       "\n",
       "    .dataframe thead th {\n",
       "        text-align: right;\n",
       "    }\n",
       "</style>\n",
       "<table border=\"1\" class=\"dataframe\">\n",
       "  <thead>\n",
       "    <tr style=\"text-align: right;\">\n",
       "      <th>Estándar</th>\n",
       "      <th>0</th>\n",
       "      <th>1</th>\n",
       "    </tr>\n",
       "    <tr>\n",
       "      <th>Predicho</th>\n",
       "      <th></th>\n",
       "      <th></th>\n",
       "    </tr>\n",
       "  </thead>\n",
       "  <tbody>\n",
       "    <tr>\n",
       "      <th>0</th>\n",
       "      <td>51</td>\n",
       "      <td>3</td>\n",
       "    </tr>\n",
       "    <tr>\n",
       "      <th>1</th>\n",
       "      <td>11</td>\n",
       "      <td>35</td>\n",
       "    </tr>\n",
       "  </tbody>\n",
       "</table>\n",
       "</div>"
      ],
      "text/plain": [
       "Estándar   0   1\n",
       "Predicho        \n",
       "0         51   3\n",
       "1         11  35"
      ]
     },
     "execution_count": 35,
     "metadata": {},
     "output_type": "execute_result"
    }
   ],
   "source": [
    "tab = pd.crosstab(df['Predicho'], df['Estándar'])\n",
    "tab"
   ]
  },
  {
   "cell_type": "markdown",
   "id": "a00e5eec",
   "metadata": {},
   "source": [
    "### Sensibilidad y Especificidad\n",
    "Finalmente utilicemos las funciones de sensibilidad y especificidad."
   ]
  },
  {
   "cell_type": "code",
   "execution_count": 36,
   "id": "18beea34",
   "metadata": {},
   "outputs": [
    {
     "data": {
      "text/plain": [
       "(np.float64(0.9210526315789473), np.float64(0.8225806451612904))"
      ]
     },
     "execution_count": 36,
     "metadata": {},
     "output_type": "execute_result"
    }
   ],
   "source": [
    "sens = sensibilidad(tab)\n",
    "esp = especificidad(tab)\n",
    "sens, esp"
   ]
  },
  {
   "cell_type": "markdown",
   "id": "731e8d65",
   "metadata": {},
   "source": [
    "### Reporte final\n",
    "Y reportemos nuestros resultados en forma limpia"
   ]
  },
  {
   "cell_type": "code",
   "execution_count": 37,
   "id": "8ceb8902",
   "metadata": {},
   "outputs": [
    {
     "name": "stdout",
     "output_type": "stream",
     "text": [
      "AUCROC: 0.949, Índice de Youden: 20.0, Sensibilidad: 92.1%, Especificidad: 82.3%\n"
     ]
    }
   ],
   "source": [
    "print(f\"AUCROC: {auc_roc:.3f}, Índice de Youden: {cutoff}, Sensibilidad: {sens:.1%}, Especificidad: {esp:.1%}\")"
   ]
  },
  {
   "cell_type": "markdown",
   "id": "d37be321",
   "metadata": {},
   "source": [
    "## Función completa\n",
    "Ahora veamos cómo podemos compactar toda esta lógica en una sola función reutilizable."
   ]
  },
  {
   "cell_type": "code",
   "execution_count": 81,
   "id": "bf2599b3",
   "metadata": {},
   "outputs": [
    {
     "data": {
      "image/png": "[encoded data removed]",
      "text/plain": [
       "<Figure size 640x480 with 1 Axes>"
      ]
     },
     "metadata": {},
     "output_type": "display_data"
    }
   ],
   "source": [
    "def plot_roc(data, true_col='Estándar', pred_col='Test'):\n",
    "    \"\"\"\n",
    "    La función grafica la curva roc, con su área bajo la curva e índice de Youden y lo retorna.\n",
    "\n",
    "    Parámetros:\n",
    "        data: pd.DataFrame\n",
    "            Arreglo de datos con las columnas que tienen el estado real y el resultado del test\n",
    "        true_col: str\n",
    "            Nombre de la columna donde están los valores verdaderos\n",
    "        pred_col: str\n",
    "            Nombre de la columna donde están los valores del test que predicen a `true_col`\n",
    "\n",
    "    \"\"\"\n",
    "    fpr, tpr, th = roc_curve(\n",
    "        data[true_col], data[pred_col],\n",
    "        drop_intermediate=False\n",
    "    )\n",
    "    \n",
    "    auc_roc = auc(fpr, tpr)\n",
    "    plt.plot(fpr, tpr, '-', label=f'AUC: {auc_roc:.3f}')\n",
    "    \n",
    "    j = np.argmax(tpr-fpr)\n",
    "    cutoff = th[j].astype(int)\n",
    "    plt.plot(fpr[j], tpr[j], 'o-r', label=f'Umbral={cutoff}')\n",
    "\n",
    "    tab = pd.crosstab(df['pred'], df['Estándar'])\n",
    "    sens = sensibilidad(tab)\n",
    "    esp = especificidad(tab)\n",
    "    txt = f'Sensibilidad: {sens:.1%}\\nEspecificidad: {esp:.2%}'\n",
    "    plt.text(fpr[j], tpr[j]-0.1, txt, ha='left')\n",
    "    \n",
    "    \n",
    "    plt.legend()\n",
    "    plt.plot([0, 1], [0, 1], '--k')\n",
    "    \n",
    "    plt.title('Curva ROC')\n",
    "    plt.ylabel('Sensibilidad')\n",
    "    plt.xlabel('1 - Especificidad')\n",
    "    plt.show()\n",
    "    \n",
    "\n",
    "plot_roc(df)"
   ]
  },
  {
   "cell_type": "markdown",
   "id": "62d29fd1",
   "metadata": {},
   "source": [
    "## Ejercicios\n",
    "1. Intenta ejecutar lo aprendido con tus propios datos.\n",
    "2. Juega con las funciones de simulación para obtener otros datos\n",
    "3. Intenta utilizar la función de simulación y gráfico en forma repetida\n",
    "   para conocer los diferentes resultados que pueden generarse.\n"
   ]
  }
 ],
 "metadata": {
  "kernelspec": {
   "display_name": "curso-python",
   "language": "python",
   "name": "python3"
  },
  "language_info": {
   "codemirror_mode": {
    "name": "ipython",
    "version": 3
   },
   "file_extension": ".py",
   "mimetype": "text/x-python",
   "name": "python",
   "nbconvert_exporter": "python",
   "pygments_lexer": "ipython3",
   "version": "3.13.5"
  }
 },
 "nbformat": 4,
 "nbformat_minor": 5
}

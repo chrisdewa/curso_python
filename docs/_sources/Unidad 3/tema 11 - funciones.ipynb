{
 "cells": [
  {
   "cell_type": "markdown",
   "id": "53561e3a",
   "metadata": {},
   "source": [
    "# Tema 11: Funciones\n",
    "\n",
    "El concepto de función es heredado de las matemáticas, representan una operación y en su sentido más puro es un bloque de código que toma una serie de entradas `inputs` y genera una `salida`.\n",
    "\n",
    "En programación las funciones nos ayudan a escribir menos código, hacer que el código sea más legible y esté mejor organizado y simplifican nuestras operaciones pero su principal función es clave, son **BLOQUES DE CÓDIGO REUTILIZABLES**.\n",
    "\n",
    "Retomemos el ejemplo de la lección anterior con el índice de masa corporal, en el [tema 10](<tema 10 - control de flujo.ipynb>) calculamos el índice de masa corporal, pero como lo vimos en los bucles, había que escribir la operación una y otra vez cuando queríamos obtener el valor.\n",
    "\n",
    "Esta es la fórmula:\n",
    "\n",
    "$IMC = \\frac{peso}{talla^2}$\n",
    "\n",
    "Una función matemática se vería así:\n",
    "\n",
    "$IMC(peso; talla) = \\frac{peso}{talla^2}$\n",
    "\n",
    "Es decir, la función `IMC` toma dos parámetros, `peso` y `talla` y regresa el resultado de dividir el peso por el cuadrado de la talla.\n",
    "\n",
    "En python, podemos crear una función a partir de ello y se vería así:\n",
    "\n",
    "```python\n",
    "def calcular_imc(peso, talla):\n",
    "    return peso / talla**2\n",
    "```\n",
    "\n",
    "Esta función puede ser utilizada múltiples veces de la siguiente manera:\n",
    "\n",
    "```python\n",
    "for paciente in lista_de_pacientes:\n",
    "    imc = calcular_imc(paciente['peso'], paciente['talla'])\n",
    "    print('Paciente', paciente['ID'], 'Tiene imc de', imc)\n",
    "```\n",
    "\n",
    "Desglosemos qué está pasando.\n",
    "\n",
    "## Sintaxis\n",
    "\n",
    "En python definimos una función de la siguiente forma:\n",
    "\n",
    "```python\n",
    "def suma(a, b):\n",
    "    \"Esta función suma los argumentos a y b y devuelve el resultado\"\n",
    "    return a + b\n",
    "```\n",
    "\n",
    "1. El encabezado comienza siempre con la palabra clave `def`.\n",
    "2. Inmediatamente después del encabezado de la función, se puede poner un string (`str`) cuya función es explicar qué hace y cómo se usa la función, se le llama **Docstring**.\n",
    "3. La siguiente palabra es el nombre que recibirá la función.\n",
    "4. Luego se abren paréntesis.\n",
    "5. Dentro de los paréntesis puede ir lo sigueinte:\n",
    "   - Nada: `()`.\n",
    "   - Parámetros posicionales (positional arguments o más comumente `args`).\n",
    "   - Parámetros de palabra clave (Key word arguments, o más comunmente `kwargs` o `kws`).\n",
    "   - Cualquier combinación de estos, pero siempre van primero los posicionales y luego los `kws`.\n",
    "6. Dos puntos `:` para marcar el comienzo del cuerpo de la función.\n",
    "7. Cuerpo de la función en el siguiente nivel de sangría.\n",
    "\n",
    "\n",
    "### Parámetros\n",
    "\n",
    ":::{important}\n",
    "Los **parámetros** son los argumentos\n",
    ":::\n",
    "\n",
    "Uno de los principales poderes de las funciones es aceptar argumentos para realizar su trabajo.\n",
    "Veamos el ejemplo más sencillo, una función matemática:\n",
    "\n",
    "$f\\relax(x) = x^2$\n",
    "\n",
    "En python esta función se ve así:\n",
    "\n",
    "```python\n",
    "def f(x): \n",
    "    return x**2\n",
    "```\n",
    "\n",
    "Esta función toma un solo argumento, `x` y devuelve su valor elevado al cuadrado con la palabra clave `return`.\n",
    "\n",
    ":::{note}\n",
    "Si una función no tiene explícitamente la palabra `return` en realidad regresa un tipo nulo `NoneType`.\n",
    "Es decir, que las siguientes dos funciones son equivalentes:\n",
    "\n",
    "```python\n",
    "def saludar(nombre):\n",
    "    print('Hola', nombre)\n",
    "\n",
    "# y\n",
    "\n",
    "def saludar2(nombre):\n",
    "    print('Hola', nombre)\n",
    "    return None\n",
    "\n",
    "```\n",
    ":::\n",
    "\n",
    "Como se comentó previamente, existen básicamente dos tipos de argumentos, los posicionales y los de palabra clave, veamos cómo funcionan. Para las siguientes dos secciones usaremos el ejemplo de la siguiente función.\n",
    "\n",
    "\n",
    "#### Parámetros posicionales\n",
    "\n",
    "Los parámetros posicionales se pasan a la función en el orden definido en la función. \n",
    "Por ejemplo:\n",
    "\n"
   ]
  },
  {
   "cell_type": "code",
   "execution_count": null,
   "id": "214c5629",
   "metadata": {},
   "outputs": [
    {
     "name": "stdout",
     "output_type": "stream",
     "text": [
      "x=7, y=6\n",
      "x=6, y=7\n",
      "x=7, y=6\n",
      "x=6, y=7\n"
     ]
    }
   ],
   "source": [
    "def mas_grande(x, y):\n",
    "    \"Esta función muestra los valores de X y Y\"\n",
    "    print(f'{x=}, {y=}')\n",
    "\n",
    "# Podríamos utlizar la función de cualquiera de las siguientes formas:\n",
    "\n",
    "x = 7\n",
    "y = 6\n",
    "mas_grande(x, y)\n",
    "mas_grande(y, x)    \n",
    "mas_grande(7, 6)    \n",
    "mas_grande(x=y, y=x) # intercambiados\n"
   ]
  },
  {
   "cell_type": "markdown",
   "id": "9d600c01",
   "metadata": {},
   "source": [
    "En los primeros dos usos de la función, pasamos los argumentos en forma posicional, en el tercero lo hicimos en forma de palabras clave `kws`, esto último lo veremos en la siguiente sección.\n",
    "\n",
    "Esto es porque la función no nos ha limitado en cómo utilizarla, es decir, podemos ejecutarla como queramos, pero nota que cuando usamos la función con argumentos posicionales, el orden en que pasamos los argumentos cambia como responde la función.\n",
    "\n",
    "Aunque la variable, fuera de la función, se llame como alguno de los parámetros, dentro de la función los valores asociados a las variables se asignan al nombre del parámetro de la función. Observa el segundo ejemplo, `mas_grande(y, x)` aunque las variables se llamen `x` y `y`, dentro de la función se transforman, porque el valor de la variable `x`, se asigna al parámetro `y` y viceversa.\n",
    "\n",
    "Es posible hacer que los argumentos de una función sean obligatoriamente posicionales.\n"
   ]
  },
  {
   "cell_type": "code",
   "execution_count": 7,
   "id": "c4c7fba1",
   "metadata": {},
   "outputs": [
    {
     "name": "stdout",
     "output_type": "stream",
     "text": [
      "x=7, y=6\n"
     ]
    },
    {
     "ename": "TypeError",
     "evalue": "mas_grande_pos() got some positional-only arguments passed as keyword arguments: 'y'",
     "output_type": "error",
     "traceback": [
      "\u001b[31m---------------------------------------------------------------------------\u001b[39m",
      "\u001b[31mTypeError\u001b[39m                                 Traceback (most recent call last)",
      "\u001b[36mCell\u001b[39m\u001b[36m \u001b[39m\u001b[32mIn[7]\u001b[39m\u001b[32m, line 6\u001b[39m\n\u001b[32m      3\u001b[39m     \u001b[38;5;28mprint\u001b[39m(\u001b[33mf\u001b[39m\u001b[33m'\u001b[39m\u001b[38;5;132;01m{\u001b[39;00mx\u001b[38;5;132;01m=}\u001b[39;00m\u001b[33m, \u001b[39m\u001b[38;5;132;01m{\u001b[39;00my\u001b[38;5;132;01m=}\u001b[39;00m\u001b[33m'\u001b[39m)\n\u001b[32m      5\u001b[39m mas_grande_pos(\u001b[32m7\u001b[39m, \u001b[32m6\u001b[39m) \u001b[38;5;66;03m# Sí funciona\u001b[39;00m\n\u001b[32m----> \u001b[39m\u001b[32m6\u001b[39m \u001b[43mmas_grande_pos\u001b[49m\u001b[43m(\u001b[49m\u001b[32;43m7\u001b[39;49m\u001b[43m,\u001b[49m\u001b[43m \u001b[49m\u001b[43my\u001b[49m\u001b[43m=\u001b[49m\u001b[32;43m6\u001b[39;49m\u001b[43m)\u001b[49m \u001b[38;5;66;03m# No funciona\u001b[39;00m\n",
      "\u001b[31mTypeError\u001b[39m: mas_grande_pos() got some positional-only arguments passed as keyword arguments: 'y'"
     ]
    }
   ],
   "source": [
    "def mas_grande_pos(x, y, /):\n",
    "    \"Esta función muestra los valores de X y Y\"\n",
    "    print(f'{x=}, {y=}')\n",
    "\n",
    "mas_grande_pos(7, 6) # Sí funciona\n",
    "mas_grande_pos(7, y=6) # No funciona"
   ]
  },
  {
   "cell_type": "markdown",
   "id": "074e3f6a",
   "metadata": {},
   "source": [
    "Como ves en este ejemplo, el error ocurre porque ambos parámetros, `x` y `y` son obligatoriamente posicionales, es la diagonal `/` en el encabezado de la función lo que señaliza a los argumentos posicionales obligatorios.\n",
    "Es posible tener casos mixtos, por ejemplo, en la siguiente función:"
   ]
  },
  {
   "cell_type": "code",
   "execution_count": null,
   "id": "e77c1398",
   "metadata": {},
   "outputs": [
    {
     "name": "stdout",
     "output_type": "stream",
     "text": [
      "x=7, y=6\n",
      "x=7, y=6\n"
     ]
    },
    {
     "ename": "TypeError",
     "evalue": "mas_grande_pos_2() got some positional-only arguments passed as keyword arguments: 'x'",
     "output_type": "error",
     "traceback": [
      "\u001b[31m---------------------------------------------------------------------------\u001b[39m",
      "\u001b[31mTypeError\u001b[39m                                 Traceback (most recent call last)",
      "\u001b[36mCell\u001b[39m\u001b[36m \u001b[39m\u001b[32mIn[8]\u001b[39m\u001b[32m, line 7\u001b[39m\n\u001b[32m      5\u001b[39m mas_grande_pos_2(\u001b[32m7\u001b[39m, \u001b[32m6\u001b[39m) \u001b[38;5;66;03m# Sí funciona\u001b[39;00m\n\u001b[32m      6\u001b[39m mas_grande_pos_2(\u001b[32m7\u001b[39m, y=\u001b[32m6\u001b[39m) \u001b[38;5;66;03m# También funciona\u001b[39;00m\n\u001b[32m----> \u001b[39m\u001b[32m7\u001b[39m \u001b[43mmas_grande_pos_2\u001b[49m\u001b[43m(\u001b[49m\u001b[43mx\u001b[49m\u001b[43m=\u001b[49m\u001b[32;43m7\u001b[39;49m\u001b[43m,\u001b[49m\u001b[43m \u001b[49m\u001b[43my\u001b[49m\u001b[43m=\u001b[49m\u001b[32;43m6\u001b[39;49m\u001b[43m)\u001b[49m \u001b[38;5;66;03m# No funciona\u001b[39;00m\n",
      "\u001b[31mTypeError\u001b[39m: mas_grande_pos_2() got some positional-only arguments passed as keyword arguments: 'x'"
     ]
    }
   ],
   "source": [
    "def mas_grande_pos_2(x, /, y): # la / está ahora a la mitad\n",
    "    \"Esta función muestra los valores de X y Y\"\n",
    "    print(f'{x=}, {y=}')\n",
    "\n",
    "mas_grande_pos_2(7, 6) # Sí funciona\n",
    "mas_grande_pos_2(7, y=6) # También funciona\n",
    "mas_grande_pos_2(x=7, y=6) # No funciona"
   ]
  },
  {
   "cell_type": "markdown",
   "id": "9d86cf05",
   "metadata": {},
   "source": [
    "##### Ejercicio personal\n",
    "¿Por qué falló la última ejecución?\n",
    "\n",
    "\n",
    "#### Parámetros de palabra clave `kws`\n",
    "\n",
    "Los parámetros de \"palabra clave\", en adelante `ksw`, se utilizan en la función de forma explícita con el operador de asignación `=` y el nombre del parámetro.\n",
    "\n",
    "Tomemos el siguiente ejemplo"
   ]
  },
  {
   "cell_type": "markdown",
   "id": "b4977ed3",
   "metadata": {},
   "source": [
    "### Parámetros de palabra clave (`kwargs`)\n",
    "\n",
    "Los argumentos de palabra clave permiten especificar a qué parámetro corresponde cada valor usando `nombre=valor`. Son útiles cuando hay muchos parámetros o cuando queremos cambiar solo uno sin importar el orden.\n",
    "\n",
    "```python\n",
    "def saludar(nombre, saludo=\"Hola\"):\n",
    "    print(f\"{saludo}, {nombre}!\")\n",
    "\n",
    "saludar(\"Chris\")\n",
    "saludar(\"Chris\", saludo=\"Buenos días\")\n",
    "```\n",
    "\n",
    ":::{note}\n",
    "Los parámetros de palabra clave pueden tener valores por defecto, lo que permite omitirlos al llamar la función.\n",
    ":::\n"
   ]
  },
  {
   "cell_type": "markdown",
   "id": "cf206669",
   "metadata": {},
   "source": [
    "### Valores por defecto\n",
    "\n",
    "Al definir una función, podemos asignar valores por defecto a los parámetros. Estos se usan si no se pasan argumentos al llamar la función:\n",
    "\n",
    "```python\n",
    "def potencia(base, exponente=2):\n",
    "    return base ** exponente\n",
    "\n",
    "potencia(3)      # 9\n",
    "potencia(3, 3)   # 27\n",
    "```\n"
   ]
  },
  {
   "cell_type": "markdown",
   "id": "67c27991",
   "metadata": {},
   "source": [
    "### Funciones como objetos\n",
    "\n",
    "En Python, las funciones son objetos. Se pueden asignar a variables, pasar como argumentos o devolver desde otras funciones:\n",
    "\n",
    "```python\n",
    "def cuadrado(x):\n",
    "    return x**2\n",
    "\n",
    "f = cuadrado\n",
    "f(5)  # 25\n",
    "```\n"
   ]
  },
  {
   "cell_type": "markdown",
   "id": "79819361",
   "metadata": {},
   "source": [
    "### Funciones anidadas\n",
    "\n",
    "Podemos definir funciones dentro de otras. Sirven para encapsular lógica auxiliar:\n",
    "\n",
    "```python\n",
    "def operacion_compleja(x):\n",
    "    def paso_intermedio(y):\n",
    "        return y * 2\n",
    "    return paso_intermedio(x) + 1\n",
    "\n",
    "operacion_compleja(3)  # 7\n",
    "```\n"
   ]
  },
  {
   "cell_type": "markdown",
   "id": "b6ee2d6a",
   "metadata": {},
   "source": [
    "### Ejercicios\n",
    "\n",
    "1. Escribe una función que calcule el área de un triángulo con base y altura.\n",
    "2. Escribe una función que imprima los nombres en una lista de pacientes usando una función anidada.\n",
    "3. Escribe una función que indique si una persona tiene obesidad a partir de su peso y talla.\n"
   ]
  },
  {
   "cell_type": "code",
   "execution_count": null,
   "id": "e74309bf",
   "metadata": {},
   "outputs": [],
   "source": [
    "# Ejercicio 1\n",
    "\n",
    "def area_triangulo(base, altura):\n",
    "    return (base * altura) / 2\n",
    "\n",
    "area_triangulo(10, 5)"
   ]
  },
  {
   "cell_type": "code",
   "execution_count": null,
   "id": "50824d5d",
   "metadata": {},
   "outputs": [],
   "source": [
    "# Ejercicio 2\n",
    "\n",
    "def imprimir_pacientes(pacientes):\n",
    "    def imprimir(nombre):\n",
    "        print(f\"Paciente: {nombre}\")\n",
    "    for p in pacientes:\n",
    "        imprimir(p)\n",
    "\n",
    "imprimir_pacientes([\"Ana\", \"Luis\", \"José\"])"
   ]
  },
  {
   "cell_type": "code",
   "execution_count": null,
   "id": "b65184be",
   "metadata": {},
   "outputs": [],
   "source": [
    "# Ejercicio 3\n",
    "\n",
    "def tiene_obesidad(peso, talla):\n",
    "    imc = peso / talla**2\n",
    "    return imc >= 30\n",
    "\n",
    "tiene_obesidad(85, 1.6)"
   ]
  }
 ],
 "metadata": {
  "kernelspec": {
   "display_name": "curso-python",
   "language": "python",
   "name": "python3"
  },
  "language_info": {
   "codemirror_mode": {
    "name": "ipython",
    "version": 3
   },
   "file_extension": ".py",
   "mimetype": "text/x-python",
   "name": "python",
   "nbconvert_exporter": "python",
   "pygments_lexer": "ipython3",
   "version": "3.13.1"
  }
 },
 "nbformat": 4,
 "nbformat_minor": 5
}
